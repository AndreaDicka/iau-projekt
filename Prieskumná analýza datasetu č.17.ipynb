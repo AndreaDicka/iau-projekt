{
 "cells": [
  {
   "cell_type": "markdown",
   "metadata": {},
   "source": [
    "# Prieskumná analýza datasetu č.17\n",
    "\n",
    "Dataset č.17 predstavuje zdravotné záznamy rôznych typov ľudí. V údajoch sa nachádzajú rôzne typy informácií, ako napr. ktoré druhy zdravotných testov ľudia podstúpili, ich namerané hodnoty a základné informácie o pacientoch ako napr. ich pohlavie, vek, národnosť, zamestnanie, rasa..."
   ]
  },
  {
   "cell_type": "markdown",
   "metadata": {},
   "source": [
    "## Základný opis dát"
   ]
  },
  {
   "cell_type": "markdown",
   "metadata": {},
   "source": [
    "### Počet záznamov"
   ]
  },
  {
   "cell_type": "code",
   "execution_count": 1,
   "metadata": {},
   "outputs": [],
   "source": [
    "%matplotlib inline\n",
    "import pandas as pd\n",
    "import numpy as np\n",
    "import matplotlib.pyplot as plt\n",
    "import seaborn as sb\n",
    "from sklearn.pipeline import Pipeline\n",
    "\n",
    "from sklearn.pipeline import make_pipeline\n",
    "from sklearn.base import TransformerMixin\n",
    "\n",
    "data = pd.read_csv(\"17/train.csv\", sep=',', header=None, index_col=0)"
   ]
  },
  {
   "cell_type": "code",
   "execution_count": 2,
   "metadata": {},
   "outputs": [
    {
     "name": "stdout",
     "output_type": "stream",
     "text": [
      "<class 'pandas.core.frame.DataFrame'>\n",
      "Float64Index: 2801 entries, nan to 2799.0\n",
      "Data columns (total 34 columns):\n",
      "1     2800 non-null object\n",
      "2     2801 non-null object\n",
      "3     2801 non-null object\n",
      "4     2801 non-null object\n",
      "5     2801 non-null object\n",
      "6     2801 non-null object\n",
      "7     2801 non-null object\n",
      "8     2801 non-null object\n",
      "9     2517 non-null object\n",
      "10    2801 non-null object\n",
      "11    2216 non-null object\n",
      "12    2801 non-null object\n",
      "13    2617 non-null object\n",
      "14    2504 non-null object\n",
      "15    2801 non-null object\n",
      "16    2801 non-null object\n",
      "17    2801 non-null object\n",
      "18    2801 non-null object\n",
      "19    2801 non-null object\n",
      "20    2801 non-null object\n",
      "21    2801 non-null object\n",
      "22    2801 non-null object\n",
      "23    2801 non-null object\n",
      "24    2365 non-null object\n",
      "25    2801 non-null object\n",
      "26    2801 non-null object\n",
      "27    2801 non-null object\n",
      "28    2801 non-null object\n",
      "29    2801 non-null object\n",
      "30    2801 non-null object\n",
      "31    2801 non-null object\n",
      "32    2801 non-null object\n",
      "33    2800 non-null object\n",
      "34    2801 non-null object\n",
      "dtypes: object(34)\n",
      "memory usage: 765.9+ KB\n"
     ]
    }
   ],
   "source": [
    "data.info()"
   ]
  },
  {
   "cell_type": "markdown",
   "metadata": {},
   "source": [
    "Môžeme vidieť, že náš trénovací dataset obsahuje 2801 záznamov a 34 atribútov."
   ]
  },
  {
   "cell_type": "code",
   "execution_count": 3,
   "metadata": {},
   "outputs": [
    {
     "data": {
      "text/html": [
       "<div>\n",
       "<style scoped>\n",
       "    .dataframe tbody tr th:only-of-type {\n",
       "        vertical-align: middle;\n",
       "    }\n",
       "\n",
       "    .dataframe tbody tr th {\n",
       "        vertical-align: top;\n",
       "    }\n",
       "\n",
       "    .dataframe thead th {\n",
       "        text-align: right;\n",
       "    }\n",
       "</style>\n",
       "<table border=\"1\" class=\"dataframe\">\n",
       "  <thead>\n",
       "    <tr style=\"text-align: right;\">\n",
       "      <th></th>\n",
       "      <th>1</th>\n",
       "      <th>2</th>\n",
       "      <th>3</th>\n",
       "      <th>4</th>\n",
       "      <th>5</th>\n",
       "      <th>6</th>\n",
       "      <th>7</th>\n",
       "      <th>8</th>\n",
       "      <th>9</th>\n",
       "      <th>10</th>\n",
       "      <th>...</th>\n",
       "      <th>25</th>\n",
       "      <th>26</th>\n",
       "      <th>27</th>\n",
       "      <th>28</th>\n",
       "      <th>29</th>\n",
       "      <th>30</th>\n",
       "      <th>31</th>\n",
       "      <th>32</th>\n",
       "      <th>33</th>\n",
       "      <th>34</th>\n",
       "    </tr>\n",
       "    <tr>\n",
       "      <th>0</th>\n",
       "      <th></th>\n",
       "      <th></th>\n",
       "      <th></th>\n",
       "      <th></th>\n",
       "      <th></th>\n",
       "      <th></th>\n",
       "      <th></th>\n",
       "      <th></th>\n",
       "      <th></th>\n",
       "      <th></th>\n",
       "      <th></th>\n",
       "      <th></th>\n",
       "      <th></th>\n",
       "      <th></th>\n",
       "      <th></th>\n",
       "      <th></th>\n",
       "      <th></th>\n",
       "      <th></th>\n",
       "      <th></th>\n",
       "      <th></th>\n",
       "      <th></th>\n",
       "    </tr>\n",
       "  </thead>\n",
       "  <tbody>\n",
       "    <tr>\n",
       "      <th>NaN</th>\n",
       "      <td>age</td>\n",
       "      <td>sex</td>\n",
       "      <td>query on thyroxine</td>\n",
       "      <td>on antithyroid medication</td>\n",
       "      <td>thyroid surgery</td>\n",
       "      <td>I131 treatment</td>\n",
       "      <td>tumor</td>\n",
       "      <td>hypopituitary</td>\n",
       "      <td>TSH</td>\n",
       "      <td>T3 measured</td>\n",
       "      <td>...</td>\n",
       "      <td>marital-status</td>\n",
       "      <td>occupation</td>\n",
       "      <td>relationship</td>\n",
       "      <td>race</td>\n",
       "      <td>capital-gain</td>\n",
       "      <td>capital-loss</td>\n",
       "      <td>hours-per-week</td>\n",
       "      <td>native-country</td>\n",
       "      <td>date_of_birth</td>\n",
       "      <td>medical_info</td>\n",
       "    </tr>\n",
       "    <tr>\n",
       "      <th>0.0</th>\n",
       "      <td>53.0</td>\n",
       "      <td>M</td>\n",
       "      <td>f</td>\n",
       "      <td>f</td>\n",
       "      <td>f</td>\n",
       "      <td>f</td>\n",
       "      <td>f</td>\n",
       "      <td>f</td>\n",
       "      <td>0.3</td>\n",
       "      <td>t</td>\n",
       "      <td>...</td>\n",
       "      <td>Married-civ-spouse</td>\n",
       "      <td>Handlers-cleaners</td>\n",
       "      <td>Husband</td>\n",
       "      <td>White</td>\n",
       "      <td>0</td>\n",
       "      <td>0</td>\n",
       "      <td>40</td>\n",
       "      <td>?</td>\n",
       "      <td>1965-01-22</td>\n",
       "      <td>{'goitre':'f','TSH measured':'t','pregnant':'f...</td>\n",
       "    </tr>\n",
       "    <tr>\n",
       "      <th>1.0</th>\n",
       "      <td>73.0</td>\n",
       "      <td>M</td>\n",
       "      <td>f</td>\n",
       "      <td>f</td>\n",
       "      <td>f</td>\n",
       "      <td>f</td>\n",
       "      <td>f</td>\n",
       "      <td>f</td>\n",
       "      <td>2.1</td>\n",
       "      <td>t</td>\n",
       "      <td>...</td>\n",
       "      <td>Never-married</td>\n",
       "      <td>Machine-op-inspct</td>\n",
       "      <td>Not-in-family</td>\n",
       "      <td>Asian-Pac-Islander</td>\n",
       "      <td>0</td>\n",
       "      <td>0</td>\n",
       "      <td>45</td>\n",
       "      <td>Laos</td>\n",
       "      <td>1944-04-01</td>\n",
       "      <td>{'goitre':'f','TSH measured':'t','pregnant':'f...</td>\n",
       "    </tr>\n",
       "    <tr>\n",
       "      <th>2.0</th>\n",
       "      <td>73.0</td>\n",
       "      <td>F</td>\n",
       "      <td>f</td>\n",
       "      <td>f</td>\n",
       "      <td>f</td>\n",
       "      <td>f</td>\n",
       "      <td>f</td>\n",
       "      <td>f</td>\n",
       "      <td>1.6</td>\n",
       "      <td>t</td>\n",
       "      <td>...</td>\n",
       "      <td>Divorced</td>\n",
       "      <td>Exec-managerial</td>\n",
       "      <td>Not_in_family</td>\n",
       "      <td>White</td>\n",
       "      <td>0</td>\n",
       "      <td>0</td>\n",
       "      <td>40</td>\n",
       "      <td>United-States</td>\n",
       "      <td>45-03-12</td>\n",
       "      <td>{'goitre':'f','TSH measured':'t','pregnant':'f...</td>\n",
       "    </tr>\n",
       "    <tr>\n",
       "      <th>3.0</th>\n",
       "      <td>24.0</td>\n",
       "      <td>M</td>\n",
       "      <td>f</td>\n",
       "      <td>f</td>\n",
       "      <td>f</td>\n",
       "      <td>f</td>\n",
       "      <td>f</td>\n",
       "      <td>f</td>\n",
       "      <td>1.3</td>\n",
       "      <td>t</td>\n",
       "      <td>...</td>\n",
       "      <td>Never-married</td>\n",
       "      <td>Adm-clerical</td>\n",
       "      <td>Not-in-family</td>\n",
       "      <td>White</td>\n",
       "      <td>0</td>\n",
       "      <td>0</td>\n",
       "      <td>50</td>\n",
       "      <td>Guatemala</td>\n",
       "      <td>1993-12-26</td>\n",
       "      <td>{'goitre':'f','TSH measured':'t','pregnant':'f...</td>\n",
       "    </tr>\n",
       "  </tbody>\n",
       "</table>\n",
       "<p>5 rows × 34 columns</p>\n",
       "</div>"
      ],
      "text/plain": [
       "        1    2                   3                          4   \\\n",
       "0                                                                \n",
       "NaN    age  sex  query on thyroxine  on antithyroid medication   \n",
       " 0.0  53.0    M                   f                          f   \n",
       " 1.0  73.0    M                   f                          f   \n",
       " 2.0  73.0    F                   f                          f   \n",
       " 3.0  24.0    M                   f                          f   \n",
       "\n",
       "                   5               6      7              8    9            10  \\\n",
       "0                                                                               \n",
       "NaN   thyroid surgery  I131 treatment  tumor  hypopituitary  TSH  T3 measured   \n",
       " 0.0                f               f      f              f  0.3            t   \n",
       " 1.0                f               f      f              f  2.1            t   \n",
       " 2.0                f               f      f              f  1.6            t   \n",
       " 3.0                f               f      f              f  1.3            t   \n",
       "\n",
       "                            ...                                           25  \\\n",
       "0                           ...                                                \n",
       "NaN                         ...                               marital-status   \n",
       " 0.0                        ...                           Married-civ-spouse   \n",
       " 1.0                        ...                                Never-married   \n",
       " 2.0                        ...                                     Divorced   \n",
       " 3.0                        ...                                Never-married   \n",
       "\n",
       "                      26              27                   28            29  \\\n",
       "0                                                                             \n",
       "NaN           occupation    relationship                 race  capital-gain   \n",
       " 0.0   Handlers-cleaners         Husband                White             0   \n",
       " 1.0   Machine-op-inspct   Not-in-family   Asian-Pac-Islander             0   \n",
       " 2.0     Exec-managerial   Not_in_family                White             0   \n",
       " 3.0        Adm-clerical   Not-in-family                White             0   \n",
       "\n",
       "                30              31              32             33  \\\n",
       "0                                                                   \n",
       "NaN   capital-loss  hours-per-week  native-country  date_of_birth   \n",
       " 0.0             0              40               ?     1965-01-22   \n",
       " 1.0             0              45            Laos     1944-04-01   \n",
       " 2.0             0              40   United-States       45-03-12   \n",
       " 3.0             0              50       Guatemala     1993-12-26   \n",
       "\n",
       "                                                     34  \n",
       "0                                                        \n",
       "NaN                                        medical_info  \n",
       " 0.0  {'goitre':'f','TSH measured':'t','pregnant':'f...  \n",
       " 1.0  {'goitre':'f','TSH measured':'t','pregnant':'f...  \n",
       " 2.0  {'goitre':'f','TSH measured':'t','pregnant':'f...  \n",
       " 3.0  {'goitre':'f','TSH measured':'t','pregnant':'f...  \n",
       "\n",
       "[5 rows x 34 columns]"
      ]
     },
     "execution_count": 3,
     "metadata": {},
     "output_type": "execute_result"
    }
   ],
   "source": [
    "data.head()"
   ]
  },
  {
   "cell_type": "markdown",
   "metadata": {},
   "source": [
    "V prvom riadku záznamov sa nachádzajú názvy jednotlivých stĺpcov, preto pre ľahšie opísanie, čo sa v dátach nachádza, si prvý riadok záznamu prehodíme na názvy stĺpcov."
   ]
  },
  {
   "cell_type": "code",
   "execution_count": 4,
   "metadata": {},
   "outputs": [
    {
     "data": {
      "text/html": [
       "<div>\n",
       "<style scoped>\n",
       "    .dataframe tbody tr th:only-of-type {\n",
       "        vertical-align: middle;\n",
       "    }\n",
       "\n",
       "    .dataframe tbody tr th {\n",
       "        vertical-align: top;\n",
       "    }\n",
       "\n",
       "    .dataframe thead th {\n",
       "        text-align: right;\n",
       "    }\n",
       "</style>\n",
       "<table border=\"1\" class=\"dataframe\">\n",
       "  <thead>\n",
       "    <tr style=\"text-align: right;\">\n",
       "      <th></th>\n",
       "      <th>age</th>\n",
       "      <th>sex</th>\n",
       "      <th>query on thyroxine</th>\n",
       "      <th>on antithyroid medication</th>\n",
       "      <th>thyroid surgery</th>\n",
       "      <th>I131 treatment</th>\n",
       "      <th>tumor</th>\n",
       "      <th>hypopituitary</th>\n",
       "      <th>TSH</th>\n",
       "      <th>T3 measured</th>\n",
       "      <th>...</th>\n",
       "      <th>marital-status</th>\n",
       "      <th>occupation</th>\n",
       "      <th>relationship</th>\n",
       "      <th>race</th>\n",
       "      <th>capital-gain</th>\n",
       "      <th>capital-loss</th>\n",
       "      <th>hours-per-week</th>\n",
       "      <th>native-country</th>\n",
       "      <th>date_of_birth</th>\n",
       "      <th>medical_info</th>\n",
       "    </tr>\n",
       "    <tr>\n",
       "      <th>0</th>\n",
       "      <th></th>\n",
       "      <th></th>\n",
       "      <th></th>\n",
       "      <th></th>\n",
       "      <th></th>\n",
       "      <th></th>\n",
       "      <th></th>\n",
       "      <th></th>\n",
       "      <th></th>\n",
       "      <th></th>\n",
       "      <th></th>\n",
       "      <th></th>\n",
       "      <th></th>\n",
       "      <th></th>\n",
       "      <th></th>\n",
       "      <th></th>\n",
       "      <th></th>\n",
       "      <th></th>\n",
       "      <th></th>\n",
       "      <th></th>\n",
       "      <th></th>\n",
       "    </tr>\n",
       "  </thead>\n",
       "  <tbody>\n",
       "    <tr>\n",
       "      <th>0.0</th>\n",
       "      <td>53.0</td>\n",
       "      <td>M</td>\n",
       "      <td>f</td>\n",
       "      <td>f</td>\n",
       "      <td>f</td>\n",
       "      <td>f</td>\n",
       "      <td>f</td>\n",
       "      <td>f</td>\n",
       "      <td>0.3</td>\n",
       "      <td>t</td>\n",
       "      <td>...</td>\n",
       "      <td>Married-civ-spouse</td>\n",
       "      <td>Handlers-cleaners</td>\n",
       "      <td>Husband</td>\n",
       "      <td>White</td>\n",
       "      <td>0</td>\n",
       "      <td>0</td>\n",
       "      <td>40</td>\n",
       "      <td>?</td>\n",
       "      <td>1965-01-22</td>\n",
       "      <td>{'goitre':'f','TSH measured':'t','pregnant':'f...</td>\n",
       "    </tr>\n",
       "    <tr>\n",
       "      <th>1.0</th>\n",
       "      <td>73.0</td>\n",
       "      <td>M</td>\n",
       "      <td>f</td>\n",
       "      <td>f</td>\n",
       "      <td>f</td>\n",
       "      <td>f</td>\n",
       "      <td>f</td>\n",
       "      <td>f</td>\n",
       "      <td>2.1</td>\n",
       "      <td>t</td>\n",
       "      <td>...</td>\n",
       "      <td>Never-married</td>\n",
       "      <td>Machine-op-inspct</td>\n",
       "      <td>Not-in-family</td>\n",
       "      <td>Asian-Pac-Islander</td>\n",
       "      <td>0</td>\n",
       "      <td>0</td>\n",
       "      <td>45</td>\n",
       "      <td>Laos</td>\n",
       "      <td>1944-04-01</td>\n",
       "      <td>{'goitre':'f','TSH measured':'t','pregnant':'f...</td>\n",
       "    </tr>\n",
       "    <tr>\n",
       "      <th>2.0</th>\n",
       "      <td>73.0</td>\n",
       "      <td>F</td>\n",
       "      <td>f</td>\n",
       "      <td>f</td>\n",
       "      <td>f</td>\n",
       "      <td>f</td>\n",
       "      <td>f</td>\n",
       "      <td>f</td>\n",
       "      <td>1.6</td>\n",
       "      <td>t</td>\n",
       "      <td>...</td>\n",
       "      <td>Divorced</td>\n",
       "      <td>Exec-managerial</td>\n",
       "      <td>Not_in_family</td>\n",
       "      <td>White</td>\n",
       "      <td>0</td>\n",
       "      <td>0</td>\n",
       "      <td>40</td>\n",
       "      <td>United-States</td>\n",
       "      <td>45-03-12</td>\n",
       "      <td>{'goitre':'f','TSH measured':'t','pregnant':'f...</td>\n",
       "    </tr>\n",
       "    <tr>\n",
       "      <th>3.0</th>\n",
       "      <td>24.0</td>\n",
       "      <td>M</td>\n",
       "      <td>f</td>\n",
       "      <td>f</td>\n",
       "      <td>f</td>\n",
       "      <td>f</td>\n",
       "      <td>f</td>\n",
       "      <td>f</td>\n",
       "      <td>1.3</td>\n",
       "      <td>t</td>\n",
       "      <td>...</td>\n",
       "      <td>Never-married</td>\n",
       "      <td>Adm-clerical</td>\n",
       "      <td>Not-in-family</td>\n",
       "      <td>White</td>\n",
       "      <td>0</td>\n",
       "      <td>0</td>\n",
       "      <td>50</td>\n",
       "      <td>Guatemala</td>\n",
       "      <td>1993-12-26</td>\n",
       "      <td>{'goitre':'f','TSH measured':'t','pregnant':'f...</td>\n",
       "    </tr>\n",
       "    <tr>\n",
       "      <th>4.0</th>\n",
       "      <td>25.0</td>\n",
       "      <td>F</td>\n",
       "      <td>f</td>\n",
       "      <td>f</td>\n",
       "      <td>f</td>\n",
       "      <td>f</td>\n",
       "      <td>f</td>\n",
       "      <td>f</td>\n",
       "      <td>468.0</td>\n",
       "      <td>t</td>\n",
       "      <td>...</td>\n",
       "      <td>Divorced</td>\n",
       "      <td>Adm-clerical</td>\n",
       "      <td>Not-in-family</td>\n",
       "      <td>White</td>\n",
       "      <td>0</td>\n",
       "      <td>0</td>\n",
       "      <td>44</td>\n",
       "      <td>United-States</td>\n",
       "      <td>1992-08-27</td>\n",
       "      <td>{'goitre':'f','TSH measured':'t','pregnant':'f...</td>\n",
       "    </tr>\n",
       "  </tbody>\n",
       "</table>\n",
       "<p>5 rows × 34 columns</p>\n",
       "</div>"
      ],
      "text/plain": [
       "      age sex query on thyroxine on antithyroid medication thyroid surgery  \\\n",
       "0                                                                            \n",
       "0.0  53.0   M                  f                         f               f   \n",
       "1.0  73.0   M                  f                         f               f   \n",
       "2.0  73.0   F                  f                         f               f   \n",
       "3.0  24.0   M                  f                         f               f   \n",
       "4.0  25.0   F                  f                         f               f   \n",
       "\n",
       "    I131 treatment tumor hypopituitary    TSH T3 measured  \\\n",
       "0                                                           \n",
       "0.0              f     f             f    0.3           t   \n",
       "1.0              f     f             f    2.1           t   \n",
       "2.0              f     f             f    1.6           t   \n",
       "3.0              f     f             f    1.3           t   \n",
       "4.0              f     f             f  468.0           t   \n",
       "\n",
       "                           ...                               marital-status  \\\n",
       "0                          ...                                                \n",
       "0.0                        ...                           Married-civ-spouse   \n",
       "1.0                        ...                                Never-married   \n",
       "2.0                        ...                                     Divorced   \n",
       "3.0                        ...                                Never-married   \n",
       "4.0                        ...                                     Divorced   \n",
       "\n",
       "             occupation    relationship                 race capital-gain  \\\n",
       "0                                                                           \n",
       "0.0   Handlers-cleaners         Husband                White            0   \n",
       "1.0   Machine-op-inspct   Not-in-family   Asian-Pac-Islander            0   \n",
       "2.0     Exec-managerial   Not_in_family                White            0   \n",
       "3.0        Adm-clerical   Not-in-family                White            0   \n",
       "4.0        Adm-clerical   Not-in-family                White            0   \n",
       "\n",
       "    capital-loss hours-per-week  native-country date_of_birth  \\\n",
       "0                                                               \n",
       "0.0            0             40               ?    1965-01-22   \n",
       "1.0            0             45            Laos    1944-04-01   \n",
       "2.0            0             40   United-States      45-03-12   \n",
       "3.0            0             50       Guatemala    1993-12-26   \n",
       "4.0            0             44   United-States    1992-08-27   \n",
       "\n",
       "                                          medical_info  \n",
       "0                                                       \n",
       "0.0  {'goitre':'f','TSH measured':'t','pregnant':'f...  \n",
       "1.0  {'goitre':'f','TSH measured':'t','pregnant':'f...  \n",
       "2.0  {'goitre':'f','TSH measured':'t','pregnant':'f...  \n",
       "3.0  {'goitre':'f','TSH measured':'t','pregnant':'f...  \n",
       "4.0  {'goitre':'f','TSH measured':'t','pregnant':'f...  \n",
       "\n",
       "[5 rows x 34 columns]"
      ]
     },
     "execution_count": 4,
     "metadata": {},
     "output_type": "execute_result"
    }
   ],
   "source": [
    "data = data.rename(columns=data.iloc[0]).drop(data.index[0])\n",
    "data.head()"
   ]
  },
  {
   "cell_type": "code",
   "execution_count": 5,
   "metadata": {},
   "outputs": [
    {
     "data": {
      "text/plain": [
       "age                          2799\n",
       "sex                          2800\n",
       "query on thyroxine           2800\n",
       "on antithyroid medication    2800\n",
       "thyroid surgery              2800\n",
       "I131 treatment               2800\n",
       "tumor                        2800\n",
       "hypopituitary                2800\n",
       "TSH                          2516\n",
       "T3 measured                  2800\n",
       "T3                           2215\n",
       "TT4 measured                 2800\n",
       "TT4                          2616\n",
       "T4U                          2503\n",
       "FTI measured                 2800\n",
       "FTI                          2800\n",
       "TBG measured                 2800\n",
       "TBG                          2800\n",
       "referral source              2800\n",
       "class                        2800\n",
       "workclass                    2800\n",
       "fnlwgt                       2800\n",
       "education                    2800\n",
       "education-num                2364\n",
       "marital-status               2800\n",
       "occupation                   2800\n",
       "relationship                 2800\n",
       "race                         2800\n",
       "capital-gain                 2800\n",
       "capital-loss                 2800\n",
       "hours-per-week               2800\n",
       "native-country               2800\n",
       "date_of_birth                2799\n",
       "medical_info                 2800\n",
       "dtype: int64"
      ]
     },
     "execution_count": 5,
     "metadata": {},
     "output_type": "execute_result"
    }
   ],
   "source": [
    "data.count()"
   ]
  },
  {
   "cell_type": "markdown",
   "metadata": {},
   "source": [
    "Čo sa týka počtu jednotlivých záznamov, cez príkaz count() pekne vidíme, koľko údajov v jednotlivých stĺpcoch nám chýba. To však neznamená, že tých chýbajúcich hodnôt nie je viac, lebo môžu byť reprezentované formou nejakého znaku, napr. \"?\", \"-\", \"null\", \"nan\" ako string. Počet záznamov je teraz 2800, nakoľko jeden záznam sme upravili na názvy stĺpcov."
   ]
  },
  {
   "cell_type": "markdown",
   "metadata": {},
   "source": [
    "### Typy záznamov"
   ]
  },
  {
   "cell_type": "code",
   "execution_count": 6,
   "metadata": {},
   "outputs": [
    {
     "data": {
      "text/plain": [
       "2799"
      ]
     },
     "execution_count": 6,
     "metadata": {},
     "output_type": "execute_result"
    }
   ],
   "source": [
    "data[\"age\"].count()"
   ]
  },
  {
   "cell_type": "code",
   "execution_count": 7,
   "metadata": {},
   "outputs": [
    {
     "data": {
      "text/plain": [
       "array(['53.0', '73.0', '24.0', '25.0', '60.0', '32.0', '71.0', '27.0',\n",
       "       '64.0', '65.0', '34.0', '51.0', '62.0', '42.0', '47.0', '30.0',\n",
       "       '75.0', '35.0', '36.0', '39.0', '7200.0', '72.0', '79.0', '40.0',\n",
       "       '38.0', '48.0', '50.0', '23.0', '81.0', '43.0', '57.0', '77.0',\n",
       "       '56.0', '59.0', '67.0', '58.0', '2500.0', '18.0', '22.0', '1800.0',\n",
       "       '55.0', '63.0', '46.0', '29.0', '74.0', '66.0', '90.0', '2.0',\n",
       "       '5000.0', '70.0', '13.0', '5500.0', '69.0', '4500.0', '68.0',\n",
       "       '17.0', '31.0', '-4800.0', '44.0', '78.0', '-7700.0', '52.0',\n",
       "       '89.0', '49.0', '19.0', '28.0', '21.0', '20.0', '54.0', '87.0',\n",
       "       '-5800.0', '26.0', '-6600.0', '61.0', '41.0', '-3600.0', '76.0',\n",
       "       '15.0', '-7300.0', '37.0', '6000.0', '-8700.0', '45.0', '2100.0',\n",
       "       '12.0', '-3300.0', '83.0', '16.0', '6400.0', '4300.0', '84.0',\n",
       "       '2000.0', '85.0', '5700.0', '-3900.0', '-5700.0', '-3700.0',\n",
       "       '86.0', '100.0', '3700.0', '33.0', '-6200.0', '8300.0', '93.0',\n",
       "       '80.0', '-6400.0', '-7800.0', '5600.0', '91.0', '-2500.0', '1.0',\n",
       "       '-2900.0', '-2600.0', '3400.0', '-5600.0', '2800.0', '4.0',\n",
       "       '6300.0', '14.0', '-4600.0', '8200.0', '82.0', '4100.0', '-6000.0',\n",
       "       '-4900.0', '-7200.0', '7300.0', '3900.0', '3500.0', '6100.0',\n",
       "       '-7000.0', '7100.0', '8100.0', '6600.0', '7400.0', '4700.0',\n",
       "       '-4200.0', '-4100.0', '6200.0', '-5900.0', '-8800.0', '-5500.0',\n",
       "       '-3500.0', '4400.0', '8.0', '-7100.0', '1900.0', '1500.0', '94.0',\n",
       "       '4200.0', '-2300.0', '8500.0', '4600.0', '7.0', '-2200.0',\n",
       "       '3800.0', '-3200.0', '-6100.0', '-7600.0', '11.0', '-6300.0',\n",
       "       '-3400.0', '6800.0', '4900.0', '3200.0', '-4400.0', '6700.0',\n",
       "       '-7400.0', '-7900.0', '-700.0', '-8300.0', '7800.0', '-5300.0',\n",
       "       '-6800.0', '-5400.0', '7900.0', '-1300.0', '3100.0', '5200.0',\n",
       "       '-3800.0', '2400.0', '6900.0', nan, '5800.0', '5900.0', '2600.0',\n",
       "       '5400.0', '5100.0', '3600.0', '4800.0', '5300.0', '-45500.0',\n",
       "       '1600.0', '92.0', '88.0', '3000.0', '3300.0', '7500.0', '-3000.0',\n",
       "       '-2400.0', '2700.0', '-1600.0', '2200.0', '-3100.0', '-6500.0',\n",
       "       '1700.0', '5.0', '6.0', '7000.0', '-5100.0', '-6700.0', '-4700.0',\n",
       "       '-7500.0', '-8900.0', '-1500.0', '-2800.0', '10.0', '-1900.0',\n",
       "       '2300.0'], dtype=object)"
      ]
     },
     "execution_count": 7,
     "metadata": {},
     "output_type": "execute_result"
    }
   ],
   "source": [
    "data[\"age\"].unique()"
   ]
  },
  {
   "cell_type": "code",
   "execution_count": 8,
   "metadata": {},
   "outputs": [],
   "source": [
    "##data[\"age\"].plot()"
   ]
  },
  {
   "cell_type": "markdown",
   "metadata": {},
   "source": [
    "V stĺpci **age** sa nachádzajú numerické hodnoty, ktoré predstavujú vek pacienta. \n",
    "Nachádzajú sa tu nasledovné chyby:\n",
    "1. Záporné hodnoty - Riešenie: prepísať na kladné\n",
    "2. Hodnoty, ktoré sú vyššie ako číslo 1000 - Riešenie: Vydeliť tieto čísla číslom 100\n",
    "3. Vek by mal byť reprezentovaný skôr celým číslom, no rozhodli sme sa, že typ float nám neprekáža (je to minoritná chyba)\n",
    "4. Stĺpec **age** obsahuje 2799 záznamov, takže jeden údaj o veku chýba - Riešenie: Chýbajúci vek doplníme mediánom"
   ]
  },
  {
   "cell_type": "code",
   "execution_count": 9,
   "metadata": {},
   "outputs": [
    {
     "data": {
      "text/plain": [
       "array(['M', 'F', '?'], dtype=object)"
      ]
     },
     "execution_count": 9,
     "metadata": {},
     "output_type": "execute_result"
    }
   ],
   "source": [
    "data[\"sex\"].unique()"
   ]
  },
  {
   "cell_type": "code",
   "execution_count": 10,
   "metadata": {},
   "outputs": [
    {
     "data": {
      "text/plain": [
       "<matplotlib.axes._subplots.AxesSubplot at 0x1a0263f7e48>"
      ]
     },
     "execution_count": 10,
     "metadata": {},
     "output_type": "execute_result"
    },
    {
     "data": {
      "image/png": "[encoded data removed]",
      "text/plain": [
       "<matplotlib.figure.Figure at 0x1a0263f76a0>"
      ]
     },
     "metadata": {},
     "output_type": "display_data"
    }
   ],
   "source": [
    "data[\"sex\"].hist()"
   ]
  },
  {
   "cell_type": "markdown",
   "metadata": {},
   "source": [
    "V stĺpci **sex** sa nachádzajú písmenkové hodnoty, ktoré predstavujú pohlavie pacienta. Sú uvedené anglickými skratkami, pričom M = male, muž, F = female, žena. Nachádzajú sa tu nasledovné chyby:\n",
    "\n",
    "1. Máme 110 chýbajúcich hodnôt reprezentovaných znakom \"?\" - Riešenie: Vidíme, že pomer žien k mužom je približne 2:1, tak dopĺňať hodnoty budeme náhodným generovaním s pravdepodobnosťou pre F: 66,66% a pre M: 33,33%"
   ]
  },
  {
   "cell_type": "code",
   "execution_count": 11,
   "metadata": {},
   "outputs": [
    {
     "data": {
      "text/plain": [
       "array(['f', 't'], dtype=object)"
      ]
     },
     "execution_count": 11,
     "metadata": {},
     "output_type": "execute_result"
    }
   ],
   "source": [
    "data[\"query on thyroxine\"].unique()"
   ]
  },
  {
   "cell_type": "code",
   "execution_count": 12,
   "metadata": {},
   "outputs": [
    {
     "data": {
      "text/plain": [
       "f    2760\n",
       "t      40\n",
       "Name: query on thyroxine, dtype: int64"
      ]
     },
     "execution_count": 12,
     "metadata": {},
     "output_type": "execute_result"
    }
   ],
   "source": [
    "data[\"query on thyroxine\"].value_counts()"
   ]
  },
  {
   "cell_type": "code",
   "execution_count": 13,
   "metadata": {},
   "outputs": [
    {
     "data": {
      "text/plain": [
       "<matplotlib.axes._subplots.AxesSubplot at 0x1a02848e400>"
      ]
     },
     "execution_count": 13,
     "metadata": {},
     "output_type": "execute_result"
    },
    {
     "data": {
      "image/png": "[encoded data removed]",
      "text/plain": [
       "<matplotlib.figure.Figure at 0x1a028440e80>"
      ]
     },
     "metadata": {},
     "output_type": "display_data"
    }
   ],
   "source": [
    "data[\"query on thyroxine\"].hist()"
   ]
  },
  {
   "cell_type": "markdown",
   "metadata": {},
   "source": [
    "V stĺpci **query on thyroxine** sa nachádzajú hodnoty t a f, ktoré znamenajú true a false. Z počtu hodnôt vidíme, že nemáme chýbajúce dáta a drvivú väčšinu dát predstavuje hodnota \"false\". Query on thyroxine predstavuje, či je hladina hormónu tyroxín u pacientov v poriadku alebo naopak. False znamená, že hodnota je v poriadku, True znamená, že hladina hormónu tyroxín je u pacientov nízka."
   ]
  },
  {
   "cell_type": "code",
   "execution_count": 14,
   "metadata": {},
   "outputs": [
    {
     "data": {
      "text/plain": [
       "array(['f', 't'], dtype=object)"
      ]
     },
     "execution_count": 14,
     "metadata": {},
     "output_type": "execute_result"
    }
   ],
   "source": [
    "data[\"on antithyroid medication\"].unique()"
   ]
  },
  {
   "cell_type": "code",
   "execution_count": 15,
   "metadata": {},
   "outputs": [
    {
     "data": {
      "text/plain": [
       "f    2766\n",
       "t      34\n",
       "Name: on antithyroid medication, dtype: int64"
      ]
     },
     "execution_count": 15,
     "metadata": {},
     "output_type": "execute_result"
    }
   ],
   "source": [
    "data[\"on antithyroid medication\"].value_counts()"
   ]
  },
  {
   "cell_type": "code",
   "execution_count": 16,
   "metadata": {},
   "outputs": [
    {
     "data": {
      "text/plain": [
       "<matplotlib.axes._subplots.AxesSubplot at 0x1a0294ef048>"
      ]
     },
     "execution_count": 16,
     "metadata": {},
     "output_type": "execute_result"
    },
    {
     "data": {
      "image/png": "[encoded data removed]",
      "text/plain": [
       "<matplotlib.figure.Figure at 0x1a0294b9668>"
      ]
     },
     "metadata": {},
     "output_type": "display_data"
    }
   ],
   "source": [
    "data[\"on antithyroid medication\"].hist()"
   ]
  },
  {
   "cell_type": "markdown",
   "metadata": {},
   "source": [
    "V stĺpci **on antithyroid medication** sa nachádzajú hodnoty t a f, ktoré znamenajú true a false. Hodnôt máme dokopy 2800, čiže žiadne nechýbajú a pomocou príkazu unique() sme zistili, že v stĺpci sa nachádzajú iba písmenká t a f, takže žiadne chyby sme nezistili. Stĺpec on anithyroid medication predstavuje, či je pacient na antityroidnom liečení."
   ]
  },
  {
   "cell_type": "code",
   "execution_count": 17,
   "metadata": {},
   "outputs": [
    {
     "data": {
      "text/plain": [
       "array(['f', 't'], dtype=object)"
      ]
     },
     "execution_count": 17,
     "metadata": {},
     "output_type": "execute_result"
    }
   ],
   "source": [
    "data[\"thyroid surgery\"].unique()"
   ]
  },
  {
   "cell_type": "code",
   "execution_count": 18,
   "metadata": {},
   "outputs": [
    {
     "data": {
      "text/plain": [
       "f    2761\n",
       "t      39\n",
       "Name: thyroid surgery, dtype: int64"
      ]
     },
     "execution_count": 18,
     "metadata": {},
     "output_type": "execute_result"
    }
   ],
   "source": [
    "data[\"thyroid surgery\"].value_counts()"
   ]
  },
  {
   "cell_type": "code",
   "execution_count": 19,
   "metadata": {},
   "outputs": [
    {
     "data": {
      "text/plain": [
       "<matplotlib.axes._subplots.AxesSubplot at 0x1a02951f7b8>"
      ]
     },
     "execution_count": 19,
     "metadata": {},
     "output_type": "execute_result"
    },
    {
     "data": {
      "image/png": "[encoded data removed]",
      "text/plain": [
       "<matplotlib.figure.Figure at 0x1a029524048>"
      ]
     },
     "metadata": {},
     "output_type": "display_data"
    }
   ],
   "source": [
    "data[\"thyroid surgery\"].hist()"
   ]
  },
  {
   "cell_type": "markdown",
   "metadata": {},
   "source": [
    "V stĺpci **thyroid surgery** sa nachádzajú hodnoty t a f, ktoré znamenajú true a false. Hodnôt máme dokopy 2800, čiže žiadne nechýbajú a pomocou príkazu unique() sme zistili, že v stĺpci sa nachádzajú iba písmenká t a f, takže žiadne chyby sme nezistili. Stĺpec thyroid surgery predstavuje, či pacient podstúpil operáciu kvôli hormónu tyroid."
   ]
  },
  {
   "cell_type": "code",
   "execution_count": 20,
   "metadata": {},
   "outputs": [
    {
     "data": {
      "text/plain": [
       "array(['f', 't'], dtype=object)"
      ]
     },
     "execution_count": 20,
     "metadata": {},
     "output_type": "execute_result"
    }
   ],
   "source": [
    "data[\"I131 treatment\"].unique()"
   ]
  },
  {
   "cell_type": "code",
   "execution_count": 21,
   "metadata": {},
   "outputs": [
    {
     "data": {
      "text/plain": [
       "f    2752\n",
       "t      48\n",
       "Name: I131 treatment, dtype: int64"
      ]
     },
     "execution_count": 21,
     "metadata": {},
     "output_type": "execute_result"
    }
   ],
   "source": [
    "data[\"I131 treatment\"].value_counts()"
   ]
  },
  {
   "cell_type": "code",
   "execution_count": 22,
   "metadata": {},
   "outputs": [
    {
     "data": {
      "text/plain": [
       "<matplotlib.axes._subplots.AxesSubplot at 0x1a01cb6ca58>"
      ]
     },
     "execution_count": 22,
     "metadata": {},
     "output_type": "execute_result"
    },
    {
     "data": {
      "image/png": "[encoded data removed]",
      "text/plain": [
       "<matplotlib.figure.Figure at 0x1a0295891d0>"
      ]
     },
     "metadata": {},
     "output_type": "display_data"
    }
   ],
   "source": [
    "data[\"I131 treatment\"].hist()"
   ]
  },
  {
   "cell_type": "markdown",
   "metadata": {},
   "source": [
    "V stĺpci I131 treatment sa nachádzajú hodnoty t a f, ktoré znamenajú true a false. Hodnôt máme dokopy 2800, čiže žiadne nechýbajú a pomocou príkazu unique() sme zistili, že v stĺpci sa nachádzajú iba písmenká t a f, takže žiadne chyby sme nezistili. Stĺpec I131 treatment predstavuje, či pacient podstúpil liečbu na I131"
   ]
  },
  {
   "cell_type": "code",
   "execution_count": 23,
   "metadata": {},
   "outputs": [
    {
     "data": {
      "text/plain": [
       "array(['f', 't'], dtype=object)"
      ]
     },
     "execution_count": 23,
     "metadata": {},
     "output_type": "execute_result"
    }
   ],
   "source": [
    "data[\"tumor\"].unique()"
   ]
  },
  {
   "cell_type": "code",
   "execution_count": 24,
   "metadata": {},
   "outputs": [
    {
     "data": {
      "text/plain": [
       "f    2729\n",
       "t      71\n",
       "Name: tumor, dtype: int64"
      ]
     },
     "execution_count": 24,
     "metadata": {},
     "output_type": "execute_result"
    }
   ],
   "source": [
    "data[\"tumor\"].value_counts()"
   ]
  },
  {
   "cell_type": "code",
   "execution_count": 25,
   "metadata": {},
   "outputs": [
    {
     "data": {
      "text/plain": [
       "<matplotlib.axes._subplots.AxesSubplot at 0x1a0295eb8d0>"
      ]
     },
     "execution_count": 25,
     "metadata": {},
     "output_type": "execute_result"
    },
    {
     "data": {
      "image/png": "[encoded data removed]",
      "text/plain": [
       "<matplotlib.figure.Figure at 0x1a029600588>"
      ]
     },
     "metadata": {},
     "output_type": "display_data"
    }
   ],
   "source": [
    "data[\"tumor\"].hist()"
   ]
  },
  {
   "cell_type": "markdown",
   "metadata": {},
   "source": [
    "V stĺpci **tumor** sa nachádzajú hodnoty t a f, ktoré znamenajú true a false. Hodnôt máme dokopy 2800, čiže žiadne nechýbajú a pomocou príkazu unique() sme zistili, že v stĺpci sa nachádzajú iba písmenká t a f, takže žiadne chyby sme nezistili. Stĺpec tumor predstavuje, či pacient má alebo nemá nádor."
   ]
  },
  {
   "cell_type": "code",
   "execution_count": 26,
   "metadata": {},
   "outputs": [
    {
     "data": {
      "text/plain": [
       "array(['f', 't'], dtype=object)"
      ]
     },
     "execution_count": 26,
     "metadata": {},
     "output_type": "execute_result"
    }
   ],
   "source": [
    "data[\"hypopituitary\"].unique()"
   ]
  },
  {
   "cell_type": "code",
   "execution_count": 27,
   "metadata": {},
   "outputs": [
    {
     "data": {
      "text/plain": [
       "f    2799\n",
       "t       1\n",
       "Name: hypopituitary, dtype: int64"
      ]
     },
     "execution_count": 27,
     "metadata": {},
     "output_type": "execute_result"
    }
   ],
   "source": [
    "data[\"hypopituitary\"].value_counts()"
   ]
  },
  {
   "cell_type": "code",
   "execution_count": 28,
   "metadata": {},
   "outputs": [
    {
     "data": {
      "text/plain": [
       "<matplotlib.axes._subplots.AxesSubplot at 0x1a0296089e8>"
      ]
     },
     "execution_count": 28,
     "metadata": {},
     "output_type": "execute_result"
    },
    {
     "data": {
      "image/png": "[encoded data removed]",
      "text/plain": [
       "<matplotlib.figure.Figure at 0x1a02965acc0>"
      ]
     },
     "metadata": {},
     "output_type": "display_data"
    }
   ],
   "source": [
    "data[\"hypopituitary\"].hist()"
   ]
  },
  {
   "cell_type": "markdown",
   "metadata": {},
   "source": [
    "V stĺpci **hypopituitary** sa nachádzajú hodnoty t a f, ktoré znamenajú true a false. Hodnôt máme dokopy 2800, čiže žiadne nechýbajú a pomocou príkazu unique() sme zistili, že v stĺpci sa nachádzajú iba písmenká t a f, takže žiadne chyby sme nezistili. Stĺpec hypopituitary predstavuje, či pacient má zníženú tvorbu hormónov štítnej žlazy."
   ]
  },
  {
   "cell_type": "code",
   "execution_count": 29,
   "metadata": {},
   "outputs": [
    {
     "data": {
      "text/plain": [
       "array(['0.3', '2.1', '1.6', '1.3', '468.0', '1.1', nan, '2.4', '0.02',\n",
       "       '3.5', '2.5', '2.3', '1.9', '1.8', '0.85', '0.2', '7.2', '0.72',\n",
       "       '2.6', '7.3', '0.05', '2.8', '1.4', '0.03', '76.0', '0.9', '0.5',\n",
       "       '1.2', '2.0', '4.1', '11.0', '1.5', '0.4', '60.0', '0.8', '5.2',\n",
       "       '4.8', '0.1', '2.7', '4.4', '0.015', '4.7', '0.025', '28.0',\n",
       "       '0.065', '5.1', '0.68', '0.15', '0.6', '5.8', '3.0', '6.3',\n",
       "       '0.045', '0.75', '0.88', '1.7', '0.84', '0.74', '41.0', '3.9',\n",
       "       '0.97', '0.41', '8.6', '4.9', '0.92', '46.0', '9.4', '0.91', '2.2',\n",
       "       '16.0', '38.0', '6.5', '0.86', '0.01', '0.005', '0.31', '0.32',\n",
       "       '0.25', '1.0', '0.58', '478.0', '0.19', '0.035', '0.71', '0.7',\n",
       "       '0.87', '0.35', '4.2', '5.0', '5.4', '3.7', '4.5', '13.0', '8.3',\n",
       "       '2.9', '472.0', '55.0', '14.0', '3.8', '0.08', '0.29', '0.52',\n",
       "       '0.46', '0.04', '0.93', '61.0', '4.0', '35.0', '7.1', '183.0',\n",
       "       '0.76', '160.0', '0.95', '5.5', '0.09', '6.4', '9.9', '7.5',\n",
       "       '31.0', '54.0', '0.61', '0.98', '4.3', '3.1', '3.2', '3.6', '8.2',\n",
       "       '7.9', '0.17', '9.1', '0.26', '7.4', '3.3', '3.4', '18.0', '7.0',\n",
       "       '9.7', '0.33', '39.0', '44.0', '9.6', '9.0', '6.9', '47.0', '0.07',\n",
       "       '34.0', '27.0', '0.13', '5.6', '6.6', '10.0', '12.0', '0.21',\n",
       "       '22.0', '0.73', '0.36', '0.47', '6.0', '0.44', '45.0', '10.3',\n",
       "       '12.1', '8.5', '116.0', '0.16', '0.43', '6.2', '0.59', '0.83',\n",
       "       '0.57', '0.62', '0.79', '32.0', '0.48', '0.78', '188.0', '0.81',\n",
       "       '17.0', '0.54', '8.1', '0.65', '0.82', '0.12', '26.0', '24.0',\n",
       "       '0.39', '9.3', '9.2', '6.8', '0.77', '6.7', '4.6', '0.38', '0.94',\n",
       "       '43.0', '15.0', '42.0', '0.89', '0.42', '0.49', '6.1', '21.0',\n",
       "       '0.22', '0.96', '0.67', '7.7', '0.24', '0.99', '52.0', '0.27',\n",
       "       '0.37', '100.0', '143.0', '5.9', '0.63', '0.34', '0.55', '5.7',\n",
       "       '0.53', '7.6', '99.0', '151.0', '19.0', '36.0', '0.06', '78.0',\n",
       "       '0.66', '0.69', '0.64', '82.0', '103.0', '0.28', '58.0', '0.45',\n",
       "       '7.8', '0.055', '98.0', '126.0', '11.4', '25.0', '9.8', '8.8',\n",
       "       '1.01', '51.0', '0.14', '14.8', '5.3', '29.0', '8.9', '108.0',\n",
       "       '8.0', '0.23', '145.0', '70.0', '8.4', '18.4', '33.0', '11.1',\n",
       "       '86.0', '199.0', '0.51', '178.0', '89.0', '26.4'], dtype=object)"
      ]
     },
     "execution_count": 29,
     "metadata": {},
     "output_type": "execute_result"
    }
   ],
   "source": [
    "data[\"TSH\"].unique()"
   ]
  },
  {
   "cell_type": "code",
   "execution_count": 31,
   "metadata": {},
   "outputs": [
    {
     "data": {
      "text/plain": [
       "0.2      88\n",
       "1.3      81\n",
       "1.1      69\n",
       "1.4      66\n",
       "1.5      64\n",
       "1.6      62\n",
       "1.9      58\n",
       "2.3      57\n",
       "1.2      56\n",
       "2.1      54\n",
       "2.0      53\n",
       "0.1      52\n",
       "1.7      52\n",
       "1.0      50\n",
       "1.8      50\n",
       "0.25     46\n",
       "2.2      45\n",
       "0.3      44\n",
       "0.005    43\n",
       "0.6      42\n",
       "0.02     42\n",
       "2.4      41\n",
       "0.05     38\n",
       "0.15     36\n",
       "0.9      35\n",
       "0.5      31\n",
       "0.7      30\n",
       "2.5      30\n",
       "0.8      28\n",
       "2.9      28\n",
       "         ..\n",
       "86.0      1\n",
       "8.4       1\n",
       "108.0     1\n",
       "18.4      1\n",
       "89.0      1\n",
       "468.0     1\n",
       "52.0      1\n",
       "178.0     1\n",
       "9.6       1\n",
       "39.0      1\n",
       "100.0     1\n",
       "143.0     1\n",
       "472.0     1\n",
       "126.0     1\n",
       "0.21      1\n",
       "10.3      1\n",
       "26.4      1\n",
       "1.01      1\n",
       "99.0      1\n",
       "478.0     1\n",
       "78.0      1\n",
       "199.0     1\n",
       "9.8       1\n",
       "82.0      1\n",
       "0.055     1\n",
       "7.4       1\n",
       "29.0      1\n",
       "116.0     1\n",
       "0.36      1\n",
       "12.1      1\n",
       "Name: TSH, Length: 263, dtype: int64"
      ]
     },
     "execution_count": 31,
     "metadata": {},
     "output_type": "execute_result"
    }
   ],
   "source": [
    "data[\"TSH\"].value_counts()"
   ]
  },
  {
   "cell_type": "code",
   "execution_count": 33,
   "metadata": {},
   "outputs": [],
   "source": [
    "# numeric_values = []\n",
    "# for i in data[\"TSH\"].unique():\n",
    "#     numeric_values.append(pd.to_numeric(i))\n",
    "# plt.plot(numeric_values, type=\"box\")\n",
    "# plt.show()"
   ]
  },
  {
   "cell_type": "markdown",
   "metadata": {},
   "source": [
    "V stĺpci"
   ]
  },
  {
   "cell_type": "code",
   "execution_count": 34,
   "metadata": {},
   "outputs": [
    {
     "data": {
      "text/plain": [
       "array(['t', 'f'], dtype=object)"
      ]
     },
     "execution_count": 34,
     "metadata": {},
     "output_type": "execute_result"
    }
   ],
   "source": [
    "data[\"T3 measured\"].unique()"
   ]
  },
  {
   "cell_type": "code",
   "execution_count": 35,
   "metadata": {},
   "outputs": [
    {
     "data": {
      "text/plain": [
       "t    2215\n",
       "f     585\n",
       "Name: T3 measured, dtype: int64"
      ]
     },
     "execution_count": 35,
     "metadata": {},
     "output_type": "execute_result"
    }
   ],
   "source": [
    "data[\"T3 measured\"].value_counts()"
   ]
  },
  {
   "cell_type": "code",
   "execution_count": 36,
   "metadata": {},
   "outputs": [
    {
     "data": {
      "text/plain": [
       "<matplotlib.axes._subplots.AxesSubplot at 0x1a029781828>"
      ]
     },
     "execution_count": 36,
     "metadata": {},
     "output_type": "execute_result"
    },
    {
     "data": {
      "image/png": "[encoded data removed]",
      "text/plain": [
       "<matplotlib.figure.Figure at 0x1a029966ef0>"
      ]
     },
     "metadata": {},
     "output_type": "display_data"
    }
   ],
   "source": [
    "data[\"T3 measured\"].hist()"
   ]
  },
  {
   "cell_type": "markdown",
   "metadata": {},
   "source": [
    "V stĺpci **T3 measured** sa nachádzajú hodnoty t a f, ktoré znamenajú true a false. Hodnôt máme dokopy 2800, čiže žiadne nechýbajú a pomocou príkazu unique() sme zistili, že v stĺpci sa nachádzajú iba písmenká t a f, takže žiadne chyby sme nezistili. Stĺpec T3 measured predstavuje, či pacientovi bola meraná hodnota T3."
   ]
  },
  {
   "cell_type": "code",
   "execution_count": 37,
   "metadata": {},
   "outputs": [
    {
     "data": {
      "text/plain": [
       "array(['t', 'f'], dtype=object)"
      ]
     },
     "execution_count": 37,
     "metadata": {},
     "output_type": "execute_result"
    }
   ],
   "source": [
    "data[\"TT4 measured\"].unique()"
   ]
  },
  {
   "cell_type": "code",
   "execution_count": 38,
   "metadata": {},
   "outputs": [
    {
     "data": {
      "text/plain": [
       "t    2616\n",
       "f     184\n",
       "Name: TT4 measured, dtype: int64"
      ]
     },
     "execution_count": 38,
     "metadata": {},
     "output_type": "execute_result"
    }
   ],
   "source": [
    "data[\"TT4 measured\"].value_counts()"
   ]
  },
  {
   "cell_type": "code",
   "execution_count": 39,
   "metadata": {},
   "outputs": [
    {
     "data": {
      "text/plain": [
       "<matplotlib.axes._subplots.AxesSubplot at 0x1a0299afc88>"
      ]
     },
     "execution_count": 39,
     "metadata": {},
     "output_type": "execute_result"
    },
    {
     "data": {
      "image/png": "[encoded data removed]",
      "text/plain": [
       "<matplotlib.figure.Figure at 0x1a02997bb70>"
      ]
     },
     "metadata": {},
     "output_type": "display_data"
    }
   ],
   "source": [
    "data[\"TT4 measured\"].hist()"
   ]
  },
  {
   "cell_type": "markdown",
   "metadata": {},
   "source": [
    "V stĺpci **TT4** measured sa nachádzajú hodnoty t a f, ktoré znamenajú true a false. Hodnôt máme dokopy 2800, čiže žiadne nechýbajú a pomocou príkazu unique() sme zistili, že v stĺpci sa nachádzajú iba písmenká t a f, takže žiadne chyby sme nezistili. Stĺpec TT4 measured predstavuje, či pacientovi bola meraná hodnota TT4."
   ]
  },
  {
   "cell_type": "code",
   "execution_count": 40,
   "metadata": {},
   "outputs": [
    {
     "data": {
      "text/plain": [
       "array(['t', 'f'], dtype=object)"
      ]
     },
     "execution_count": 40,
     "metadata": {},
     "output_type": "execute_result"
    }
   ],
   "source": [
    "data[\"FTI measured\"].unique()"
   ]
  },
  {
   "cell_type": "code",
   "execution_count": 41,
   "metadata": {},
   "outputs": [
    {
     "data": {
      "text/plain": [
       "t    2505\n",
       "f     295\n",
       "Name: FTI measured, dtype: int64"
      ]
     },
     "execution_count": 41,
     "metadata": {},
     "output_type": "execute_result"
    }
   ],
   "source": [
    "data[\"FTI measured\"].value_counts()"
   ]
  },
  {
   "cell_type": "code",
   "execution_count": 42,
   "metadata": {},
   "outputs": [
    {
     "data": {
      "text/plain": [
       "<matplotlib.axes._subplots.AxesSubplot at 0x1a02976f6d8>"
      ]
     },
     "execution_count": 42,
     "metadata": {},
     "output_type": "execute_result"
    },
    {
     "data": {
      "image/png": "[encoded data removed]",
      "text/plain": [
       "<matplotlib.figure.Figure at 0x1a0299cba58>"
      ]
     },
     "metadata": {},
     "output_type": "display_data"
    }
   ],
   "source": [
    "data[\"FTI measured\"].hist()"
   ]
  },
  {
   "cell_type": "markdown",
   "metadata": {},
   "source": [
    "V stĺpci **FTI** measured sa nachádzajú hodnoty t a f, ktoré znamenajú true a false. Hodnôt máme dokopy 2800, čiže žiadne nechýbajú a pomocou príkazu unique() sme zistili, že v stĺpci sa nachádzajú iba písmenká t a f, takže žiadne chyby sme nezistili. Stĺpec FTI measured predstavuje, či pacientovi bola meraná hodnota FTI."
   ]
  },
  {
   "cell_type": "code",
   "execution_count": 43,
   "metadata": {},
   "outputs": [
    {
     "data": {
      "text/plain": [
       "array(['f'], dtype=object)"
      ]
     },
     "execution_count": 43,
     "metadata": {},
     "output_type": "execute_result"
    }
   ],
   "source": [
    "data[\"TBG measured\"].unique()"
   ]
  },
  {
   "cell_type": "code",
   "execution_count": 44,
   "metadata": {},
   "outputs": [
    {
     "data": {
      "text/plain": [
       "<matplotlib.axes._subplots.AxesSubplot at 0x1a0299f0898>"
      ]
     },
     "execution_count": 44,
     "metadata": {},
     "output_type": "execute_result"
    },
    {
     "data": {
      "image/png": "[encoded data removed]",
      "text/plain": [
       "<matplotlib.figure.Figure at 0x1a0297c3e10>"
      ]
     },
     "metadata": {},
     "output_type": "display_data"
    }
   ],
   "source": [
    "data[\"TBG measured\"].hist()"
   ]
  },
  {
   "cell_type": "markdown",
   "metadata": {},
   "source": [
    "V stĺpci **TBG** measured sa nachádzajú iba hodnoty f, ktoré znamenajú false. Hodnôt máme dokopy 2800, čiže žiadne nechýbajú a pomocou príkazu unique() sme zistili, že v stĺpci sa nachádza iba písmenko f, takže žiadne chyby sme nezistili. Stĺpec TBG measured predstavuje, či pacientovi bola meraná hodnota TBG."
   ]
  },
  {
   "cell_type": "code",
   "execution_count": 45,
   "metadata": {},
   "outputs": [
    {
     "data": {
      "text/plain": [
       "array(['SVHC', 'SVI', 'other', 'Other', 'sVHC', 'sVI', 'STMW', 'SVHD',\n",
       "       'sTMW', 'sVHD'], dtype=object)"
      ]
     },
     "execution_count": 45,
     "metadata": {},
     "output_type": "execute_result"
    }
   ],
   "source": [
    "data[\"referral source\"].unique()"
   ]
  },
  {
   "cell_type": "code",
   "execution_count": 46,
   "metadata": {},
   "outputs": [
    {
     "data": {
      "text/plain": [
       "other    1464\n",
       "SVI       698\n",
       "SVHC      247\n",
       "Other     168\n",
       "STMW       83\n",
       "sVI        73\n",
       "SVHD       28\n",
       "sVHC       28\n",
       "sTMW        8\n",
       "sVHD        3\n",
       "Name: referral source, dtype: int64"
      ]
     },
     "execution_count": 46,
     "metadata": {},
     "output_type": "execute_result"
    }
   ],
   "source": [
    "data[\"referral source\"].value_counts()"
   ]
  },
  {
   "cell_type": "markdown",
   "metadata": {},
   "source": [
    "V stĺpci **referral source** sa nachádzajú hodnoty \"other\", \"SVI\", \"SVHC\", \"SMTW\" a \"SVHD\". Zvyšné sú rovnaké, len napísané s preklepom, čiže ich bude nutné zjednotiť na rovnaký formát, aby sme s dátami tohto stĺpca vedeli ďalej pracovať."
   ]
  },
  {
   "cell_type": "code",
   "execution_count": 47,
   "metadata": {},
   "outputs": [
    {
     "data": {
      "text/plain": [
       "array([' Private', ' Local-gov', ' Self-emp-not-inc', ' ?', ' State-gov',\n",
       "       ' Self-emp-inc', ' Federal-gov', ' Without-pay'], dtype=object)"
      ]
     },
     "execution_count": 47,
     "metadata": {},
     "output_type": "execute_result"
    }
   ],
   "source": [
    "data[\"workclass\"].unique()"
   ]
  },
  {
   "cell_type": "code",
   "execution_count": 48,
   "metadata": {},
   "outputs": [
    {
     "data": {
      "text/plain": [
       " Private             1948\n",
       " ?                    217\n",
       " Local-gov            209\n",
       " Self-emp-not-inc     168\n",
       " State-gov            112\n",
       " Federal-gov           83\n",
       " Self-emp-inc          61\n",
       " Without-pay            2\n",
       "Name: workclass, dtype: int64"
      ]
     },
     "execution_count": 48,
     "metadata": {},
     "output_type": "execute_result"
    }
   ],
   "source": [
    "data[\"workclass\"].value_counts()"
   ]
  },
  {
   "cell_type": "code",
   "execution_count": 51,
   "metadata": {},
   "outputs": [
    {
     "data": {
      "text/plain": [
       "2800"
      ]
     },
     "execution_count": 51,
     "metadata": {},
     "output_type": "execute_result"
    }
   ],
   "source": [
    "data[\"workclass\"].count()"
   ]
  },
  {
   "cell_type": "markdown",
   "metadata": {},
   "source": [
    "V stĺpci **workclass** sa nachádzajú hodnoty \"Private\", \"Local-gov\", \"Self-emp-not-inc\", \"State-gov\", \"Federal-gov\", \"Self-emp-inc\" a \"Without-pay\". Okrem toho sa tam nachádza hodnota \"?\", ktorá predstavuje chýbajúce dáta a je ich 217.\n",
    "1. 217 chýbajúcich dát - Riešenie: workclass \"Private\" sa nachádza v dátach 1948 krát, pričom ostatné hodnoty 200 krát a menej. Najrozumnejšie bude podľa nás doplniť chýbajúce dáta mediánom"
   ]
  },
  {
   "cell_type": "code",
   "execution_count": 52,
   "metadata": {},
   "outputs": [
    {
     "data": {
      "text/plain": [
       "array([' HS-grad', ' 7th-8th', ' Masters', ' Some-college', ' 11th',\n",
       "       ' Assoc-voc', ' Bachelors', ' Assoc-acdm', ' Prof-school', ' 10th',\n",
       "       ' 5th-6th', ' 12th', ' 1st-4th', ' 9th', ' Doctorate',\n",
       "       ' Preschool'], dtype=object)"
      ]
     },
     "execution_count": 52,
     "metadata": {},
     "output_type": "execute_result"
    }
   ],
   "source": [
    "data[\"education\"].unique()"
   ]
  },
  {
   "cell_type": "code",
   "execution_count": 54,
   "metadata": {},
   "outputs": [
    {
     "data": {
      "text/plain": [
       "2800"
      ]
     },
     "execution_count": 54,
     "metadata": {},
     "output_type": "execute_result"
    }
   ],
   "source": [
    "data[\"education\"].count()"
   ]
  },
  {
   "cell_type": "code",
   "execution_count": 55,
   "metadata": {},
   "outputs": [
    {
     "data": {
      "text/plain": [
       " HS-grad         903\n",
       " Some-college    660\n",
       " Bachelors       444\n",
       " Masters         142\n",
       " Assoc-voc       116\n",
       " Assoc-acdm      102\n",
       " 10th             99\n",
       " 11th             95\n",
       " 9th              44\n",
       " 7th-8th          43\n",
       " Prof-school      39\n",
       " 12th             33\n",
       " Doctorate        27\n",
       " 5th-6th          26\n",
       " 1st-4th          21\n",
       " Preschool         6\n",
       "Name: education, dtype: int64"
      ]
     },
     "execution_count": 55,
     "metadata": {},
     "output_type": "execute_result"
    }
   ],
   "source": [
    "data[\"education\"].value_counts()"
   ]
  },
  {
   "cell_type": "code",
   "execution_count": 62,
   "metadata": {},
   "outputs": [
    {
     "data": {
      "text/plain": [
       "([0, 1, 2, 3, 4, 5, 6, 7, 8, 9, 10, 11, 12, 13, 14, 15],\n",
       " <a list of 16 Text xticklabel objects>)"
      ]
     },
     "execution_count": 62,
     "metadata": {},
     "output_type": "execute_result"
    },
    {
     "data": {
      "image/png": "[encoded data removed]",
      "text/plain": [
       "<matplotlib.figure.Figure at 0x1a029e45fd0>"
      ]
     },
     "metadata": {},
     "output_type": "display_data"
    }
   ],
   "source": [
    "data[\"education\"].hist(bins=[0,1,2,3,4,5,6,7,8,9,10,11,12,13,14,15,16])\n",
    "plt.xticks(rotation='vertical')"
   ]
  },
  {
   "cell_type": "markdown",
   "metadata": {},
   "source": [
    "V stĺpci **education** sa nachádza 16 rôznych textových hodnôt. Žiadne hodnoty nechýbajú, žiadne hodnoty sa textovo neopakujú. Z grafu môžeme vyčítať, že najviac pacientov má hodnotu education HS-grad, Some-college alebo majú titul bakalár."
   ]
  },
  {
   "cell_type": "code",
   "execution_count": 65,
   "metadata": {},
   "outputs": [
    {
     "data": {
      "text/plain": [
       "array([' Married-civ-spouse', ' Never-married', ' Divorced', ' Widowed',\n",
       "       ' Separated', ' Married-spouse-absent', ' Married-AF-spouse'],\n",
       "      dtype=object)"
      ]
     },
     "execution_count": 65,
     "metadata": {},
     "output_type": "execute_result"
    }
   ],
   "source": [
    "data[\"marital-status\"].unique()"
   ]
  },
  {
   "cell_type": "code",
   "execution_count": 66,
   "metadata": {},
   "outputs": [
    {
     "data": {
      "text/plain": [
       "2800"
      ]
     },
     "execution_count": 66,
     "metadata": {},
     "output_type": "execute_result"
    }
   ],
   "source": [
    "data[\"marital-status\"].count()"
   ]
  },
  {
   "cell_type": "code",
   "execution_count": 69,
   "metadata": {},
   "outputs": [
    {
     "data": {
      "text/plain": [
       "([0, 1, 2, 3, 4, 5, 6], <a list of 7 Text xticklabel objects>)"
      ]
     },
     "execution_count": 69,
     "metadata": {},
     "output_type": "execute_result"
    },
    {
     "data": {
      "image/png": "[encoded data removed]",
      "text/plain": [
       "<matplotlib.figure.Figure at 0x1a029f2d5c0>"
      ]
     },
     "metadata": {},
     "output_type": "display_data"
    }
   ],
   "source": [
    "data[\"marital-status\"].hist(bins=[0,1,2,3,4,5,6,7])\n",
    "plt.xticks(rotation='vertical')"
   ]
  },
  {
   "cell_type": "markdown",
   "metadata": {},
   "source": [
    "V stĺpci **marital-status** sa nachádza 7 rôznych textových hodnôt. Žiadne hodnoty nechýbajú, žiadne hodnoty sa textovo neopakujú. Z grafu môžeme vyčítať, že najviac pacientov má hodnotu marital-status \"Never-married\" alebo \"Married-civ-spouse\""
   ]
  },
  {
   "cell_type": "code",
   "execution_count": 70,
   "metadata": {},
   "outputs": [
    {
     "data": {
      "text/plain": [
       "array([' Handlers-cleaners', ' Machine-op-inspct', ' Exec-managerial',\n",
       "       ' Adm-clerical', ' Other-service', ' Sales', ' Craft-repair', ' ?',\n",
       "       ' Tech-support', ' Prof-specialty', ' Transport-moving',\n",
       "       ' Protective-serv', ' Priv-house-serv', ' Farming-fishing'],\n",
       "      dtype=object)"
      ]
     },
     "execution_count": 70,
     "metadata": {},
     "output_type": "execute_result"
    }
   ],
   "source": [
    "data[\"occupation\"].unique()"
   ]
  },
  {
   "cell_type": "code",
   "execution_count": 71,
   "metadata": {},
   "outputs": [
    {
     "data": {
      "text/plain": [
       "2800"
      ]
     },
     "execution_count": 71,
     "metadata": {},
     "output_type": "execute_result"
    }
   ],
   "source": [
    "data[\"occupation\"].count()"
   ]
  },
  {
   "cell_type": "code",
   "execution_count": 72,
   "metadata": {},
   "outputs": [
    {
     "data": {
      "text/plain": [
       " Adm-clerical         502\n",
       " Other-service        411\n",
       " Prof-specialty       398\n",
       " Exec-managerial      311\n",
       " Sales                260\n",
       " ?                    217\n",
       " Craft-repair         211\n",
       " Machine-op-inspct    151\n",
       " Handlers-cleaners     83\n",
       " Tech-support          83\n",
       " Transport-moving      68\n",
       " Farming-fishing       52\n",
       " Protective-serv       30\n",
       " Priv-house-serv       23\n",
       "Name: occupation, dtype: int64"
      ]
     },
     "execution_count": 72,
     "metadata": {},
     "output_type": "execute_result"
    }
   ],
   "source": [
    "data[\"occupation\"].value_counts()"
   ]
  },
  {
   "cell_type": "code",
   "execution_count": 75,
   "metadata": {},
   "outputs": [
    {
     "data": {
      "text/plain": [
       "([0, 1, 2, 3, 4, 5, 6, 7, 8, 9, 10, 11, 12, 13],\n",
       " <a list of 14 Text xticklabel objects>)"
      ]
     },
     "execution_count": 75,
     "metadata": {},
     "output_type": "execute_result"
    },
    {
     "data": {
      "image/png": "[encoded data removed]",
      "text/plain": [
       "<matplotlib.figure.Figure at 0x1a029c71588>"
      ]
     },
     "metadata": {},
     "output_type": "display_data"
    }
   ],
   "source": [
    "data[\"occupation\"].hist(bins=[0,1,2,3,4,5,6,7,8,9,10,11,12,13,14])\n",
    "plt.xticks(rotation='vertical')"
   ]
  },
  {
   "cell_type": "markdown",
   "metadata": {},
   "source": [
    "V stĺpci **occupation** sa nachádza 14 rôznych textových hodnôt. Žiadne hodnoty nechýbajú, žiadne hodnoty sa textovo neopakujú. Z grafu môžeme vyčítať, že najviac pacientov má hodnotu occupation \"Adm-clerical\", \"Other-service\" alebo \"Prof-speciality\". Zistili sme však ešte chyby:\n",
    "1. Chýbajúce dáta označené \"?\", je ich 217 - Riešenie:"
   ]
  },
  {
   "cell_type": "code",
   "execution_count": 76,
   "metadata": {},
   "outputs": [
    {
     "data": {
      "text/plain": [
       "array([' Husband', ' Not-in-family', ' Not_in_family', ' Wife',\n",
       "       ' Own-child', ' Unmarried', ' Other-relative', ' Other_relative',\n",
       "       ' Own_child'], dtype=object)"
      ]
     },
     "execution_count": 76,
     "metadata": {},
     "output_type": "execute_result"
    }
   ],
   "source": [
    "data[\"relationship\"].unique()"
   ]
  },
  {
   "cell_type": "code",
   "execution_count": 77,
   "metadata": {},
   "outputs": [
    {
     "data": {
      "text/plain": [
       " Not-in-family     816\n",
       " Husband           569\n",
       " Unmarried         502\n",
       " Own-child         421\n",
       " Wife              266\n",
       " Not_in_family     104\n",
       " Other-relative     75\n",
       " Own_child          34\n",
       " Other_relative     13\n",
       "Name: relationship, dtype: int64"
      ]
     },
     "execution_count": 77,
     "metadata": {},
     "output_type": "execute_result"
    }
   ],
   "source": [
    "data[\"relationship\"].value_counts()"
   ]
  },
  {
   "cell_type": "code",
   "execution_count": 78,
   "metadata": {},
   "outputs": [
    {
     "data": {
      "text/plain": [
       "([0, 1, 2, 3, 4, 5, 6, 7, 8], <a list of 9 Text xticklabel objects>)"
      ]
     },
     "execution_count": 78,
     "metadata": {},
     "output_type": "execute_result"
    },
    {
     "data": {
      "image/png": "[encoded data removed]",
      "text/plain": [
       "<matplotlib.figure.Figure at 0x1a02b15fdd8>"
      ]
     },
     "metadata": {},
     "output_type": "display_data"
    }
   ],
   "source": [
    "data[\"relationship\"].hist(bins=[0,1,2,3,4,5,6,7,8,9])\n",
    "plt.xticks(rotation='vertical')"
   ]
  },
  {
   "cell_type": "markdown",
   "metadata": {},
   "source": [
    "V stĺpci **relationship** sa nachádzajú hodnoty \"Husband\", \"Not in family\", \"Other relative\", \"Own child\", \"Unmarried\" alebo \"Wife\". Zistili sme nasledovné chyby:\n",
    "1. Duplicitné hodnoty - napísané s preklepom - Riešenie: Prepísať chybné hodnoty na rovnaký formát (napr: Own-child a Own_child zjednotiť na own-child)"
   ]
  },
  {
   "cell_type": "code",
   "execution_count": 79,
   "metadata": {},
   "outputs": [
    {
     "data": {
      "text/plain": [
       "array([' White', ' Asian-Pac-Islander', ' Black', ' Amer-Indian-Eskimo',\n",
       "       ' Other'], dtype=object)"
      ]
     },
     "execution_count": 79,
     "metadata": {},
     "output_type": "execute_result"
    }
   ],
   "source": [
    "data[\"race\"].unique()"
   ]
  },
  {
   "cell_type": "code",
   "execution_count": 80,
   "metadata": {},
   "outputs": [
    {
     "data": {
      "text/plain": [
       "2800"
      ]
     },
     "execution_count": 80,
     "metadata": {},
     "output_type": "execute_result"
    }
   ],
   "source": [
    "data[\"race\"].count()"
   ]
  },
  {
   "cell_type": "code",
   "execution_count": 81,
   "metadata": {},
   "outputs": [
    {
     "data": {
      "text/plain": [
       "([0, 1, 2, 3, 4], <a list of 5 Text xticklabel objects>)"
      ]
     },
     "execution_count": 81,
     "metadata": {},
     "output_type": "execute_result"
    },
    {
     "data": {
      "image/png": "[encoded data removed]",
      "text/plain": [
       "<matplotlib.figure.Figure at 0x1a02b151b38>"
      ]
     },
     "metadata": {},
     "output_type": "display_data"
    }
   ],
   "source": [
    "data[\"race\"].hist(bins=[0,1,2,3,4,5])\n",
    "plt.xticks(rotation='vertical')"
   ]
  },
  {
   "cell_type": "markdown",
   "metadata": {},
   "source": [
    "V stĺpci **race** sa nachádza rasa pacienta a nadobúda hodnoty \"White\", \"Black\", \"Asian-Pac-Islander\", \"Asian-Indian_Eskimo\" alebo \"Other\". Dáta v tomto stĺpci máme všetky a nenašli sme v ňom chýbajúce dáta alebo chybé dáta."
   ]
  },
  {
   "cell_type": "code",
   "execution_count": 82,
   "metadata": {},
   "outputs": [
    {
     "data": {
      "text/plain": [
       "array([' ?', ' Laos', ' United-States', ' Guatemala', ' Puerto-Rico',\n",
       "       ' Mexico', ' Ireland', ' Cuba', ' Honduras', ' Italy',\n",
       "       ' Dominican-Republic', ' Peru', ' Canada', ' Portugal',\n",
       "       ' Philippines', ' South', ' Jamaica', ' India', ' France',\n",
       "       ' Germany', ' England', ' Outlying-US(Guam-USVI-etc)', ' Poland',\n",
       "       ' Ecuador', ' Columbia', ' China', ' El-Salvador', ' Cambodia',\n",
       "       ' Japan', ' Thailand', ' Haiti', ' Iran', ' Hungary', ' Vietnam',\n",
       "       ' Yugoslavia', ' Taiwan', ' Nicaragua', ' Hong', ' Scotland',\n",
       "       ' Greece'], dtype=object)"
      ]
     },
     "execution_count": 82,
     "metadata": {},
     "output_type": "execute_result"
    }
   ],
   "source": [
    "data[\"native-country\"].unique()"
   ]
  },
  {
   "cell_type": "code",
   "execution_count": 83,
   "metadata": {},
   "outputs": [
    {
     "data": {
      "text/plain": [
       "2800"
      ]
     },
     "execution_count": 83,
     "metadata": {},
     "output_type": "execute_result"
    }
   ],
   "source": [
    "data[\"native-country\"].count()"
   ]
  },
  {
   "cell_type": "code",
   "execution_count": 84,
   "metadata": {},
   "outputs": [
    {
     "data": {
      "text/plain": [
       " United-States                 2502\n",
       " Mexico                          47\n",
       " ?                               42\n",
       " Philippines                     20\n",
       " Italy                           12\n",
       " Canada                          12\n",
       " Jamaica                         12\n",
       " El-Salvador                     11\n",
       " Germany                         11\n",
       " Puerto-Rico                     10\n",
       " England                          8\n",
       " Guatemala                        8\n",
       " Poland                           7\n",
       " Cuba                             7\n",
       " Japan                            7\n",
       " Haiti                            6\n",
       " South                            6\n",
       " Dominican-Republic               6\n",
       " Vietnam                          5\n",
       " China                            5\n",
       " Taiwan                           5\n",
       " Peru                             5\n",
       " Columbia                         5\n",
       " Laos                             5\n",
       " Yugoslavia                       4\n",
       " France                           4\n",
       " Ireland                          4\n",
       " India                            4\n",
       " Ecuador                          3\n",
       " Thailand                         2\n",
       " Hong                             2\n",
       " Nicaragua                        2\n",
       " Hungary                          2\n",
       " Outlying-US(Guam-USVI-etc)       2\n",
       " Iran                             2\n",
       " Scotland                         1\n",
       " Greece                           1\n",
       " Portugal                         1\n",
       " Cambodia                         1\n",
       " Honduras                         1\n",
       "Name: native-country, dtype: int64"
      ]
     },
     "execution_count": 84,
     "metadata": {},
     "output_type": "execute_result"
    }
   ],
   "source": [
    "data[\"native-country\"].value_counts()"
   ]
  },
  {
   "cell_type": "code",
   "execution_count": 86,
   "metadata": {},
   "outputs": [
    {
     "data": {
      "text/plain": [
       "count               2800\n",
       "unique                40\n",
       "top        United-States\n",
       "freq                2502\n",
       "Name: native-country, dtype: object"
      ]
     },
     "execution_count": 86,
     "metadata": {},
     "output_type": "execute_result"
    }
   ],
   "source": [
    "data[\"native-country\"].describe()"
   ]
  },
  {
   "cell_type": "markdown",
   "metadata": {},
   "source": [
    "V stĺpci **native-country** sa nachádzajú textové hodnoty. Unikátnych hodnôt je 40, pričom najfrekventovanejšia hodnota je United-States, ktorá sa v dátach vyskytuje 2502 krát. V stĺpci sa nachádza aj hodnota \"?\" 42 krát, čo znamená, že máme 42 chýbajúcich dát.\n",
    "1. Chýbajúce dáta (42) - Riešenie: Chýbajúce dáta doplniť mediánom (United-States)"
   ]
  },
  {
   "cell_type": "code",
   "execution_count": 89,
   "metadata": {},
   "outputs": [
    {
     "data": {
      "text/plain": [
       "count           2799\n",
       "unique          2719\n",
       "top       1954-07-23\n",
       "freq               3\n",
       "Name: date_of_birth, dtype: object"
      ]
     },
     "execution_count": 89,
     "metadata": {},
     "output_type": "execute_result"
    }
   ],
   "source": [
    "data[\"date_of_birth\"].describe()"
   ]
  },
  {
   "cell_type": "markdown",
   "metadata": {},
   "source": [
    "V stĺpci **date_of_birth** sa nachádzajú dátumy narodenia pacientov. Unikátnych ich je 2719, dokopy 2799, čiže jeden údaj nám chýba. Keď sme nahliadli do dát ručne, videli sme, že dátumy majú rôzny formát. Máme teda nasledovné chyby:\n",
    "1. Rôzne formáty dátumov - Riešenie: Zjednotiť na jeden formát, napr. na dd.mm.yyyy\n",
    "2. Chýbajúce dáta v počte 1 - Riešenie: Nakoľko najfrekventovanejší dátum sa nachádza iba tri krát, najrozumnejšie bude teda vypočítať nejaký priemerný dátum narodenia (priemerný deň, mesiac a rok)"
   ]
  },
  {
   "cell_type": "code",
   "execution_count": null,
   "metadata": {},
   "outputs": [],
   "source": []
  }
 ],
 "metadata": {
  "kernelspec": {
   "display_name": "Python 3",
   "language": "python",
   "name": "python3"
  },
  "language_info": {
   "codemirror_mode": {
    "name": "ipython",
    "version": 3
   },
   "file_extension": ".py",
   "mimetype": "text/x-python",
   "name": "python",
   "nbconvert_exporter": "python",
   "pygments_lexer": "ipython3",
   "version": "3.6.4"
  }
 },
 "nbformat": 4,
 "nbformat_minor": 2
}
