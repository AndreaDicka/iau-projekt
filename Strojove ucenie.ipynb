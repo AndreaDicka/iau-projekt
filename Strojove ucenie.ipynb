{
 "cells": [
  {
   "cell_type": "markdown",
   "metadata": {},
   "source": [
    "# Opravene veci"
   ]
  },
  {
   "cell_type": "code",
   "execution_count": 1,
   "metadata": {},
   "outputs": [],
   "source": [
    "%matplotlib inline\n",
    "import pandas as pd\n",
    "import numpy as np\n",
    "import matplotlib.pyplot as plt\n",
    "import seaborn as sb\n",
    "from sklearn.pipeline import Pipeline\n",
    "import matplotlib\n",
    "import statistics\n",
    "import sklearn\n",
    "\n",
    "from sklearn.pipeline import make_pipeline\n",
    "from sklearn.base import TransformerMixin\n",
    "\n",
    "train = pd.read_csv(\"17/train.csv\", sep=',', header=None)\n",
    "test = pd.read_csv(\"17/test.csv\", sep=',', header=None)\n",
    "\n",
    "pd.set_option('display.max_columns', None)\n",
    "pd.set_option('display.max_rows', 20)"
   ]
  },
  {
   "cell_type": "markdown",
   "metadata": {},
   "source": [
    "## Transformacie na trenovacej aj testovacej vzorke"
   ]
  },
  {
   "cell_type": "code",
   "execution_count": 2,
   "metadata": {},
   "outputs": [],
   "source": [
    "train = train.rename(columns=train.iloc[0]).drop(train.index[0]) #zbavenie sa prveho riadku dat a premena na nazvy stlpcov\n",
    "test = test.rename(columns=test.iloc[0]).drop(test.index[0])"
   ]
  },
  {
   "cell_type": "code",
   "execution_count": 3,
   "metadata": {},
   "outputs": [],
   "source": [
    "import json\n",
    "\n",
    "def medical_info_transform(x):\n",
    "    lst = []\n",
    "    for a in x:\n",
    "        a = a.replace(\"'\",'\"')\n",
    "        record = json.loads(a)\n",
    "        lst.append(record)\n",
    "    df = pd.DataFrame(lst)\n",
    "    return df\n",
    "\n",
    "train = pd.concat([train, medical_info_transform(train['medical_info'])], axis=1) #rozlozenie json medical_info\n",
    "test = pd.concat([test, medical_info_transform(test['medical_info'])], axis=1) #rozlozenie json medical_info\n"
   ]
  },
  {
   "cell_type": "markdown",
   "metadata": {},
   "source": [
    "Odstranime nepotrebne stlpce"
   ]
  },
  {
   "cell_type": "code",
   "execution_count": 4,
   "metadata": {},
   "outputs": [
    {
     "data": {
      "text/html": [
       "<div>\n",
       "<style scoped>\n",
       "    .dataframe tbody tr th:only-of-type {\n",
       "        vertical-align: middle;\n",
       "    }\n",
       "\n",
       "    .dataframe tbody tr th {\n",
       "        vertical-align: top;\n",
       "    }\n",
       "\n",
       "    .dataframe thead th {\n",
       "        text-align: right;\n",
       "    }\n",
       "</style>\n",
       "<table border=\"1\" class=\"dataframe\">\n",
       "  <thead>\n",
       "    <tr style=\"text-align: right;\">\n",
       "      <th></th>\n",
       "      <th>age</th>\n",
       "      <th>sex</th>\n",
       "      <th>query on thyroxine</th>\n",
       "      <th>on antithyroid medication</th>\n",
       "      <th>thyroid surgery</th>\n",
       "      <th>I131 treatment</th>\n",
       "      <th>tumor</th>\n",
       "      <th>hypopituitary</th>\n",
       "      <th>TSH</th>\n",
       "      <th>T3 measured</th>\n",
       "      <th>T3</th>\n",
       "      <th>TT4 measured</th>\n",
       "      <th>TT4</th>\n",
       "      <th>T4U</th>\n",
       "      <th>FTI measured</th>\n",
       "      <th>FTI</th>\n",
       "      <th>referral source</th>\n",
       "      <th>class</th>\n",
       "      <th>workclass</th>\n",
       "      <th>fnlwgt</th>\n",
       "      <th>education</th>\n",
       "      <th>education-num</th>\n",
       "      <th>marital-status</th>\n",
       "      <th>occupation</th>\n",
       "      <th>relationship</th>\n",
       "      <th>race</th>\n",
       "      <th>capital-gain</th>\n",
       "      <th>capital-loss</th>\n",
       "      <th>hours-per-week</th>\n",
       "      <th>native-country</th>\n",
       "      <th>date_of_birth</th>\n",
       "      <th>T4U measured</th>\n",
       "      <th>TSH measured</th>\n",
       "      <th>goitre</th>\n",
       "      <th>lithium</th>\n",
       "      <th>on thyroxine</th>\n",
       "      <th>pregnant</th>\n",
       "      <th>psych</th>\n",
       "      <th>query hyperthyroid</th>\n",
       "      <th>query hypothyroid</th>\n",
       "      <th>sick</th>\n",
       "      <th>class_id</th>\n",
       "    </tr>\n",
       "  </thead>\n",
       "  <tbody>\n",
       "    <tr>\n",
       "      <th>1</th>\n",
       "      <td>53.0</td>\n",
       "      <td>M</td>\n",
       "      <td>f</td>\n",
       "      <td>f</td>\n",
       "      <td>f</td>\n",
       "      <td>f</td>\n",
       "      <td>f</td>\n",
       "      <td>f</td>\n",
       "      <td>0.3</td>\n",
       "      <td>t</td>\n",
       "      <td>1.2</td>\n",
       "      <td>t</td>\n",
       "      <td>105.0</td>\n",
       "      <td>0.91</td>\n",
       "      <td>t</td>\n",
       "      <td>115</td>\n",
       "      <td>SVHC</td>\n",
       "      <td>negative.</td>\n",
       "      <td>Private</td>\n",
       "      <td>90021</td>\n",
       "      <td>HS-grad</td>\n",
       "      <td>9</td>\n",
       "      <td>Married-civ-spouse</td>\n",
       "      <td>Handlers-cleaners</td>\n",
       "      <td>Husband</td>\n",
       "      <td>White</td>\n",
       "      <td>0</td>\n",
       "      <td>0</td>\n",
       "      <td>40</td>\n",
       "      <td>?</td>\n",
       "      <td>1965-01-22</td>\n",
       "      <td>t</td>\n",
       "      <td>t</td>\n",
       "      <td>f</td>\n",
       "      <td>f</td>\n",
       "      <td>f</td>\n",
       "      <td>f</td>\n",
       "      <td>f</td>\n",
       "      <td>f</td>\n",
       "      <td>f</td>\n",
       "      <td>f</td>\n",
       "      <td>232</td>\n",
       "    </tr>\n",
       "    <tr>\n",
       "      <th>2</th>\n",
       "      <td>73.0</td>\n",
       "      <td>M</td>\n",
       "      <td>f</td>\n",
       "      <td>f</td>\n",
       "      <td>f</td>\n",
       "      <td>f</td>\n",
       "      <td>f</td>\n",
       "      <td>f</td>\n",
       "      <td>2.1</td>\n",
       "      <td>t</td>\n",
       "      <td>1.9</td>\n",
       "      <td>t</td>\n",
       "      <td>118.0</td>\n",
       "      <td>0.9</td>\n",
       "      <td>t</td>\n",
       "      <td>131</td>\n",
       "      <td>SVI</td>\n",
       "      <td>negative.</td>\n",
       "      <td>Private</td>\n",
       "      <td>97411</td>\n",
       "      <td>7th-8th</td>\n",
       "      <td>4</td>\n",
       "      <td>Never-married</td>\n",
       "      <td>Machine-op-inspct</td>\n",
       "      <td>Not-in-family</td>\n",
       "      <td>Asian-Pac-Islander</td>\n",
       "      <td>0</td>\n",
       "      <td>0</td>\n",
       "      <td>45</td>\n",
       "      <td>Laos</td>\n",
       "      <td>1944-04-01</td>\n",
       "      <td>t</td>\n",
       "      <td>t</td>\n",
       "      <td>f</td>\n",
       "      <td>f</td>\n",
       "      <td>f</td>\n",
       "      <td>f</td>\n",
       "      <td>f</td>\n",
       "      <td>f</td>\n",
       "      <td>f</td>\n",
       "      <td>t</td>\n",
       "      <td>3255</td>\n",
       "    </tr>\n",
       "    <tr>\n",
       "      <th>3</th>\n",
       "      <td>73.0</td>\n",
       "      <td>F</td>\n",
       "      <td>f</td>\n",
       "      <td>f</td>\n",
       "      <td>f</td>\n",
       "      <td>f</td>\n",
       "      <td>f</td>\n",
       "      <td>f</td>\n",
       "      <td>1.6</td>\n",
       "      <td>t</td>\n",
       "      <td>2.0</td>\n",
       "      <td>t</td>\n",
       "      <td>105.0</td>\n",
       "      <td>1.17</td>\n",
       "      <td>t</td>\n",
       "      <td>89</td>\n",
       "      <td>SVI</td>\n",
       "      <td>negative.</td>\n",
       "      <td>Local-gov</td>\n",
       "      <td>89491</td>\n",
       "      <td>Masters</td>\n",
       "      <td>14</td>\n",
       "      <td>Divorced</td>\n",
       "      <td>Exec-managerial</td>\n",
       "      <td>Not_in_family</td>\n",
       "      <td>White</td>\n",
       "      <td>0</td>\n",
       "      <td>0</td>\n",
       "      <td>40</td>\n",
       "      <td>United-States</td>\n",
       "      <td>45-03-12</td>\n",
       "      <td>t</td>\n",
       "      <td>t</td>\n",
       "      <td>f</td>\n",
       "      <td>f</td>\n",
       "      <td>f</td>\n",
       "      <td>f</td>\n",
       "      <td>f</td>\n",
       "      <td>f</td>\n",
       "      <td>f</td>\n",
       "      <td>f</td>\n",
       "      <td>322</td>\n",
       "    </tr>\n",
       "    <tr>\n",
       "      <th>4</th>\n",
       "      <td>24.0</td>\n",
       "      <td>M</td>\n",
       "      <td>f</td>\n",
       "      <td>f</td>\n",
       "      <td>f</td>\n",
       "      <td>f</td>\n",
       "      <td>f</td>\n",
       "      <td>f</td>\n",
       "      <td>1.3</td>\n",
       "      <td>t</td>\n",
       "      <td>1.7</td>\n",
       "      <td>t</td>\n",
       "      <td>106.0</td>\n",
       "      <td>1.0</td>\n",
       "      <td>t</td>\n",
       "      <td>106</td>\n",
       "      <td>SVHC</td>\n",
       "      <td>negative.</td>\n",
       "      <td>Private</td>\n",
       "      <td>279636</td>\n",
       "      <td>HS-grad</td>\n",
       "      <td>9</td>\n",
       "      <td>Never-married</td>\n",
       "      <td>Adm-clerical</td>\n",
       "      <td>Not-in-family</td>\n",
       "      <td>White</td>\n",
       "      <td>0</td>\n",
       "      <td>0</td>\n",
       "      <td>50</td>\n",
       "      <td>Guatemala</td>\n",
       "      <td>1993-12-26</td>\n",
       "      <td>t</td>\n",
       "      <td>t</td>\n",
       "      <td>f</td>\n",
       "      <td>f</td>\n",
       "      <td>F</td>\n",
       "      <td>f</td>\n",
       "      <td>f</td>\n",
       "      <td>f</td>\n",
       "      <td>f</td>\n",
       "      <td>f</td>\n",
       "      <td>2462</td>\n",
       "    </tr>\n",
       "    <tr>\n",
       "      <th>5</th>\n",
       "      <td>25.0</td>\n",
       "      <td>F</td>\n",
       "      <td>f</td>\n",
       "      <td>f</td>\n",
       "      <td>f</td>\n",
       "      <td>f</td>\n",
       "      <td>f</td>\n",
       "      <td>f</td>\n",
       "      <td>468.0</td>\n",
       "      <td>t</td>\n",
       "      <td>0.7</td>\n",
       "      <td>t</td>\n",
       "      <td>21.0</td>\n",
       "      <td>1.1</td>\n",
       "      <td>t</td>\n",
       "      <td>19</td>\n",
       "      <td>other</td>\n",
       "      <td>negative.</td>\n",
       "      <td>Private</td>\n",
       "      <td>172577</td>\n",
       "      <td>Some-college</td>\n",
       "      <td>10</td>\n",
       "      <td>Divorced</td>\n",
       "      <td>Adm-clerical</td>\n",
       "      <td>Not-in-family</td>\n",
       "      <td>White</td>\n",
       "      <td>0</td>\n",
       "      <td>0</td>\n",
       "      <td>44</td>\n",
       "      <td>United-States</td>\n",
       "      <td>1992-08-27</td>\n",
       "      <td>t</td>\n",
       "      <td>t</td>\n",
       "      <td>f</td>\n",
       "      <td>f</td>\n",
       "      <td>F</td>\n",
       "      <td>f</td>\n",
       "      <td>f</td>\n",
       "      <td>f</td>\n",
       "      <td>f</td>\n",
       "      <td>f</td>\n",
       "      <td>3047</td>\n",
       "    </tr>\n",
       "  </tbody>\n",
       "</table>\n",
       "</div>"
      ],
      "text/plain": [
       "    age sex query on thyroxine on antithyroid medication thyroid surgery  \\\n",
       "1  53.0   M                  f                         f               f   \n",
       "2  73.0   M                  f                         f               f   \n",
       "3  73.0   F                  f                         f               f   \n",
       "4  24.0   M                  f                         f               f   \n",
       "5  25.0   F                  f                         f               f   \n",
       "\n",
       "  I131 treatment tumor hypopituitary    TSH T3 measured   T3 TT4 measured  \\\n",
       "1              f     f             f    0.3           t  1.2            t   \n",
       "2              f     f             f    2.1           t  1.9            t   \n",
       "3              f     f             f    1.6           t  2.0            t   \n",
       "4              f     f             f    1.3           t  1.7            t   \n",
       "5              f     f             f  468.0           t  0.7            t   \n",
       "\n",
       "     TT4   T4U FTI measured  FTI referral source      class   workclass  \\\n",
       "1  105.0  0.91            t  115            SVHC  negative.     Private   \n",
       "2  118.0   0.9            t  131             SVI  negative.     Private   \n",
       "3  105.0  1.17            t   89             SVI  negative.   Local-gov   \n",
       "4  106.0   1.0            t  106            SVHC  negative.     Private   \n",
       "5   21.0   1.1            t   19           other  negative.     Private   \n",
       "\n",
       "   fnlwgt      education education-num       marital-status  \\\n",
       "1   90021        HS-grad             9   Married-civ-spouse   \n",
       "2   97411        7th-8th             4        Never-married   \n",
       "3   89491        Masters            14             Divorced   \n",
       "4  279636        HS-grad             9        Never-married   \n",
       "5  172577   Some-college            10             Divorced   \n",
       "\n",
       "           occupation    relationship                 race capital-gain  \\\n",
       "1   Handlers-cleaners         Husband                White            0   \n",
       "2   Machine-op-inspct   Not-in-family   Asian-Pac-Islander            0   \n",
       "3     Exec-managerial   Not_in_family                White            0   \n",
       "4        Adm-clerical   Not-in-family                White            0   \n",
       "5        Adm-clerical   Not-in-family                White            0   \n",
       "\n",
       "  capital-loss hours-per-week  native-country date_of_birth T4U measured  \\\n",
       "1            0             40               ?    1965-01-22            t   \n",
       "2            0             45            Laos    1944-04-01            t   \n",
       "3            0             40   United-States      45-03-12            t   \n",
       "4            0             50       Guatemala    1993-12-26            t   \n",
       "5            0             44   United-States    1992-08-27            t   \n",
       "\n",
       "  TSH measured goitre lithium on thyroxine pregnant psych query hyperthyroid  \\\n",
       "1            t      f       f            f        f     f                  f   \n",
       "2            t      f       f            f        f     f                  f   \n",
       "3            t      f       f            f        f     f                  f   \n",
       "4            t      f       f            F        f     f                  f   \n",
       "5            t      f       f            F        f     f                  f   \n",
       "\n",
       "  query hypothyroid sick class_id  \n",
       "1                 f    f      232  \n",
       "2                 f    t     3255  \n",
       "3                 f    f      322  \n",
       "4                 f    f     2462  \n",
       "5                 f    f     3047  "
      ]
     },
     "execution_count": 4,
     "metadata": {},
     "output_type": "execute_result"
    }
   ],
   "source": [
    "train = train.iloc[1:]\n",
    "train = train.drop(train.columns[[0]], axis=1)\n",
    "del train['TBG']\n",
    "del train['TBG measured']\n",
    "del train['medical_info']\n",
    "train[['class','class_id']] = train['class'].str.split('|',expand=True) # class triedu rozdelime na dve\n",
    "train.head()"
   ]
  },
  {
   "cell_type": "code",
   "execution_count": 5,
   "metadata": {},
   "outputs": [
    {
     "data": {
      "text/html": [
       "<div>\n",
       "<style scoped>\n",
       "    .dataframe tbody tr th:only-of-type {\n",
       "        vertical-align: middle;\n",
       "    }\n",
       "\n",
       "    .dataframe tbody tr th {\n",
       "        vertical-align: top;\n",
       "    }\n",
       "\n",
       "    .dataframe thead th {\n",
       "        text-align: right;\n",
       "    }\n",
       "</style>\n",
       "<table border=\"1\" class=\"dataframe\">\n",
       "  <thead>\n",
       "    <tr style=\"text-align: right;\">\n",
       "      <th></th>\n",
       "      <th>age</th>\n",
       "      <th>sex</th>\n",
       "      <th>query on thyroxine</th>\n",
       "      <th>on antithyroid medication</th>\n",
       "      <th>thyroid surgery</th>\n",
       "      <th>I131 treatment</th>\n",
       "      <th>tumor</th>\n",
       "      <th>hypopituitary</th>\n",
       "      <th>TSH</th>\n",
       "      <th>T3 measured</th>\n",
       "      <th>T3</th>\n",
       "      <th>TT4 measured</th>\n",
       "      <th>TT4</th>\n",
       "      <th>T4U</th>\n",
       "      <th>FTI measured</th>\n",
       "      <th>FTI</th>\n",
       "      <th>referral source</th>\n",
       "      <th>class</th>\n",
       "      <th>workclass</th>\n",
       "      <th>fnlwgt</th>\n",
       "      <th>education</th>\n",
       "      <th>education-num</th>\n",
       "      <th>marital-status</th>\n",
       "      <th>occupation</th>\n",
       "      <th>relationship</th>\n",
       "      <th>race</th>\n",
       "      <th>capital-gain</th>\n",
       "      <th>capital-loss</th>\n",
       "      <th>hours-per-week</th>\n",
       "      <th>native-country</th>\n",
       "      <th>date_of_birth</th>\n",
       "      <th>T4U measured</th>\n",
       "      <th>TSH measured</th>\n",
       "      <th>goitre</th>\n",
       "      <th>lithium</th>\n",
       "      <th>on thyroxine</th>\n",
       "      <th>pregnant</th>\n",
       "      <th>psych</th>\n",
       "      <th>query hyperthyroid</th>\n",
       "      <th>query hypothyroid</th>\n",
       "      <th>sick</th>\n",
       "      <th>class_id</th>\n",
       "    </tr>\n",
       "  </thead>\n",
       "  <tbody>\n",
       "    <tr>\n",
       "      <th>1</th>\n",
       "      <td>24</td>\n",
       "      <td>M</td>\n",
       "      <td>f</td>\n",
       "      <td>f</td>\n",
       "      <td>f</td>\n",
       "      <td>f</td>\n",
       "      <td>f</td>\n",
       "      <td>f</td>\n",
       "      <td>3.3</td>\n",
       "      <td>t</td>\n",
       "      <td>1.2</td>\n",
       "      <td>t</td>\n",
       "      <td>70.0</td>\n",
       "      <td>0.87</td>\n",
       "      <td>t</td>\n",
       "      <td>80</td>\n",
       "      <td>SVI</td>\n",
       "      <td>negative.</td>\n",
       "      <td>Private</td>\n",
       "      <td>143766</td>\n",
       "      <td>Bachelors</td>\n",
       "      <td>13</td>\n",
       "      <td>Married-civ-spouse</td>\n",
       "      <td>Prof-specialty</td>\n",
       "      <td>Husband</td>\n",
       "      <td>White</td>\n",
       "      <td>0</td>\n",
       "      <td>0</td>\n",
       "      <td>40</td>\n",
       "      <td>United-States</td>\n",
       "      <td>1993/08/27</td>\n",
       "      <td>t</td>\n",
       "      <td>t</td>\n",
       "      <td>f</td>\n",
       "      <td>f</td>\n",
       "      <td>f</td>\n",
       "      <td>f</td>\n",
       "      <td>f</td>\n",
       "      <td>f</td>\n",
       "      <td>f</td>\n",
       "      <td>f</td>\n",
       "      <td>177</td>\n",
       "    </tr>\n",
       "    <tr>\n",
       "      <th>2</th>\n",
       "      <td>69</td>\n",
       "      <td>F</td>\n",
       "      <td>f</td>\n",
       "      <td>f</td>\n",
       "      <td>f</td>\n",
       "      <td>f</td>\n",
       "      <td>f</td>\n",
       "      <td>f</td>\n",
       "      <td>1.1</td>\n",
       "      <td>t</td>\n",
       "      <td>1.9</td>\n",
       "      <td>t</td>\n",
       "      <td>135.0</td>\n",
       "      <td>0.96</td>\n",
       "      <td>t</td>\n",
       "      <td>141</td>\n",
       "      <td>SVI</td>\n",
       "      <td>negative.</td>\n",
       "      <td>Private</td>\n",
       "      <td>57637</td>\n",
       "      <td>HS-grad</td>\n",
       "      <td>9</td>\n",
       "      <td>Divorced</td>\n",
       "      <td>Other-service</td>\n",
       "      <td>Not_in_family</td>\n",
       "      <td>White</td>\n",
       "      <td>0</td>\n",
       "      <td>0</td>\n",
       "      <td>32</td>\n",
       "      <td>United-States</td>\n",
       "      <td>1949-03-07 00 00 00</td>\n",
       "      <td>t</td>\n",
       "      <td>t</td>\n",
       "      <td>f</td>\n",
       "      <td>f</td>\n",
       "      <td>f</td>\n",
       "      <td>f</td>\n",
       "      <td>f</td>\n",
       "      <td>f</td>\n",
       "      <td>f</td>\n",
       "      <td>f</td>\n",
       "      <td>3191</td>\n",
       "    </tr>\n",
       "    <tr>\n",
       "      <th>3</th>\n",
       "      <td>37</td>\n",
       "      <td>M</td>\n",
       "      <td>f</td>\n",
       "      <td>f</td>\n",
       "      <td>f</td>\n",
       "      <td>f</td>\n",
       "      <td>f</td>\n",
       "      <td>f</td>\n",
       "      <td>2.6</td>\n",
       "      <td>t</td>\n",
       "      <td>2.3</td>\n",
       "      <td>t</td>\n",
       "      <td>68.0</td>\n",
       "      <td>0.94</td>\n",
       "      <td>t</td>\n",
       "      <td>72</td>\n",
       "      <td>other</td>\n",
       "      <td>negative.</td>\n",
       "      <td>Private</td>\n",
       "      <td>244268</td>\n",
       "      <td>11th</td>\n",
       "      <td>7</td>\n",
       "      <td>Married-civ-spouse</td>\n",
       "      <td>Craft-repair</td>\n",
       "      <td>Husband</td>\n",
       "      <td>White</td>\n",
       "      <td>0</td>\n",
       "      <td>1672</td>\n",
       "      <td>48</td>\n",
       "      <td>United-States</td>\n",
       "      <td>1980-09-12</td>\n",
       "      <td>t</td>\n",
       "      <td>t</td>\n",
       "      <td>f</td>\n",
       "      <td>f</td>\n",
       "      <td>f</td>\n",
       "      <td>f</td>\n",
       "      <td>f</td>\n",
       "      <td>f</td>\n",
       "      <td>f</td>\n",
       "      <td>f</td>\n",
       "      <td>3013</td>\n",
       "    </tr>\n",
       "    <tr>\n",
       "      <th>4</th>\n",
       "      <td>46</td>\n",
       "      <td>M</td>\n",
       "      <td>f</td>\n",
       "      <td>f</td>\n",
       "      <td>f</td>\n",
       "      <td>f</td>\n",
       "      <td>f</td>\n",
       "      <td>f</td>\n",
       "      <td>0.25</td>\n",
       "      <td>t</td>\n",
       "      <td>2.0</td>\n",
       "      <td>t</td>\n",
       "      <td>112.0</td>\n",
       "      <td>1.01</td>\n",
       "      <td>t</td>\n",
       "      <td>111</td>\n",
       "      <td>SVI</td>\n",
       "      <td>negative.</td>\n",
       "      <td>Private</td>\n",
       "      <td>606347</td>\n",
       "      <td>7th-8th</td>\n",
       "      <td>4</td>\n",
       "      <td>Married-civ-spouse</td>\n",
       "      <td>Transport-moving</td>\n",
       "      <td>Husband</td>\n",
       "      <td>Black</td>\n",
       "      <td>0</td>\n",
       "      <td>0</td>\n",
       "      <td>40</td>\n",
       "      <td>United-States</td>\n",
       "      <td>15/07/1971</td>\n",
       "      <td>t</td>\n",
       "      <td>t</td>\n",
       "      <td>f</td>\n",
       "      <td>f</td>\n",
       "      <td>f</td>\n",
       "      <td>f</td>\n",
       "      <td>f</td>\n",
       "      <td>f</td>\n",
       "      <td>f</td>\n",
       "      <td>f</td>\n",
       "      <td>701</td>\n",
       "    </tr>\n",
       "    <tr>\n",
       "      <th>5</th>\n",
       "      <td>29</td>\n",
       "      <td>F</td>\n",
       "      <td>f</td>\n",
       "      <td>f</td>\n",
       "      <td>f</td>\n",
       "      <td>f</td>\n",
       "      <td>f</td>\n",
       "      <td>f</td>\n",
       "      <td>1.6</td>\n",
       "      <td>t</td>\n",
       "      <td>2.6</td>\n",
       "      <td>t</td>\n",
       "      <td>89.0</td>\n",
       "      <td>0.98</td>\n",
       "      <td>t</td>\n",
       "      <td>91</td>\n",
       "      <td>other</td>\n",
       "      <td>negative.</td>\n",
       "      <td>Self-emp-inc</td>\n",
       "      <td>342510</td>\n",
       "      <td>Bachelors</td>\n",
       "      <td>13</td>\n",
       "      <td>Married-civ-spouse</td>\n",
       "      <td>Farming-fishing</td>\n",
       "      <td>Wife</td>\n",
       "      <td>White</td>\n",
       "      <td>0</td>\n",
       "      <td>0</td>\n",
       "      <td>60</td>\n",
       "      <td>United-States</td>\n",
       "      <td>1988-08-17</td>\n",
       "      <td>f</td>\n",
       "      <td>t</td>\n",
       "      <td>f</td>\n",
       "      <td>f</td>\n",
       "      <td>f</td>\n",
       "      <td>f</td>\n",
       "      <td>f</td>\n",
       "      <td>f</td>\n",
       "      <td>f</td>\n",
       "      <td>f</td>\n",
       "      <td>541</td>\n",
       "    </tr>\n",
       "  </tbody>\n",
       "</table>\n",
       "</div>"
      ],
      "text/plain": [
       "  age sex query on thyroxine on antithyroid medication thyroid surgery  \\\n",
       "1  24   M                  f                         f               f   \n",
       "2  69   F                  f                         f               f   \n",
       "3  37   M                  f                         f               f   \n",
       "4  46   M                  f                         f               f   \n",
       "5  29   F                  f                         f               f   \n",
       "\n",
       "  I131 treatment tumor hypopituitary   TSH T3 measured   T3 TT4 measured  \\\n",
       "1              f     f             f   3.3           t  1.2            t   \n",
       "2              f     f             f   1.1           t  1.9            t   \n",
       "3              f     f             f   2.6           t  2.3            t   \n",
       "4              f     f             f  0.25           t  2.0            t   \n",
       "5              f     f             f   1.6           t  2.6            t   \n",
       "\n",
       "     TT4   T4U FTI measured  FTI referral source      class      workclass  \\\n",
       "1   70.0  0.87            t   80             SVI  negative.        Private   \n",
       "2  135.0  0.96            t  141             SVI  negative.        Private   \n",
       "3   68.0  0.94            t   72           other  negative.        Private   \n",
       "4  112.0  1.01            t  111             SVI  negative.        Private   \n",
       "5   89.0  0.98            t   91           other  negative.   Self-emp-inc   \n",
       "\n",
       "   fnlwgt   education education-num       marital-status         occupation  \\\n",
       "1  143766   Bachelors            13   Married-civ-spouse     Prof-specialty   \n",
       "2   57637     HS-grad             9             Divorced      Other-service   \n",
       "3  244268        11th             7   Married-civ-spouse       Craft-repair   \n",
       "4  606347     7th-8th             4   Married-civ-spouse   Transport-moving   \n",
       "5  342510   Bachelors            13   Married-civ-spouse    Farming-fishing   \n",
       "\n",
       "     relationship    race capital-gain capital-loss hours-per-week  \\\n",
       "1         Husband   White            0            0             40   \n",
       "2   Not_in_family   White            0            0             32   \n",
       "3         Husband   White            0         1672             48   \n",
       "4         Husband   Black            0            0             40   \n",
       "5            Wife   White            0            0             60   \n",
       "\n",
       "   native-country        date_of_birth T4U measured TSH measured goitre  \\\n",
       "1   United-States           1993/08/27            t            t      f   \n",
       "2   United-States  1949-03-07 00 00 00            t            t      f   \n",
       "3   United-States           1980-09-12            t            t      f   \n",
       "4   United-States           15/07/1971            t            t      f   \n",
       "5   United-States           1988-08-17            f            t      f   \n",
       "\n",
       "  lithium on thyroxine pregnant psych query hyperthyroid query hypothyroid  \\\n",
       "1       f            f        f     f                  f                 f   \n",
       "2       f            f        f     f                  f                 f   \n",
       "3       f            f        f     f                  f                 f   \n",
       "4       f            f        f     f                  f                 f   \n",
       "5       f            f        f     f                  f                 f   \n",
       "\n",
       "  sick class_id  \n",
       "1    f      177  \n",
       "2    f     3191  \n",
       "3    f     3013  \n",
       "4    f      701  \n",
       "5    f      541  "
      ]
     },
     "execution_count": 5,
     "metadata": {},
     "output_type": "execute_result"
    }
   ],
   "source": [
    "test = test.iloc[1:]\n",
    "test = test.drop(test.columns[[0]], axis=1)\n",
    "del test['TBG']\n",
    "del test['TBG measured']\n",
    "del test['medical_info']\n",
    "test[['class','class_id']] = test['class'].str.split('|',expand=True) # class triedu rozdelime na dve\n",
    "test.head()"
   ]
  },
  {
   "cell_type": "markdown",
   "metadata": {},
   "source": [
    "**Oprava AGE**"
   ]
  },
  {
   "cell_type": "code",
   "execution_count": 6,
   "metadata": {},
   "outputs": [],
   "source": [
    "def oprav_age(a):\n",
    "    a = float(a)    \n",
    "    a = abs(a)\n",
    "    a = a%100\n",
    "    \n",
    "    if np.isnan(a):\n",
    "        a = 1000\n",
    "    \n",
    "    a = int(a)\n",
    "    return a"
   ]
  },
  {
   "cell_type": "code",
   "execution_count": 7,
   "metadata": {},
   "outputs": [],
   "source": [
    "def vymaz_riadok_kde_nie_je_vek(df,column):\n",
    "    for i,a in df[column].iteritems():\n",
    "        if a == 1000:\n",
    "            df = df[df[column]!=1000]\n",
    "    return df\n",
    "            "
   ]
  },
  {
   "cell_type": "code",
   "execution_count": 8,
   "metadata": {},
   "outputs": [],
   "source": [
    "train['age'] = train['age'].map(lambda x: oprav_age(x))\n",
    "test['age'] = test['age'].map(lambda x: oprav_age(x))"
   ]
  },
  {
   "cell_type": "code",
   "execution_count": 9,
   "metadata": {},
   "outputs": [],
   "source": [
    "train = vymaz_riadok_kde_nie_je_vek(train,'age') #rozhodli sme sa data s chybajucim vekom odstranit\n",
    "test = vymaz_riadok_kde_nie_je_vek(test,'age') #rozhodli sme sa data s chybajucim vekom odstranit"
   ]
  },
  {
   "cell_type": "markdown",
   "metadata": {},
   "source": [
    "**Oprava kategorickych hodnot**"
   ]
  },
  {
   "cell_type": "code",
   "execution_count": 10,
   "metadata": {},
   "outputs": [],
   "source": [
    "class Transform(TransformerMixin):\n",
    "    def __init__(self, column, source, target):\n",
    "        self.column = column\n",
    "        self.source = source\n",
    "        self.target = target\n",
    "        \n",
    "    def fit(self, df, y=None, **fit_params):\n",
    "        return self\n",
    "    \n",
    "    def transform(self, df, **transform_params):\n",
    "        sample = df[self.column] == self.source\n",
    "        df.loc[sample, self.column] = self.target\n",
    "        return df"
   ]
  },
  {
   "cell_type": "markdown",
   "metadata": {},
   "source": [
    "Oprava **referral source**"
   ]
  },
  {
   "cell_type": "code",
   "execution_count": 11,
   "metadata": {},
   "outputs": [],
   "source": [
    "ppl = Pipeline([\n",
    "              ('name1', Transform('referral source', 'SVHC', 'svhc')),\n",
    "              ('name2', Transform('referral source', 'SVI', 'svi')),\n",
    "              ('name3', Transform('referral source', 'Other', 'other')),\n",
    "              ('name4', Transform('referral source', 'sVHC', 'svhc')),\n",
    "              ('name5', Transform('referral source', 'sVI', 'svi')),\n",
    "              ('name6', Transform('referral source', 'STMW', 'stmw')),\n",
    "              ('name7', Transform('referral source', 'SVHD', 'svhd')),\n",
    "              ('name8', Transform('referral source', 'sTMW', 'stmw')),\n",
    "              ('name9', Transform('referral source', 'sVHD', 'svhd')),\n",
    "      ])\n",
    "\n",
    "model = ppl.fit(train)\n",
    "train = model.transform(train)\n",
    "test = model.transform(test)"
   ]
  },
  {
   "cell_type": "markdown",
   "metadata": {},
   "source": [
    "Oprava **relationship** - odstranenie zaciatocnych bielych znakov a zjednotenie hodnot"
   ]
  },
  {
   "cell_type": "code",
   "execution_count": 12,
   "metadata": {},
   "outputs": [],
   "source": [
    "def strip(x):\n",
    "    return x.strip()\n",
    "\n",
    "train['relationship'] = train['relationship'].map(lambda x: strip(x))\n",
    "test['relationship'] = test['relationship'].map(lambda x: strip(x))\n",
    "\n",
    "line = Pipeline([\n",
    "              ('r1', Transform('relationship', 'Not_in_family', 'Not-in-family')),\n",
    "              ('r2', Transform('relationship', 'Own_child', 'Own-child')),\n",
    "              ('r3', Transform('relationship', 'Other_relative', 'Other-relative')),\n",
    "      ])\n",
    "\n",
    "model = line.fit(train)\n",
    "train = model.transform(train)\n",
    "test = model.transform(test)\n"
   ]
  },
  {
   "cell_type": "markdown",
   "metadata": {},
   "source": [
    "Oprava **workclass** - odstranenie zaciatocnych bielych znakov"
   ]
  },
  {
   "cell_type": "code",
   "execution_count": 13,
   "metadata": {},
   "outputs": [],
   "source": [
    "train['workclass'] = train['workclass'].map(lambda x: strip(x))\n",
    "test['workclass'] = test['workclass'].map(lambda x: strip(x))"
   ]
  },
  {
   "cell_type": "markdown",
   "metadata": {},
   "source": [
    "Oprava **race** - odstranenie zaciatocnych bielych znakov"
   ]
  },
  {
   "cell_type": "code",
   "execution_count": 14,
   "metadata": {},
   "outputs": [],
   "source": [
    "train['race'] = train['race'].map(lambda x: strip(x))\n",
    "test['race'] = test['race'].map(lambda x: strip(x))\n"
   ]
  },
  {
   "cell_type": "markdown",
   "metadata": {},
   "source": [
    "Oprava **native country** - odstranenie zaciatocnych bielych znakov"
   ]
  },
  {
   "cell_type": "code",
   "execution_count": 15,
   "metadata": {},
   "outputs": [],
   "source": [
    "train['native-country'] = train['native-country'].map(lambda x: strip(x))\n",
    "test['native-country'] = test['native-country'].map(lambda x: strip(x))"
   ]
  },
  {
   "cell_type": "markdown",
   "metadata": {},
   "source": [
    "Oprava **date of birth** - zjednotenie formatov datumov"
   ]
  },
  {
   "cell_type": "code",
   "execution_count": 16,
   "metadata": {},
   "outputs": [],
   "source": [
    "from datetime import date\n",
    "import datetime\n",
    "\n",
    "def guess_date(string):\n",
    "    for fmt in [\"%Y/%m/%d\", \"%Y%m%d\", \"%y-%m-%d\", \"%Y-%m-%d\", \"%Y-%m-%d %H:%M:%S\", \"%Y-%m-%d %H %M %S\", \"%d/%m/%Y\"]:\n",
    "        try:\n",
    "            return datetime.datetime.strptime(string, fmt).date()\n",
    "        except ValueError:\n",
    "            continue\n",
    "    raise ValueError(string)\n",
    "    \n",
    "def string_is_nan(x):\n",
    "    if str(x) != 'nan':\n",
    "        return True\n",
    "    else:\n",
    "        return False\n",
    "    "
   ]
  },
  {
   "cell_type": "code",
   "execution_count": 17,
   "metadata": {},
   "outputs": [],
   "source": [
    "train['date_of_birth'] = train['date_of_birth'].map(lambda x: guess_date(str(x)) if string_is_nan(x) else x)\n",
    "test['date_of_birth'] = test['date_of_birth'].map(lambda x: guess_date(str(x)) if string_is_nan(x) else x)\n",
    "    "
   ]
  },
  {
   "cell_type": "markdown",
   "metadata": {},
   "source": [
    "Oprava **on thyroxine** - zjednotenie formatov"
   ]
  },
  {
   "cell_type": "code",
   "execution_count": 18,
   "metadata": {},
   "outputs": [],
   "source": [
    "line = Pipeline([\n",
    "              ('ot1', Transform('on thyroxine', 'F', 'f')),\n",
    "              ('ot2', Transform('on thyroxine', 'T', 't')),\n",
    "              ('ot3', Transform('on thyroxine', 'FALSE', 'f')),\n",
    "              ('ot4', Transform('on thyroxine', 'TRUE', 't')),\n",
    "      ])\n",
    "\n",
    "model = line.fit(train)\n",
    "train = model.transform(train)\n",
    "test = model.transform(test)"
   ]
  },
  {
   "cell_type": "markdown",
   "metadata": {},
   "source": [
    "## Chybajuce a vychylene hodnoty"
   ]
  },
  {
   "cell_type": "markdown",
   "metadata": {},
   "source": [
    "Transformacia numerickych hodnot pri TSH, TT4, T4U, FTI a T3 na float. Predtym nez pouzijeme mapovaciu funkciu, musime doplnit chybajuce data"
   ]
  },
  {
   "cell_type": "code",
   "execution_count": 19,
   "metadata": {},
   "outputs": [],
   "source": [
    "def check_if_number(inputString):\n",
    "    return any(char.replace('.','',1).isdigit() for char in str(inputString))\n",
    "\n",
    "def map_to_float(x):\n",
    "    if(check_if_number(x)):\n",
    "        return float(x)\n",
    "    elif(x=='?'):\n",
    "        return float('NaN')"
   ]
  },
  {
   "cell_type": "markdown",
   "metadata": {},
   "source": [
    "**TSH**"
   ]
  },
  {
   "cell_type": "code",
   "execution_count": 20,
   "metadata": {},
   "outputs": [],
   "source": [
    "train['TSH'] = train['TSH'].map(lambda x: map_to_float(x))\n",
    "test['TSH'] = test['TSH'].map(lambda x: map_to_float(x))"
   ]
  },
  {
   "cell_type": "code",
   "execution_count": 21,
   "metadata": {},
   "outputs": [],
   "source": [
    "import statistics\n",
    "median_train = statistics.median(train['TSH'].value_counts())\n",
    "median_test = statistics.median(test['TSH'].value_counts())\n",
    "train['TSH'] = train['TSH'].fillna(median_train)\n",
    "test['TSH'] = test['TSH'].fillna(median_train)"
   ]
  },
  {
   "cell_type": "code",
   "execution_count": 22,
   "metadata": {},
   "outputs": [
    {
     "data": {
      "text/plain": [
       "<matplotlib.axes._subplots.AxesSubplot at 0x19df41bff28>"
      ]
     },
     "execution_count": 22,
     "metadata": {},
     "output_type": "execute_result"
    },
    {
     "data": {
      "image/png": "[encoded data removed]",
      "text/plain": [
       "<matplotlib.figure.Figure at 0x19df41c2278>"
      ]
     },
     "metadata": {},
     "output_type": "display_data"
    }
   ],
   "source": [
    "train['TSH'].value_counts().plot(kind='line')"
   ]
  },
  {
   "cell_type": "code",
   "execution_count": 23,
   "metadata": {},
   "outputs": [
    {
     "data": {
      "image/png": "[encoded data removed]",
      "text/plain": [
       "<matplotlib.figure.Figure at 0x19df426f630>"
      ]
     },
     "metadata": {},
     "output_type": "display_data"
    }
   ],
   "source": [
    "from scipy.stats import boxcox\n",
    "transformed, att = boxcox(train['TSH'])\n",
    "pom = pd.Series(transformed).hist(bins=50)"
   ]
  },
  {
   "cell_type": "code",
   "execution_count": 24,
   "metadata": {},
   "outputs": [
    {
     "data": {
      "image/png": "[encoded data removed]",
      "text/plain": [
       "<matplotlib.figure.Figure at 0x19df42ca470>"
      ]
     },
     "metadata": {},
     "output_type": "display_data"
    }
   ],
   "source": [
    "from scipy.stats import boxcox\n",
    "transformed, att = boxcox(test['TSH'])\n",
    "pom = pd.Series(transformed).hist(bins=50)"
   ]
  },
  {
   "cell_type": "markdown",
   "metadata": {},
   "source": [
    "**TT4**"
   ]
  },
  {
   "cell_type": "code",
   "execution_count": 25,
   "metadata": {},
   "outputs": [],
   "source": [
    "train['TT4'] = train['TT4'].map(lambda x: map_to_float(x))\n",
    "test['TT4'] = test['TT4'].map(lambda x: map_to_float(x))"
   ]
  },
  {
   "cell_type": "code",
   "execution_count": 26,
   "metadata": {},
   "outputs": [
    {
     "name": "stderr",
     "output_type": "stream",
     "text": [
      "C:\\Continuum\\anaconda3\\lib\\site-packages\\h5py\\__init__.py:36: FutureWarning: Conversion of the second argument of issubdtype from `float` to `np.floating` is deprecated. In future, it will be treated as `np.float64 == np.dtype(float).type`.\n",
      "  from ._conv import register_converters as _register_converters\n",
      "Using TensorFlow backend.\n",
      "C:\\Continuum\\anaconda3\\lib\\site-packages\\ipykernel_launcher.py:2: FutureWarning: reshape is deprecated and will raise in a subsequent release. Please use .values.reshape(...) instead\n",
      "  \n"
     ]
    },
    {
     "name": "stdout",
     "output_type": "stream",
     "text": [
      "Imputing row 1/2799 with 0 missing, elapsed time: 1.017\n",
      "Imputing row 101/2799 with 0 missing, elapsed time: 1.017\n",
      "Imputing row 201/2799 with 0 missing, elapsed time: 1.018\n",
      "Imputing row 301/2799 with 0 missing, elapsed time: 1.019\n",
      "Imputing row 401/2799 with 1 missing, elapsed time: 1.020\n",
      "Imputing row 501/2799 with 0 missing, elapsed time: 1.020\n",
      "Imputing row 601/2799 with 0 missing, elapsed time: 1.021\n",
      "Imputing row 701/2799 with 0 missing, elapsed time: 1.021\n",
      "Imputing row 801/2799 with 0 missing, elapsed time: 1.022\n",
      "Imputing row 901/2799 with 0 missing, elapsed time: 1.023\n",
      "Imputing row 1001/2799 with 0 missing, elapsed time: 1.023\n",
      "Imputing row 1101/2799 with 0 missing, elapsed time: 1.024\n",
      "Imputing row 1201/2799 with 0 missing, elapsed time: 1.025\n",
      "Imputing row 1301/2799 with 0 missing, elapsed time: 1.025\n",
      "Imputing row 1401/2799 with 0 missing, elapsed time: 1.026\n",
      "Imputing row 1501/2799 with 0 missing, elapsed time: 1.027\n",
      "Imputing row 1601/2799 with 0 missing, elapsed time: 1.027\n",
      "Imputing row 1701/2799 with 0 missing, elapsed time: 1.027\n",
      "Imputing row 1801/2799 with 0 missing, elapsed time: 1.028\n",
      "Imputing row 1901/2799 with 0 missing, elapsed time: 1.028\n",
      "Imputing row 2001/2799 with 0 missing, elapsed time: 1.029\n",
      "Imputing row 2101/2799 with 0 missing, elapsed time: 1.029\n",
      "Imputing row 2201/2799 with 0 missing, elapsed time: 1.030\n",
      "Imputing row 2301/2799 with 0 missing, elapsed time: 1.030\n",
      "Imputing row 2401/2799 with 0 missing, elapsed time: 1.031\n",
      "Imputing row 2501/2799 with 0 missing, elapsed time: 1.031\n",
      "Imputing row 2601/2799 with 0 missing, elapsed time: 1.031\n",
      "Imputing row 2701/2799 with 0 missing, elapsed time: 1.032\n",
      "[KNN] Warning: 184/2799 still missing after imputation, replacing with 0\n",
      "Imputing row 1/972 with 0 missing, elapsed time: 0.140\n",
      "Imputing row 101/972 with 0 missing, elapsed time: 0.140\n",
      "Imputing row 201/972 with 0 missing, elapsed time: 0.140\n",
      "Imputing row 301/972 with 0 missing, elapsed time: 0.141\n",
      "Imputing row 401/972 with 0 missing, elapsed time: 0.141\n",
      "Imputing row 501/972 with 0 missing, elapsed time: 0.142\n",
      "Imputing row 601/972 with 0 missing, elapsed time: 0.142\n",
      "Imputing row 701/972 with 0 missing, elapsed time: 0.143\n",
      "Imputing row 801/972 with 0 missing, elapsed time: 0.143\n",
      "Imputing row 901/972 with 0 missing, elapsed time: 0.144\n",
      "[KNN] Warning: 47/972 still missing after imputation, replacing with 0\n"
     ]
    },
    {
     "name": "stderr",
     "output_type": "stream",
     "text": [
      "C:\\Continuum\\anaconda3\\lib\\site-packages\\ipykernel_launcher.py:3: FutureWarning: reshape is deprecated and will raise in a subsequent release. Please use .values.reshape(...) instead\n",
      "  This is separate from the ipykernel package so we can avoid doing imports until\n"
     ]
    }
   ],
   "source": [
    "from fancyimpute import KNN \n",
    "train['TT4'] = KNN(k=10).complete(train['TT4'].reshape(-1,1))\n",
    "test['TT4'] = KNN(k=10).complete(test['TT4'].reshape(-1,1))"
   ]
  },
  {
   "cell_type": "code",
   "execution_count": 27,
   "metadata": {},
   "outputs": [],
   "source": [
    "train['TT4'] = train['TT4'].ravel()\n",
    "test['TT4'] = test['TT4'].ravel()"
   ]
  },
  {
   "cell_type": "code",
   "execution_count": 28,
   "metadata": {},
   "outputs": [],
   "source": [
    "train['TT4'] = pd.Series(train['TT4'])\n",
    "test['TT4'] = pd.Series(test['TT4'])"
   ]
  },
  {
   "cell_type": "code",
   "execution_count": 29,
   "metadata": {},
   "outputs": [],
   "source": [
    "train['TT4'] = train['TT4'].map(lambda x: train['TT4'].mean() if x == 0.0 else x)\n",
    "test['TT4'] = test['TT4'].map(lambda x: test['TT4'].mean() if x == 0.0 else x)"
   ]
  },
  {
   "cell_type": "code",
   "execution_count": 30,
   "metadata": {},
   "outputs": [
    {
     "data": {
      "image/png": "[encoded data removed]",
      "text/plain": [
       "<matplotlib.figure.Figure at 0x19df8020f28>"
      ]
     },
     "metadata": {},
     "output_type": "display_data"
    }
   ],
   "source": [
    "from scipy.stats import boxcox\n",
    "transformed, att = boxcox(train['TT4'])\n",
    "pom = pd.Series(transformed).hist(bins=50)"
   ]
  },
  {
   "cell_type": "code",
   "execution_count": 31,
   "metadata": {},
   "outputs": [
    {
     "data": {
      "image/png": "[encoded data removed]",
      "text/plain": [
       "<matplotlib.figure.Figure at 0x19df8056ef0>"
      ]
     },
     "metadata": {},
     "output_type": "display_data"
    }
   ],
   "source": [
    "from scipy.stats import boxcox\n",
    "transformed, att = boxcox(test['TT4'])\n",
    "pom = pd.Series(transformed).hist(bins=50)"
   ]
  },
  {
   "cell_type": "markdown",
   "metadata": {},
   "source": [
    "**FTI**"
   ]
  },
  {
   "cell_type": "code",
   "execution_count": 32,
   "metadata": {},
   "outputs": [],
   "source": [
    "train['FTI'] = train['FTI'].map(lambda x: map_to_float(x))\n",
    "test['FTI'] = test['FTI'].map(lambda x: map_to_float(x))"
   ]
  },
  {
   "cell_type": "code",
   "execution_count": 33,
   "metadata": {},
   "outputs": [
    {
     "name": "stderr",
     "output_type": "stream",
     "text": [
      "C:\\Continuum\\anaconda3\\lib\\site-packages\\ipykernel_launcher.py:2: FutureWarning: reshape is deprecated and will raise in a subsequent release. Please use .values.reshape(...) instead\n",
      "  \n"
     ]
    },
    {
     "name": "stdout",
     "output_type": "stream",
     "text": [
      "Imputing row 1/2799 with 0 missing, elapsed time: 0.995\n",
      "Imputing row 101/2799 with 0 missing, elapsed time: 0.996\n",
      "Imputing row 201/2799 with 0 missing, elapsed time: 0.996\n",
      "Imputing row 301/2799 with 0 missing, elapsed time: 0.997\n",
      "Imputing row 401/2799 with 1 missing, elapsed time: 0.997\n",
      "Imputing row 501/2799 with 0 missing, elapsed time: 0.998\n",
      "Imputing row 601/2799 with 0 missing, elapsed time: 0.998\n",
      "Imputing row 701/2799 with 0 missing, elapsed time: 0.998\n",
      "Imputing row 801/2799 with 0 missing, elapsed time: 0.999\n",
      "Imputing row 901/2799 with 0 missing, elapsed time: 0.999\n",
      "Imputing row 1001/2799 with 0 missing, elapsed time: 1.000\n",
      "Imputing row 1101/2799 with 0 missing, elapsed time: 1.000\n",
      "Imputing row 1201/2799 with 0 missing, elapsed time: 1.000\n",
      "Imputing row 1301/2799 with 0 missing, elapsed time: 1.001\n",
      "Imputing row 1401/2799 with 0 missing, elapsed time: 1.001\n",
      "Imputing row 1501/2799 with 0 missing, elapsed time: 1.001\n",
      "Imputing row 1601/2799 with 0 missing, elapsed time: 1.002\n",
      "Imputing row 1701/2799 with 0 missing, elapsed time: 1.002\n",
      "Imputing row 1801/2799 with 1 missing, elapsed time: 1.003\n",
      "Imputing row 1901/2799 with 0 missing, elapsed time: 1.003\n",
      "Imputing row 2001/2799 with 0 missing, elapsed time: 1.004\n",
      "Imputing row 2101/2799 with 0 missing, elapsed time: 1.004\n",
      "Imputing row 2201/2799 with 0 missing, elapsed time: 1.004\n",
      "Imputing row 2301/2799 with 0 missing, elapsed time: 1.005\n",
      "Imputing row 2401/2799 with 0 missing, elapsed time: 1.005\n",
      "Imputing row 2501/2799 with 0 missing, elapsed time: 1.006\n",
      "Imputing row 2601/2799 with 0 missing, elapsed time: 1.006\n",
      "Imputing row 2701/2799 with 0 missing, elapsed time: 1.006\n",
      "[KNN] Warning: 295/2799 still missing after imputation, replacing with 0\n",
      "Imputing row 1/972 with 0 missing, elapsed time: 0.131\n",
      "Imputing row 101/972 with 0 missing, elapsed time: 0.131\n",
      "Imputing row 201/972 with 0 missing, elapsed time: 0.132\n",
      "Imputing row 301/972 with 1 missing, elapsed time: 0.132\n",
      "Imputing row 401/972 with 0 missing, elapsed time: 0.132\n",
      "Imputing row 501/972 with 0 missing, elapsed time: 0.133\n",
      "Imputing row 601/972 with 0 missing, elapsed time: 0.133\n",
      "Imputing row 701/972 with 0 missing, elapsed time: 0.134\n",
      "Imputing row 801/972 with 0 missing, elapsed time: 0.135\n",
      "Imputing row 901/972 with 0 missing, elapsed time: 0.135\n",
      "[KNN] Warning: 90/972 still missing after imputation, replacing with 0\n"
     ]
    },
    {
     "name": "stderr",
     "output_type": "stream",
     "text": [
      "C:\\Continuum\\anaconda3\\lib\\site-packages\\ipykernel_launcher.py:3: FutureWarning: reshape is deprecated and will raise in a subsequent release. Please use .values.reshape(...) instead\n",
      "  This is separate from the ipykernel package so we can avoid doing imports until\n"
     ]
    }
   ],
   "source": [
    "from fancyimpute import KNN \n",
    "train['FTI'] = KNN(k=10).complete(train['FTI'].reshape(-1,1))\n",
    "test['FTI'] = KNN(k=10).complete(test['FTI'].reshape(-1,1))"
   ]
  },
  {
   "cell_type": "code",
   "execution_count": 34,
   "metadata": {},
   "outputs": [],
   "source": [
    "train['FTI'] = train['FTI'].ravel()\n",
    "test['FTI'] = test['FTI'].ravel()\n",
    "train['FTI'] = pd.Series(train['FTI'])\n",
    "test['FTI'] = pd.Series(test['FTI'])"
   ]
  },
  {
   "cell_type": "code",
   "execution_count": 35,
   "metadata": {},
   "outputs": [],
   "source": [
    "train['FTI'] = train['FTI'].map(lambda x: train['FTI'].mean() if x == 0.0 else x)\n",
    "test['FTI'] = test['FTI'].map(lambda x: test['FTI'].mean() if x == 0.0 else x)"
   ]
  },
  {
   "cell_type": "code",
   "execution_count": 36,
   "metadata": {},
   "outputs": [
    {
     "data": {
      "image/png": "[encoded data removed]",
      "text/plain": [
       "<matplotlib.figure.Figure at 0x19df44566a0>"
      ]
     },
     "metadata": {},
     "output_type": "display_data"
    }
   ],
   "source": [
    "from scipy.stats import boxcox\n",
    "transformed, att = boxcox(train['FTI'])\n",
    "pom = pd.Series(transformed).hist(bins=50)"
   ]
  },
  {
   "cell_type": "code",
   "execution_count": 37,
   "metadata": {},
   "outputs": [
    {
     "data": {
      "image/png": "[encoded data removed]",
      "text/plain": [
       "<matplotlib.figure.Figure at 0x19df4586518>"
      ]
     },
     "metadata": {},
     "output_type": "display_data"
    }
   ],
   "source": [
    "from scipy.stats import boxcox\n",
    "transformed, att = boxcox(test['FTI'])\n",
    "pom = pd.Series(transformed).hist(bins=50)"
   ]
  },
  {
   "cell_type": "markdown",
   "metadata": {},
   "source": [
    "**T4U**"
   ]
  },
  {
   "cell_type": "code",
   "execution_count": 38,
   "metadata": {},
   "outputs": [
    {
     "name": "stderr",
     "output_type": "stream",
     "text": [
      "C:\\Continuum\\anaconda3\\lib\\site-packages\\ipykernel_launcher.py:5: FutureWarning: reshape is deprecated and will raise in a subsequent release. Please use .values.reshape(...) instead\n",
      "  \"\"\"\n"
     ]
    },
    {
     "name": "stdout",
     "output_type": "stream",
     "text": [
      "Imputing row 1/2799 with 0 missing, elapsed time: 0.980\n",
      "Imputing row 101/2799 with 0 missing, elapsed time: 0.981\n",
      "Imputing row 201/2799 with 0 missing, elapsed time: 0.982\n",
      "Imputing row 301/2799 with 0 missing, elapsed time: 0.983\n",
      "Imputing row 401/2799 with 1 missing, elapsed time: 0.983\n",
      "Imputing row 501/2799 with 0 missing, elapsed time: 0.984\n",
      "Imputing row 601/2799 with 0 missing, elapsed time: 0.984\n",
      "Imputing row 701/2799 with 0 missing, elapsed time: 0.984\n",
      "Imputing row 801/2799 with 0 missing, elapsed time: 0.985\n",
      "Imputing row 901/2799 with 0 missing, elapsed time: 0.985\n",
      "Imputing row 1001/2799 with 0 missing, elapsed time: 0.986\n",
      "Imputing row 1101/2799 with 0 missing, elapsed time: 0.986\n",
      "Imputing row 1201/2799 with 0 missing, elapsed time: 0.986\n",
      "Imputing row 1301/2799 with 0 missing, elapsed time: 0.987\n",
      "Imputing row 1401/2799 with 0 missing, elapsed time: 0.987\n",
      "Imputing row 1501/2799 with 0 missing, elapsed time: 0.988\n",
      "Imputing row 1601/2799 with 0 missing, elapsed time: 0.988\n",
      "Imputing row 1701/2799 with 0 missing, elapsed time: 0.989\n",
      "Imputing row 1801/2799 with 1 missing, elapsed time: 0.989\n",
      "Imputing row 1901/2799 with 0 missing, elapsed time: 0.990\n",
      "Imputing row 2001/2799 with 0 missing, elapsed time: 0.990\n",
      "Imputing row 2101/2799 with 0 missing, elapsed time: 0.990\n",
      "Imputing row 2201/2799 with 0 missing, elapsed time: 0.991\n",
      "Imputing row 2301/2799 with 0 missing, elapsed time: 0.991\n",
      "Imputing row 2401/2799 with 0 missing, elapsed time: 0.992\n",
      "Imputing row 2501/2799 with 0 missing, elapsed time: 0.992\n",
      "Imputing row 2601/2799 with 0 missing, elapsed time: 0.992\n",
      "Imputing row 2701/2799 with 0 missing, elapsed time: 0.993\n",
      "[KNN] Warning: 297/2799 still missing after imputation, replacing with 0\n",
      "Imputing row 1/972 with 0 missing, elapsed time: 0.139\n",
      "Imputing row 101/972 with 0 missing, elapsed time: 0.139\n",
      "Imputing row 201/972 with 0 missing, elapsed time: 0.140\n",
      "Imputing row 301/972 with 1 missing, elapsed time: 0.140\n",
      "Imputing row 401/972 with 0 missing, elapsed time: 0.141\n",
      "Imputing row 501/972 with 0 missing, elapsed time: 0.141\n",
      "Imputing row 601/972 with 0 missing, elapsed time: 0.142\n",
      "Imputing row 701/972 with 0 missing, elapsed time: 0.143\n",
      "Imputing row 801/972 with 0 missing, elapsed time: 0.143\n",
      "Imputing row 901/972 with 0 missing, elapsed time: 0.144\n",
      "[KNN] Warning: 90/972 still missing after imputation, replacing with 0\n"
     ]
    },
    {
     "name": "stderr",
     "output_type": "stream",
     "text": [
      "C:\\Continuum\\anaconda3\\lib\\site-packages\\ipykernel_launcher.py:6: FutureWarning: reshape is deprecated and will raise in a subsequent release. Please use .values.reshape(...) instead\n",
      "  \n"
     ]
    }
   ],
   "source": [
    "train['T4U'] = train['T4U'].map(lambda x: map_to_float(x))\n",
    "test['T4U'] = test['T4U'].map(lambda x: map_to_float(x))\n",
    "\n",
    "from fancyimpute import KNN \n",
    "train['T4U'] = KNN(k=10).complete(train['T4U'].reshape(-1,1))\n",
    "test['T4U'] = KNN(k=10).complete(test['T4U'].reshape(-1,1))"
   ]
  },
  {
   "cell_type": "code",
   "execution_count": 39,
   "metadata": {},
   "outputs": [],
   "source": [
    "train['T4U'] = train['T4U'].ravel()\n",
    "test['T4U'] = test['T4U'].ravel()\n",
    "train['T4U'] = pd.Series(train['T4U'])\n",
    "test['T4U'] = pd.Series(test['T4U'])\n",
    "\n",
    "train['T4U'] = train['T4U'].map(lambda x: train['T4U'].mean() if x == 0.0 else x)\n",
    "test['T4U'] = test['T4U'].map(lambda x: test['T4U'].mean() if x == 0.0 else x)"
   ]
  },
  {
   "cell_type": "code",
   "execution_count": 40,
   "metadata": {},
   "outputs": [
    {
     "data": {
      "image/png": "[encoded data removed]",
      "text/plain": [
       "<matplotlib.figure.Figure at 0x19df8107d68>"
      ]
     },
     "metadata": {},
     "output_type": "display_data"
    }
   ],
   "source": [
    "from scipy.stats import boxcox\n",
    "transformed, att = boxcox(test['T4U'])\n",
    "pom = pd.Series(transformed).hist(bins=50)"
   ]
  },
  {
   "cell_type": "code",
   "execution_count": 41,
   "metadata": {},
   "outputs": [
    {
     "data": {
      "image/png": "[encoded data removed]",
      "text/plain": [
       "<matplotlib.figure.Figure at 0x19df4129240>"
      ]
     },
     "metadata": {},
     "output_type": "display_data"
    }
   ],
   "source": [
    "from scipy.stats import boxcox\n",
    "transformed, att = boxcox(train['T4U'])\n",
    "pom = pd.Series(transformed).hist(bins=50)"
   ]
  },
  {
   "cell_type": "markdown",
   "metadata": {},
   "source": [
    "**T3**"
   ]
  },
  {
   "cell_type": "code",
   "execution_count": 42,
   "metadata": {},
   "outputs": [
    {
     "name": "stderr",
     "output_type": "stream",
     "text": [
      "C:\\Continuum\\anaconda3\\lib\\site-packages\\ipykernel_launcher.py:5: FutureWarning: reshape is deprecated and will raise in a subsequent release. Please use .values.reshape(...) instead\n",
      "  \"\"\"\n"
     ]
    },
    {
     "name": "stdout",
     "output_type": "stream",
     "text": [
      "Imputing row 1/2799 with 0 missing, elapsed time: 0.958\n",
      "Imputing row 101/2799 with 0 missing, elapsed time: 0.959\n",
      "Imputing row 201/2799 with 0 missing, elapsed time: 0.959\n",
      "Imputing row 301/2799 with 0 missing, elapsed time: 0.960\n",
      "Imputing row 401/2799 with 1 missing, elapsed time: 0.960\n",
      "Imputing row 501/2799 with 0 missing, elapsed time: 0.961\n",
      "Imputing row 601/2799 with 0 missing, elapsed time: 0.962\n",
      "Imputing row 701/2799 with 0 missing, elapsed time: 0.963\n",
      "Imputing row 801/2799 with 0 missing, elapsed time: 0.964\n",
      "Imputing row 901/2799 with 1 missing, elapsed time: 0.964\n",
      "Imputing row 1001/2799 with 0 missing, elapsed time: 0.965\n",
      "Imputing row 1101/2799 with 0 missing, elapsed time: 0.965\n",
      "Imputing row 1201/2799 with 0 missing, elapsed time: 0.966\n",
      "Imputing row 1301/2799 with 0 missing, elapsed time: 0.966\n",
      "Imputing row 1401/2799 with 0 missing, elapsed time: 0.967\n",
      "Imputing row 1501/2799 with 1 missing, elapsed time: 0.968\n",
      "Imputing row 1601/2799 with 0 missing, elapsed time: 0.969\n",
      "Imputing row 1701/2799 with 0 missing, elapsed time: 0.969\n",
      "Imputing row 1801/2799 with 0 missing, elapsed time: 0.970\n",
      "Imputing row 1901/2799 with 1 missing, elapsed time: 0.970\n",
      "Imputing row 2001/2799 with 0 missing, elapsed time: 0.971\n",
      "Imputing row 2101/2799 with 0 missing, elapsed time: 0.971\n",
      "Imputing row 2201/2799 with 0 missing, elapsed time: 0.972\n",
      "Imputing row 2301/2799 with 1 missing, elapsed time: 0.972\n",
      "Imputing row 2401/2799 with 0 missing, elapsed time: 0.972\n",
      "Imputing row 2501/2799 with 0 missing, elapsed time: 0.973\n",
      "Imputing row 2601/2799 with 0 missing, elapsed time: 0.973\n",
      "Imputing row 2701/2799 with 0 missing, elapsed time: 0.974\n",
      "[KNN] Warning: 585/2799 still missing after imputation, replacing with 0\n",
      "Imputing row 1/972 with 0 missing, elapsed time: 0.126\n",
      "Imputing row 101/972 with 0 missing, elapsed time: 0.127\n",
      "Imputing row 201/972 with 0 missing, elapsed time: 0.127\n",
      "Imputing row 301/972 with 0 missing, elapsed time: 0.128\n",
      "Imputing row 401/972 with 0 missing, elapsed time: 0.129\n",
      "Imputing row 501/972 with 1 missing, elapsed time: 0.129\n",
      "Imputing row 601/972 with 0 missing, elapsed time: 0.129\n",
      "Imputing row 701/972 with 0 missing, elapsed time: 0.130\n",
      "Imputing row 801/972 with 0 missing, elapsed time: 0.131\n",
      "Imputing row 901/972 with 0 missing, elapsed time: 0.132\n",
      "[KNN] Warning: 184/972 still missing after imputation, replacing with 0\n"
     ]
    },
    {
     "name": "stderr",
     "output_type": "stream",
     "text": [
      "C:\\Continuum\\anaconda3\\lib\\site-packages\\ipykernel_launcher.py:6: FutureWarning: reshape is deprecated and will raise in a subsequent release. Please use .values.reshape(...) instead\n",
      "  \n"
     ]
    }
   ],
   "source": [
    "train['T3'] = train['T3'].map(lambda x: map_to_float(x))\n",
    "test['T3'] = test['T3'].map(lambda x: map_to_float(x))\n",
    "\n",
    "from fancyimpute import KNN \n",
    "train['T3'] = KNN(k=10).complete(train['T3'].reshape(-1,1))\n",
    "test['T3'] = KNN(k=10).complete(test['T3'].reshape(-1,1))"
   ]
  },
  {
   "cell_type": "code",
   "execution_count": 43,
   "metadata": {},
   "outputs": [],
   "source": [
    "train['T3'] = train['T3'].ravel()\n",
    "test['T3'] = test['T3'].ravel()\n",
    "train['T3'] = pd.Series(train['T3'])\n",
    "test['T3'] = pd.Series(test['T3'])\n",
    "\n",
    "train['T3'] = train['T3'].map(lambda x: train['T3'].mean() if x == 0.0 else x)\n",
    "test['T3'] = test['T3'].map(lambda x: test['T3'].mean() if x == 0.0 else x)"
   ]
  },
  {
   "cell_type": "code",
   "execution_count": 44,
   "metadata": {},
   "outputs": [
    {
     "data": {
      "image/png": "[encoded data removed]",
      "text/plain": [
       "<matplotlib.figure.Figure at 0x19d812305c0>"
      ]
     },
     "metadata": {},
     "output_type": "display_data"
    }
   ],
   "source": [
    "from scipy.stats import boxcox\n",
    "transformed, att = boxcox(train['T3'])\n",
    "pom = pd.Series(transformed).hist(bins=50)"
   ]
  },
  {
   "cell_type": "code",
   "execution_count": 45,
   "metadata": {},
   "outputs": [
    {
     "data": {
      "image/png": "[encoded data removed]",
      "text/plain": [
       "<matplotlib.figure.Figure at 0x19df41241d0>"
      ]
     },
     "metadata": {},
     "output_type": "display_data"
    }
   ],
   "source": [
    "from scipy.stats import boxcox\n",
    "transformed, att = boxcox(test['T3'])\n",
    "pom = pd.Series(transformed).hist(bins=50)"
   ]
  },
  {
   "cell_type": "code",
   "execution_count": 46,
   "metadata": {},
   "outputs": [],
   "source": [
    "train['fnlwgt']  = train['fnlwgt'].map(lambda x: float(x))\n",
    "test['fnlwgt']  = test['fnlwgt'].map(lambda x: float(x))"
   ]
  },
  {
   "cell_type": "markdown",
   "metadata": {},
   "source": [
    "### Korelacie na trenovacich datach"
   ]
  },
  {
   "cell_type": "code",
   "execution_count": 47,
   "metadata": {},
   "outputs": [],
   "source": [
    "#train['class'] = train['class'].map(lambda x: 1 if(x=='sick.') else 0)\n",
    "#test['class'] = test['class'].map(lambda x: 1 if(x=='sick.') else 0)"
   ]
  },
  {
   "cell_type": "code",
   "execution_count": 48,
   "metadata": {},
   "outputs": [],
   "source": [
    "df = train[['TT4', 'T4U', 'FTI', 'T3', 'TSH','fnlwgt']]\n",
    "df_class = train['class']"
   ]
  },
  {
   "cell_type": "code",
   "execution_count": 78,
   "metadata": {},
   "outputs": [
    {
     "data": {
      "text/plain": [
       "True"
      ]
     },
     "execution_count": 78,
     "metadata": {},
     "output_type": "execute_result"
    }
   ],
   "source": [
    "df.corr()\n",
    "pd.set_option('display.max_rows', 2800)\n",
    "ex = train.isin(['?', 'nan', 'Nan', '??'])\n",
    "train.isnull().any().any()"
   ]
  },
  {
   "cell_type": "code",
   "execution_count": 50,
   "metadata": {},
   "outputs": [
    {
     "ename": "KeyError",
     "evalue": "'class'",
     "output_type": "error",
     "traceback": [
      "\u001b[1;31m---------------------------------------------------------------------------\u001b[0m",
      "\u001b[1;31mKeyError\u001b[0m                                  Traceback (most recent call last)",
      "\u001b[1;32mC:\\Continuum\\anaconda3\\lib\\site-packages\\pandas\\core\\indexes\\base.py\u001b[0m in \u001b[0;36mget_loc\u001b[1;34m(self, key, method, tolerance)\u001b[0m\n\u001b[0;32m   2524\u001b[0m             \u001b[1;32mtry\u001b[0m\u001b[1;33m:\u001b[0m\u001b[1;33m\u001b[0m\u001b[0m\n\u001b[1;32m-> 2525\u001b[1;33m                 \u001b[1;32mreturn\u001b[0m \u001b[0mself\u001b[0m\u001b[1;33m.\u001b[0m\u001b[0m_engine\u001b[0m\u001b[1;33m.\u001b[0m\u001b[0mget_loc\u001b[0m\u001b[1;33m(\u001b[0m\u001b[0mkey\u001b[0m\u001b[1;33m)\u001b[0m\u001b[1;33m\u001b[0m\u001b[0m\n\u001b[0m\u001b[0;32m   2526\u001b[0m             \u001b[1;32mexcept\u001b[0m \u001b[0mKeyError\u001b[0m\u001b[1;33m:\u001b[0m\u001b[1;33m\u001b[0m\u001b[0m\n",
      "\u001b[1;32mpandas/_libs/index.pyx\u001b[0m in \u001b[0;36mpandas._libs.index.IndexEngine.get_loc\u001b[1;34m()\u001b[0m\n",
      "\u001b[1;32mpandas/_libs/index.pyx\u001b[0m in \u001b[0;36mpandas._libs.index.IndexEngine.get_loc\u001b[1;34m()\u001b[0m\n",
      "\u001b[1;32mpandas/_libs/hashtable_class_helper.pxi\u001b[0m in \u001b[0;36mpandas._libs.hashtable.PyObjectHashTable.get_item\u001b[1;34m()\u001b[0m\n",
      "\u001b[1;32mpandas/_libs/hashtable_class_helper.pxi\u001b[0m in \u001b[0;36mpandas._libs.hashtable.PyObjectHashTable.get_item\u001b[1;34m()\u001b[0m\n",
      "\u001b[1;31mKeyError\u001b[0m: 'class'",
      "\nDuring handling of the above exception, another exception occurred:\n",
      "\u001b[1;31mKeyError\u001b[0m                                  Traceback (most recent call last)",
      "\u001b[1;32m<ipython-input-50-4c987cb9df7b>\u001b[0m in \u001b[0;36m<module>\u001b[1;34m()\u001b[0m\n\u001b[1;32m----> 1\u001b[1;33m \u001b[0msb\u001b[0m\u001b[1;33m.\u001b[0m\u001b[0mpairplot\u001b[0m\u001b[1;33m(\u001b[0m\u001b[0mdf\u001b[0m\u001b[1;33m,\u001b[0m \u001b[0mhue\u001b[0m\u001b[1;33m=\u001b[0m\u001b[1;34m\"class\"\u001b[0m\u001b[1;33m)\u001b[0m\u001b[1;33m\u001b[0m\u001b[0m\n\u001b[0m",
      "\u001b[1;32mC:\\Continuum\\anaconda3\\lib\\site-packages\\seaborn\\axisgrid.py\u001b[0m in \u001b[0;36mpairplot\u001b[1;34m(data, hue, hue_order, palette, vars, x_vars, y_vars, kind, diag_kind, markers, size, aspect, dropna, plot_kws, diag_kws, grid_kws)\u001b[0m\n\u001b[0;32m   2039\u001b[0m                     \u001b[0mhue_order\u001b[0m\u001b[1;33m=\u001b[0m\u001b[0mhue_order\u001b[0m\u001b[1;33m,\u001b[0m \u001b[0mpalette\u001b[0m\u001b[1;33m=\u001b[0m\u001b[0mpalette\u001b[0m\u001b[1;33m,\u001b[0m\u001b[1;33m\u001b[0m\u001b[0m\n\u001b[0;32m   2040\u001b[0m                     \u001b[0mdiag_sharey\u001b[0m\u001b[1;33m=\u001b[0m\u001b[0mdiag_sharey\u001b[0m\u001b[1;33m,\u001b[0m\u001b[1;33m\u001b[0m\u001b[0m\n\u001b[1;32m-> 2041\u001b[1;33m                     size=size, aspect=aspect, dropna=dropna, **grid_kws)\n\u001b[0m\u001b[0;32m   2042\u001b[0m \u001b[1;33m\u001b[0m\u001b[0m\n\u001b[0;32m   2043\u001b[0m     \u001b[1;31m# Add the markers here as PairGrid has figured out how many levels of the\u001b[0m\u001b[1;33m\u001b[0m\u001b[1;33m\u001b[0m\u001b[0m\n",
      "\u001b[1;32mC:\\Continuum\\anaconda3\\lib\\site-packages\\seaborn\\axisgrid.py\u001b[0m in \u001b[0;36m__init__\u001b[1;34m(self, data, hue, hue_order, palette, hue_kws, vars, x_vars, y_vars, diag_sharey, size, aspect, despine, dropna)\u001b[0m\n\u001b[0;32m   1252\u001b[0m                                       index=data.index)\n\u001b[0;32m   1253\u001b[0m         \u001b[1;32melse\u001b[0m\u001b[1;33m:\u001b[0m\u001b[1;33m\u001b[0m\u001b[0m\n\u001b[1;32m-> 1254\u001b[1;33m             \u001b[0mhue_names\u001b[0m \u001b[1;33m=\u001b[0m \u001b[0mutils\u001b[0m\u001b[1;33m.\u001b[0m\u001b[0mcategorical_order\u001b[0m\u001b[1;33m(\u001b[0m\u001b[0mdata\u001b[0m\u001b[1;33m[\u001b[0m\u001b[0mhue\u001b[0m\u001b[1;33m]\u001b[0m\u001b[1;33m,\u001b[0m \u001b[0mhue_order\u001b[0m\u001b[1;33m)\u001b[0m\u001b[1;33m\u001b[0m\u001b[0m\n\u001b[0m\u001b[0;32m   1255\u001b[0m             \u001b[1;32mif\u001b[0m \u001b[0mdropna\u001b[0m\u001b[1;33m:\u001b[0m\u001b[1;33m\u001b[0m\u001b[0m\n\u001b[0;32m   1256\u001b[0m                 \u001b[1;31m# Filter NA from the list of unique hue names\u001b[0m\u001b[1;33m\u001b[0m\u001b[1;33m\u001b[0m\u001b[0m\n",
      "\u001b[1;32mC:\\Continuum\\anaconda3\\lib\\site-packages\\pandas\\core\\frame.py\u001b[0m in \u001b[0;36m__getitem__\u001b[1;34m(self, key)\u001b[0m\n\u001b[0;32m   2137\u001b[0m             \u001b[1;32mreturn\u001b[0m \u001b[0mself\u001b[0m\u001b[1;33m.\u001b[0m\u001b[0m_getitem_multilevel\u001b[0m\u001b[1;33m(\u001b[0m\u001b[0mkey\u001b[0m\u001b[1;33m)\u001b[0m\u001b[1;33m\u001b[0m\u001b[0m\n\u001b[0;32m   2138\u001b[0m         \u001b[1;32melse\u001b[0m\u001b[1;33m:\u001b[0m\u001b[1;33m\u001b[0m\u001b[0m\n\u001b[1;32m-> 2139\u001b[1;33m             \u001b[1;32mreturn\u001b[0m \u001b[0mself\u001b[0m\u001b[1;33m.\u001b[0m\u001b[0m_getitem_column\u001b[0m\u001b[1;33m(\u001b[0m\u001b[0mkey\u001b[0m\u001b[1;33m)\u001b[0m\u001b[1;33m\u001b[0m\u001b[0m\n\u001b[0m\u001b[0;32m   2140\u001b[0m \u001b[1;33m\u001b[0m\u001b[0m\n\u001b[0;32m   2141\u001b[0m     \u001b[1;32mdef\u001b[0m \u001b[0m_getitem_column\u001b[0m\u001b[1;33m(\u001b[0m\u001b[0mself\u001b[0m\u001b[1;33m,\u001b[0m \u001b[0mkey\u001b[0m\u001b[1;33m)\u001b[0m\u001b[1;33m:\u001b[0m\u001b[1;33m\u001b[0m\u001b[0m\n",
      "\u001b[1;32mC:\\Continuum\\anaconda3\\lib\\site-packages\\pandas\\core\\frame.py\u001b[0m in \u001b[0;36m_getitem_column\u001b[1;34m(self, key)\u001b[0m\n\u001b[0;32m   2144\u001b[0m         \u001b[1;31m# get column\u001b[0m\u001b[1;33m\u001b[0m\u001b[1;33m\u001b[0m\u001b[0m\n\u001b[0;32m   2145\u001b[0m         \u001b[1;32mif\u001b[0m \u001b[0mself\u001b[0m\u001b[1;33m.\u001b[0m\u001b[0mcolumns\u001b[0m\u001b[1;33m.\u001b[0m\u001b[0mis_unique\u001b[0m\u001b[1;33m:\u001b[0m\u001b[1;33m\u001b[0m\u001b[0m\n\u001b[1;32m-> 2146\u001b[1;33m             \u001b[1;32mreturn\u001b[0m \u001b[0mself\u001b[0m\u001b[1;33m.\u001b[0m\u001b[0m_get_item_cache\u001b[0m\u001b[1;33m(\u001b[0m\u001b[0mkey\u001b[0m\u001b[1;33m)\u001b[0m\u001b[1;33m\u001b[0m\u001b[0m\n\u001b[0m\u001b[0;32m   2147\u001b[0m \u001b[1;33m\u001b[0m\u001b[0m\n\u001b[0;32m   2148\u001b[0m         \u001b[1;31m# duplicate columns & possible reduce dimensionality\u001b[0m\u001b[1;33m\u001b[0m\u001b[1;33m\u001b[0m\u001b[0m\n",
      "\u001b[1;32mC:\\Continuum\\anaconda3\\lib\\site-packages\\pandas\\core\\generic.py\u001b[0m in \u001b[0;36m_get_item_cache\u001b[1;34m(self, item)\u001b[0m\n\u001b[0;32m   1840\u001b[0m         \u001b[0mres\u001b[0m \u001b[1;33m=\u001b[0m \u001b[0mcache\u001b[0m\u001b[1;33m.\u001b[0m\u001b[0mget\u001b[0m\u001b[1;33m(\u001b[0m\u001b[0mitem\u001b[0m\u001b[1;33m)\u001b[0m\u001b[1;33m\u001b[0m\u001b[0m\n\u001b[0;32m   1841\u001b[0m         \u001b[1;32mif\u001b[0m \u001b[0mres\u001b[0m \u001b[1;32mis\u001b[0m \u001b[1;32mNone\u001b[0m\u001b[1;33m:\u001b[0m\u001b[1;33m\u001b[0m\u001b[0m\n\u001b[1;32m-> 1842\u001b[1;33m             \u001b[0mvalues\u001b[0m \u001b[1;33m=\u001b[0m \u001b[0mself\u001b[0m\u001b[1;33m.\u001b[0m\u001b[0m_data\u001b[0m\u001b[1;33m.\u001b[0m\u001b[0mget\u001b[0m\u001b[1;33m(\u001b[0m\u001b[0mitem\u001b[0m\u001b[1;33m)\u001b[0m\u001b[1;33m\u001b[0m\u001b[0m\n\u001b[0m\u001b[0;32m   1843\u001b[0m             \u001b[0mres\u001b[0m \u001b[1;33m=\u001b[0m \u001b[0mself\u001b[0m\u001b[1;33m.\u001b[0m\u001b[0m_box_item_values\u001b[0m\u001b[1;33m(\u001b[0m\u001b[0mitem\u001b[0m\u001b[1;33m,\u001b[0m \u001b[0mvalues\u001b[0m\u001b[1;33m)\u001b[0m\u001b[1;33m\u001b[0m\u001b[0m\n\u001b[0;32m   1844\u001b[0m             \u001b[0mcache\u001b[0m\u001b[1;33m[\u001b[0m\u001b[0mitem\u001b[0m\u001b[1;33m]\u001b[0m \u001b[1;33m=\u001b[0m \u001b[0mres\u001b[0m\u001b[1;33m\u001b[0m\u001b[0m\n",
      "\u001b[1;32mC:\\Continuum\\anaconda3\\lib\\site-packages\\pandas\\core\\internals.py\u001b[0m in \u001b[0;36mget\u001b[1;34m(self, item, fastpath)\u001b[0m\n\u001b[0;32m   3841\u001b[0m \u001b[1;33m\u001b[0m\u001b[0m\n\u001b[0;32m   3842\u001b[0m             \u001b[1;32mif\u001b[0m \u001b[1;32mnot\u001b[0m \u001b[0misna\u001b[0m\u001b[1;33m(\u001b[0m\u001b[0mitem\u001b[0m\u001b[1;33m)\u001b[0m\u001b[1;33m:\u001b[0m\u001b[1;33m\u001b[0m\u001b[0m\n\u001b[1;32m-> 3843\u001b[1;33m                 \u001b[0mloc\u001b[0m \u001b[1;33m=\u001b[0m \u001b[0mself\u001b[0m\u001b[1;33m.\u001b[0m\u001b[0mitems\u001b[0m\u001b[1;33m.\u001b[0m\u001b[0mget_loc\u001b[0m\u001b[1;33m(\u001b[0m\u001b[0mitem\u001b[0m\u001b[1;33m)\u001b[0m\u001b[1;33m\u001b[0m\u001b[0m\n\u001b[0m\u001b[0;32m   3844\u001b[0m             \u001b[1;32melse\u001b[0m\u001b[1;33m:\u001b[0m\u001b[1;33m\u001b[0m\u001b[0m\n\u001b[0;32m   3845\u001b[0m                 \u001b[0mindexer\u001b[0m \u001b[1;33m=\u001b[0m \u001b[0mnp\u001b[0m\u001b[1;33m.\u001b[0m\u001b[0marange\u001b[0m\u001b[1;33m(\u001b[0m\u001b[0mlen\u001b[0m\u001b[1;33m(\u001b[0m\u001b[0mself\u001b[0m\u001b[1;33m.\u001b[0m\u001b[0mitems\u001b[0m\u001b[1;33m)\u001b[0m\u001b[1;33m)\u001b[0m\u001b[1;33m[\u001b[0m\u001b[0misna\u001b[0m\u001b[1;33m(\u001b[0m\u001b[0mself\u001b[0m\u001b[1;33m.\u001b[0m\u001b[0mitems\u001b[0m\u001b[1;33m)\u001b[0m\u001b[1;33m]\u001b[0m\u001b[1;33m\u001b[0m\u001b[0m\n",
      "\u001b[1;32mC:\\Continuum\\anaconda3\\lib\\site-packages\\pandas\\core\\indexes\\base.py\u001b[0m in \u001b[0;36mget_loc\u001b[1;34m(self, key, method, tolerance)\u001b[0m\n\u001b[0;32m   2525\u001b[0m                 \u001b[1;32mreturn\u001b[0m \u001b[0mself\u001b[0m\u001b[1;33m.\u001b[0m\u001b[0m_engine\u001b[0m\u001b[1;33m.\u001b[0m\u001b[0mget_loc\u001b[0m\u001b[1;33m(\u001b[0m\u001b[0mkey\u001b[0m\u001b[1;33m)\u001b[0m\u001b[1;33m\u001b[0m\u001b[0m\n\u001b[0;32m   2526\u001b[0m             \u001b[1;32mexcept\u001b[0m \u001b[0mKeyError\u001b[0m\u001b[1;33m:\u001b[0m\u001b[1;33m\u001b[0m\u001b[0m\n\u001b[1;32m-> 2527\u001b[1;33m                 \u001b[1;32mreturn\u001b[0m \u001b[0mself\u001b[0m\u001b[1;33m.\u001b[0m\u001b[0m_engine\u001b[0m\u001b[1;33m.\u001b[0m\u001b[0mget_loc\u001b[0m\u001b[1;33m(\u001b[0m\u001b[0mself\u001b[0m\u001b[1;33m.\u001b[0m\u001b[0m_maybe_cast_indexer\u001b[0m\u001b[1;33m(\u001b[0m\u001b[0mkey\u001b[0m\u001b[1;33m)\u001b[0m\u001b[1;33m)\u001b[0m\u001b[1;33m\u001b[0m\u001b[0m\n\u001b[0m\u001b[0;32m   2528\u001b[0m \u001b[1;33m\u001b[0m\u001b[0m\n\u001b[0;32m   2529\u001b[0m         \u001b[0mindexer\u001b[0m \u001b[1;33m=\u001b[0m \u001b[0mself\u001b[0m\u001b[1;33m.\u001b[0m\u001b[0mget_indexer\u001b[0m\u001b[1;33m(\u001b[0m\u001b[1;33m[\u001b[0m\u001b[0mkey\u001b[0m\u001b[1;33m]\u001b[0m\u001b[1;33m,\u001b[0m \u001b[0mmethod\u001b[0m\u001b[1;33m=\u001b[0m\u001b[0mmethod\u001b[0m\u001b[1;33m,\u001b[0m \u001b[0mtolerance\u001b[0m\u001b[1;33m=\u001b[0m\u001b[0mtolerance\u001b[0m\u001b[1;33m)\u001b[0m\u001b[1;33m\u001b[0m\u001b[0m\n",
      "\u001b[1;32mpandas/_libs/index.pyx\u001b[0m in \u001b[0;36mpandas._libs.index.IndexEngine.get_loc\u001b[1;34m()\u001b[0m\n",
      "\u001b[1;32mpandas/_libs/index.pyx\u001b[0m in \u001b[0;36mpandas._libs.index.IndexEngine.get_loc\u001b[1;34m()\u001b[0m\n",
      "\u001b[1;32mpandas/_libs/hashtable_class_helper.pxi\u001b[0m in \u001b[0;36mpandas._libs.hashtable.PyObjectHashTable.get_item\u001b[1;34m()\u001b[0m\n",
      "\u001b[1;32mpandas/_libs/hashtable_class_helper.pxi\u001b[0m in \u001b[0;36mpandas._libs.hashtable.PyObjectHashTable.get_item\u001b[1;34m()\u001b[0m\n",
      "\u001b[1;31mKeyError\u001b[0m: 'class'"
     ]
    },
    {
     "data": {
      "image/png": "[encoded data removed]",
      "text/plain": [
       "<matplotlib.figure.Figure at 0x19d812542e8>"
      ]
     },
     "metadata": {},
     "output_type": "display_data"
    }
   ],
   "source": [
    "sb.pairplot(df, hue=\"class\")"
   ]
  },
  {
   "cell_type": "code",
   "execution_count": 58,
   "metadata": {},
   "outputs": [
    {
     "data": {
      "text/plain": [
       "1089    negative.\n",
       "773     negative.\n",
       "2618    negative.\n",
       "1193    negative.\n",
       "1653    negative.\n",
       "1615    negative.\n",
       "2213    negative.\n",
       "2020    negative.\n",
       "1396    negative.\n",
       "1115    negative.\n",
       "          ...    \n",
       "757     negative.\n",
       "2060    negative.\n",
       "1862    negative.\n",
       "1975    negative.\n",
       "119     negative.\n",
       "1959    negative.\n",
       "2477    negative.\n",
       "282         sick.\n",
       "2455    negative.\n",
       "1001    negative.\n",
       "Name: class, Length: 924, dtype: object"
      ]
     },
     "execution_count": 58,
     "metadata": {},
     "output_type": "execute_result"
    }
   ],
   "source": [
    "from sklearn.ensemble import RandomForestClassifier\n",
    "cls = RandomForestClassifier()\n",
    "\n",
    "from sklearn.model_selection import train_test_split\n",
    "trains, test, train_labels, test_labels = train_test_split(df,\n",
    "                                                          df_class,\n",
    "                                                          test_size=0.33,\n",
    "                                                          random_state=42)"
   ]
  },
  {
   "cell_type": "code",
   "execution_count": null,
   "metadata": {},
   "outputs": [],
   "source": []
  },
  {
   "cell_type": "code",
   "execution_count": 69,
   "metadata": {},
   "outputs": [],
   "source": [
    "from sklearn.ensemble import RandomForestClassifier\n",
    "cls = RandomForestClassifier(max_depth=9, min_samples_leaf=3)\n",
    "model = cls.fit(trains, train_labels)"
   ]
  },
  {
   "cell_type": "code",
   "execution_count": 70,
   "metadata": {},
   "outputs": [
    {
     "data": {
      "text/plain": [
       "0.9888"
      ]
     },
     "execution_count": 70,
     "metadata": {},
     "output_type": "execute_result"
    }
   ],
   "source": [
    "model.score(trains, train_labels)"
   ]
  },
  {
   "cell_type": "code",
   "execution_count": 83,
   "metadata": {},
   "outputs": [
    {
     "data": {
      "text/plain": [
       "array(['negative.', 'negative.', 'negative.', 'negative.', 'negative.',\n",
       "       'negative.', 'negative.', 'negative.', 'negative.', 'negative.',\n",
       "       'negative.', 'negative.', 'negative.', 'negative.', 'negative.',\n",
       "       'negative.', 'negative.', 'negative.', 'negative.', 'sick.',\n",
       "       'negative.', 'negative.', 'sick.', 'negative.', 'negative.',\n",
       "       'negative.', 'negative.', 'negative.', 'negative.', 'negative.',\n",
       "       'negative.', 'negative.', 'negative.', 'negative.', 'negative.',\n",
       "       'negative.', 'negative.', 'negative.', 'negative.', 'negative.',\n",
       "       'negative.', 'negative.', 'negative.', 'negative.', 'negative.',\n",
       "       'negative.', 'negative.', 'sick.', 'negative.', 'negative.',\n",
       "       'negative.', 'negative.', 'negative.', 'negative.', 'negative.',\n",
       "       'sick.', 'negative.', 'negative.', 'negative.', 'negative.',\n",
       "       'negative.', 'negative.', 'negative.', 'negative.', 'negative.',\n",
       "       'negative.', 'negative.', 'negative.', 'negative.', 'negative.',\n",
       "       'negative.', 'negative.', 'negative.', 'negative.', 'negative.',\n",
       "       'negative.', 'negative.', 'negative.', 'negative.', 'negative.',\n",
       "       'negative.', 'negative.', 'sick.', 'negative.', 'negative.',\n",
       "       'negative.', 'negative.', 'negative.', 'negative.', 'negative.',\n",
       "       'negative.', 'negative.', 'negative.', 'negative.', 'negative.',\n",
       "       'negative.', 'negative.', 'negative.', 'negative.', 'negative.',\n",
       "       'negative.', 'negative.', 'negative.', 'negative.', 'sick.',\n",
       "       'negative.', 'negative.', 'negative.', 'negative.', 'negative.',\n",
       "       'negative.', 'negative.', 'negative.', 'negative.', 'negative.',\n",
       "       'negative.', 'negative.', 'negative.', 'negative.', 'negative.',\n",
       "       'negative.', 'negative.', 'negative.', 'negative.', 'negative.',\n",
       "       'negative.', 'negative.', 'negative.', 'negative.', 'negative.',\n",
       "       'negative.', 'negative.', 'negative.', 'negative.', 'sick.',\n",
       "       'negative.', 'negative.', 'negative.', 'negative.', 'sick.',\n",
       "       'negative.', 'negative.', 'negative.', 'negative.', 'negative.',\n",
       "       'negative.', 'negative.', 'negative.', 'negative.', 'negative.',\n",
       "       'negative.', 'negative.', 'negative.', 'negative.', 'negative.',\n",
       "       'negative.', 'negative.', 'negative.', 'negative.', 'negative.',\n",
       "       'negative.', 'negative.', 'negative.', 'negative.', 'negative.',\n",
       "       'negative.', 'negative.', 'negative.', 'negative.', 'negative.',\n",
       "       'negative.', 'negative.', 'negative.', 'negative.', 'negative.',\n",
       "       'negative.', 'negative.', 'negative.', 'negative.', 'negative.',\n",
       "       'negative.', 'negative.', 'sick.', 'negative.', 'negative.',\n",
       "       'negative.', 'negative.', 'negative.', 'negative.', 'negative.',\n",
       "       'negative.', 'negative.', 'negative.', 'negative.', 'negative.',\n",
       "       'negative.', 'negative.', 'negative.', 'negative.', 'negative.',\n",
       "       'negative.', 'negative.', 'sick.', 'negative.', 'negative.',\n",
       "       'negative.', 'negative.', 'negative.', 'negative.', 'negative.',\n",
       "       'negative.', 'negative.', 'negative.', 'negative.', 'negative.',\n",
       "       'negative.', 'negative.', 'negative.', 'negative.', 'negative.',\n",
       "       'negative.', 'negative.', 'negative.', 'negative.', 'negative.',\n",
       "       'negative.', 'negative.', 'negative.', 'negative.', 'negative.',\n",
       "       'negative.', 'negative.', 'negative.', 'negative.', 'negative.',\n",
       "       'negative.', 'negative.', 'negative.', 'negative.', 'negative.',\n",
       "       'negative.', 'negative.', 'negative.', 'negative.', 'negative.',\n",
       "       'negative.', 'negative.', 'negative.', 'negative.', 'negative.',\n",
       "       'negative.', 'negative.', 'negative.', 'negative.', 'negative.',\n",
       "       'negative.', 'negative.', 'sick.', 'negative.', 'negative.',\n",
       "       'negative.', 'negative.', 'negative.', 'negative.', 'negative.',\n",
       "       'negative.', 'negative.', 'negative.', 'negative.', 'negative.',\n",
       "       'negative.', 'sick.', 'negative.', 'negative.', 'negative.',\n",
       "       'negative.', 'negative.', 'negative.', 'negative.', 'negative.',\n",
       "       'negative.', 'negative.', 'negative.', 'negative.', 'negative.',\n",
       "       'negative.', 'negative.', 'negative.', 'negative.', 'negative.',\n",
       "       'negative.', 'negative.', 'negative.', 'negative.', 'negative.',\n",
       "       'negative.', 'negative.', 'negative.', 'negative.', 'negative.',\n",
       "       'negative.', 'negative.', 'negative.', 'negative.', 'negative.',\n",
       "       'negative.', 'negative.', 'negative.', 'negative.', 'negative.',\n",
       "       'negative.', 'negative.', 'negative.', 'negative.', 'negative.',\n",
       "       'negative.', 'negative.', 'negative.', 'negative.', 'negative.',\n",
       "       'negative.', 'negative.', 'negative.', 'sick.', 'negative.',\n",
       "       'negative.', 'negative.', 'negative.', 'negative.', 'negative.',\n",
       "       'negative.', 'negative.', 'negative.', 'negative.', 'negative.',\n",
       "       'negative.', 'negative.', 'negative.', 'negative.', 'negative.',\n",
       "       'negative.', 'negative.', 'negative.', 'negative.', 'negative.',\n",
       "       'negative.', 'negative.', 'negative.', 'negative.', 'negative.',\n",
       "       'negative.', 'negative.', 'negative.', 'negative.', 'negative.',\n",
       "       'negative.', 'negative.', 'negative.', 'negative.', 'negative.',\n",
       "       'negative.', 'negative.', 'negative.', 'negative.', 'negative.',\n",
       "       'negative.', 'negative.', 'negative.', 'negative.', 'negative.',\n",
       "       'negative.', 'negative.', 'negative.', 'negative.', 'sick.',\n",
       "       'negative.', 'negative.', 'negative.', 'negative.', 'negative.',\n",
       "       'negative.', 'negative.', 'negative.', 'negative.', 'negative.',\n",
       "       'negative.', 'negative.', 'negative.', 'sick.', 'negative.',\n",
       "       'negative.', 'negative.', 'negative.', 'negative.', 'negative.',\n",
       "       'negative.', 'sick.', 'negative.', 'negative.', 'negative.',\n",
       "       'negative.', 'negative.', 'negative.', 'negative.', 'negative.',\n",
       "       'negative.', 'negative.', 'negative.', 'negative.', 'negative.',\n",
       "       'negative.', 'negative.', 'negative.', 'negative.', 'negative.',\n",
       "       'negative.', 'negative.', 'negative.', 'negative.', 'negative.',\n",
       "       'negative.', 'negative.', 'negative.', 'negative.', 'negative.',\n",
       "       'negative.', 'negative.', 'negative.', 'negative.', 'negative.',\n",
       "       'negative.', 'negative.', 'negative.', 'negative.', 'negative.',\n",
       "       'negative.', 'negative.', 'negative.', 'negative.', 'negative.',\n",
       "       'negative.', 'negative.', 'negative.', 'negative.', 'negative.',\n",
       "       'negative.', 'negative.', 'negative.', 'negative.', 'negative.',\n",
       "       'negative.', 'negative.', 'sick.', 'negative.', 'negative.',\n",
       "       'sick.', 'negative.', 'sick.', 'negative.', 'negative.',\n",
       "       'negative.', 'negative.', 'negative.', 'negative.', 'negative.',\n",
       "       'negative.', 'negative.', 'negative.', 'negative.', 'negative.',\n",
       "       'negative.', 'negative.', 'negative.', 'negative.', 'negative.',\n",
       "       'negative.', 'negative.', 'negative.', 'negative.', 'negative.',\n",
       "       'negative.', 'negative.', 'negative.', 'negative.', 'negative.',\n",
       "       'negative.', 'negative.', 'negative.', 'negative.', 'negative.',\n",
       "       'negative.', 'negative.', 'negative.', 'negative.', 'negative.',\n",
       "       'negative.', 'sick.', 'negative.', 'negative.', 'negative.',\n",
       "       'negative.', 'negative.', 'negative.', 'negative.', 'negative.',\n",
       "       'negative.', 'negative.', 'negative.', 'negative.', 'negative.',\n",
       "       'negative.', 'negative.', 'negative.', 'negative.', 'sick.',\n",
       "       'negative.', 'negative.', 'sick.', 'negative.', 'negative.',\n",
       "       'negative.', 'negative.', 'negative.', 'negative.', 'negative.',\n",
       "       'sick.', 'negative.', 'negative.', 'negative.', 'negative.',\n",
       "       'negative.', 'negative.', 'negative.', 'negative.', 'negative.',\n",
       "       'negative.', 'negative.', 'negative.', 'negative.', 'negative.',\n",
       "       'negative.', 'negative.', 'negative.', 'negative.', 'negative.',\n",
       "       'negative.', 'negative.', 'negative.', 'negative.', 'negative.',\n",
       "       'negative.', 'negative.', 'negative.', 'negative.', 'negative.',\n",
       "       'negative.', 'negative.', 'negative.', 'negative.', 'negative.',\n",
       "       'negative.', 'negative.', 'negative.', 'negative.', 'negative.',\n",
       "       'negative.', 'negative.', 'negative.', 'negative.', 'negative.',\n",
       "       'negative.', 'negative.', 'negative.', 'negative.', 'negative.',\n",
       "       'negative.', 'negative.', 'negative.', 'negative.', 'negative.',\n",
       "       'negative.', 'negative.', 'negative.', 'negative.', 'negative.',\n",
       "       'negative.', 'negative.', 'negative.', 'negative.', 'negative.',\n",
       "       'negative.', 'negative.', 'negative.', 'negative.', 'negative.',\n",
       "       'negative.', 'negative.', 'negative.', 'negative.', 'negative.',\n",
       "       'negative.', 'negative.', 'negative.', 'negative.', 'negative.',\n",
       "       'sick.', 'negative.', 'negative.', 'negative.', 'negative.',\n",
       "       'negative.', 'negative.', 'negative.', 'negative.', 'negative.',\n",
       "       'negative.', 'negative.', 'negative.', 'negative.', 'negative.',\n",
       "       'negative.', 'negative.', 'negative.', 'negative.', 'negative.',\n",
       "       'negative.', 'negative.', 'negative.', 'negative.', 'negative.',\n",
       "       'negative.', 'negative.', 'negative.', 'negative.', 'negative.',\n",
       "       'negative.', 'negative.', 'sick.', 'negative.', 'negative.',\n",
       "       'sick.', 'negative.', 'negative.', 'negative.', 'negative.',\n",
       "       'negative.', 'negative.', 'negative.', 'negative.', 'negative.',\n",
       "       'negative.', 'negative.', 'negative.', 'sick.', 'negative.',\n",
       "       'negative.', 'negative.', 'negative.', 'negative.', 'negative.',\n",
       "       'negative.', 'negative.', 'negative.', 'negative.', 'negative.',\n",
       "       'negative.', 'negative.', 'negative.', 'negative.', 'negative.',\n",
       "       'negative.', 'negative.', 'negative.', 'negative.', 'negative.',\n",
       "       'sick.', 'negative.', 'negative.', 'negative.', 'negative.',\n",
       "       'negative.', 'negative.', 'negative.', 'negative.', 'negative.',\n",
       "       'negative.', 'negative.', 'negative.', 'negative.', 'negative.',\n",
       "       'negative.', 'negative.', 'negative.', 'negative.', 'negative.',\n",
       "       'negative.', 'negative.', 'negative.', 'negative.', 'negative.',\n",
       "       'negative.', 'negative.', 'negative.', 'negative.', 'negative.',\n",
       "       'sick.', 'negative.', 'sick.', 'negative.', 'negative.',\n",
       "       'negative.', 'negative.', 'negative.', 'negative.', 'negative.',\n",
       "       'negative.', 'negative.', 'negative.', 'negative.', 'negative.',\n",
       "       'negative.', 'negative.', 'sick.', 'negative.', 'negative.',\n",
       "       'negative.', 'negative.', 'negative.', 'negative.', 'negative.',\n",
       "       'negative.', 'negative.', 'sick.', 'negative.', 'negative.',\n",
       "       'negative.', 'negative.', 'negative.', 'negative.', 'negative.',\n",
       "       'negative.', 'negative.', 'negative.', 'negative.', 'negative.',\n",
       "       'negative.', 'negative.', 'negative.', 'negative.', 'negative.',\n",
       "       'negative.', 'negative.', 'sick.', 'negative.', 'negative.',\n",
       "       'negative.', 'negative.', 'negative.', 'negative.', 'negative.',\n",
       "       'negative.', 'negative.', 'negative.', 'negative.', 'sick.',\n",
       "       'negative.', 'negative.', 'negative.', 'negative.', 'negative.',\n",
       "       'negative.', 'negative.', 'negative.', 'negative.', 'negative.',\n",
       "       'negative.', 'negative.', 'negative.', 'negative.', 'negative.',\n",
       "       'negative.', 'negative.', 'negative.', 'sick.', 'negative.',\n",
       "       'negative.', 'negative.', 'negative.', 'negative.', 'negative.',\n",
       "       'negative.', 'negative.', 'negative.', 'negative.', 'sick.',\n",
       "       'negative.', 'negative.', 'negative.', 'negative.', 'negative.',\n",
       "       'negative.', 'negative.', 'negative.', 'negative.', 'negative.',\n",
       "       'negative.', 'negative.', 'sick.', 'negative.', 'negative.',\n",
       "       'negative.', 'negative.', 'negative.', 'negative.', 'negative.',\n",
       "       'sick.', 'negative.', 'negative.', 'negative.', 'negative.',\n",
       "       'negative.', 'negative.', 'negative.', 'negative.', 'negative.',\n",
       "       'negative.', 'negative.', 'negative.', 'negative.', 'negative.',\n",
       "       'negative.', 'negative.', 'negative.', 'negative.', 'negative.',\n",
       "       'negative.', 'negative.', 'negative.', 'negative.', 'negative.',\n",
       "       'negative.', 'negative.', 'negative.', 'negative.', 'negative.',\n",
       "       'negative.', 'negative.', 'negative.', 'negative.', 'negative.',\n",
       "       'negative.', 'negative.', 'negative.', 'negative.', 'negative.',\n",
       "       'negative.', 'sick.', 'negative.', 'negative.', 'negative.',\n",
       "       'negative.', 'negative.', 'negative.', 'negative.', 'negative.',\n",
       "       'negative.', 'negative.', 'negative.', 'negative.', 'sick.',\n",
       "       'negative.', 'negative.', 'negative.', 'negative.', 'sick.',\n",
       "       'negative.', 'negative.', 'sick.', 'negative.', 'sick.',\n",
       "       'negative.', 'negative.', 'negative.', 'negative.', 'negative.',\n",
       "       'negative.', 'negative.', 'negative.', 'negative.', 'negative.',\n",
       "       'negative.', 'sick.', 'negative.', 'negative.', 'negative.',\n",
       "       'negative.', 'negative.', 'negative.', 'negative.', 'negative.',\n",
       "       'negative.', 'negative.', 'negative.', 'negative.', 'negative.',\n",
       "       'negative.', 'negative.', 'negative.', 'negative.', 'negative.',\n",
       "       'negative.', 'negative.', 'sick.', 'negative.', 'negative.',\n",
       "       'negative.', 'negative.', 'negative.', 'negative.', 'negative.',\n",
       "       'negative.', 'sick.', 'negative.', 'negative.'], dtype=object)"
      ]
     },
     "execution_count": 83,
     "metadata": {},
     "output_type": "execute_result"
    }
   ],
   "source": [
    "from sklearn.metrics import accuracy_score\n",
    "train_preds = model.predict(test)\n",
    "train_preds"
   ]
  },
  {
   "cell_type": "code",
   "execution_count": 90,
   "metadata": {},
   "outputs": [
    {
     "data": {
      "text/plain": [
       "negative.    878\n",
       "sick.         46\n",
       "dtype: int64"
      ]
     },
     "execution_count": 90,
     "metadata": {},
     "output_type": "execute_result"
    }
   ],
   "source": [
    "model.score(test, test_labels)\n",
    "x = pd.Series(train_preds)\n",
    "x.value_counts()"
   ]
  },
  {
   "cell_type": "code",
   "execution_count": null,
   "metadata": {},
   "outputs": [],
   "source": [
    "preds = model.predict(test)\n",
    "accuracy_score(test_labels, preds)"
   ]
  },
  {
   "cell_type": "code",
   "execution_count": 102,
   "metadata": {},
   "outputs": [
    {
     "ename": "KeyboardInterrupt",
     "evalue": "",
     "output_type": "error",
     "traceback": [
      "\u001b[1;31m---------------------------------------------------------------------------\u001b[0m",
      "\u001b[1;31mKeyboardInterrupt\u001b[0m                         Traceback (most recent call last)",
      "\u001b[1;32m<ipython-input-102-d07773e27e51>\u001b[0m in \u001b[0;36m<module>\u001b[1;34m()\u001b[0m\n\u001b[0;32m      6\u001b[0m \u001b[1;31m#titanic_y = titanic.dropna().reindex(columns=['Survived'])\u001b[0m\u001b[1;33m\u001b[0m\u001b[1;33m\u001b[0m\u001b[0m\n\u001b[0;32m      7\u001b[0m \u001b[0mtrain_X\u001b[0m \u001b[1;33m=\u001b[0m \u001b[0mtrain\u001b[0m\u001b[1;33m\u001b[0m\u001b[0m\n\u001b[1;32m----> 8\u001b[1;33m \u001b[0mencoder\u001b[0m\u001b[1;33m.\u001b[0m\u001b[0mfit\u001b[0m\u001b[1;33m(\u001b[0m\u001b[0mtrain_X\u001b[0m\u001b[1;33m,\u001b[0m \u001b[0mtrain_X\u001b[0m\u001b[1;33m.\u001b[0m\u001b[0mTT4\u001b[0m\u001b[1;33m)\u001b[0m\u001b[1;33m\u001b[0m\u001b[0m\n\u001b[0m\u001b[0;32m      9\u001b[0m \u001b[0mtitanic_categorical\u001b[0m \u001b[1;33m=\u001b[0m \u001b[0mencoder\u001b[0m\u001b[1;33m.\u001b[0m\u001b[0mtransform\u001b[0m\u001b[1;33m(\u001b[0m\u001b[0mtrain_X\u001b[0m\u001b[1;33m)\u001b[0m\u001b[1;33m\u001b[0m\u001b[0m\n\u001b[0;32m     10\u001b[0m \u001b[0mtitanic_categorical\u001b[0m\u001b[1;33m.\u001b[0m\u001b[0mhead\u001b[0m\u001b[1;33m(\u001b[0m\u001b[1;33m)\u001b[0m\u001b[1;33m\u001b[0m\u001b[0m\n",
      "\u001b[1;32mC:\\Continuum\\anaconda3\\lib\\site-packages\\category_encoders\\one_hot.py\u001b[0m in \u001b[0;36mfit\u001b[1;34m(self, X, y, **kwargs)\u001b[0m\n\u001b[0;32m    132\u001b[0m             \u001b[0mhandle_unknown\u001b[0m\u001b[1;33m=\u001b[0m\u001b[0mself\u001b[0m\u001b[1;33m.\u001b[0m\u001b[0mhandle_unknown\u001b[0m\u001b[1;33m\u001b[0m\u001b[0m\n\u001b[0;32m    133\u001b[0m         )\n\u001b[1;32m--> 134\u001b[1;33m         \u001b[0mself\u001b[0m\u001b[1;33m.\u001b[0m\u001b[0mordinal_encoder\u001b[0m \u001b[1;33m=\u001b[0m \u001b[0mself\u001b[0m\u001b[1;33m.\u001b[0m\u001b[0mordinal_encoder\u001b[0m\u001b[1;33m.\u001b[0m\u001b[0mfit\u001b[0m\u001b[1;33m(\u001b[0m\u001b[0mX\u001b[0m\u001b[1;33m)\u001b[0m\u001b[1;33m\u001b[0m\u001b[0m\n\u001b[0m\u001b[0;32m    135\u001b[0m \u001b[1;33m\u001b[0m\u001b[0m\n\u001b[0;32m    136\u001b[0m         \u001b[1;32mif\u001b[0m \u001b[0mself\u001b[0m\u001b[1;33m.\u001b[0m\u001b[0mdrop_invariant\u001b[0m\u001b[1;33m:\u001b[0m\u001b[1;33m\u001b[0m\u001b[0m\n",
      "\u001b[1;32mC:\\Continuum\\anaconda3\\lib\\site-packages\\category_encoders\\ordinal.py\u001b[0m in \u001b[0;36mfit\u001b[1;34m(self, X, y, **kwargs)\u001b[0m\n\u001b[0;32m    130\u001b[0m             \u001b[0mcols\u001b[0m\u001b[1;33m=\u001b[0m\u001b[0mself\u001b[0m\u001b[1;33m.\u001b[0m\u001b[0mcols\u001b[0m\u001b[1;33m,\u001b[0m\u001b[1;33m\u001b[0m\u001b[0m\n\u001b[0;32m    131\u001b[0m             \u001b[0mimpute_missing\u001b[0m\u001b[1;33m=\u001b[0m\u001b[0mself\u001b[0m\u001b[1;33m.\u001b[0m\u001b[0mimpute_missing\u001b[0m\u001b[1;33m,\u001b[0m\u001b[1;33m\u001b[0m\u001b[0m\n\u001b[1;32m--> 132\u001b[1;33m             \u001b[0mhandle_unknown\u001b[0m\u001b[1;33m=\u001b[0m\u001b[0mself\u001b[0m\u001b[1;33m.\u001b[0m\u001b[0mhandle_unknown\u001b[0m\u001b[1;33m\u001b[0m\u001b[0m\n\u001b[0m\u001b[0;32m    133\u001b[0m         )\n\u001b[0;32m    134\u001b[0m         \u001b[0mself\u001b[0m\u001b[1;33m.\u001b[0m\u001b[0mmapping\u001b[0m \u001b[1;33m=\u001b[0m \u001b[0mcategories\u001b[0m\u001b[1;33m\u001b[0m\u001b[0m\n",
      "\u001b[1;32mC:\\Continuum\\anaconda3\\lib\\site-packages\\category_encoders\\ordinal.py\u001b[0m in \u001b[0;36mordinal_encoding\u001b[1;34m(X_in, mapping, cols, impute_missing, handle_unknown)\u001b[0m\n\u001b[0;32m    272\u001b[0m                 \u001b[0mX\u001b[0m\u001b[1;33m[\u001b[0m\u001b[0mstr\u001b[0m\u001b[1;33m(\u001b[0m\u001b[0mcol\u001b[0m\u001b[1;33m)\u001b[0m \u001b[1;33m+\u001b[0m \u001b[1;34m'_tmp'\u001b[0m\u001b[1;33m]\u001b[0m \u001b[1;33m=\u001b[0m \u001b[0mnp\u001b[0m\u001b[1;33m.\u001b[0m\u001b[0mnan\u001b[0m\u001b[1;33m\u001b[0m\u001b[0m\n\u001b[0;32m    273\u001b[0m                 \u001b[1;32mfor\u001b[0m \u001b[0midx\u001b[0m\u001b[1;33m,\u001b[0m \u001b[0mval\u001b[0m \u001b[1;32min\u001b[0m \u001b[0menumerate\u001b[0m\u001b[1;33m(\u001b[0m\u001b[0mcategories\u001b[0m\u001b[1;33m)\u001b[0m\u001b[1;33m:\u001b[0m\u001b[1;33m\u001b[0m\u001b[0m\n\u001b[1;32m--> 274\u001b[1;33m                     \u001b[0mX\u001b[0m\u001b[1;33m.\u001b[0m\u001b[0mloc\u001b[0m\u001b[1;33m[\u001b[0m\u001b[0mX\u001b[0m\u001b[1;33m[\u001b[0m\u001b[0mcol\u001b[0m\u001b[1;33m]\u001b[0m \u001b[1;33m==\u001b[0m \u001b[0mval\u001b[0m\u001b[1;33m,\u001b[0m \u001b[0mstr\u001b[0m\u001b[1;33m(\u001b[0m\u001b[0mcol\u001b[0m\u001b[1;33m)\u001b[0m \u001b[1;33m+\u001b[0m \u001b[1;34m'_tmp'\u001b[0m\u001b[1;33m]\u001b[0m \u001b[1;33m=\u001b[0m \u001b[0mstr\u001b[0m\u001b[1;33m(\u001b[0m\u001b[0midx\u001b[0m\u001b[1;33m)\u001b[0m\u001b[1;33m\u001b[0m\u001b[0m\n\u001b[0m\u001b[0;32m    275\u001b[0m                 \u001b[1;32mdel\u001b[0m \u001b[0mX\u001b[0m\u001b[1;33m[\u001b[0m\u001b[0mcol\u001b[0m\u001b[1;33m]\u001b[0m\u001b[1;33m\u001b[0m\u001b[0m\n\u001b[0;32m    276\u001b[0m                 \u001b[0mX\u001b[0m\u001b[1;33m.\u001b[0m\u001b[0mrename\u001b[0m\u001b[1;33m(\u001b[0m\u001b[0mcolumns\u001b[0m\u001b[1;33m=\u001b[0m\u001b[1;33m{\u001b[0m\u001b[0mstr\u001b[0m\u001b[1;33m(\u001b[0m\u001b[0mcol\u001b[0m\u001b[1;33m)\u001b[0m \u001b[1;33m+\u001b[0m \u001b[1;34m'_tmp'\u001b[0m\u001b[1;33m:\u001b[0m \u001b[0mcol\u001b[0m\u001b[1;33m}\u001b[0m\u001b[1;33m,\u001b[0m \u001b[0minplace\u001b[0m\u001b[1;33m=\u001b[0m\u001b[1;32mTrue\u001b[0m\u001b[1;33m)\u001b[0m\u001b[1;33m\u001b[0m\u001b[0m\n",
      "\u001b[1;32mC:\\Continuum\\anaconda3\\lib\\site-packages\\pandas\\core\\indexing.py\u001b[0m in \u001b[0;36m__setitem__\u001b[1;34m(self, key, value)\u001b[0m\n\u001b[0;32m    191\u001b[0m         \u001b[1;32melse\u001b[0m\u001b[1;33m:\u001b[0m\u001b[1;33m\u001b[0m\u001b[0m\n\u001b[0;32m    192\u001b[0m             \u001b[0mkey\u001b[0m \u001b[1;33m=\u001b[0m \u001b[0mcom\u001b[0m\u001b[1;33m.\u001b[0m\u001b[0m_apply_if_callable\u001b[0m\u001b[1;33m(\u001b[0m\u001b[0mkey\u001b[0m\u001b[1;33m,\u001b[0m \u001b[0mself\u001b[0m\u001b[1;33m.\u001b[0m\u001b[0mobj\u001b[0m\u001b[1;33m)\u001b[0m\u001b[1;33m\u001b[0m\u001b[0m\n\u001b[1;32m--> 193\u001b[1;33m         \u001b[0mindexer\u001b[0m \u001b[1;33m=\u001b[0m \u001b[0mself\u001b[0m\u001b[1;33m.\u001b[0m\u001b[0m_get_setitem_indexer\u001b[0m\u001b[1;33m(\u001b[0m\u001b[0mkey\u001b[0m\u001b[1;33m)\u001b[0m\u001b[1;33m\u001b[0m\u001b[0m\n\u001b[0m\u001b[0;32m    194\u001b[0m         \u001b[0mself\u001b[0m\u001b[1;33m.\u001b[0m\u001b[0m_setitem_with_indexer\u001b[0m\u001b[1;33m(\u001b[0m\u001b[0mindexer\u001b[0m\u001b[1;33m,\u001b[0m \u001b[0mvalue\u001b[0m\u001b[1;33m)\u001b[0m\u001b[1;33m\u001b[0m\u001b[0m\n\u001b[0;32m    195\u001b[0m \u001b[1;33m\u001b[0m\u001b[0m\n",
      "\u001b[1;32mC:\\Continuum\\anaconda3\\lib\\site-packages\\pandas\\core\\indexing.py\u001b[0m in \u001b[0;36m_get_setitem_indexer\u001b[1;34m(self, key)\u001b[0m\n\u001b[0;32m    169\u001b[0m         \u001b[1;32mif\u001b[0m \u001b[0misinstance\u001b[0m\u001b[1;33m(\u001b[0m\u001b[0mkey\u001b[0m\u001b[1;33m,\u001b[0m \u001b[0mtuple\u001b[0m\u001b[1;33m)\u001b[0m\u001b[1;33m:\u001b[0m\u001b[1;33m\u001b[0m\u001b[0m\n\u001b[0;32m    170\u001b[0m             \u001b[1;32mtry\u001b[0m\u001b[1;33m:\u001b[0m\u001b[1;33m\u001b[0m\u001b[0m\n\u001b[1;32m--> 171\u001b[1;33m                 \u001b[1;32mreturn\u001b[0m \u001b[0mself\u001b[0m\u001b[1;33m.\u001b[0m\u001b[0m_convert_tuple\u001b[0m\u001b[1;33m(\u001b[0m\u001b[0mkey\u001b[0m\u001b[1;33m,\u001b[0m \u001b[0mis_setter\u001b[0m\u001b[1;33m=\u001b[0m\u001b[1;32mTrue\u001b[0m\u001b[1;33m)\u001b[0m\u001b[1;33m\u001b[0m\u001b[0m\n\u001b[0m\u001b[0;32m    172\u001b[0m             \u001b[1;32mexcept\u001b[0m \u001b[0mIndexingError\u001b[0m\u001b[1;33m:\u001b[0m\u001b[1;33m\u001b[0m\u001b[0m\n\u001b[0;32m    173\u001b[0m                 \u001b[1;32mpass\u001b[0m\u001b[1;33m\u001b[0m\u001b[0m\n",
      "\u001b[1;32mC:\\Continuum\\anaconda3\\lib\\site-packages\\pandas\\core\\indexing.py\u001b[0m in \u001b[0;36m_convert_tuple\u001b[1;34m(self, key, is_setter)\u001b[0m\n\u001b[0;32m    240\u001b[0m                 \u001b[1;32mif\u001b[0m \u001b[0mi\u001b[0m \u001b[1;33m>=\u001b[0m \u001b[0mself\u001b[0m\u001b[1;33m.\u001b[0m\u001b[0mobj\u001b[0m\u001b[1;33m.\u001b[0m\u001b[0mndim\u001b[0m\u001b[1;33m:\u001b[0m\u001b[1;33m\u001b[0m\u001b[0m\n\u001b[0;32m    241\u001b[0m                     \u001b[1;32mraise\u001b[0m \u001b[0mIndexingError\u001b[0m\u001b[1;33m(\u001b[0m\u001b[1;34m'Too many indexers'\u001b[0m\u001b[1;33m)\u001b[0m\u001b[1;33m\u001b[0m\u001b[0m\n\u001b[1;32m--> 242\u001b[1;33m                 \u001b[0midx\u001b[0m \u001b[1;33m=\u001b[0m \u001b[0mself\u001b[0m\u001b[1;33m.\u001b[0m\u001b[0m_convert_to_indexer\u001b[0m\u001b[1;33m(\u001b[0m\u001b[0mk\u001b[0m\u001b[1;33m,\u001b[0m \u001b[0maxis\u001b[0m\u001b[1;33m=\u001b[0m\u001b[0mi\u001b[0m\u001b[1;33m,\u001b[0m \u001b[0mis_setter\u001b[0m\u001b[1;33m=\u001b[0m\u001b[0mis_setter\u001b[0m\u001b[1;33m)\u001b[0m\u001b[1;33m\u001b[0m\u001b[0m\n\u001b[0m\u001b[0;32m    243\u001b[0m                 \u001b[0mkeyidx\u001b[0m\u001b[1;33m.\u001b[0m\u001b[0mappend\u001b[0m\u001b[1;33m(\u001b[0m\u001b[0midx\u001b[0m\u001b[1;33m)\u001b[0m\u001b[1;33m\u001b[0m\u001b[0m\n\u001b[0;32m    244\u001b[0m         \u001b[1;32mreturn\u001b[0m \u001b[0mtuple\u001b[0m\u001b[1;33m(\u001b[0m\u001b[0mkeyidx\u001b[0m\u001b[1;33m)\u001b[0m\u001b[1;33m\u001b[0m\u001b[0m\n",
      "\u001b[1;32mC:\\Continuum\\anaconda3\\lib\\site-packages\\pandas\\core\\indexing.py\u001b[0m in \u001b[0;36m_convert_to_indexer\u001b[1;34m(self, obj, axis, is_setter)\u001b[0m\n\u001b[0;32m   1241\u001b[0m             \u001b[1;32mif\u001b[0m \u001b[0mis_bool_indexer\u001b[0m\u001b[1;33m(\u001b[0m\u001b[0mobj\u001b[0m\u001b[1;33m)\u001b[0m\u001b[1;33m:\u001b[0m\u001b[1;33m\u001b[0m\u001b[0m\n\u001b[0;32m   1242\u001b[0m                 \u001b[0mobj\u001b[0m \u001b[1;33m=\u001b[0m \u001b[0mcheck_bool_indexer\u001b[0m\u001b[1;33m(\u001b[0m\u001b[0mlabels\u001b[0m\u001b[1;33m,\u001b[0m \u001b[0mobj\u001b[0m\u001b[1;33m)\u001b[0m\u001b[1;33m\u001b[0m\u001b[0m\n\u001b[1;32m-> 1243\u001b[1;33m                 \u001b[0minds\u001b[0m\u001b[1;33m,\u001b[0m \u001b[1;33m=\u001b[0m \u001b[0mobj\u001b[0m\u001b[1;33m.\u001b[0m\u001b[0mnonzero\u001b[0m\u001b[1;33m(\u001b[0m\u001b[1;33m)\u001b[0m\u001b[1;33m\u001b[0m\u001b[0m\n\u001b[0m\u001b[0;32m   1244\u001b[0m                 \u001b[1;32mreturn\u001b[0m \u001b[0minds\u001b[0m\u001b[1;33m\u001b[0m\u001b[0m\n\u001b[0;32m   1245\u001b[0m             \u001b[1;32melse\u001b[0m\u001b[1;33m:\u001b[0m\u001b[1;33m\u001b[0m\u001b[0m\n",
      "\u001b[1;31mKeyboardInterrupt\u001b[0m: "
     ]
    }
   ],
   "source": [
    "import category_encoders as ce\n",
    "from sklearn.feature_extraction import FeatureHasher\n",
    "\n",
    "encoder = ce.OneHotEncoder() \n",
    "#titanic_X = titanic.dropna().reindex(columns=[x for x in titanic.columns.values if x != 'Survived'])\n",
    "#titanic_y = titanic.dropna().reindex(columns=['Survived'])\n",
    "train_X = train\n",
    "encoder.fit(train_X, train_X.TT4)\n",
    "titanic_categorical = encoder.transform(train_X)\n",
    "titanic_categorical.head()"
   ]
  },
  {
   "cell_type": "markdown",
   "metadata": {},
   "source": [
    "nejake pokusy o trenovanie a naznaky transformacie atributov, neviem ktory pristup je lepsie pouzit ale skor sa mi paci ten OneHot ako Hasher, ale strasne dlho to trva no ten hasher neviem ako funguje tak mozno bude ten onehot jedina cesta"
   ]
  },
  {
   "cell_type": "code",
   "execution_count": null,
   "metadata": {},
   "outputs": [],
   "source": []
  }
 ],
 "metadata": {
  "kernelspec": {
   "display_name": "Python 3",
   "language": "python",
   "name": "python3"
  },
  "language_info": {
   "codemirror_mode": {
    "name": "ipython",
    "version": 3
   },
   "file_extension": ".py",
   "mimetype": "text/x-python",
   "name": "python",
   "nbconvert_exporter": "python",
   "pygments_lexer": "ipython3",
   "version": "3.6.4"
  }
 },
 "nbformat": 4,
 "nbformat_minor": 2
}
