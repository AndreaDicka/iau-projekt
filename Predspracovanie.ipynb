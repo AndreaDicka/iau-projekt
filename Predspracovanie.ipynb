{
 "cells": [
  {
   "cell_type": "markdown",
   "metadata": {},
   "source": [
    "# Predspracovanie datasetu č.17\n",
    "\n",
    "Andrea Dická, Ján Nemčík"
   ]
  },
  {
   "cell_type": "markdown",
   "metadata": {},
   "source": [
    "## Pomocne funkcie"
   ]
  },
  {
   "cell_type": "code",
   "execution_count": 1,
   "metadata": {},
   "outputs": [],
   "source": [
    "from sklearn.pipeline import make_pipeline\n",
    "from sklearn.base import TransformerMixin"
   ]
  },
  {
   "cell_type": "code",
   "execution_count": 2,
   "metadata": {},
   "outputs": [],
   "source": [
    "def check_if_number(inputString):\n",
    "    return any(char.replace('.','',1).isdigit() for char in str(inputString))"
   ]
  },
  {
   "cell_type": "code",
   "execution_count": 3,
   "metadata": {},
   "outputs": [],
   "source": [
    "class Transform(TransformerMixin):\n",
    "    def __init__(self, column, source, target):\n",
    "        self.column = column\n",
    "        self.source = source\n",
    "        self.target = target\n",
    "        \n",
    "    def fit(self, df, y=None, **fit_params):\n",
    "        return self\n",
    "    \n",
    "    def transform(self, df, **transform_params):\n",
    "        sample = df[self.column] == self.source\n",
    "        df.loc[sample, self.column] = self.target\n",
    "        return df"
   ]
  },
  {
   "cell_type": "code",
   "execution_count": 4,
   "metadata": {},
   "outputs": [],
   "source": [
    "from datetime import date\n",
    "import datetime\n",
    "\n",
    "def guess_date(string):\n",
    "    for fmt in [\"%Y/%m/%d\", \"%Y%m%d\", \"%y-%m-%d\", \"%Y-%m-%d\", \"%Y-%m-%d %H:%M:%S\", \"%Y-%m-%d %H %M %S\", \"%d/%m/%Y\"]:\n",
    "        try:\n",
    "            return datetime.datetime.strptime(string, fmt).date()\n",
    "        except ValueError:\n",
    "            continue\n",
    "    raise ValueError(string)"
   ]
  },
  {
   "cell_type": "markdown",
   "metadata": {},
   "source": [
    "## Predspracovanie"
   ]
  },
  {
   "cell_type": "code",
   "execution_count": 5,
   "metadata": {},
   "outputs": [],
   "source": [
    "%matplotlib inline\n",
    "import pandas as pd\n",
    "import numpy as np\n",
    "import matplotlib.pyplot as plt\n",
    "import seaborn as sb\n",
    "from sklearn.pipeline import Pipeline\n",
    "import matplotlib\n",
    "import statistics\n",
    "import sklearn\n",
    "\n",
    "from sklearn.pipeline import make_pipeline\n",
    "from sklearn.base import TransformerMixin\n",
    "\n",
    "data = pd.read_csv(\"17/train.csv\", sep=',', header=None)\n",
    "upraveny = pd.read_csv(\"17/train.csv\", sep=',', header=None)\n",
    "\n",
    "pd.set_option('display.max_columns', None)\n",
    "pd.set_option('display.max_rows', 50)"
   ]
  },
  {
   "cell_type": "code",
   "execution_count": 6,
   "metadata": {},
   "outputs": [
    {
     "data": {
      "text/html": [
       "<div>\n",
       "<style scoped>\n",
       "    .dataframe tbody tr th:only-of-type {\n",
       "        vertical-align: middle;\n",
       "    }\n",
       "\n",
       "    .dataframe tbody tr th {\n",
       "        vertical-align: top;\n",
       "    }\n",
       "\n",
       "    .dataframe thead th {\n",
       "        text-align: right;\n",
       "    }\n",
       "</style>\n",
       "<table border=\"1\" class=\"dataframe\">\n",
       "  <thead>\n",
       "    <tr style=\"text-align: right;\">\n",
       "      <th></th>\n",
       "      <th>nan</th>\n",
       "      <th>age</th>\n",
       "      <th>sex</th>\n",
       "      <th>query on thyroxine</th>\n",
       "      <th>on antithyroid medication</th>\n",
       "      <th>thyroid surgery</th>\n",
       "      <th>I131 treatment</th>\n",
       "      <th>tumor</th>\n",
       "      <th>hypopituitary</th>\n",
       "      <th>TSH</th>\n",
       "      <th>T3 measured</th>\n",
       "      <th>T3</th>\n",
       "      <th>TT4 measured</th>\n",
       "      <th>TT4</th>\n",
       "      <th>T4U</th>\n",
       "      <th>FTI measured</th>\n",
       "      <th>FTI</th>\n",
       "      <th>TBG measured</th>\n",
       "      <th>TBG</th>\n",
       "      <th>referral source</th>\n",
       "      <th>class</th>\n",
       "      <th>workclass</th>\n",
       "      <th>fnlwgt</th>\n",
       "      <th>education</th>\n",
       "      <th>education-num</th>\n",
       "      <th>marital-status</th>\n",
       "      <th>occupation</th>\n",
       "      <th>relationship</th>\n",
       "      <th>race</th>\n",
       "      <th>capital-gain</th>\n",
       "      <th>capital-loss</th>\n",
       "      <th>hours-per-week</th>\n",
       "      <th>native-country</th>\n",
       "      <th>date_of_birth</th>\n",
       "      <th>medical_info</th>\n",
       "    </tr>\n",
       "  </thead>\n",
       "  <tbody>\n",
       "    <tr>\n",
       "      <th>1</th>\n",
       "      <td>0.0</td>\n",
       "      <td>53.0</td>\n",
       "      <td>M</td>\n",
       "      <td>f</td>\n",
       "      <td>f</td>\n",
       "      <td>f</td>\n",
       "      <td>f</td>\n",
       "      <td>f</td>\n",
       "      <td>f</td>\n",
       "      <td>0.3</td>\n",
       "      <td>t</td>\n",
       "      <td>1.2</td>\n",
       "      <td>t</td>\n",
       "      <td>105.0</td>\n",
       "      <td>0.91</td>\n",
       "      <td>t</td>\n",
       "      <td>115</td>\n",
       "      <td>f</td>\n",
       "      <td>?</td>\n",
       "      <td>SVHC</td>\n",
       "      <td>negative.|232</td>\n",
       "      <td>Private</td>\n",
       "      <td>90021</td>\n",
       "      <td>HS-grad</td>\n",
       "      <td>9</td>\n",
       "      <td>Married-civ-spouse</td>\n",
       "      <td>Handlers-cleaners</td>\n",
       "      <td>Husband</td>\n",
       "      <td>White</td>\n",
       "      <td>0</td>\n",
       "      <td>0</td>\n",
       "      <td>40</td>\n",
       "      <td>?</td>\n",
       "      <td>1965-01-22</td>\n",
       "      <td>{'goitre':'f','TSH measured':'t','pregnant':'f...</td>\n",
       "    </tr>\n",
       "    <tr>\n",
       "      <th>2</th>\n",
       "      <td>1.0</td>\n",
       "      <td>73.0</td>\n",
       "      <td>M</td>\n",
       "      <td>f</td>\n",
       "      <td>f</td>\n",
       "      <td>f</td>\n",
       "      <td>f</td>\n",
       "      <td>f</td>\n",
       "      <td>f</td>\n",
       "      <td>2.1</td>\n",
       "      <td>t</td>\n",
       "      <td>1.9</td>\n",
       "      <td>t</td>\n",
       "      <td>118.0</td>\n",
       "      <td>0.9</td>\n",
       "      <td>t</td>\n",
       "      <td>131</td>\n",
       "      <td>f</td>\n",
       "      <td>?</td>\n",
       "      <td>SVI</td>\n",
       "      <td>negative.|3255</td>\n",
       "      <td>Private</td>\n",
       "      <td>97411</td>\n",
       "      <td>7th-8th</td>\n",
       "      <td>4</td>\n",
       "      <td>Never-married</td>\n",
       "      <td>Machine-op-inspct</td>\n",
       "      <td>Not-in-family</td>\n",
       "      <td>Asian-Pac-Islander</td>\n",
       "      <td>0</td>\n",
       "      <td>0</td>\n",
       "      <td>45</td>\n",
       "      <td>Laos</td>\n",
       "      <td>1944-04-01</td>\n",
       "      <td>{'goitre':'f','TSH measured':'t','pregnant':'f...</td>\n",
       "    </tr>\n",
       "    <tr>\n",
       "      <th>3</th>\n",
       "      <td>2.0</td>\n",
       "      <td>73.0</td>\n",
       "      <td>F</td>\n",
       "      <td>f</td>\n",
       "      <td>f</td>\n",
       "      <td>f</td>\n",
       "      <td>f</td>\n",
       "      <td>f</td>\n",
       "      <td>f</td>\n",
       "      <td>1.6</td>\n",
       "      <td>t</td>\n",
       "      <td>2.0</td>\n",
       "      <td>t</td>\n",
       "      <td>105.0</td>\n",
       "      <td>1.17</td>\n",
       "      <td>t</td>\n",
       "      <td>89</td>\n",
       "      <td>f</td>\n",
       "      <td>?</td>\n",
       "      <td>SVI</td>\n",
       "      <td>negative.|322</td>\n",
       "      <td>Local-gov</td>\n",
       "      <td>89491</td>\n",
       "      <td>Masters</td>\n",
       "      <td>14</td>\n",
       "      <td>Divorced</td>\n",
       "      <td>Exec-managerial</td>\n",
       "      <td>Not_in_family</td>\n",
       "      <td>White</td>\n",
       "      <td>0</td>\n",
       "      <td>0</td>\n",
       "      <td>40</td>\n",
       "      <td>United-States</td>\n",
       "      <td>45-03-12</td>\n",
       "      <td>{'goitre':'f','TSH measured':'t','pregnant':'f...</td>\n",
       "    </tr>\n",
       "    <tr>\n",
       "      <th>4</th>\n",
       "      <td>3.0</td>\n",
       "      <td>24.0</td>\n",
       "      <td>M</td>\n",
       "      <td>f</td>\n",
       "      <td>f</td>\n",
       "      <td>f</td>\n",
       "      <td>f</td>\n",
       "      <td>f</td>\n",
       "      <td>f</td>\n",
       "      <td>1.3</td>\n",
       "      <td>t</td>\n",
       "      <td>1.7</td>\n",
       "      <td>t</td>\n",
       "      <td>106.0</td>\n",
       "      <td>1.0</td>\n",
       "      <td>t</td>\n",
       "      <td>106</td>\n",
       "      <td>f</td>\n",
       "      <td>?</td>\n",
       "      <td>SVHC</td>\n",
       "      <td>negative.|2462</td>\n",
       "      <td>Private</td>\n",
       "      <td>279636</td>\n",
       "      <td>HS-grad</td>\n",
       "      <td>9</td>\n",
       "      <td>Never-married</td>\n",
       "      <td>Adm-clerical</td>\n",
       "      <td>Not-in-family</td>\n",
       "      <td>White</td>\n",
       "      <td>0</td>\n",
       "      <td>0</td>\n",
       "      <td>50</td>\n",
       "      <td>Guatemala</td>\n",
       "      <td>1993-12-26</td>\n",
       "      <td>{'goitre':'f','TSH measured':'t','pregnant':'f...</td>\n",
       "    </tr>\n",
       "    <tr>\n",
       "      <th>5</th>\n",
       "      <td>4.0</td>\n",
       "      <td>25.0</td>\n",
       "      <td>F</td>\n",
       "      <td>f</td>\n",
       "      <td>f</td>\n",
       "      <td>f</td>\n",
       "      <td>f</td>\n",
       "      <td>f</td>\n",
       "      <td>f</td>\n",
       "      <td>468.0</td>\n",
       "      <td>t</td>\n",
       "      <td>0.7</td>\n",
       "      <td>t</td>\n",
       "      <td>21.0</td>\n",
       "      <td>1.1</td>\n",
       "      <td>t</td>\n",
       "      <td>19</td>\n",
       "      <td>f</td>\n",
       "      <td>?</td>\n",
       "      <td>other</td>\n",
       "      <td>negative.|3047</td>\n",
       "      <td>Private</td>\n",
       "      <td>172577</td>\n",
       "      <td>Some-college</td>\n",
       "      <td>10</td>\n",
       "      <td>Divorced</td>\n",
       "      <td>Adm-clerical</td>\n",
       "      <td>Not-in-family</td>\n",
       "      <td>White</td>\n",
       "      <td>0</td>\n",
       "      <td>0</td>\n",
       "      <td>44</td>\n",
       "      <td>United-States</td>\n",
       "      <td>1992-08-27</td>\n",
       "      <td>{'goitre':'f','TSH measured':'t','pregnant':'f...</td>\n",
       "    </tr>\n",
       "  </tbody>\n",
       "</table>\n",
       "</div>"
      ],
      "text/plain": [
       "   NaN   age sex query on thyroxine on antithyroid medication thyroid surgery  \\\n",
       "1  0.0  53.0   M                  f                         f               f   \n",
       "2  1.0  73.0   M                  f                         f               f   \n",
       "3  2.0  73.0   F                  f                         f               f   \n",
       "4  3.0  24.0   M                  f                         f               f   \n",
       "5  4.0  25.0   F                  f                         f               f   \n",
       "\n",
       "  I131 treatment tumor hypopituitary    TSH T3 measured   T3 TT4 measured  \\\n",
       "1              f     f             f    0.3           t  1.2            t   \n",
       "2              f     f             f    2.1           t  1.9            t   \n",
       "3              f     f             f    1.6           t  2.0            t   \n",
       "4              f     f             f    1.3           t  1.7            t   \n",
       "5              f     f             f  468.0           t  0.7            t   \n",
       "\n",
       "     TT4   T4U FTI measured  FTI TBG measured TBG referral source  \\\n",
       "1  105.0  0.91            t  115            f   ?            SVHC   \n",
       "2  118.0   0.9            t  131            f   ?             SVI   \n",
       "3  105.0  1.17            t   89            f   ?             SVI   \n",
       "4  106.0   1.0            t  106            f   ?            SVHC   \n",
       "5   21.0   1.1            t   19            f   ?           other   \n",
       "\n",
       "            class   workclass  fnlwgt      education education-num  \\\n",
       "1   negative.|232     Private   90021        HS-grad             9   \n",
       "2  negative.|3255     Private   97411        7th-8th             4   \n",
       "3   negative.|322   Local-gov   89491        Masters            14   \n",
       "4  negative.|2462     Private  279636        HS-grad             9   \n",
       "5  negative.|3047     Private  172577   Some-college            10   \n",
       "\n",
       "        marital-status          occupation    relationship  \\\n",
       "1   Married-civ-spouse   Handlers-cleaners         Husband   \n",
       "2        Never-married   Machine-op-inspct   Not-in-family   \n",
       "3             Divorced     Exec-managerial   Not_in_family   \n",
       "4        Never-married        Adm-clerical   Not-in-family   \n",
       "5             Divorced        Adm-clerical   Not-in-family   \n",
       "\n",
       "                  race capital-gain capital-loss hours-per-week  \\\n",
       "1                White            0            0             40   \n",
       "2   Asian-Pac-Islander            0            0             45   \n",
       "3                White            0            0             40   \n",
       "4                White            0            0             50   \n",
       "5                White            0            0             44   \n",
       "\n",
       "   native-country date_of_birth  \\\n",
       "1               ?    1965-01-22   \n",
       "2            Laos    1944-04-01   \n",
       "3   United-States      45-03-12   \n",
       "4       Guatemala    1993-12-26   \n",
       "5   United-States    1992-08-27   \n",
       "\n",
       "                                        medical_info  \n",
       "1  {'goitre':'f','TSH measured':'t','pregnant':'f...  \n",
       "2  {'goitre':'f','TSH measured':'t','pregnant':'f...  \n",
       "3  {'goitre':'f','TSH measured':'t','pregnant':'f...  \n",
       "4  {'goitre':'f','TSH measured':'t','pregnant':'f...  \n",
       "5  {'goitre':'f','TSH measured':'t','pregnant':'f...  "
      ]
     },
     "execution_count": 6,
     "metadata": {},
     "output_type": "execute_result"
    }
   ],
   "source": [
    "upraveny = data.rename(columns=data.iloc[0]).drop(data.index[0])\n",
    "upraveny.head()"
   ]
  },
  {
   "cell_type": "code",
   "execution_count": 7,
   "metadata": {},
   "outputs": [
    {
     "data": {
      "text/html": [
       "<div>\n",
       "<style scoped>\n",
       "    .dataframe tbody tr th:only-of-type {\n",
       "        vertical-align: middle;\n",
       "    }\n",
       "\n",
       "    .dataframe tbody tr th {\n",
       "        vertical-align: top;\n",
       "    }\n",
       "\n",
       "    .dataframe thead th {\n",
       "        text-align: right;\n",
       "    }\n",
       "</style>\n",
       "<table border=\"1\" class=\"dataframe\">\n",
       "  <thead>\n",
       "    <tr style=\"text-align: right;\">\n",
       "      <th></th>\n",
       "      <th>nan</th>\n",
       "      <th>age</th>\n",
       "      <th>sex</th>\n",
       "      <th>query on thyroxine</th>\n",
       "      <th>on antithyroid medication</th>\n",
       "      <th>thyroid surgery</th>\n",
       "      <th>I131 treatment</th>\n",
       "      <th>tumor</th>\n",
       "      <th>hypopituitary</th>\n",
       "      <th>TSH</th>\n",
       "      <th>T3 measured</th>\n",
       "      <th>T3</th>\n",
       "      <th>TT4 measured</th>\n",
       "      <th>TT4</th>\n",
       "      <th>T4U</th>\n",
       "      <th>FTI measured</th>\n",
       "      <th>FTI</th>\n",
       "      <th>TBG measured</th>\n",
       "      <th>TBG</th>\n",
       "      <th>referral source</th>\n",
       "      <th>class</th>\n",
       "      <th>workclass</th>\n",
       "      <th>fnlwgt</th>\n",
       "      <th>education</th>\n",
       "      <th>education-num</th>\n",
       "      <th>marital-status</th>\n",
       "      <th>occupation</th>\n",
       "      <th>relationship</th>\n",
       "      <th>race</th>\n",
       "      <th>capital-gain</th>\n",
       "      <th>capital-loss</th>\n",
       "      <th>hours-per-week</th>\n",
       "      <th>native-country</th>\n",
       "      <th>date_of_birth</th>\n",
       "      <th>medical_info</th>\n",
       "      <th>T4U measured</th>\n",
       "      <th>TSH measured</th>\n",
       "      <th>goitre</th>\n",
       "      <th>lithium</th>\n",
       "      <th>on thyroxine</th>\n",
       "      <th>pregnant</th>\n",
       "      <th>psych</th>\n",
       "      <th>query hyperthyroid</th>\n",
       "      <th>query hypothyroid</th>\n",
       "      <th>sick</th>\n",
       "    </tr>\n",
       "  </thead>\n",
       "  <tbody>\n",
       "    <tr>\n",
       "      <th>0</th>\n",
       "      <td>NaN</td>\n",
       "      <td>NaN</td>\n",
       "      <td>NaN</td>\n",
       "      <td>NaN</td>\n",
       "      <td>NaN</td>\n",
       "      <td>NaN</td>\n",
       "      <td>NaN</td>\n",
       "      <td>NaN</td>\n",
       "      <td>NaN</td>\n",
       "      <td>NaN</td>\n",
       "      <td>NaN</td>\n",
       "      <td>NaN</td>\n",
       "      <td>NaN</td>\n",
       "      <td>NaN</td>\n",
       "      <td>NaN</td>\n",
       "      <td>NaN</td>\n",
       "      <td>NaN</td>\n",
       "      <td>NaN</td>\n",
       "      <td>NaN</td>\n",
       "      <td>NaN</td>\n",
       "      <td>NaN</td>\n",
       "      <td>NaN</td>\n",
       "      <td>NaN</td>\n",
       "      <td>NaN</td>\n",
       "      <td>NaN</td>\n",
       "      <td>NaN</td>\n",
       "      <td>NaN</td>\n",
       "      <td>NaN</td>\n",
       "      <td>NaN</td>\n",
       "      <td>NaN</td>\n",
       "      <td>NaN</td>\n",
       "      <td>NaN</td>\n",
       "      <td>NaN</td>\n",
       "      <td>NaN</td>\n",
       "      <td>NaN</td>\n",
       "      <td>t</td>\n",
       "      <td>t</td>\n",
       "      <td>f</td>\n",
       "      <td>f</td>\n",
       "      <td>f</td>\n",
       "      <td>f</td>\n",
       "      <td>f</td>\n",
       "      <td>f</td>\n",
       "      <td>f</td>\n",
       "      <td>f</td>\n",
       "    </tr>\n",
       "    <tr>\n",
       "      <th>1</th>\n",
       "      <td>0.0</td>\n",
       "      <td>53.0</td>\n",
       "      <td>M</td>\n",
       "      <td>f</td>\n",
       "      <td>f</td>\n",
       "      <td>f</td>\n",
       "      <td>f</td>\n",
       "      <td>f</td>\n",
       "      <td>f</td>\n",
       "      <td>0.3</td>\n",
       "      <td>t</td>\n",
       "      <td>1.2</td>\n",
       "      <td>t</td>\n",
       "      <td>105.0</td>\n",
       "      <td>0.91</td>\n",
       "      <td>t</td>\n",
       "      <td>115</td>\n",
       "      <td>f</td>\n",
       "      <td>?</td>\n",
       "      <td>SVHC</td>\n",
       "      <td>negative.|232</td>\n",
       "      <td>Private</td>\n",
       "      <td>90021</td>\n",
       "      <td>HS-grad</td>\n",
       "      <td>9</td>\n",
       "      <td>Married-civ-spouse</td>\n",
       "      <td>Handlers-cleaners</td>\n",
       "      <td>Husband</td>\n",
       "      <td>White</td>\n",
       "      <td>0</td>\n",
       "      <td>0</td>\n",
       "      <td>40</td>\n",
       "      <td>?</td>\n",
       "      <td>1965-01-22</td>\n",
       "      <td>{'goitre':'f','TSH measured':'t','pregnant':'f...</td>\n",
       "      <td>t</td>\n",
       "      <td>t</td>\n",
       "      <td>f</td>\n",
       "      <td>f</td>\n",
       "      <td>f</td>\n",
       "      <td>f</td>\n",
       "      <td>f</td>\n",
       "      <td>f</td>\n",
       "      <td>f</td>\n",
       "      <td>f</td>\n",
       "    </tr>\n",
       "    <tr>\n",
       "      <th>2</th>\n",
       "      <td>1.0</td>\n",
       "      <td>73.0</td>\n",
       "      <td>M</td>\n",
       "      <td>f</td>\n",
       "      <td>f</td>\n",
       "      <td>f</td>\n",
       "      <td>f</td>\n",
       "      <td>f</td>\n",
       "      <td>f</td>\n",
       "      <td>2.1</td>\n",
       "      <td>t</td>\n",
       "      <td>1.9</td>\n",
       "      <td>t</td>\n",
       "      <td>118.0</td>\n",
       "      <td>0.9</td>\n",
       "      <td>t</td>\n",
       "      <td>131</td>\n",
       "      <td>f</td>\n",
       "      <td>?</td>\n",
       "      <td>SVI</td>\n",
       "      <td>negative.|3255</td>\n",
       "      <td>Private</td>\n",
       "      <td>97411</td>\n",
       "      <td>7th-8th</td>\n",
       "      <td>4</td>\n",
       "      <td>Never-married</td>\n",
       "      <td>Machine-op-inspct</td>\n",
       "      <td>Not-in-family</td>\n",
       "      <td>Asian-Pac-Islander</td>\n",
       "      <td>0</td>\n",
       "      <td>0</td>\n",
       "      <td>45</td>\n",
       "      <td>Laos</td>\n",
       "      <td>1944-04-01</td>\n",
       "      <td>{'goitre':'f','TSH measured':'t','pregnant':'f...</td>\n",
       "      <td>t</td>\n",
       "      <td>t</td>\n",
       "      <td>f</td>\n",
       "      <td>f</td>\n",
       "      <td>f</td>\n",
       "      <td>f</td>\n",
       "      <td>f</td>\n",
       "      <td>f</td>\n",
       "      <td>f</td>\n",
       "      <td>t</td>\n",
       "    </tr>\n",
       "    <tr>\n",
       "      <th>3</th>\n",
       "      <td>2.0</td>\n",
       "      <td>73.0</td>\n",
       "      <td>F</td>\n",
       "      <td>f</td>\n",
       "      <td>f</td>\n",
       "      <td>f</td>\n",
       "      <td>f</td>\n",
       "      <td>f</td>\n",
       "      <td>f</td>\n",
       "      <td>1.6</td>\n",
       "      <td>t</td>\n",
       "      <td>2.0</td>\n",
       "      <td>t</td>\n",
       "      <td>105.0</td>\n",
       "      <td>1.17</td>\n",
       "      <td>t</td>\n",
       "      <td>89</td>\n",
       "      <td>f</td>\n",
       "      <td>?</td>\n",
       "      <td>SVI</td>\n",
       "      <td>negative.|322</td>\n",
       "      <td>Local-gov</td>\n",
       "      <td>89491</td>\n",
       "      <td>Masters</td>\n",
       "      <td>14</td>\n",
       "      <td>Divorced</td>\n",
       "      <td>Exec-managerial</td>\n",
       "      <td>Not_in_family</td>\n",
       "      <td>White</td>\n",
       "      <td>0</td>\n",
       "      <td>0</td>\n",
       "      <td>40</td>\n",
       "      <td>United-States</td>\n",
       "      <td>45-03-12</td>\n",
       "      <td>{'goitre':'f','TSH measured':'t','pregnant':'f...</td>\n",
       "      <td>t</td>\n",
       "      <td>t</td>\n",
       "      <td>f</td>\n",
       "      <td>f</td>\n",
       "      <td>f</td>\n",
       "      <td>f</td>\n",
       "      <td>f</td>\n",
       "      <td>f</td>\n",
       "      <td>f</td>\n",
       "      <td>f</td>\n",
       "    </tr>\n",
       "    <tr>\n",
       "      <th>4</th>\n",
       "      <td>3.0</td>\n",
       "      <td>24.0</td>\n",
       "      <td>M</td>\n",
       "      <td>f</td>\n",
       "      <td>f</td>\n",
       "      <td>f</td>\n",
       "      <td>f</td>\n",
       "      <td>f</td>\n",
       "      <td>f</td>\n",
       "      <td>1.3</td>\n",
       "      <td>t</td>\n",
       "      <td>1.7</td>\n",
       "      <td>t</td>\n",
       "      <td>106.0</td>\n",
       "      <td>1.0</td>\n",
       "      <td>t</td>\n",
       "      <td>106</td>\n",
       "      <td>f</td>\n",
       "      <td>?</td>\n",
       "      <td>SVHC</td>\n",
       "      <td>negative.|2462</td>\n",
       "      <td>Private</td>\n",
       "      <td>279636</td>\n",
       "      <td>HS-grad</td>\n",
       "      <td>9</td>\n",
       "      <td>Never-married</td>\n",
       "      <td>Adm-clerical</td>\n",
       "      <td>Not-in-family</td>\n",
       "      <td>White</td>\n",
       "      <td>0</td>\n",
       "      <td>0</td>\n",
       "      <td>50</td>\n",
       "      <td>Guatemala</td>\n",
       "      <td>1993-12-26</td>\n",
       "      <td>{'goitre':'f','TSH measured':'t','pregnant':'f...</td>\n",
       "      <td>t</td>\n",
       "      <td>t</td>\n",
       "      <td>f</td>\n",
       "      <td>f</td>\n",
       "      <td>F</td>\n",
       "      <td>f</td>\n",
       "      <td>f</td>\n",
       "      <td>f</td>\n",
       "      <td>f</td>\n",
       "      <td>f</td>\n",
       "    </tr>\n",
       "  </tbody>\n",
       "</table>\n",
       "</div>"
      ],
      "text/plain": [
       "   NaN   age  sex query on thyroxine on antithyroid medication  \\\n",
       "0  NaN   NaN  NaN                NaN                       NaN   \n",
       "1  0.0  53.0    M                  f                         f   \n",
       "2  1.0  73.0    M                  f                         f   \n",
       "3  2.0  73.0    F                  f                         f   \n",
       "4  3.0  24.0    M                  f                         f   \n",
       "\n",
       "  thyroid surgery I131 treatment tumor hypopituitary  TSH T3 measured   T3  \\\n",
       "0             NaN            NaN   NaN           NaN  NaN         NaN  NaN   \n",
       "1               f              f     f             f  0.3           t  1.2   \n",
       "2               f              f     f             f  2.1           t  1.9   \n",
       "3               f              f     f             f  1.6           t  2.0   \n",
       "4               f              f     f             f  1.3           t  1.7   \n",
       "\n",
       "  TT4 measured    TT4   T4U FTI measured  FTI TBG measured  TBG  \\\n",
       "0          NaN    NaN   NaN          NaN  NaN          NaN  NaN   \n",
       "1            t  105.0  0.91            t  115            f    ?   \n",
       "2            t  118.0   0.9            t  131            f    ?   \n",
       "3            t  105.0  1.17            t   89            f    ?   \n",
       "4            t  106.0   1.0            t  106            f    ?   \n",
       "\n",
       "  referral source           class   workclass  fnlwgt education education-num  \\\n",
       "0             NaN             NaN         NaN     NaN       NaN           NaN   \n",
       "1            SVHC   negative.|232     Private   90021   HS-grad             9   \n",
       "2             SVI  negative.|3255     Private   97411   7th-8th             4   \n",
       "3             SVI   negative.|322   Local-gov   89491   Masters            14   \n",
       "4            SVHC  negative.|2462     Private  279636   HS-grad             9   \n",
       "\n",
       "        marital-status          occupation    relationship  \\\n",
       "0                  NaN                 NaN             NaN   \n",
       "1   Married-civ-spouse   Handlers-cleaners         Husband   \n",
       "2        Never-married   Machine-op-inspct   Not-in-family   \n",
       "3             Divorced     Exec-managerial   Not_in_family   \n",
       "4        Never-married        Adm-clerical   Not-in-family   \n",
       "\n",
       "                  race capital-gain capital-loss hours-per-week  \\\n",
       "0                  NaN          NaN          NaN            NaN   \n",
       "1                White            0            0             40   \n",
       "2   Asian-Pac-Islander            0            0             45   \n",
       "3                White            0            0             40   \n",
       "4                White            0            0             50   \n",
       "\n",
       "   native-country date_of_birth  \\\n",
       "0             NaN           NaN   \n",
       "1               ?    1965-01-22   \n",
       "2            Laos    1944-04-01   \n",
       "3   United-States      45-03-12   \n",
       "4       Guatemala    1993-12-26   \n",
       "\n",
       "                                        medical_info T4U measured  \\\n",
       "0                                                NaN            t   \n",
       "1  {'goitre':'f','TSH measured':'t','pregnant':'f...            t   \n",
       "2  {'goitre':'f','TSH measured':'t','pregnant':'f...            t   \n",
       "3  {'goitre':'f','TSH measured':'t','pregnant':'f...            t   \n",
       "4  {'goitre':'f','TSH measured':'t','pregnant':'f...            t   \n",
       "\n",
       "  TSH measured goitre lithium on thyroxine pregnant psych query hyperthyroid  \\\n",
       "0            t      f       f            f        f     f                  f   \n",
       "1            t      f       f            f        f     f                  f   \n",
       "2            t      f       f            f        f     f                  f   \n",
       "3            t      f       f            f        f     f                  f   \n",
       "4            t      f       f            F        f     f                  f   \n",
       "\n",
       "  query hypothyroid sick  \n",
       "0                 f    f  \n",
       "1                 f    f  \n",
       "2                 f    t  \n",
       "3                 f    f  \n",
       "4                 f    f  "
      ]
     },
     "execution_count": 7,
     "metadata": {},
     "output_type": "execute_result"
    }
   ],
   "source": [
    "import json\n",
    "\n",
    "lst = []\n",
    "\n",
    "for a in upraveny['medical_info']:\n",
    "    a = a.replace(\"'\", '\"')\n",
    "    record = json.loads(a)\n",
    "    lst.append(record)\n",
    "    \n",
    "df = pd.DataFrame(lst)\n",
    "df\n",
    "\n",
    "result = pd.concat([upraveny, df], axis=1)\n",
    "upraveny = result\n",
    "upraveny.head()"
   ]
  },
  {
   "cell_type": "markdown",
   "metadata": {},
   "source": [
    "Odstranime nepotrebne stlpce"
   ]
  },
  {
   "cell_type": "code",
   "execution_count": 8,
   "metadata": {},
   "outputs": [
    {
     "data": {
      "text/html": [
       "<div>\n",
       "<style scoped>\n",
       "    .dataframe tbody tr th:only-of-type {\n",
       "        vertical-align: middle;\n",
       "    }\n",
       "\n",
       "    .dataframe tbody tr th {\n",
       "        vertical-align: top;\n",
       "    }\n",
       "\n",
       "    .dataframe thead th {\n",
       "        text-align: right;\n",
       "    }\n",
       "</style>\n",
       "<table border=\"1\" class=\"dataframe\">\n",
       "  <thead>\n",
       "    <tr style=\"text-align: right;\">\n",
       "      <th></th>\n",
       "      <th>age</th>\n",
       "      <th>sex</th>\n",
       "      <th>query on thyroxine</th>\n",
       "      <th>on antithyroid medication</th>\n",
       "      <th>thyroid surgery</th>\n",
       "      <th>I131 treatment</th>\n",
       "      <th>tumor</th>\n",
       "      <th>hypopituitary</th>\n",
       "      <th>TSH</th>\n",
       "      <th>T3 measured</th>\n",
       "      <th>T3</th>\n",
       "      <th>TT4 measured</th>\n",
       "      <th>TT4</th>\n",
       "      <th>T4U</th>\n",
       "      <th>FTI measured</th>\n",
       "      <th>FTI</th>\n",
       "      <th>referral source</th>\n",
       "      <th>class</th>\n",
       "      <th>workclass</th>\n",
       "      <th>fnlwgt</th>\n",
       "      <th>education</th>\n",
       "      <th>education-num</th>\n",
       "      <th>marital-status</th>\n",
       "      <th>occupation</th>\n",
       "      <th>relationship</th>\n",
       "      <th>race</th>\n",
       "      <th>capital-gain</th>\n",
       "      <th>capital-loss</th>\n",
       "      <th>hours-per-week</th>\n",
       "      <th>native-country</th>\n",
       "      <th>date_of_birth</th>\n",
       "      <th>T4U measured</th>\n",
       "      <th>TSH measured</th>\n",
       "      <th>goitre</th>\n",
       "      <th>lithium</th>\n",
       "      <th>on thyroxine</th>\n",
       "      <th>pregnant</th>\n",
       "      <th>psych</th>\n",
       "      <th>query hyperthyroid</th>\n",
       "      <th>query hypothyroid</th>\n",
       "      <th>sick</th>\n",
       "      <th>class_id</th>\n",
       "    </tr>\n",
       "  </thead>\n",
       "  <tbody>\n",
       "    <tr>\n",
       "      <th>1</th>\n",
       "      <td>53.0</td>\n",
       "      <td>M</td>\n",
       "      <td>f</td>\n",
       "      <td>f</td>\n",
       "      <td>f</td>\n",
       "      <td>f</td>\n",
       "      <td>f</td>\n",
       "      <td>f</td>\n",
       "      <td>0.3</td>\n",
       "      <td>t</td>\n",
       "      <td>1.2</td>\n",
       "      <td>t</td>\n",
       "      <td>105.0</td>\n",
       "      <td>0.91</td>\n",
       "      <td>t</td>\n",
       "      <td>115</td>\n",
       "      <td>SVHC</td>\n",
       "      <td>negative.</td>\n",
       "      <td>Private</td>\n",
       "      <td>90021</td>\n",
       "      <td>HS-grad</td>\n",
       "      <td>9</td>\n",
       "      <td>Married-civ-spouse</td>\n",
       "      <td>Handlers-cleaners</td>\n",
       "      <td>Husband</td>\n",
       "      <td>White</td>\n",
       "      <td>0</td>\n",
       "      <td>0</td>\n",
       "      <td>40</td>\n",
       "      <td>?</td>\n",
       "      <td>1965-01-22</td>\n",
       "      <td>t</td>\n",
       "      <td>t</td>\n",
       "      <td>f</td>\n",
       "      <td>f</td>\n",
       "      <td>f</td>\n",
       "      <td>f</td>\n",
       "      <td>f</td>\n",
       "      <td>f</td>\n",
       "      <td>f</td>\n",
       "      <td>f</td>\n",
       "      <td>232</td>\n",
       "    </tr>\n",
       "    <tr>\n",
       "      <th>2</th>\n",
       "      <td>73.0</td>\n",
       "      <td>M</td>\n",
       "      <td>f</td>\n",
       "      <td>f</td>\n",
       "      <td>f</td>\n",
       "      <td>f</td>\n",
       "      <td>f</td>\n",
       "      <td>f</td>\n",
       "      <td>2.1</td>\n",
       "      <td>t</td>\n",
       "      <td>1.9</td>\n",
       "      <td>t</td>\n",
       "      <td>118.0</td>\n",
       "      <td>0.9</td>\n",
       "      <td>t</td>\n",
       "      <td>131</td>\n",
       "      <td>SVI</td>\n",
       "      <td>negative.</td>\n",
       "      <td>Private</td>\n",
       "      <td>97411</td>\n",
       "      <td>7th-8th</td>\n",
       "      <td>4</td>\n",
       "      <td>Never-married</td>\n",
       "      <td>Machine-op-inspct</td>\n",
       "      <td>Not-in-family</td>\n",
       "      <td>Asian-Pac-Islander</td>\n",
       "      <td>0</td>\n",
       "      <td>0</td>\n",
       "      <td>45</td>\n",
       "      <td>Laos</td>\n",
       "      <td>1944-04-01</td>\n",
       "      <td>t</td>\n",
       "      <td>t</td>\n",
       "      <td>f</td>\n",
       "      <td>f</td>\n",
       "      <td>f</td>\n",
       "      <td>f</td>\n",
       "      <td>f</td>\n",
       "      <td>f</td>\n",
       "      <td>f</td>\n",
       "      <td>t</td>\n",
       "      <td>3255</td>\n",
       "    </tr>\n",
       "    <tr>\n",
       "      <th>3</th>\n",
       "      <td>73.0</td>\n",
       "      <td>F</td>\n",
       "      <td>f</td>\n",
       "      <td>f</td>\n",
       "      <td>f</td>\n",
       "      <td>f</td>\n",
       "      <td>f</td>\n",
       "      <td>f</td>\n",
       "      <td>1.6</td>\n",
       "      <td>t</td>\n",
       "      <td>2.0</td>\n",
       "      <td>t</td>\n",
       "      <td>105.0</td>\n",
       "      <td>1.17</td>\n",
       "      <td>t</td>\n",
       "      <td>89</td>\n",
       "      <td>SVI</td>\n",
       "      <td>negative.</td>\n",
       "      <td>Local-gov</td>\n",
       "      <td>89491</td>\n",
       "      <td>Masters</td>\n",
       "      <td>14</td>\n",
       "      <td>Divorced</td>\n",
       "      <td>Exec-managerial</td>\n",
       "      <td>Not_in_family</td>\n",
       "      <td>White</td>\n",
       "      <td>0</td>\n",
       "      <td>0</td>\n",
       "      <td>40</td>\n",
       "      <td>United-States</td>\n",
       "      <td>45-03-12</td>\n",
       "      <td>t</td>\n",
       "      <td>t</td>\n",
       "      <td>f</td>\n",
       "      <td>f</td>\n",
       "      <td>f</td>\n",
       "      <td>f</td>\n",
       "      <td>f</td>\n",
       "      <td>f</td>\n",
       "      <td>f</td>\n",
       "      <td>f</td>\n",
       "      <td>322</td>\n",
       "    </tr>\n",
       "    <tr>\n",
       "      <th>4</th>\n",
       "      <td>24.0</td>\n",
       "      <td>M</td>\n",
       "      <td>f</td>\n",
       "      <td>f</td>\n",
       "      <td>f</td>\n",
       "      <td>f</td>\n",
       "      <td>f</td>\n",
       "      <td>f</td>\n",
       "      <td>1.3</td>\n",
       "      <td>t</td>\n",
       "      <td>1.7</td>\n",
       "      <td>t</td>\n",
       "      <td>106.0</td>\n",
       "      <td>1.0</td>\n",
       "      <td>t</td>\n",
       "      <td>106</td>\n",
       "      <td>SVHC</td>\n",
       "      <td>negative.</td>\n",
       "      <td>Private</td>\n",
       "      <td>279636</td>\n",
       "      <td>HS-grad</td>\n",
       "      <td>9</td>\n",
       "      <td>Never-married</td>\n",
       "      <td>Adm-clerical</td>\n",
       "      <td>Not-in-family</td>\n",
       "      <td>White</td>\n",
       "      <td>0</td>\n",
       "      <td>0</td>\n",
       "      <td>50</td>\n",
       "      <td>Guatemala</td>\n",
       "      <td>1993-12-26</td>\n",
       "      <td>t</td>\n",
       "      <td>t</td>\n",
       "      <td>f</td>\n",
       "      <td>f</td>\n",
       "      <td>F</td>\n",
       "      <td>f</td>\n",
       "      <td>f</td>\n",
       "      <td>f</td>\n",
       "      <td>f</td>\n",
       "      <td>f</td>\n",
       "      <td>2462</td>\n",
       "    </tr>\n",
       "    <tr>\n",
       "      <th>5</th>\n",
       "      <td>25.0</td>\n",
       "      <td>F</td>\n",
       "      <td>f</td>\n",
       "      <td>f</td>\n",
       "      <td>f</td>\n",
       "      <td>f</td>\n",
       "      <td>f</td>\n",
       "      <td>f</td>\n",
       "      <td>468.0</td>\n",
       "      <td>t</td>\n",
       "      <td>0.7</td>\n",
       "      <td>t</td>\n",
       "      <td>21.0</td>\n",
       "      <td>1.1</td>\n",
       "      <td>t</td>\n",
       "      <td>19</td>\n",
       "      <td>other</td>\n",
       "      <td>negative.</td>\n",
       "      <td>Private</td>\n",
       "      <td>172577</td>\n",
       "      <td>Some-college</td>\n",
       "      <td>10</td>\n",
       "      <td>Divorced</td>\n",
       "      <td>Adm-clerical</td>\n",
       "      <td>Not-in-family</td>\n",
       "      <td>White</td>\n",
       "      <td>0</td>\n",
       "      <td>0</td>\n",
       "      <td>44</td>\n",
       "      <td>United-States</td>\n",
       "      <td>1992-08-27</td>\n",
       "      <td>t</td>\n",
       "      <td>t</td>\n",
       "      <td>f</td>\n",
       "      <td>f</td>\n",
       "      <td>F</td>\n",
       "      <td>f</td>\n",
       "      <td>f</td>\n",
       "      <td>f</td>\n",
       "      <td>f</td>\n",
       "      <td>f</td>\n",
       "      <td>3047</td>\n",
       "    </tr>\n",
       "  </tbody>\n",
       "</table>\n",
       "</div>"
      ],
      "text/plain": [
       "    age sex query on thyroxine on antithyroid medication thyroid surgery  \\\n",
       "1  53.0   M                  f                         f               f   \n",
       "2  73.0   M                  f                         f               f   \n",
       "3  73.0   F                  f                         f               f   \n",
       "4  24.0   M                  f                         f               f   \n",
       "5  25.0   F                  f                         f               f   \n",
       "\n",
       "  I131 treatment tumor hypopituitary    TSH T3 measured   T3 TT4 measured  \\\n",
       "1              f     f             f    0.3           t  1.2            t   \n",
       "2              f     f             f    2.1           t  1.9            t   \n",
       "3              f     f             f    1.6           t  2.0            t   \n",
       "4              f     f             f    1.3           t  1.7            t   \n",
       "5              f     f             f  468.0           t  0.7            t   \n",
       "\n",
       "     TT4   T4U FTI measured  FTI referral source      class   workclass  \\\n",
       "1  105.0  0.91            t  115            SVHC  negative.     Private   \n",
       "2  118.0   0.9            t  131             SVI  negative.     Private   \n",
       "3  105.0  1.17            t   89             SVI  negative.   Local-gov   \n",
       "4  106.0   1.0            t  106            SVHC  negative.     Private   \n",
       "5   21.0   1.1            t   19           other  negative.     Private   \n",
       "\n",
       "   fnlwgt      education education-num       marital-status  \\\n",
       "1   90021        HS-grad             9   Married-civ-spouse   \n",
       "2   97411        7th-8th             4        Never-married   \n",
       "3   89491        Masters            14             Divorced   \n",
       "4  279636        HS-grad             9        Never-married   \n",
       "5  172577   Some-college            10             Divorced   \n",
       "\n",
       "           occupation    relationship                 race capital-gain  \\\n",
       "1   Handlers-cleaners         Husband                White            0   \n",
       "2   Machine-op-inspct   Not-in-family   Asian-Pac-Islander            0   \n",
       "3     Exec-managerial   Not_in_family                White            0   \n",
       "4        Adm-clerical   Not-in-family                White            0   \n",
       "5        Adm-clerical   Not-in-family                White            0   \n",
       "\n",
       "  capital-loss hours-per-week  native-country date_of_birth T4U measured  \\\n",
       "1            0             40               ?    1965-01-22            t   \n",
       "2            0             45            Laos    1944-04-01            t   \n",
       "3            0             40   United-States      45-03-12            t   \n",
       "4            0             50       Guatemala    1993-12-26            t   \n",
       "5            0             44   United-States    1992-08-27            t   \n",
       "\n",
       "  TSH measured goitre lithium on thyroxine pregnant psych query hyperthyroid  \\\n",
       "1            t      f       f            f        f     f                  f   \n",
       "2            t      f       f            f        f     f                  f   \n",
       "3            t      f       f            f        f     f                  f   \n",
       "4            t      f       f            F        f     f                  f   \n",
       "5            t      f       f            F        f     f                  f   \n",
       "\n",
       "  query hypothyroid sick class_id  \n",
       "1                 f    f      232  \n",
       "2                 f    t     3255  \n",
       "3                 f    f      322  \n",
       "4                 f    f     2462  \n",
       "5                 f    f     3047  "
      ]
     },
     "execution_count": 8,
     "metadata": {},
     "output_type": "execute_result"
    }
   ],
   "source": [
    "upraveny = upraveny.iloc[1:]\n",
    "upraveny = upraveny.drop(upraveny.columns[[0]], axis=1)\n",
    "del upraveny['TBG']\n",
    "del upraveny['TBG measured']\n",
    "del upraveny['medical_info']\n",
    "upraveny[['class','class_id']] = upraveny['class'].str.split('|',expand=True)\n",
    "upraveny.head()"
   ]
  },
  {
   "cell_type": "markdown",
   "metadata": {},
   "source": [
    "### Oprava formatov dat\n",
    "\n",
    "V nasledujucej casti opravujeme a zjednocujeme formaty dat:\n",
    "Napr. v stlpci referral source zjednotime sVHD a SVHD na svhd, alebo datumy narodeni zjednotime na jednotny format"
   ]
  },
  {
   "cell_type": "markdown",
   "metadata": {},
   "source": [
    "#### Stlpec age"
   ]
  },
  {
   "cell_type": "code",
   "execution_count": 9,
   "metadata": {},
   "outputs": [
    {
     "data": {
      "text/plain": [
       "2799"
      ]
     },
     "execution_count": 9,
     "metadata": {},
     "output_type": "execute_result"
    }
   ],
   "source": [
    "upraveny['age'].count()"
   ]
  },
  {
   "cell_type": "markdown",
   "metadata": {},
   "source": [
    "**Oprava age**:\n",
    "1. Zaporne hodnoty zmenime na kladne\n",
    "2. Vek > 100 dame deleno 10, vek > 1000 dame deleno 100"
   ]
  },
  {
   "cell_type": "code",
   "execution_count": 10,
   "metadata": {},
   "outputs": [
    {
     "data": {
      "text/plain": [
       "array([53, 73, 24, 25, 60, 32, 71, 27, 64, 65, 34, 51, 62, 42, 47, 30, 75,\n",
       "       35, 36, 39, 0, 72, 79, 40, 38, 48, 50, 23, 81, 43, 57, 77, 56, 59,\n",
       "       67, 58, 18, 22, 55, 63, 46, 29, 74, 66, 90, 2, 70, 13, 69, 68, 17,\n",
       "       31, 44, 78, 52, 89, 49, 19, 28, 21, 20, 54, 87, 26, 61, 41, 76, 15,\n",
       "       37, 45, 12, 83, 16, 84, 85, 86, 33, 93, 80, 91, 1, 4, 14, 82, 8,\n",
       "       94, 7, 11, 1000, 92, 88, 5, 6, 10], dtype=object)"
      ]
     },
     "execution_count": 10,
     "metadata": {},
     "output_type": "execute_result"
    }
   ],
   "source": [
    "import numbers\n",
    "\n",
    "for i, a in upraveny['age'].iteritems():\n",
    "    a = float(a)    \n",
    "    a = abs(a)\n",
    "    a = a%100\n",
    "    \n",
    "    if np.isnan(a):\n",
    "        a = 1000\n",
    "    \n",
    "    a = int(a)\n",
    "    upraveny['age'][i] = a\n",
    "\n",
    "upraveny['age'].unique()"
   ]
  },
  {
   "cell_type": "markdown",
   "metadata": {},
   "source": [
    "#### Stlpec referral source"
   ]
  },
  {
   "cell_type": "code",
   "execution_count": 11,
   "metadata": {},
   "outputs": [
    {
     "data": {
      "text/plain": [
       "array(['SVHC', 'SVI', 'other', 'Other', 'sVHC', 'sVI', 'STMW', 'SVHD',\n",
       "       'sTMW', 'sVHD'], dtype=object)"
      ]
     },
     "execution_count": 11,
     "metadata": {},
     "output_type": "execute_result"
    }
   ],
   "source": [
    "upraveny[\"referral source\"].unique()"
   ]
  },
  {
   "cell_type": "code",
   "execution_count": 12,
   "metadata": {},
   "outputs": [
    {
     "data": {
      "text/plain": [
       "other    1464\n",
       "SVI       698\n",
       "SVHC      247\n",
       "Other     168\n",
       "STMW       83\n",
       "sVI        73\n",
       "SVHD       28\n",
       "sVHC       28\n",
       "sTMW        8\n",
       "sVHD        3\n",
       "Name: referral source, dtype: int64"
      ]
     },
     "execution_count": 12,
     "metadata": {},
     "output_type": "execute_result"
    }
   ],
   "source": [
    "upraveny[\"referral source\"].value_counts()"
   ]
  },
  {
   "cell_type": "code",
   "execution_count": 13,
   "metadata": {},
   "outputs": [
    {
     "data": {
      "text/plain": [
       "array(['svhc', 'svi', 'other', 'stmw', 'svhd'], dtype=object)"
      ]
     },
     "execution_count": 13,
     "metadata": {},
     "output_type": "execute_result"
    }
   ],
   "source": [
    "ppl = Pipeline([\n",
    "              ('name1', Transform('referral source', 'SVHC', 'svhc')),\n",
    "              ('name2', Transform('referral source', 'SVI', 'svi')),\n",
    "              ('name3', Transform('referral source', 'Other', 'other')),\n",
    "              ('name4', Transform('referral source', 'sVHC', 'svhc')),\n",
    "              ('name5', Transform('referral source', 'sVI', 'svi')),\n",
    "              ('name6', Transform('referral source', 'STMW', 'stmw')),\n",
    "              ('name7', Transform('referral source', 'SVHD', 'svhd')),\n",
    "              ('name8', Transform('referral source', 'sTMW', 'stmw')),\n",
    "              ('name9', Transform('referral source', 'sVHD', 'svhd')),\n",
    "      ])\n",
    "\n",
    "model = ppl.fit(upraveny)\n",
    "upraveny = model.transform(upraveny)\n",
    "upraveny['referral source'].unique()"
   ]
  },
  {
   "cell_type": "code",
   "execution_count": 14,
   "metadata": {},
   "outputs": [
    {
     "data": {
      "text/plain": [
       "<matplotlib.axes._subplots.AxesSubplot at 0x1d23a8374e0>"
      ]
     },
     "execution_count": 14,
     "metadata": {},
     "output_type": "execute_result"
    },
    {
     "data": {
      "image/png": "[encoded data removed]",
      "text/plain": [
       "<matplotlib.figure.Figure at 0x1d23a837f60>"
      ]
     },
     "metadata": {},
     "output_type": "display_data"
    }
   ],
   "source": [
    "upraveny['referral source'].value_counts().plot(kind='bar')"
   ]
  },
  {
   "cell_type": "markdown",
   "metadata": {},
   "source": [
    "#### Stlpec relationship"
   ]
  },
  {
   "cell_type": "code",
   "execution_count": 15,
   "metadata": {},
   "outputs": [
    {
     "data": {
      "text/plain": [
       "array([' Husband', ' Not-in-family', ' Not_in_family', ' Wife',\n",
       "       ' Own-child', ' Unmarried', ' Other-relative', ' Other_relative',\n",
       "       ' Own_child'], dtype=object)"
      ]
     },
     "execution_count": 15,
     "metadata": {},
     "output_type": "execute_result"
    }
   ],
   "source": [
    "upraveny['relationship'].unique()"
   ]
  },
  {
   "cell_type": "code",
   "execution_count": 16,
   "metadata": {},
   "outputs": [
    {
     "data": {
      "text/plain": [
       "array(['Husband', 'Not-in-family', 'Wife', 'Own-child', 'Unmarried',\n",
       "       'Other-relative'], dtype=object)"
      ]
     },
     "execution_count": 16,
     "metadata": {},
     "output_type": "execute_result"
    }
   ],
   "source": [
    "for i, rel in upraveny['relationship'].iteritems():\n",
    "    rel = rel.strip()\n",
    "    upraveny['relationship'][i] = rel\n",
    "\n",
    "line = Pipeline([\n",
    "              ('r1', Transform('relationship', 'Not_in_family', 'Not-in-family')),\n",
    "              ('r2', Transform('relationship', 'Own_child', 'Own-child')),\n",
    "              ('r3', Transform('relationship', 'Other_relative', 'Other-relative')),\n",
    "      ])\n",
    "\n",
    "model = line.fit(upraveny)\n",
    "upraveny = model.transform(upraveny)\n",
    "\n",
    "upraveny['relationship'].unique()"
   ]
  },
  {
   "cell_type": "code",
   "execution_count": 17,
   "metadata": {},
   "outputs": [
    {
     "data": {
      "text/plain": [
       "<matplotlib.axes._subplots.AxesSubplot at 0x1d23c898f28>"
      ]
     },
     "execution_count": 17,
     "metadata": {},
     "output_type": "execute_result"
    },
    {
     "data": {
      "image/png": "[encoded data removed]",
      "text/plain": [
       "<matplotlib.figure.Figure at 0x1d2376b5550>"
      ]
     },
     "metadata": {},
     "output_type": "display_data"
    }
   ],
   "source": [
    "upraveny['relationship'].value_counts().plot(kind='bar')"
   ]
  },
  {
   "cell_type": "markdown",
   "metadata": {},
   "source": [
    "#### Stlpec race\n",
    "\n",
    "Odstranenie zaciatocnych bielych znakov"
   ]
  },
  {
   "cell_type": "code",
   "execution_count": 18,
   "metadata": {},
   "outputs": [
    {
     "data": {
      "text/plain": [
       "array([' White', ' Asian-Pac-Islander', ' Black', ' Amer-Indian-Eskimo',\n",
       "       ' Other'], dtype=object)"
      ]
     },
     "execution_count": 18,
     "metadata": {},
     "output_type": "execute_result"
    }
   ],
   "source": [
    "upraveny['race'].unique()"
   ]
  },
  {
   "cell_type": "code",
   "execution_count": 19,
   "metadata": {},
   "outputs": [
    {
     "data": {
      "text/plain": [
       "array(['White', 'Asian-Pac-Islander', 'Black', 'Amer-Indian-Eskimo',\n",
       "       'Other'], dtype=object)"
      ]
     },
     "execution_count": 19,
     "metadata": {},
     "output_type": "execute_result"
    }
   ],
   "source": [
    "for i,race in upraveny['race'].iteritems():\n",
    "    race = race.strip()\n",
    "    upraveny['race'][i] = race\n",
    "\n",
    "upraveny['race'].unique()"
   ]
  },
  {
   "cell_type": "code",
   "execution_count": 20,
   "metadata": {},
   "outputs": [
    {
     "data": {
      "text/plain": [
       "<matplotlib.axes._subplots.AxesSubplot at 0x1d23c968860>"
      ]
     },
     "execution_count": 20,
     "metadata": {},
     "output_type": "execute_result"
    },
    {
     "data": {
      "image/png": "[encoded data removed]",
      "text/plain": [
       "<matplotlib.figure.Figure at 0x1d23c9a1eb8>"
      ]
     },
     "metadata": {},
     "output_type": "display_data"
    }
   ],
   "source": [
    "upraveny['race'].value_counts().plot(kind='bar')"
   ]
  },
  {
   "cell_type": "markdown",
   "metadata": {},
   "source": [
    "#### Stlpec native-country\n",
    "\n",
    "Odstranenie zaciatocnych bielych znakov"
   ]
  },
  {
   "cell_type": "code",
   "execution_count": 21,
   "metadata": {},
   "outputs": [
    {
     "data": {
      "text/plain": [
       "array([' ?', ' Laos', ' United-States', ' Guatemala', ' Puerto-Rico',\n",
       "       ' Mexico', ' Ireland', ' Cuba', ' Honduras', ' Italy',\n",
       "       ' Dominican-Republic', ' Peru', ' Canada', ' Portugal',\n",
       "       ' Philippines', ' South', ' Jamaica', ' India', ' France',\n",
       "       ' Germany', ' England', ' Outlying-US(Guam-USVI-etc)', ' Poland',\n",
       "       ' Ecuador', ' Columbia', ' China', ' El-Salvador', ' Cambodia',\n",
       "       ' Japan', ' Thailand', ' Haiti', ' Iran', ' Hungary', ' Vietnam',\n",
       "       ' Yugoslavia', ' Taiwan', ' Nicaragua', ' Hong', ' Scotland',\n",
       "       ' Greece'], dtype=object)"
      ]
     },
     "execution_count": 21,
     "metadata": {},
     "output_type": "execute_result"
    }
   ],
   "source": [
    "upraveny['native-country'].unique()"
   ]
  },
  {
   "cell_type": "code",
   "execution_count": 22,
   "metadata": {},
   "outputs": [
    {
     "data": {
      "text/plain": [
       "array(['?', 'Laos', 'United-States', 'Guatemala', 'Puerto-Rico', 'Mexico',\n",
       "       'Ireland', 'Cuba', 'Honduras', 'Italy', 'Dominican-Republic',\n",
       "       'Peru', 'Canada', 'Portugal', 'Philippines', 'South', 'Jamaica',\n",
       "       'India', 'France', 'Germany', 'England',\n",
       "       'Outlying-US(Guam-USVI-etc)', 'Poland', 'Ecuador', 'Columbia',\n",
       "       'China', 'El-Salvador', 'Cambodia', 'Japan', 'Thailand', 'Haiti',\n",
       "       'Iran', 'Hungary', 'Vietnam', 'Yugoslavia', 'Taiwan', 'Nicaragua',\n",
       "       'Hong', 'Scotland', 'Greece'], dtype=object)"
      ]
     },
     "execution_count": 22,
     "metadata": {},
     "output_type": "execute_result"
    }
   ],
   "source": [
    "for i,race in upraveny['native-country'].iteritems():\n",
    "    race = race.strip()\n",
    "    upraveny['native-country'][i] = race\n",
    "\n",
    "upraveny['native-country'].unique()"
   ]
  },
  {
   "cell_type": "code",
   "execution_count": 23,
   "metadata": {},
   "outputs": [
    {
     "data": {
      "text/plain": [
       "<matplotlib.axes._subplots.AxesSubplot at 0x1d23c9f4b00>"
      ]
     },
     "execution_count": 23,
     "metadata": {},
     "output_type": "execute_result"
    },
    {
     "data": {
      "image/png": "[encoded data removed]",
      "text/plain": [
       "<matplotlib.figure.Figure at 0x1d23c9f44a8>"
      ]
     },
     "metadata": {},
     "output_type": "display_data"
    }
   ],
   "source": [
    "upraveny['native-country'].value_counts().plot(kind='bar')"
   ]
  },
  {
   "cell_type": "markdown",
   "metadata": {},
   "source": [
    "#### Stlpec date_of_birth\n",
    "\n",
    "Zjednotenie formatov datumov"
   ]
  },
  {
   "cell_type": "code",
   "execution_count": 24,
   "metadata": {},
   "outputs": [
    {
     "data": {
      "text/plain": [
       "1     1965-01-22\n",
       "2     1944-04-01\n",
       "3     2045-03-12\n",
       "4     1993-12-26\n",
       "5     1992-08-27\n",
       "6     1958-02-13\n",
       "7     1985-07-26\n",
       "8     1946-06-21\n",
       "9     1990-06-02\n",
       "10    1953-06-30\n",
       "11    1952-04-08\n",
       "12    1984-02-08\n",
       "13    1966-08-06\n",
       "14    1994-03-08\n",
       "15    1956-03-19\n",
       "Name: date_of_birth, dtype: object"
      ]
     },
     "execution_count": 24,
     "metadata": {},
     "output_type": "execute_result"
    }
   ],
   "source": [
    "for i,date in upraveny['date_of_birth'].iteritems():\n",
    "    \n",
    "    if(str(date) != 'nan'):        \n",
    "        aa = guess_date(str(date))\n",
    "        upraveny['date_of_birth'][i] = aa\n",
    "\n",
    "upraveny['date_of_birth'].head(15)"
   ]
  },
  {
   "cell_type": "markdown",
   "metadata": {},
   "source": [
    "#### Slpec on thyroxine\n",
    "\n",
    "Uprava na jednotny format (t,f)"
   ]
  },
  {
   "cell_type": "code",
   "execution_count": 25,
   "metadata": {},
   "outputs": [
    {
     "data": {
      "text/plain": [
       "array(['f', 'F', 't', 'T', 'TRUE', 'FALSE', nan], dtype=object)"
      ]
     },
     "execution_count": 25,
     "metadata": {},
     "output_type": "execute_result"
    }
   ],
   "source": [
    "upraveny['on thyroxine'].unique()"
   ]
  },
  {
   "cell_type": "code",
   "execution_count": 26,
   "metadata": {},
   "outputs": [
    {
     "data": {
      "text/plain": [
       "array(['f', 't', nan], dtype=object)"
      ]
     },
     "execution_count": 26,
     "metadata": {},
     "output_type": "execute_result"
    }
   ],
   "source": [
    "line = Pipeline([\n",
    "              ('ot1', Transform('on thyroxine', 'F', 'f')),\n",
    "              ('ot2', Transform('on thyroxine', 'T', 't')),\n",
    "              ('ot3', Transform('on thyroxine', 'FALSE', 'f')),\n",
    "              ('ot4', Transform('on thyroxine', 'TRUE', 't')),\n",
    "      ])\n",
    "\n",
    "model = line.fit(upraveny)\n",
    "upraveny = model.transform(upraveny)\n",
    "\n",
    "upraveny['on thyroxine'].unique()"
   ]
  },
  {
   "cell_type": "code",
   "execution_count": 27,
   "metadata": {},
   "outputs": [
    {
     "data": {
      "text/plain": [
       "<matplotlib.axes._subplots.AxesSubplot at 0x1d23c9f4a20>"
      ]
     },
     "execution_count": 27,
     "metadata": {},
     "output_type": "execute_result"
    },
    {
     "data": {
      "image/png": "[encoded data removed]",
      "text/plain": [
       "<matplotlib.figure.Figure at 0x1d23c957630>"
      ]
     },
     "metadata": {},
     "output_type": "display_data"
    }
   ],
   "source": [
    "upraveny['on thyroxine'].value_counts().plot(kind='bar')"
   ]
  },
  {
   "cell_type": "markdown",
   "metadata": {},
   "source": [
    "## Chybajuce a vychylene hodnoty v numerickych stlpcoch"
   ]
  },
  {
   "cell_type": "markdown",
   "metadata": {},
   "source": [
    "V stlpci **age** sa v testovacich datach nachadza iba 1 udaj, ktory chyba a ktory nevieme nahradit podla datumu narodenia, ktory tiez chyba. Rozhodli sme sa ho nahradit priemernym vekom"
   ]
  },
  {
   "cell_type": "code",
   "execution_count": null,
   "metadata": {},
   "outputs": [],
   "source": []
  },
  {
   "cell_type": "code",
   "execution_count": 33,
   "metadata": {},
   "outputs": [
    {
     "data": {
      "text/plain": [
       "1       53\n",
       "2       73\n",
       "3       73\n",
       "4       24\n",
       "5       25\n",
       "6       60\n",
       "7       32\n",
       "8       71\n",
       "9       27\n",
       "10      64\n",
       "11      65\n",
       "12      34\n",
       "13      51\n",
       "14      24\n",
       "15      62\n",
       "16      53\n",
       "17      34\n",
       "18      42\n",
       "19      47\n",
       "20      30\n",
       "21      75\n",
       "22      35\n",
       "23      36\n",
       "24      64\n",
       "25      39\n",
       "        ..\n",
       "2776     0\n",
       "2777    76\n",
       "2778     0\n",
       "2779    61\n",
       "2780    63\n",
       "2781    35\n",
       "2782    40\n",
       "2783    23\n",
       "2784    73\n",
       "2785    66\n",
       "2786    72\n",
       "2787    88\n",
       "2788    15\n",
       "2789    75\n",
       "2790    59\n",
       "2791    65\n",
       "2792    48\n",
       "2793    21\n",
       "2794    36\n",
       "2795    38\n",
       "2796    56\n",
       "2797    49\n",
       "2798    61\n",
       "2799    79\n",
       "2800    61\n",
       "Name: age, Length: 2800, dtype: object"
      ]
     },
     "execution_count": 33,
     "metadata": {},
     "output_type": "execute_result"
    }
   ],
   "source": [
    "from datetime import date\n",
    "from datetime import datetime\n",
    "\n",
    "def calculate_age(born):\n",
    "    today = date.today()\n",
    "    return today.year - born.year - ((today.month, today.day) < (born.month, born.day))\n",
    "\n",
    "for i, age in upraveny['age'].iteritems():\n",
    "    if age == 1000 and not np.isnan(upraveny['date_of_birth'][i]):        \n",
    "        datetime_object = datetime.strptime(str(upraveny['date_of_birth'][i]), '%Y-%m-%d')\n",
    "        upraveny['age'][i] = calculate_age(datetime_object)\n",
    "    elif age == 1000 and np.isnan(upraveny['date_of_birth'][i]):\n",
    "        #vymazat ten riadok\n",
    "        del upraveny\n"
   ]
  },
  {
   "cell_type": "code",
   "execution_count": null,
   "metadata": {},
   "outputs": [],
   "source": [
    "upraveny['age'].unique()"
   ]
  },
  {
   "cell_type": "markdown",
   "metadata": {},
   "source": [
    "### TSH a TSH measured"
   ]
  },
  {
   "cell_type": "code",
   "execution_count": null,
   "metadata": {},
   "outputs": [],
   "source": [
    "upraveny['TSH'].unique()"
   ]
  },
  {
   "cell_type": "code",
   "execution_count": null,
   "metadata": {},
   "outputs": [],
   "source": [
    "upraveny['TSH measured'].value_counts()"
   ]
  },
  {
   "cell_type": "code",
   "execution_count": null,
   "metadata": {},
   "outputs": [],
   "source": [
    "lst = upraveny['TSH'].copy()\n",
    "\n",
    "for i,a in upraveny['TSH'].iteritems():\n",
    "    if float(a) > 0.0:\n",
    "        lst[i] = 1\n",
    "    else:\n",
    "        lst[i] = 0\n",
    "        \n",
    "pd.crosstab(index=upraveny['TSH measured'], columns=lst).plot.bar(stacked=True)"
   ]
  },
  {
   "cell_type": "markdown",
   "metadata": {},
   "source": [
    "Z grafu vidime, ze pri TSH a TSH measured mame nekonzistentne data - tam, kde sme zaznamenali, ze TSH sa nemeralo (TSH measured bolo false), tak v stlpci TSH predsa len nejaka namerana hodnota bola a naopak. Potrebujeme to opravit"
   ]
  },
  {
   "cell_type": "code",
   "execution_count": null,
   "metadata": {},
   "outputs": [],
   "source": [
    "for i, value in upraveny['TSH'].iteritems():\n",
    "    if float(value) > 0:\n",
    "        upraveny['TSH measured'][i] = 't'\n",
    "    else:\n",
    "        upraveny['TSH measured'][i] = 'f'\n",
    "\n",
    "lst = upraveny['TSH'].copy()\n",
    "\n",
    "for i,a in upraveny['TSH'].iteritems():\n",
    "    if float(a) > 0.0:\n",
    "        lst[i] = 1\n",
    "    else:\n",
    "        lst[i] = 0"
   ]
  },
  {
   "cell_type": "code",
   "execution_count": null,
   "metadata": {},
   "outputs": [],
   "source": [
    "pd.crosstab(index=upraveny['TSH measured'], columns=lst).plot.bar(stacked=True)"
   ]
  },
  {
   "cell_type": "markdown",
   "metadata": {},
   "source": [
    "### T3 a T3 measured"
   ]
  },
  {
   "cell_type": "code",
   "execution_count": null,
   "metadata": {},
   "outputs": [],
   "source": [
    "upraveny['T3'].unique()"
   ]
  },
  {
   "cell_type": "code",
   "execution_count": null,
   "metadata": {},
   "outputs": [],
   "source": [
    "upraveny['T3 measured'].unique()"
   ]
  },
  {
   "cell_type": "code",
   "execution_count": null,
   "metadata": {},
   "outputs": [],
   "source": [
    "lstT3 = upraveny['T3'].copy()\n",
    "\n",
    "for i,a in upraveny['T3'].iteritems():\n",
    "    if float(a) > 0.0:\n",
    "        lstT3[i] = 1\n",
    "    else:\n",
    "        lstT3[i] = 0\n",
    "        \n",
    "pd.crosstab(index=upraveny['T3 measured'], columns=lstT3).plot.bar(stacked=True)"
   ]
  },
  {
   "cell_type": "code",
   "execution_count": null,
   "metadata": {},
   "outputs": [],
   "source": [
    "# tu to netreba opravovat"
   ]
  },
  {
   "cell_type": "markdown",
   "metadata": {},
   "source": [
    "### TT4 a TT4 measured"
   ]
  },
  {
   "cell_type": "code",
   "execution_count": null,
   "metadata": {},
   "outputs": [],
   "source": [
    "upraveny['TT4'].unique()"
   ]
  },
  {
   "cell_type": "code",
   "execution_count": null,
   "metadata": {},
   "outputs": [],
   "source": [
    "upraveny['TT4 measured'].unique()"
   ]
  },
  {
   "cell_type": "code",
   "execution_count": null,
   "metadata": {},
   "outputs": [],
   "source": [
    "lstTT4 = upraveny['TT4'].copy()\n",
    "\n",
    "for i,a in upraveny['TT4'].iteritems():\n",
    "    if float(a) > 0.0:\n",
    "        lstTT4[i] = 1\n",
    "    else:\n",
    "        lstTT4[i] = 0\n",
    "        \n",
    "pd.crosstab(index=upraveny['TT4 measured'], columns=lstTT4).plot.bar(stacked=True)"
   ]
  },
  {
   "cell_type": "code",
   "execution_count": null,
   "metadata": {},
   "outputs": [],
   "source": [
    "# aj tt4 je pekne"
   ]
  },
  {
   "cell_type": "markdown",
   "metadata": {},
   "source": [
    "### Stlpec T4U a T4U measured"
   ]
  },
  {
   "cell_type": "code",
   "execution_count": null,
   "metadata": {},
   "outputs": [],
   "source": [
    "lstT4U = upraveny['T4U'].copy()\n",
    "\n",
    "for i,a in upraveny['T4U'].iteritems():\n",
    "    if float(a) > 0.0:\n",
    "        lstT4U[i] = 1\n",
    "    else:\n",
    "        lstT4U[i] = 0\n",
    "        \n",
    "pd.crosstab(index=upraveny['T4U measured'], columns=lstT4U).plot.bar(stacked=True)"
   ]
  },
  {
   "cell_type": "code",
   "execution_count": null,
   "metadata": {},
   "outputs": [],
   "source": [
    "for i, value in upraveny['T4U'].iteritems():\n",
    "    if float(value) > 0:\n",
    "        upraveny['T4U measured'][i] = 't'\n",
    "    else:\n",
    "        upraveny['T4U measured'][i] = 'f'\n",
    "\n",
    "lstT4U = upraveny['T4U'].copy()\n",
    "\n",
    "for i,a in upraveny['T4U'].iteritems():\n",
    "    if float(a) > 0.0:\n",
    "        lstT4U[i] = 1\n",
    "    else:\n",
    "        lstT4U[i] = 0"
   ]
  },
  {
   "cell_type": "code",
   "execution_count": null,
   "metadata": {},
   "outputs": [],
   "source": [
    "pd.crosstab(index=upraveny['T4U measured'], columns=lstT4U).plot.bar(stacked=True)"
   ]
  },
  {
   "cell_type": "markdown",
   "metadata": {},
   "source": [
    "### Stlpec FTI a FTI measured"
   ]
  },
  {
   "cell_type": "code",
   "execution_count": null,
   "metadata": {},
   "outputs": [],
   "source": [
    "upraveny['FTI'].unique() # treba opravit ? na 0"
   ]
  },
  {
   "cell_type": "code",
   "execution_count": null,
   "metadata": {},
   "outputs": [],
   "source": [
    "fti = Pipeline([\n",
    "              ('ot1', Transform('FTI', '?', '0')),\n",
    "      ])\n",
    "\n",
    "model = fti.fit(upraveny)\n",
    "upraveny = model.transform(upraveny)\n",
    "\n",
    "upraveny['FTI'].unique()"
   ]
  },
  {
   "cell_type": "code",
   "execution_count": null,
   "metadata": {},
   "outputs": [],
   "source": [
    "lstFTI = upraveny['FTI'].copy()\n",
    "\n",
    "for i,a in upraveny['FTI'].iteritems():\n",
    "    if float(a) > 0.0:\n",
    "        lstFTI[i] = 1\n",
    "    else:\n",
    "        lstFTI[i] = 0\n",
    "        \n",
    "pd.crosstab(index=upraveny['FTI measured'], columns=lstFTI).plot.bar(stacked=True)"
   ]
  },
  {
   "cell_type": "code",
   "execution_count": null,
   "metadata": {},
   "outputs": [],
   "source": [
    "#fti je ok"
   ]
  },
  {
   "cell_type": "markdown",
   "metadata": {},
   "source": [
    "### TSH, T4U, FTI, TT4 a T3"
   ]
  },
  {
   "cell_type": "markdown",
   "metadata": {},
   "source": [
    "#### TSH"
   ]
  },
  {
   "cell_type": "code",
   "execution_count": null,
   "metadata": {},
   "outputs": [],
   "source": [
    "upraveny['TSH'].count() #chyba nam 284 nameranych hodnot, aby sme mohli spravit s ostatnymi korelacie"
   ]
  },
  {
   "cell_type": "code",
   "execution_count": null,
   "metadata": {},
   "outputs": [],
   "source": [
    "upraveny['TSH'].value_counts().plot(kind='box')"
   ]
  },
  {
   "cell_type": "code",
   "execution_count": null,
   "metadata": {},
   "outputs": [],
   "source": [
    "upraveny['TSH'].value_counts().plot(kind='line')"
   ]
  },
  {
   "cell_type": "code",
   "execution_count": null,
   "metadata": {},
   "outputs": [],
   "source": [
    "for i,a in upraveny['TSH'].iteritems():\n",
    "    upraveny['TSH'][i] = float(a)\n",
    "    \n",
    "upraveny['TSH'].min()"
   ]
  },
  {
   "cell_type": "code",
   "execution_count": null,
   "metadata": {},
   "outputs": [],
   "source": [
    "logTSH = []\n",
    "for i,a in upraveny['TSH'].iteritems():\n",
    "    logTSH.append(float(a))\n",
    "\n",
    "transformed = np.log(logTSH) #logaritmus je pre kladne cisla, tak kedze najmensie je -1,52.. tak si to posuniem o dva,aby to bolo kladne\n",
    "pom = pd.Series(transformed).hist(bins=50)\n",
    "pom.set_title(\"index: logTSH (log transform)\")"
   ]
  },
  {
   "cell_type": "markdown",
   "metadata": {},
   "source": [
    "Doplnime chybajuce hodnoty **medianom**"
   ]
  },
  {
   "cell_type": "code",
   "execution_count": null,
   "metadata": {},
   "outputs": [],
   "source": [
    "import statistics\n",
    "\n",
    "median = statistics.median(upraveny['TSH'].value_counts())\n",
    "\n",
    "upraveny['TSH'] = upraveny['TSH'].fillna(median) #doplnenie chybajucich hodnot priemerom\n",
    "\n",
    "upraveny['TSH'].value_counts().plot(kind='hist', bins=250) #power law"
   ]
  },
  {
   "cell_type": "code",
   "execution_count": null,
   "metadata": {},
   "outputs": [],
   "source": [
    "logTSH_edited = []\n",
    "for i,a in upraveny['TSH'].iteritems():\n",
    "    logTSH_edited.append(float(a))\n",
    "\n",
    "transformed = np.log(logTSH_edited) #logaritmus je pre kladne cisla, tak kedze najmensie je -1,52.. tak si to posuniem o dva,aby to bolo kladne\n",
    "pom = pd.Series(transformed).hist(bins=50)\n",
    "pom.set_title(\"index: logTSH_edited (log transform)\")"
   ]
  },
  {
   "cell_type": "markdown",
   "metadata": {},
   "source": [
    "#### T4U"
   ]
  },
  {
   "cell_type": "code",
   "execution_count": null,
   "metadata": {},
   "outputs": [],
   "source": [
    "upraveny['T4U'].count() # tu nam chyba 297 dat"
   ]
  },
  {
   "cell_type": "code",
   "execution_count": null,
   "metadata": {},
   "outputs": [],
   "source": [
    "upraveny['T4U'].value_counts().plot(kind='line')"
   ]
  },
  {
   "cell_type": "markdown",
   "metadata": {},
   "source": [
    "#### FTI"
   ]
  },
  {
   "cell_type": "code",
   "execution_count": null,
   "metadata": {},
   "outputs": [],
   "source": [
    "upraveny['FTI'].value_counts().plot(kind='line')"
   ]
  },
  {
   "cell_type": "code",
   "execution_count": null,
   "metadata": {},
   "outputs": [],
   "source": [
    "upraveny['TT4'].value_counts().plot(kind='line')"
   ]
  },
  {
   "cell_type": "code",
   "execution_count": null,
   "metadata": {},
   "outputs": [],
   "source": [
    "upraveny['T3'].value_counts().plot(kind='line')"
   ]
  },
  {
   "cell_type": "code",
   "execution_count": null,
   "metadata": {},
   "outputs": [],
   "source": [
    "dataframe = pd.DataFrame()\n",
    "dataframe = dataframe.append(upraveny['TSH'])\n",
    "dataframe = dataframe.append(upraveny['T4U'])\n",
    "dataframe = dataframe.append(upraveny['FTI'])\n",
    "dataframe = dataframe.append(upraveny['TT4'])\n",
    "dataframe = dataframe.append(upraveny['T3'])"
   ]
  },
  {
   "cell_type": "code",
   "execution_count": null,
   "metadata": {},
   "outputs": [],
   "source": []
  },
  {
   "cell_type": "code",
   "execution_count": null,
   "metadata": {},
   "outputs": [],
   "source": []
  },
  {
   "cell_type": "markdown",
   "metadata": {},
   "source": [
    "## Zistenie relevantnych stlpcov pre predikciu class\n",
    "\n",
    "Nepotrebujeme opravit hodnoty (chybajuce, vychylene) v celom datasete, ale iba pre relevantne stlpce, s ktorymi budeme dalej pracovat a ktore nam predikuju **class**"
   ]
  },
  {
   "cell_type": "code",
   "execution_count": null,
   "metadata": {},
   "outputs": [],
   "source": [
    "#vytvorenie dataframe iba s numerickymi hodnotami\n",
    "\n"
   ]
  },
  {
   "cell_type": "code",
   "execution_count": null,
   "metadata": {},
   "outputs": [],
   "source": []
  }
 ],
 "metadata": {
  "kernelspec": {
   "display_name": "Python 3",
   "language": "python",
   "name": "python3"
  },
  "language_info": {
   "codemirror_mode": {
    "name": "ipython",
    "version": 3
   },
   "file_extension": ".py",
   "mimetype": "text/x-python",
   "name": "python",
   "nbconvert_exporter": "python",
   "pygments_lexer": "ipython3",
   "version": "3.6.4"
  }
 },
 "nbformat": 4,
 "nbformat_minor": 2
}
