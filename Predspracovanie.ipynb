{
 "cells": [
  {
   "cell_type": "markdown",
   "metadata": {},
   "source": [
    "# Predspracovanie datasetu č.17\n",
    "\n",
    "Andrea Dická, Ján Nemčík"
   ]
  },
  {
   "cell_type": "markdown",
   "metadata": {},
   "source": [
    "## Pomocne funkcie"
   ]
  },
  {
   "cell_type": "code",
   "execution_count": 1,
   "metadata": {},
   "outputs": [],
   "source": [
    "from sklearn.pipeline import make_pipeline\n",
    "from sklearn.base import TransformerMixin"
   ]
  },
  {
   "cell_type": "code",
   "execution_count": 2,
   "metadata": {},
   "outputs": [],
   "source": [
    "def check_if_number(inputString):\n",
    "    return any(char.replace('.','',1).isdigit() for char in str(inputString))"
   ]
  },
  {
   "cell_type": "code",
   "execution_count": 3,
   "metadata": {},
   "outputs": [],
   "source": [
    "class Transform(TransformerMixin):\n",
    "    def __init__(self, column, source, target):\n",
    "        self.column = column\n",
    "        self.source = source\n",
    "        self.target = target\n",
    "        \n",
    "    def fit(self, df, y=None, **fit_params):\n",
    "        return self\n",
    "    \n",
    "    def transform(self, df, **transform_params):\n",
    "        sample = df[self.column] == self.source\n",
    "        df.loc[sample, self.column] = self.target\n",
    "        return df"
   ]
  },
  {
   "cell_type": "code",
   "execution_count": 4,
   "metadata": {},
   "outputs": [],
   "source": [
    "from datetime import date\n",
    "import datetime\n",
    "\n",
    "def guess_date(string):\n",
    "    for fmt in [\"%Y/%m/%d\", \"%Y%m%d\", \"%y-%m-%d\", \"%Y-%m-%d\", \"%Y-%m-%d %H:%M:%S\", \"%Y-%m-%d %H %M %S\", \"%d/%m/%Y\"]:\n",
    "        try:\n",
    "            return datetime.datetime.strptime(string, fmt).date()\n",
    "        except ValueError:\n",
    "            continue\n",
    "    raise ValueError(string)"
   ]
  },
  {
   "cell_type": "markdown",
   "metadata": {},
   "source": [
    "## Predspracovanie"
   ]
  },
  {
   "cell_type": "code",
   "execution_count": 5,
   "metadata": {},
   "outputs": [],
   "source": [
    "%matplotlib inline\n",
    "import pandas as pd\n",
    "import numpy as np\n",
    "import matplotlib.pyplot as plt\n",
    "import seaborn as sb\n",
    "from sklearn.pipeline import Pipeline\n",
    "import matplotlib\n",
    "import statistics\n",
    "\n",
    "from sklearn.pipeline import make_pipeline\n",
    "from sklearn.base import TransformerMixin\n",
    "\n",
    "data = pd.read_csv(\"17/train.csv\", sep=',', header=None)\n",
    "upraveny = pd.read_csv(\"17/train.csv\", sep=',', header=None)\n",
    "\n",
    "pd.set_option('display.max_columns', None)\n",
    "pd.set_option('display.max_rows', 50)"
   ]
  },
  {
   "cell_type": "code",
   "execution_count": 6,
   "metadata": {},
   "outputs": [
    {
     "data": {
      "text/html": [
       "<div>\n",
       "<style scoped>\n",
       "    .dataframe tbody tr th:only-of-type {\n",
       "        vertical-align: middle;\n",
       "    }\n",
       "\n",
       "    .dataframe tbody tr th {\n",
       "        vertical-align: top;\n",
       "    }\n",
       "\n",
       "    .dataframe thead th {\n",
       "        text-align: right;\n",
       "    }\n",
       "</style>\n",
       "<table border=\"1\" class=\"dataframe\">\n",
       "  <thead>\n",
       "    <tr style=\"text-align: right;\">\n",
       "      <th></th>\n",
       "      <th>nan</th>\n",
       "      <th>age</th>\n",
       "      <th>sex</th>\n",
       "      <th>query on thyroxine</th>\n",
       "      <th>on antithyroid medication</th>\n",
       "      <th>thyroid surgery</th>\n",
       "      <th>I131 treatment</th>\n",
       "      <th>tumor</th>\n",
       "      <th>hypopituitary</th>\n",
       "      <th>TSH</th>\n",
       "      <th>T3 measured</th>\n",
       "      <th>T3</th>\n",
       "      <th>TT4 measured</th>\n",
       "      <th>TT4</th>\n",
       "      <th>T4U</th>\n",
       "      <th>FTI measured</th>\n",
       "      <th>FTI</th>\n",
       "      <th>TBG measured</th>\n",
       "      <th>TBG</th>\n",
       "      <th>referral source</th>\n",
       "      <th>class</th>\n",
       "      <th>workclass</th>\n",
       "      <th>fnlwgt</th>\n",
       "      <th>education</th>\n",
       "      <th>education-num</th>\n",
       "      <th>marital-status</th>\n",
       "      <th>occupation</th>\n",
       "      <th>relationship</th>\n",
       "      <th>race</th>\n",
       "      <th>capital-gain</th>\n",
       "      <th>capital-loss</th>\n",
       "      <th>hours-per-week</th>\n",
       "      <th>native-country</th>\n",
       "      <th>date_of_birth</th>\n",
       "      <th>medical_info</th>\n",
       "    </tr>\n",
       "  </thead>\n",
       "  <tbody>\n",
       "    <tr>\n",
       "      <th>1</th>\n",
       "      <td>0.0</td>\n",
       "      <td>53.0</td>\n",
       "      <td>M</td>\n",
       "      <td>f</td>\n",
       "      <td>f</td>\n",
       "      <td>f</td>\n",
       "      <td>f</td>\n",
       "      <td>f</td>\n",
       "      <td>f</td>\n",
       "      <td>0.3</td>\n",
       "      <td>t</td>\n",
       "      <td>1.2</td>\n",
       "      <td>t</td>\n",
       "      <td>105.0</td>\n",
       "      <td>0.91</td>\n",
       "      <td>t</td>\n",
       "      <td>115</td>\n",
       "      <td>f</td>\n",
       "      <td>?</td>\n",
       "      <td>SVHC</td>\n",
       "      <td>negative.|232</td>\n",
       "      <td>Private</td>\n",
       "      <td>90021</td>\n",
       "      <td>HS-grad</td>\n",
       "      <td>9</td>\n",
       "      <td>Married-civ-spouse</td>\n",
       "      <td>Handlers-cleaners</td>\n",
       "      <td>Husband</td>\n",
       "      <td>White</td>\n",
       "      <td>0</td>\n",
       "      <td>0</td>\n",
       "      <td>40</td>\n",
       "      <td>?</td>\n",
       "      <td>1965-01-22</td>\n",
       "      <td>{'goitre':'f','TSH measured':'t','pregnant':'f...</td>\n",
       "    </tr>\n",
       "    <tr>\n",
       "      <th>2</th>\n",
       "      <td>1.0</td>\n",
       "      <td>73.0</td>\n",
       "      <td>M</td>\n",
       "      <td>f</td>\n",
       "      <td>f</td>\n",
       "      <td>f</td>\n",
       "      <td>f</td>\n",
       "      <td>f</td>\n",
       "      <td>f</td>\n",
       "      <td>2.1</td>\n",
       "      <td>t</td>\n",
       "      <td>1.9</td>\n",
       "      <td>t</td>\n",
       "      <td>118.0</td>\n",
       "      <td>0.9</td>\n",
       "      <td>t</td>\n",
       "      <td>131</td>\n",
       "      <td>f</td>\n",
       "      <td>?</td>\n",
       "      <td>SVI</td>\n",
       "      <td>negative.|3255</td>\n",
       "      <td>Private</td>\n",
       "      <td>97411</td>\n",
       "      <td>7th-8th</td>\n",
       "      <td>4</td>\n",
       "      <td>Never-married</td>\n",
       "      <td>Machine-op-inspct</td>\n",
       "      <td>Not-in-family</td>\n",
       "      <td>Asian-Pac-Islander</td>\n",
       "      <td>0</td>\n",
       "      <td>0</td>\n",
       "      <td>45</td>\n",
       "      <td>Laos</td>\n",
       "      <td>1944-04-01</td>\n",
       "      <td>{'goitre':'f','TSH measured':'t','pregnant':'f...</td>\n",
       "    </tr>\n",
       "    <tr>\n",
       "      <th>3</th>\n",
       "      <td>2.0</td>\n",
       "      <td>73.0</td>\n",
       "      <td>F</td>\n",
       "      <td>f</td>\n",
       "      <td>f</td>\n",
       "      <td>f</td>\n",
       "      <td>f</td>\n",
       "      <td>f</td>\n",
       "      <td>f</td>\n",
       "      <td>1.6</td>\n",
       "      <td>t</td>\n",
       "      <td>2.0</td>\n",
       "      <td>t</td>\n",
       "      <td>105.0</td>\n",
       "      <td>1.17</td>\n",
       "      <td>t</td>\n",
       "      <td>89</td>\n",
       "      <td>f</td>\n",
       "      <td>?</td>\n",
       "      <td>SVI</td>\n",
       "      <td>negative.|322</td>\n",
       "      <td>Local-gov</td>\n",
       "      <td>89491</td>\n",
       "      <td>Masters</td>\n",
       "      <td>14</td>\n",
       "      <td>Divorced</td>\n",
       "      <td>Exec-managerial</td>\n",
       "      <td>Not_in_family</td>\n",
       "      <td>White</td>\n",
       "      <td>0</td>\n",
       "      <td>0</td>\n",
       "      <td>40</td>\n",
       "      <td>United-States</td>\n",
       "      <td>45-03-12</td>\n",
       "      <td>{'goitre':'f','TSH measured':'t','pregnant':'f...</td>\n",
       "    </tr>\n",
       "    <tr>\n",
       "      <th>4</th>\n",
       "      <td>3.0</td>\n",
       "      <td>24.0</td>\n",
       "      <td>M</td>\n",
       "      <td>f</td>\n",
       "      <td>f</td>\n",
       "      <td>f</td>\n",
       "      <td>f</td>\n",
       "      <td>f</td>\n",
       "      <td>f</td>\n",
       "      <td>1.3</td>\n",
       "      <td>t</td>\n",
       "      <td>1.7</td>\n",
       "      <td>t</td>\n",
       "      <td>106.0</td>\n",
       "      <td>1.0</td>\n",
       "      <td>t</td>\n",
       "      <td>106</td>\n",
       "      <td>f</td>\n",
       "      <td>?</td>\n",
       "      <td>SVHC</td>\n",
       "      <td>negative.|2462</td>\n",
       "      <td>Private</td>\n",
       "      <td>279636</td>\n",
       "      <td>HS-grad</td>\n",
       "      <td>9</td>\n",
       "      <td>Never-married</td>\n",
       "      <td>Adm-clerical</td>\n",
       "      <td>Not-in-family</td>\n",
       "      <td>White</td>\n",
       "      <td>0</td>\n",
       "      <td>0</td>\n",
       "      <td>50</td>\n",
       "      <td>Guatemala</td>\n",
       "      <td>1993-12-26</td>\n",
       "      <td>{'goitre':'f','TSH measured':'t','pregnant':'f...</td>\n",
       "    </tr>\n",
       "    <tr>\n",
       "      <th>5</th>\n",
       "      <td>4.0</td>\n",
       "      <td>25.0</td>\n",
       "      <td>F</td>\n",
       "      <td>f</td>\n",
       "      <td>f</td>\n",
       "      <td>f</td>\n",
       "      <td>f</td>\n",
       "      <td>f</td>\n",
       "      <td>f</td>\n",
       "      <td>468.0</td>\n",
       "      <td>t</td>\n",
       "      <td>0.7</td>\n",
       "      <td>t</td>\n",
       "      <td>21.0</td>\n",
       "      <td>1.1</td>\n",
       "      <td>t</td>\n",
       "      <td>19</td>\n",
       "      <td>f</td>\n",
       "      <td>?</td>\n",
       "      <td>other</td>\n",
       "      <td>negative.|3047</td>\n",
       "      <td>Private</td>\n",
       "      <td>172577</td>\n",
       "      <td>Some-college</td>\n",
       "      <td>10</td>\n",
       "      <td>Divorced</td>\n",
       "      <td>Adm-clerical</td>\n",
       "      <td>Not-in-family</td>\n",
       "      <td>White</td>\n",
       "      <td>0</td>\n",
       "      <td>0</td>\n",
       "      <td>44</td>\n",
       "      <td>United-States</td>\n",
       "      <td>1992-08-27</td>\n",
       "      <td>{'goitre':'f','TSH measured':'t','pregnant':'f...</td>\n",
       "    </tr>\n",
       "  </tbody>\n",
       "</table>\n",
       "</div>"
      ],
      "text/plain": [
       "   NaN   age sex query on thyroxine on antithyroid medication thyroid surgery  \\\n",
       "1  0.0  53.0   M                  f                         f               f   \n",
       "2  1.0  73.0   M                  f                         f               f   \n",
       "3  2.0  73.0   F                  f                         f               f   \n",
       "4  3.0  24.0   M                  f                         f               f   \n",
       "5  4.0  25.0   F                  f                         f               f   \n",
       "\n",
       "  I131 treatment tumor hypopituitary    TSH T3 measured   T3 TT4 measured  \\\n",
       "1              f     f             f    0.3           t  1.2            t   \n",
       "2              f     f             f    2.1           t  1.9            t   \n",
       "3              f     f             f    1.6           t  2.0            t   \n",
       "4              f     f             f    1.3           t  1.7            t   \n",
       "5              f     f             f  468.0           t  0.7            t   \n",
       "\n",
       "     TT4   T4U FTI measured  FTI TBG measured TBG referral source  \\\n",
       "1  105.0  0.91            t  115            f   ?            SVHC   \n",
       "2  118.0   0.9            t  131            f   ?             SVI   \n",
       "3  105.0  1.17            t   89            f   ?             SVI   \n",
       "4  106.0   1.0            t  106            f   ?            SVHC   \n",
       "5   21.0   1.1            t   19            f   ?           other   \n",
       "\n",
       "            class   workclass  fnlwgt      education education-num  \\\n",
       "1   negative.|232     Private   90021        HS-grad             9   \n",
       "2  negative.|3255     Private   97411        7th-8th             4   \n",
       "3   negative.|322   Local-gov   89491        Masters            14   \n",
       "4  negative.|2462     Private  279636        HS-grad             9   \n",
       "5  negative.|3047     Private  172577   Some-college            10   \n",
       "\n",
       "        marital-status          occupation    relationship  \\\n",
       "1   Married-civ-spouse   Handlers-cleaners         Husband   \n",
       "2        Never-married   Machine-op-inspct   Not-in-family   \n",
       "3             Divorced     Exec-managerial   Not_in_family   \n",
       "4        Never-married        Adm-clerical   Not-in-family   \n",
       "5             Divorced        Adm-clerical   Not-in-family   \n",
       "\n",
       "                  race capital-gain capital-loss hours-per-week  \\\n",
       "1                White            0            0             40   \n",
       "2   Asian-Pac-Islander            0            0             45   \n",
       "3                White            0            0             40   \n",
       "4                White            0            0             50   \n",
       "5                White            0            0             44   \n",
       "\n",
       "   native-country date_of_birth  \\\n",
       "1               ?    1965-01-22   \n",
       "2            Laos    1944-04-01   \n",
       "3   United-States      45-03-12   \n",
       "4       Guatemala    1993-12-26   \n",
       "5   United-States    1992-08-27   \n",
       "\n",
       "                                        medical_info  \n",
       "1  {'goitre':'f','TSH measured':'t','pregnant':'f...  \n",
       "2  {'goitre':'f','TSH measured':'t','pregnant':'f...  \n",
       "3  {'goitre':'f','TSH measured':'t','pregnant':'f...  \n",
       "4  {'goitre':'f','TSH measured':'t','pregnant':'f...  \n",
       "5  {'goitre':'f','TSH measured':'t','pregnant':'f...  "
      ]
     },
     "execution_count": 6,
     "metadata": {},
     "output_type": "execute_result"
    }
   ],
   "source": [
    "upraveny = data.rename(columns=data.iloc[0]).drop(data.index[0])\n",
    "upraveny.head()"
   ]
  },
  {
   "cell_type": "code",
   "execution_count": 7,
   "metadata": {},
   "outputs": [
    {
     "data": {
      "text/html": [
       "<div>\n",
       "<style scoped>\n",
       "    .dataframe tbody tr th:only-of-type {\n",
       "        vertical-align: middle;\n",
       "    }\n",
       "\n",
       "    .dataframe tbody tr th {\n",
       "        vertical-align: top;\n",
       "    }\n",
       "\n",
       "    .dataframe thead th {\n",
       "        text-align: right;\n",
       "    }\n",
       "</style>\n",
       "<table border=\"1\" class=\"dataframe\">\n",
       "  <thead>\n",
       "    <tr style=\"text-align: right;\">\n",
       "      <th></th>\n",
       "      <th>nan</th>\n",
       "      <th>age</th>\n",
       "      <th>sex</th>\n",
       "      <th>query on thyroxine</th>\n",
       "      <th>on antithyroid medication</th>\n",
       "      <th>thyroid surgery</th>\n",
       "      <th>I131 treatment</th>\n",
       "      <th>tumor</th>\n",
       "      <th>hypopituitary</th>\n",
       "      <th>TSH</th>\n",
       "      <th>T3 measured</th>\n",
       "      <th>T3</th>\n",
       "      <th>TT4 measured</th>\n",
       "      <th>TT4</th>\n",
       "      <th>T4U</th>\n",
       "      <th>FTI measured</th>\n",
       "      <th>FTI</th>\n",
       "      <th>TBG measured</th>\n",
       "      <th>TBG</th>\n",
       "      <th>referral source</th>\n",
       "      <th>class</th>\n",
       "      <th>workclass</th>\n",
       "      <th>fnlwgt</th>\n",
       "      <th>education</th>\n",
       "      <th>education-num</th>\n",
       "      <th>marital-status</th>\n",
       "      <th>occupation</th>\n",
       "      <th>relationship</th>\n",
       "      <th>race</th>\n",
       "      <th>capital-gain</th>\n",
       "      <th>capital-loss</th>\n",
       "      <th>hours-per-week</th>\n",
       "      <th>native-country</th>\n",
       "      <th>date_of_birth</th>\n",
       "      <th>medical_info</th>\n",
       "      <th>T4U measured</th>\n",
       "      <th>TSH measured</th>\n",
       "      <th>goitre</th>\n",
       "      <th>lithium</th>\n",
       "      <th>on thyroxine</th>\n",
       "      <th>pregnant</th>\n",
       "      <th>psych</th>\n",
       "      <th>query hyperthyroid</th>\n",
       "      <th>query hypothyroid</th>\n",
       "      <th>sick</th>\n",
       "    </tr>\n",
       "  </thead>\n",
       "  <tbody>\n",
       "    <tr>\n",
       "      <th>0</th>\n",
       "      <td>NaN</td>\n",
       "      <td>NaN</td>\n",
       "      <td>NaN</td>\n",
       "      <td>NaN</td>\n",
       "      <td>NaN</td>\n",
       "      <td>NaN</td>\n",
       "      <td>NaN</td>\n",
       "      <td>NaN</td>\n",
       "      <td>NaN</td>\n",
       "      <td>NaN</td>\n",
       "      <td>NaN</td>\n",
       "      <td>NaN</td>\n",
       "      <td>NaN</td>\n",
       "      <td>NaN</td>\n",
       "      <td>NaN</td>\n",
       "      <td>NaN</td>\n",
       "      <td>NaN</td>\n",
       "      <td>NaN</td>\n",
       "      <td>NaN</td>\n",
       "      <td>NaN</td>\n",
       "      <td>NaN</td>\n",
       "      <td>NaN</td>\n",
       "      <td>NaN</td>\n",
       "      <td>NaN</td>\n",
       "      <td>NaN</td>\n",
       "      <td>NaN</td>\n",
       "      <td>NaN</td>\n",
       "      <td>NaN</td>\n",
       "      <td>NaN</td>\n",
       "      <td>NaN</td>\n",
       "      <td>NaN</td>\n",
       "      <td>NaN</td>\n",
       "      <td>NaN</td>\n",
       "      <td>NaN</td>\n",
       "      <td>NaN</td>\n",
       "      <td>t</td>\n",
       "      <td>t</td>\n",
       "      <td>f</td>\n",
       "      <td>f</td>\n",
       "      <td>f</td>\n",
       "      <td>f</td>\n",
       "      <td>f</td>\n",
       "      <td>f</td>\n",
       "      <td>f</td>\n",
       "      <td>f</td>\n",
       "    </tr>\n",
       "    <tr>\n",
       "      <th>1</th>\n",
       "      <td>0.0</td>\n",
       "      <td>53.0</td>\n",
       "      <td>M</td>\n",
       "      <td>f</td>\n",
       "      <td>f</td>\n",
       "      <td>f</td>\n",
       "      <td>f</td>\n",
       "      <td>f</td>\n",
       "      <td>f</td>\n",
       "      <td>0.3</td>\n",
       "      <td>t</td>\n",
       "      <td>1.2</td>\n",
       "      <td>t</td>\n",
       "      <td>105.0</td>\n",
       "      <td>0.91</td>\n",
       "      <td>t</td>\n",
       "      <td>115</td>\n",
       "      <td>f</td>\n",
       "      <td>?</td>\n",
       "      <td>SVHC</td>\n",
       "      <td>negative.|232</td>\n",
       "      <td>Private</td>\n",
       "      <td>90021</td>\n",
       "      <td>HS-grad</td>\n",
       "      <td>9</td>\n",
       "      <td>Married-civ-spouse</td>\n",
       "      <td>Handlers-cleaners</td>\n",
       "      <td>Husband</td>\n",
       "      <td>White</td>\n",
       "      <td>0</td>\n",
       "      <td>0</td>\n",
       "      <td>40</td>\n",
       "      <td>?</td>\n",
       "      <td>1965-01-22</td>\n",
       "      <td>{'goitre':'f','TSH measured':'t','pregnant':'f...</td>\n",
       "      <td>t</td>\n",
       "      <td>t</td>\n",
       "      <td>f</td>\n",
       "      <td>f</td>\n",
       "      <td>f</td>\n",
       "      <td>f</td>\n",
       "      <td>f</td>\n",
       "      <td>f</td>\n",
       "      <td>f</td>\n",
       "      <td>f</td>\n",
       "    </tr>\n",
       "    <tr>\n",
       "      <th>2</th>\n",
       "      <td>1.0</td>\n",
       "      <td>73.0</td>\n",
       "      <td>M</td>\n",
       "      <td>f</td>\n",
       "      <td>f</td>\n",
       "      <td>f</td>\n",
       "      <td>f</td>\n",
       "      <td>f</td>\n",
       "      <td>f</td>\n",
       "      <td>2.1</td>\n",
       "      <td>t</td>\n",
       "      <td>1.9</td>\n",
       "      <td>t</td>\n",
       "      <td>118.0</td>\n",
       "      <td>0.9</td>\n",
       "      <td>t</td>\n",
       "      <td>131</td>\n",
       "      <td>f</td>\n",
       "      <td>?</td>\n",
       "      <td>SVI</td>\n",
       "      <td>negative.|3255</td>\n",
       "      <td>Private</td>\n",
       "      <td>97411</td>\n",
       "      <td>7th-8th</td>\n",
       "      <td>4</td>\n",
       "      <td>Never-married</td>\n",
       "      <td>Machine-op-inspct</td>\n",
       "      <td>Not-in-family</td>\n",
       "      <td>Asian-Pac-Islander</td>\n",
       "      <td>0</td>\n",
       "      <td>0</td>\n",
       "      <td>45</td>\n",
       "      <td>Laos</td>\n",
       "      <td>1944-04-01</td>\n",
       "      <td>{'goitre':'f','TSH measured':'t','pregnant':'f...</td>\n",
       "      <td>t</td>\n",
       "      <td>t</td>\n",
       "      <td>f</td>\n",
       "      <td>f</td>\n",
       "      <td>f</td>\n",
       "      <td>f</td>\n",
       "      <td>f</td>\n",
       "      <td>f</td>\n",
       "      <td>f</td>\n",
       "      <td>t</td>\n",
       "    </tr>\n",
       "    <tr>\n",
       "      <th>3</th>\n",
       "      <td>2.0</td>\n",
       "      <td>73.0</td>\n",
       "      <td>F</td>\n",
       "      <td>f</td>\n",
       "      <td>f</td>\n",
       "      <td>f</td>\n",
       "      <td>f</td>\n",
       "      <td>f</td>\n",
       "      <td>f</td>\n",
       "      <td>1.6</td>\n",
       "      <td>t</td>\n",
       "      <td>2.0</td>\n",
       "      <td>t</td>\n",
       "      <td>105.0</td>\n",
       "      <td>1.17</td>\n",
       "      <td>t</td>\n",
       "      <td>89</td>\n",
       "      <td>f</td>\n",
       "      <td>?</td>\n",
       "      <td>SVI</td>\n",
       "      <td>negative.|322</td>\n",
       "      <td>Local-gov</td>\n",
       "      <td>89491</td>\n",
       "      <td>Masters</td>\n",
       "      <td>14</td>\n",
       "      <td>Divorced</td>\n",
       "      <td>Exec-managerial</td>\n",
       "      <td>Not_in_family</td>\n",
       "      <td>White</td>\n",
       "      <td>0</td>\n",
       "      <td>0</td>\n",
       "      <td>40</td>\n",
       "      <td>United-States</td>\n",
       "      <td>45-03-12</td>\n",
       "      <td>{'goitre':'f','TSH measured':'t','pregnant':'f...</td>\n",
       "      <td>t</td>\n",
       "      <td>t</td>\n",
       "      <td>f</td>\n",
       "      <td>f</td>\n",
       "      <td>f</td>\n",
       "      <td>f</td>\n",
       "      <td>f</td>\n",
       "      <td>f</td>\n",
       "      <td>f</td>\n",
       "      <td>f</td>\n",
       "    </tr>\n",
       "    <tr>\n",
       "      <th>4</th>\n",
       "      <td>3.0</td>\n",
       "      <td>24.0</td>\n",
       "      <td>M</td>\n",
       "      <td>f</td>\n",
       "      <td>f</td>\n",
       "      <td>f</td>\n",
       "      <td>f</td>\n",
       "      <td>f</td>\n",
       "      <td>f</td>\n",
       "      <td>1.3</td>\n",
       "      <td>t</td>\n",
       "      <td>1.7</td>\n",
       "      <td>t</td>\n",
       "      <td>106.0</td>\n",
       "      <td>1.0</td>\n",
       "      <td>t</td>\n",
       "      <td>106</td>\n",
       "      <td>f</td>\n",
       "      <td>?</td>\n",
       "      <td>SVHC</td>\n",
       "      <td>negative.|2462</td>\n",
       "      <td>Private</td>\n",
       "      <td>279636</td>\n",
       "      <td>HS-grad</td>\n",
       "      <td>9</td>\n",
       "      <td>Never-married</td>\n",
       "      <td>Adm-clerical</td>\n",
       "      <td>Not-in-family</td>\n",
       "      <td>White</td>\n",
       "      <td>0</td>\n",
       "      <td>0</td>\n",
       "      <td>50</td>\n",
       "      <td>Guatemala</td>\n",
       "      <td>1993-12-26</td>\n",
       "      <td>{'goitre':'f','TSH measured':'t','pregnant':'f...</td>\n",
       "      <td>t</td>\n",
       "      <td>t</td>\n",
       "      <td>f</td>\n",
       "      <td>f</td>\n",
       "      <td>F</td>\n",
       "      <td>f</td>\n",
       "      <td>f</td>\n",
       "      <td>f</td>\n",
       "      <td>f</td>\n",
       "      <td>f</td>\n",
       "    </tr>\n",
       "  </tbody>\n",
       "</table>\n",
       "</div>"
      ],
      "text/plain": [
       "   NaN   age  sex query on thyroxine on antithyroid medication  \\\n",
       "0  NaN   NaN  NaN                NaN                       NaN   \n",
       "1  0.0  53.0    M                  f                         f   \n",
       "2  1.0  73.0    M                  f                         f   \n",
       "3  2.0  73.0    F                  f                         f   \n",
       "4  3.0  24.0    M                  f                         f   \n",
       "\n",
       "  thyroid surgery I131 treatment tumor hypopituitary  TSH T3 measured   T3  \\\n",
       "0             NaN            NaN   NaN           NaN  NaN         NaN  NaN   \n",
       "1               f              f     f             f  0.3           t  1.2   \n",
       "2               f              f     f             f  2.1           t  1.9   \n",
       "3               f              f     f             f  1.6           t  2.0   \n",
       "4               f              f     f             f  1.3           t  1.7   \n",
       "\n",
       "  TT4 measured    TT4   T4U FTI measured  FTI TBG measured  TBG  \\\n",
       "0          NaN    NaN   NaN          NaN  NaN          NaN  NaN   \n",
       "1            t  105.0  0.91            t  115            f    ?   \n",
       "2            t  118.0   0.9            t  131            f    ?   \n",
       "3            t  105.0  1.17            t   89            f    ?   \n",
       "4            t  106.0   1.0            t  106            f    ?   \n",
       "\n",
       "  referral source           class   workclass  fnlwgt education education-num  \\\n",
       "0             NaN             NaN         NaN     NaN       NaN           NaN   \n",
       "1            SVHC   negative.|232     Private   90021   HS-grad             9   \n",
       "2             SVI  negative.|3255     Private   97411   7th-8th             4   \n",
       "3             SVI   negative.|322   Local-gov   89491   Masters            14   \n",
       "4            SVHC  negative.|2462     Private  279636   HS-grad             9   \n",
       "\n",
       "        marital-status          occupation    relationship  \\\n",
       "0                  NaN                 NaN             NaN   \n",
       "1   Married-civ-spouse   Handlers-cleaners         Husband   \n",
       "2        Never-married   Machine-op-inspct   Not-in-family   \n",
       "3             Divorced     Exec-managerial   Not_in_family   \n",
       "4        Never-married        Adm-clerical   Not-in-family   \n",
       "\n",
       "                  race capital-gain capital-loss hours-per-week  \\\n",
       "0                  NaN          NaN          NaN            NaN   \n",
       "1                White            0            0             40   \n",
       "2   Asian-Pac-Islander            0            0             45   \n",
       "3                White            0            0             40   \n",
       "4                White            0            0             50   \n",
       "\n",
       "   native-country date_of_birth  \\\n",
       "0             NaN           NaN   \n",
       "1               ?    1965-01-22   \n",
       "2            Laos    1944-04-01   \n",
       "3   United-States      45-03-12   \n",
       "4       Guatemala    1993-12-26   \n",
       "\n",
       "                                        medical_info T4U measured  \\\n",
       "0                                                NaN            t   \n",
       "1  {'goitre':'f','TSH measured':'t','pregnant':'f...            t   \n",
       "2  {'goitre':'f','TSH measured':'t','pregnant':'f...            t   \n",
       "3  {'goitre':'f','TSH measured':'t','pregnant':'f...            t   \n",
       "4  {'goitre':'f','TSH measured':'t','pregnant':'f...            t   \n",
       "\n",
       "  TSH measured goitre lithium on thyroxine pregnant psych query hyperthyroid  \\\n",
       "0            t      f       f            f        f     f                  f   \n",
       "1            t      f       f            f        f     f                  f   \n",
       "2            t      f       f            f        f     f                  f   \n",
       "3            t      f       f            f        f     f                  f   \n",
       "4            t      f       f            F        f     f                  f   \n",
       "\n",
       "  query hypothyroid sick  \n",
       "0                 f    f  \n",
       "1                 f    f  \n",
       "2                 f    t  \n",
       "3                 f    f  \n",
       "4                 f    f  "
      ]
     },
     "execution_count": 7,
     "metadata": {},
     "output_type": "execute_result"
    }
   ],
   "source": [
    "import json\n",
    "\n",
    "lst = []\n",
    "\n",
    "for a in upraveny['medical_info']:\n",
    "    a = a.replace(\"'\", '\"')\n",
    "    record = json.loads(a)\n",
    "    lst.append(record)\n",
    "    \n",
    "df = pd.DataFrame(lst)\n",
    "df\n",
    "\n",
    "result = pd.concat([upraveny, df], axis=1)\n",
    "upraveny = result\n",
    "upraveny.head()"
   ]
  },
  {
   "cell_type": "markdown",
   "metadata": {},
   "source": [
    "Odstranime nepotrebne stlpce"
   ]
  },
  {
   "cell_type": "code",
   "execution_count": 8,
   "metadata": {},
   "outputs": [
    {
     "data": {
      "text/html": [
       "<div>\n",
       "<style scoped>\n",
       "    .dataframe tbody tr th:only-of-type {\n",
       "        vertical-align: middle;\n",
       "    }\n",
       "\n",
       "    .dataframe tbody tr th {\n",
       "        vertical-align: top;\n",
       "    }\n",
       "\n",
       "    .dataframe thead th {\n",
       "        text-align: right;\n",
       "    }\n",
       "</style>\n",
       "<table border=\"1\" class=\"dataframe\">\n",
       "  <thead>\n",
       "    <tr style=\"text-align: right;\">\n",
       "      <th></th>\n",
       "      <th>age</th>\n",
       "      <th>sex</th>\n",
       "      <th>query on thyroxine</th>\n",
       "      <th>on antithyroid medication</th>\n",
       "      <th>thyroid surgery</th>\n",
       "      <th>I131 treatment</th>\n",
       "      <th>tumor</th>\n",
       "      <th>hypopituitary</th>\n",
       "      <th>TSH</th>\n",
       "      <th>T3 measured</th>\n",
       "      <th>T3</th>\n",
       "      <th>TT4 measured</th>\n",
       "      <th>TT4</th>\n",
       "      <th>T4U</th>\n",
       "      <th>FTI measured</th>\n",
       "      <th>FTI</th>\n",
       "      <th>referral source</th>\n",
       "      <th>class</th>\n",
       "      <th>workclass</th>\n",
       "      <th>fnlwgt</th>\n",
       "      <th>education</th>\n",
       "      <th>education-num</th>\n",
       "      <th>marital-status</th>\n",
       "      <th>occupation</th>\n",
       "      <th>relationship</th>\n",
       "      <th>race</th>\n",
       "      <th>capital-gain</th>\n",
       "      <th>capital-loss</th>\n",
       "      <th>hours-per-week</th>\n",
       "      <th>native-country</th>\n",
       "      <th>date_of_birth</th>\n",
       "      <th>T4U measured</th>\n",
       "      <th>TSH measured</th>\n",
       "      <th>goitre</th>\n",
       "      <th>lithium</th>\n",
       "      <th>on thyroxine</th>\n",
       "      <th>pregnant</th>\n",
       "      <th>psych</th>\n",
       "      <th>query hyperthyroid</th>\n",
       "      <th>query hypothyroid</th>\n",
       "      <th>sick</th>\n",
       "      <th>class_id</th>\n",
       "    </tr>\n",
       "  </thead>\n",
       "  <tbody>\n",
       "    <tr>\n",
       "      <th>1</th>\n",
       "      <td>53.0</td>\n",
       "      <td>M</td>\n",
       "      <td>f</td>\n",
       "      <td>f</td>\n",
       "      <td>f</td>\n",
       "      <td>f</td>\n",
       "      <td>f</td>\n",
       "      <td>f</td>\n",
       "      <td>0.3</td>\n",
       "      <td>t</td>\n",
       "      <td>1.2</td>\n",
       "      <td>t</td>\n",
       "      <td>105.0</td>\n",
       "      <td>0.91</td>\n",
       "      <td>t</td>\n",
       "      <td>115</td>\n",
       "      <td>SVHC</td>\n",
       "      <td>negative.</td>\n",
       "      <td>Private</td>\n",
       "      <td>90021</td>\n",
       "      <td>HS-grad</td>\n",
       "      <td>9</td>\n",
       "      <td>Married-civ-spouse</td>\n",
       "      <td>Handlers-cleaners</td>\n",
       "      <td>Husband</td>\n",
       "      <td>White</td>\n",
       "      <td>0</td>\n",
       "      <td>0</td>\n",
       "      <td>40</td>\n",
       "      <td>?</td>\n",
       "      <td>1965-01-22</td>\n",
       "      <td>t</td>\n",
       "      <td>t</td>\n",
       "      <td>f</td>\n",
       "      <td>f</td>\n",
       "      <td>f</td>\n",
       "      <td>f</td>\n",
       "      <td>f</td>\n",
       "      <td>f</td>\n",
       "      <td>f</td>\n",
       "      <td>f</td>\n",
       "      <td>232</td>\n",
       "    </tr>\n",
       "    <tr>\n",
       "      <th>2</th>\n",
       "      <td>73.0</td>\n",
       "      <td>M</td>\n",
       "      <td>f</td>\n",
       "      <td>f</td>\n",
       "      <td>f</td>\n",
       "      <td>f</td>\n",
       "      <td>f</td>\n",
       "      <td>f</td>\n",
       "      <td>2.1</td>\n",
       "      <td>t</td>\n",
       "      <td>1.9</td>\n",
       "      <td>t</td>\n",
       "      <td>118.0</td>\n",
       "      <td>0.9</td>\n",
       "      <td>t</td>\n",
       "      <td>131</td>\n",
       "      <td>SVI</td>\n",
       "      <td>negative.</td>\n",
       "      <td>Private</td>\n",
       "      <td>97411</td>\n",
       "      <td>7th-8th</td>\n",
       "      <td>4</td>\n",
       "      <td>Never-married</td>\n",
       "      <td>Machine-op-inspct</td>\n",
       "      <td>Not-in-family</td>\n",
       "      <td>Asian-Pac-Islander</td>\n",
       "      <td>0</td>\n",
       "      <td>0</td>\n",
       "      <td>45</td>\n",
       "      <td>Laos</td>\n",
       "      <td>1944-04-01</td>\n",
       "      <td>t</td>\n",
       "      <td>t</td>\n",
       "      <td>f</td>\n",
       "      <td>f</td>\n",
       "      <td>f</td>\n",
       "      <td>f</td>\n",
       "      <td>f</td>\n",
       "      <td>f</td>\n",
       "      <td>f</td>\n",
       "      <td>t</td>\n",
       "      <td>3255</td>\n",
       "    </tr>\n",
       "    <tr>\n",
       "      <th>3</th>\n",
       "      <td>73.0</td>\n",
       "      <td>F</td>\n",
       "      <td>f</td>\n",
       "      <td>f</td>\n",
       "      <td>f</td>\n",
       "      <td>f</td>\n",
       "      <td>f</td>\n",
       "      <td>f</td>\n",
       "      <td>1.6</td>\n",
       "      <td>t</td>\n",
       "      <td>2.0</td>\n",
       "      <td>t</td>\n",
       "      <td>105.0</td>\n",
       "      <td>1.17</td>\n",
       "      <td>t</td>\n",
       "      <td>89</td>\n",
       "      <td>SVI</td>\n",
       "      <td>negative.</td>\n",
       "      <td>Local-gov</td>\n",
       "      <td>89491</td>\n",
       "      <td>Masters</td>\n",
       "      <td>14</td>\n",
       "      <td>Divorced</td>\n",
       "      <td>Exec-managerial</td>\n",
       "      <td>Not_in_family</td>\n",
       "      <td>White</td>\n",
       "      <td>0</td>\n",
       "      <td>0</td>\n",
       "      <td>40</td>\n",
       "      <td>United-States</td>\n",
       "      <td>45-03-12</td>\n",
       "      <td>t</td>\n",
       "      <td>t</td>\n",
       "      <td>f</td>\n",
       "      <td>f</td>\n",
       "      <td>f</td>\n",
       "      <td>f</td>\n",
       "      <td>f</td>\n",
       "      <td>f</td>\n",
       "      <td>f</td>\n",
       "      <td>f</td>\n",
       "      <td>322</td>\n",
       "    </tr>\n",
       "    <tr>\n",
       "      <th>4</th>\n",
       "      <td>24.0</td>\n",
       "      <td>M</td>\n",
       "      <td>f</td>\n",
       "      <td>f</td>\n",
       "      <td>f</td>\n",
       "      <td>f</td>\n",
       "      <td>f</td>\n",
       "      <td>f</td>\n",
       "      <td>1.3</td>\n",
       "      <td>t</td>\n",
       "      <td>1.7</td>\n",
       "      <td>t</td>\n",
       "      <td>106.0</td>\n",
       "      <td>1.0</td>\n",
       "      <td>t</td>\n",
       "      <td>106</td>\n",
       "      <td>SVHC</td>\n",
       "      <td>negative.</td>\n",
       "      <td>Private</td>\n",
       "      <td>279636</td>\n",
       "      <td>HS-grad</td>\n",
       "      <td>9</td>\n",
       "      <td>Never-married</td>\n",
       "      <td>Adm-clerical</td>\n",
       "      <td>Not-in-family</td>\n",
       "      <td>White</td>\n",
       "      <td>0</td>\n",
       "      <td>0</td>\n",
       "      <td>50</td>\n",
       "      <td>Guatemala</td>\n",
       "      <td>1993-12-26</td>\n",
       "      <td>t</td>\n",
       "      <td>t</td>\n",
       "      <td>f</td>\n",
       "      <td>f</td>\n",
       "      <td>F</td>\n",
       "      <td>f</td>\n",
       "      <td>f</td>\n",
       "      <td>f</td>\n",
       "      <td>f</td>\n",
       "      <td>f</td>\n",
       "      <td>2462</td>\n",
       "    </tr>\n",
       "    <tr>\n",
       "      <th>5</th>\n",
       "      <td>25.0</td>\n",
       "      <td>F</td>\n",
       "      <td>f</td>\n",
       "      <td>f</td>\n",
       "      <td>f</td>\n",
       "      <td>f</td>\n",
       "      <td>f</td>\n",
       "      <td>f</td>\n",
       "      <td>468.0</td>\n",
       "      <td>t</td>\n",
       "      <td>0.7</td>\n",
       "      <td>t</td>\n",
       "      <td>21.0</td>\n",
       "      <td>1.1</td>\n",
       "      <td>t</td>\n",
       "      <td>19</td>\n",
       "      <td>other</td>\n",
       "      <td>negative.</td>\n",
       "      <td>Private</td>\n",
       "      <td>172577</td>\n",
       "      <td>Some-college</td>\n",
       "      <td>10</td>\n",
       "      <td>Divorced</td>\n",
       "      <td>Adm-clerical</td>\n",
       "      <td>Not-in-family</td>\n",
       "      <td>White</td>\n",
       "      <td>0</td>\n",
       "      <td>0</td>\n",
       "      <td>44</td>\n",
       "      <td>United-States</td>\n",
       "      <td>1992-08-27</td>\n",
       "      <td>t</td>\n",
       "      <td>t</td>\n",
       "      <td>f</td>\n",
       "      <td>f</td>\n",
       "      <td>F</td>\n",
       "      <td>f</td>\n",
       "      <td>f</td>\n",
       "      <td>f</td>\n",
       "      <td>f</td>\n",
       "      <td>f</td>\n",
       "      <td>3047</td>\n",
       "    </tr>\n",
       "  </tbody>\n",
       "</table>\n",
       "</div>"
      ],
      "text/plain": [
       "    age sex query on thyroxine on antithyroid medication thyroid surgery  \\\n",
       "1  53.0   M                  f                         f               f   \n",
       "2  73.0   M                  f                         f               f   \n",
       "3  73.0   F                  f                         f               f   \n",
       "4  24.0   M                  f                         f               f   \n",
       "5  25.0   F                  f                         f               f   \n",
       "\n",
       "  I131 treatment tumor hypopituitary    TSH T3 measured   T3 TT4 measured  \\\n",
       "1              f     f             f    0.3           t  1.2            t   \n",
       "2              f     f             f    2.1           t  1.9            t   \n",
       "3              f     f             f    1.6           t  2.0            t   \n",
       "4              f     f             f    1.3           t  1.7            t   \n",
       "5              f     f             f  468.0           t  0.7            t   \n",
       "\n",
       "     TT4   T4U FTI measured  FTI referral source      class   workclass  \\\n",
       "1  105.0  0.91            t  115            SVHC  negative.     Private   \n",
       "2  118.0   0.9            t  131             SVI  negative.     Private   \n",
       "3  105.0  1.17            t   89             SVI  negative.   Local-gov   \n",
       "4  106.0   1.0            t  106            SVHC  negative.     Private   \n",
       "5   21.0   1.1            t   19           other  negative.     Private   \n",
       "\n",
       "   fnlwgt      education education-num       marital-status  \\\n",
       "1   90021        HS-grad             9   Married-civ-spouse   \n",
       "2   97411        7th-8th             4        Never-married   \n",
       "3   89491        Masters            14             Divorced   \n",
       "4  279636        HS-grad             9        Never-married   \n",
       "5  172577   Some-college            10             Divorced   \n",
       "\n",
       "           occupation    relationship                 race capital-gain  \\\n",
       "1   Handlers-cleaners         Husband                White            0   \n",
       "2   Machine-op-inspct   Not-in-family   Asian-Pac-Islander            0   \n",
       "3     Exec-managerial   Not_in_family                White            0   \n",
       "4        Adm-clerical   Not-in-family                White            0   \n",
       "5        Adm-clerical   Not-in-family                White            0   \n",
       "\n",
       "  capital-loss hours-per-week  native-country date_of_birth T4U measured  \\\n",
       "1            0             40               ?    1965-01-22            t   \n",
       "2            0             45            Laos    1944-04-01            t   \n",
       "3            0             40   United-States      45-03-12            t   \n",
       "4            0             50       Guatemala    1993-12-26            t   \n",
       "5            0             44   United-States    1992-08-27            t   \n",
       "\n",
       "  TSH measured goitre lithium on thyroxine pregnant psych query hyperthyroid  \\\n",
       "1            t      f       f            f        f     f                  f   \n",
       "2            t      f       f            f        f     f                  f   \n",
       "3            t      f       f            f        f     f                  f   \n",
       "4            t      f       f            F        f     f                  f   \n",
       "5            t      f       f            F        f     f                  f   \n",
       "\n",
       "  query hypothyroid sick class_id  \n",
       "1                 f    f      232  \n",
       "2                 f    t     3255  \n",
       "3                 f    f      322  \n",
       "4                 f    f     2462  \n",
       "5                 f    f     3047  "
      ]
     },
     "execution_count": 8,
     "metadata": {},
     "output_type": "execute_result"
    }
   ],
   "source": [
    "upraveny = upraveny.iloc[1:]\n",
    "upraveny = upraveny.drop(upraveny.columns[[0]], axis=1)\n",
    "del upraveny['TBG']\n",
    "del upraveny['TBG measured']\n",
    "del upraveny['medical_info']\n",
    "upraveny[['class','class_id']] = upraveny['class'].str.split('|',expand=True)\n",
    "upraveny.head()"
   ]
  },
  {
   "cell_type": "markdown",
   "metadata": {},
   "source": [
    "### Oprava formatov dat\n",
    "\n",
    "V nasledujucej casti opravujeme a zjednocujeme formaty dat:\n",
    "Napr. v stlpci referral source zjednotime sVHD a SVHD na svhd, alebo datumy narodeni zjednotime na jednotny format"
   ]
  },
  {
   "cell_type": "markdown",
   "metadata": {},
   "source": [
    "#### Stlpec age"
   ]
  },
  {
   "cell_type": "code",
   "execution_count": 9,
   "metadata": {},
   "outputs": [
    {
     "data": {
      "text/plain": [
       "array(['53.0', '73.0', '24.0', '25.0', '60.0', '32.0', '71.0', '27.0',\n",
       "       '64.0', '65.0', '34.0', '51.0', '62.0', '42.0', '47.0', '30.0',\n",
       "       '75.0', '35.0', '36.0', '39.0', '7200.0', '72.0', '79.0', '40.0',\n",
       "       '38.0', '48.0', '50.0', '23.0', '81.0', '43.0', '57.0', '77.0',\n",
       "       '56.0', '59.0', '67.0', '58.0', '2500.0', '18.0', '22.0', '1800.0',\n",
       "       '55.0', '63.0', '46.0', '29.0', '74.0', '66.0', '90.0', '2.0',\n",
       "       '5000.0', '70.0', '13.0', '5500.0', '69.0', '4500.0', '68.0',\n",
       "       '17.0', '31.0', '-4800.0', '44.0', '78.0', '-7700.0', '52.0',\n",
       "       '89.0', '49.0', '19.0', '28.0', '21.0', '20.0', '54.0', '87.0',\n",
       "       '-5800.0', '26.0', '-6600.0', '61.0', '41.0', '-3600.0', '76.0',\n",
       "       '15.0', '-7300.0', '37.0', '6000.0', '-8700.0', '45.0', '2100.0',\n",
       "       '12.0', '-3300.0', '83.0', '16.0', '6400.0', '4300.0', '84.0',\n",
       "       '2000.0', '85.0', '5700.0', '-3900.0', '-5700.0', '-3700.0',\n",
       "       '86.0', '100.0', '3700.0', '33.0', '-6200.0', '8300.0', '93.0',\n",
       "       '80.0', '-6400.0', '-7800.0', '5600.0', '91.0', '-2500.0', '1.0',\n",
       "       '-2900.0', '-2600.0', '3400.0', '-5600.0', '2800.0', '4.0',\n",
       "       '6300.0', '14.0', '-4600.0', '8200.0', '82.0', '4100.0', '-6000.0',\n",
       "       '-4900.0', '-7200.0', '7300.0', '3900.0', '3500.0', '6100.0',\n",
       "       '-7000.0', '7100.0', '8100.0', '6600.0', '7400.0', '4700.0',\n",
       "       '-4200.0', '-4100.0', '6200.0', '-5900.0', '-8800.0', '-5500.0',\n",
       "       '-3500.0', '4400.0', '8.0', '-7100.0', '1900.0', '1500.0', '94.0',\n",
       "       '4200.0', '-2300.0', '8500.0', '4600.0', '7.0', '-2200.0',\n",
       "       '3800.0', '-3200.0', '-6100.0', '-7600.0', '11.0', '-6300.0',\n",
       "       '-3400.0', '6800.0', '4900.0', '3200.0', '-4400.0', '6700.0',\n",
       "       '-7400.0', '-7900.0', '-700.0', '-8300.0', '7800.0', '-5300.0',\n",
       "       '-6800.0', '-5400.0', '7900.0', '-1300.0', '3100.0', '5200.0',\n",
       "       '-3800.0', '2400.0', '6900.0', nan, '5800.0', '5900.0', '2600.0',\n",
       "       '5400.0', '5100.0', '3600.0', '4800.0', '5300.0', '-45500.0',\n",
       "       '1600.0', '92.0', '88.0', '3000.0', '3300.0', '7500.0', '-3000.0',\n",
       "       '-2400.0', '2700.0', '-1600.0', '2200.0', '-3100.0', '-6500.0',\n",
       "       '1700.0', '5.0', '6.0', '7000.0', '-5100.0', '-6700.0', '-4700.0',\n",
       "       '-7500.0', '-8900.0', '-1500.0', '-2800.0', '10.0', '-1900.0',\n",
       "       '2300.0'], dtype=object)"
      ]
     },
     "execution_count": 9,
     "metadata": {},
     "output_type": "execute_result"
    }
   ],
   "source": [
    "upraveny['age'].unique()"
   ]
  },
  {
   "cell_type": "markdown",
   "metadata": {},
   "source": [
    "**Oprava age**:\n",
    "1. Zaporne hodnoty zmenime na kladne\n",
    "2. Vek > 100 dame deleno 10, vek > 1000 dame deleno 100"
   ]
  },
  {
   "cell_type": "code",
   "execution_count": 32,
   "metadata": {},
   "outputs": [],
   "source": [
    "def check_if_number(inputString):\n",
    "    return any(char.replace('.','',1).isdigit() for char in str(inputString))\n",
    "\n",
    "iterator = 0\n",
    "for age in upraveny['age']:\n",
    "    if (check_if_number(age)):\n",
    "        age = int(float(age))\n",
    "        age = abs(age)\n",
    "        if age >= 1000:\n",
    "            age = age/100\n",
    "        \n",
    "        elif age >= 100:\n",
    "            age = age/10\n",
    "\n",
    "        age = int(age)\n",
    "    \n",
    "    else:\n",
    "        age = -1\n",
    "    \n",
    "    age = int(float(age))\n",
    "    \n",
    "    upraveny.age[iterator] = age\n",
    "    iterator += 1"
   ]
  },
  {
   "cell_type": "code",
   "execution_count": 33,
   "metadata": {},
   "outputs": [
    {
     "data": {
      "text/plain": [
       "array([24, 25, 60, 32, 71, 27, 64, 65, 34, 51, 62, 53, 42, 47, 30, 75, 35,\n",
       "       36, 39, 72, 79, 40, 38, 48, 50, 23, 81, 43, 57, 77, 56, 59, 67, 58,\n",
       "       18, 22, 55, 63, 46, 29, 74, 66, 90, 73, 2, 70, 13, 69, 45, 68, 17,\n",
       "       31, 44, 78, 52, 89, 49, 19, 28, 21, 20, 54, 87, 26, 61, 41, 76, 15,\n",
       "       37, 12, 33, 83, 16, 84, 85, 86, 10, 93, 80, 91, 1, 4, 14, 82, 88,\n",
       "       8, 94, 7, 11, 92, 5, 6], dtype=object)"
      ]
     },
     "execution_count": 33,
     "metadata": {},
     "output_type": "execute_result"
    }
   ],
   "source": [
    "upraveny['age'].unique()"
   ]
  },
  {
   "cell_type": "markdown",
   "metadata": {},
   "source": [
    "#### Stlpec referral source"
   ]
  },
  {
   "cell_type": "code",
   "execution_count": 12,
   "metadata": {},
   "outputs": [
    {
     "data": {
      "text/plain": [
       "array(['SVHC', 'SVI', 'other', 'Other', 'sVHC', 'sVI', 'STMW', 'SVHD',\n",
       "       'sTMW', 'sVHD'], dtype=object)"
      ]
     },
     "execution_count": 12,
     "metadata": {},
     "output_type": "execute_result"
    }
   ],
   "source": [
    "upraveny[\"referral source\"].unique()"
   ]
  },
  {
   "cell_type": "code",
   "execution_count": 13,
   "metadata": {},
   "outputs": [
    {
     "data": {
      "text/plain": [
       "other    1464\n",
       "SVI       698\n",
       "SVHC      247\n",
       "Other     168\n",
       "STMW       83\n",
       "sVI        73\n",
       "SVHD       28\n",
       "sVHC       28\n",
       "sTMW        8\n",
       "sVHD        3\n",
       "Name: referral source, dtype: int64"
      ]
     },
     "execution_count": 13,
     "metadata": {},
     "output_type": "execute_result"
    }
   ],
   "source": [
    "upraveny[\"referral source\"].value_counts()"
   ]
  },
  {
   "cell_type": "code",
   "execution_count": 14,
   "metadata": {},
   "outputs": [
    {
     "data": {
      "text/plain": [
       "array(['svhc', 'svi', 'other', 'stmw', 'svhd'], dtype=object)"
      ]
     },
     "execution_count": 14,
     "metadata": {},
     "output_type": "execute_result"
    }
   ],
   "source": [
    "ppl = Pipeline([\n",
    "              ('name1', Transform('referral source', 'SVHC', 'svhc')),\n",
    "              ('name2', Transform('referral source', 'SVI', 'svi')),\n",
    "              ('name3', Transform('referral source', 'Other', 'other')),\n",
    "              ('name4', Transform('referral source', 'sVHC', 'svhc')),\n",
    "              ('name5', Transform('referral source', 'sVI', 'svi')),\n",
    "              ('name6', Transform('referral source', 'STMW', 'stmw')),\n",
    "              ('name7', Transform('referral source', 'SVHD', 'svhd')),\n",
    "              ('name8', Transform('referral source', 'sTMW', 'stmw')),\n",
    "              ('name9', Transform('referral source', 'sVHD', 'svhd')),\n",
    "      ])\n",
    "\n",
    "model = ppl.fit(upraveny)\n",
    "upraveny = model.transform(upraveny)\n",
    "upraveny['referral source'].unique()"
   ]
  },
  {
   "cell_type": "code",
   "execution_count": 15,
   "metadata": {},
   "outputs": [
    {
     "data": {
      "text/plain": [
       "<matplotlib.axes._subplots.AxesSubplot at 0x23ad39e97b8>"
      ]
     },
     "execution_count": 15,
     "metadata": {},
     "output_type": "execute_result"
    },
    {
     "data": {
      "image/png": "[encoded data removed]",
      "text/plain": [
       "<matplotlib.figure.Figure at 0x23ad6b67ba8>"
      ]
     },
     "metadata": {},
     "output_type": "display_data"
    }
   ],
   "source": [
    "upraveny['referral source'].value_counts().plot(kind='bar')"
   ]
  },
  {
   "cell_type": "markdown",
   "metadata": {},
   "source": [
    "#### Stlpec relationship"
   ]
  },
  {
   "cell_type": "code",
   "execution_count": 16,
   "metadata": {},
   "outputs": [
    {
     "data": {
      "text/plain": [
       "array([' Husband', ' Not-in-family', ' Not_in_family', ' Wife',\n",
       "       ' Own-child', ' Unmarried', ' Other-relative', ' Other_relative',\n",
       "       ' Own_child'], dtype=object)"
      ]
     },
     "execution_count": 16,
     "metadata": {},
     "output_type": "execute_result"
    }
   ],
   "source": [
    "upraveny['relationship'].unique()"
   ]
  },
  {
   "cell_type": "code",
   "execution_count": 17,
   "metadata": {},
   "outputs": [
    {
     "data": {
      "text/plain": [
       "array(['Husband', 'Not-in-family', 'Wife', 'Own-child', 'Unmarried',\n",
       "       'Other-relative'], dtype=object)"
      ]
     },
     "execution_count": 17,
     "metadata": {},
     "output_type": "execute_result"
    }
   ],
   "source": [
    "for i, rel in upraveny['relationship'].iteritems():\n",
    "    rel = rel.strip()\n",
    "    upraveny['relationship'][i] = rel\n",
    "\n",
    "line = Pipeline([\n",
    "              ('r1', Transform('relationship', 'Not_in_family', 'Not-in-family')),\n",
    "              ('r2', Transform('relationship', 'Own_child', 'Own-child')),\n",
    "              ('r3', Transform('relationship', 'Other_relative', 'Other-relative')),\n",
    "      ])\n",
    "\n",
    "model = line.fit(upraveny)\n",
    "upraveny = model.transform(upraveny)\n",
    "\n",
    "upraveny['relationship'].unique()"
   ]
  },
  {
   "cell_type": "code",
   "execution_count": 18,
   "metadata": {},
   "outputs": [
    {
     "data": {
      "text/plain": [
       "<matplotlib.axes._subplots.AxesSubplot at 0x23ad6b67e48>"
      ]
     },
     "execution_count": 18,
     "metadata": {},
     "output_type": "execute_result"
    },
    {
     "data": {
      "image/png": "[encoded data removed]",
      "text/plain": [
       "<matplotlib.figure.Figure at 0x23ad6b07208>"
      ]
     },
     "metadata": {},
     "output_type": "display_data"
    }
   ],
   "source": [
    "upraveny['relationship'].value_counts().plot(kind='bar')"
   ]
  },
  {
   "cell_type": "markdown",
   "metadata": {},
   "source": [
    "#### Stlpec race\n",
    "\n",
    "Odstranenie zaciatocnych bielych znakov"
   ]
  },
  {
   "cell_type": "code",
   "execution_count": 19,
   "metadata": {},
   "outputs": [
    {
     "data": {
      "text/plain": [
       "array([' White', ' Asian-Pac-Islander', ' Black', ' Amer-Indian-Eskimo',\n",
       "       ' Other'], dtype=object)"
      ]
     },
     "execution_count": 19,
     "metadata": {},
     "output_type": "execute_result"
    }
   ],
   "source": [
    "upraveny['race'].unique()"
   ]
  },
  {
   "cell_type": "code",
   "execution_count": 20,
   "metadata": {},
   "outputs": [
    {
     "data": {
      "text/plain": [
       "array(['White', 'Asian-Pac-Islander', 'Black', 'Amer-Indian-Eskimo',\n",
       "       'Other'], dtype=object)"
      ]
     },
     "execution_count": 20,
     "metadata": {},
     "output_type": "execute_result"
    }
   ],
   "source": [
    "for i,race in upraveny['race'].iteritems():\n",
    "    race = race.strip()\n",
    "    upraveny['race'][i] = race\n",
    "\n",
    "upraveny['race'].unique()"
   ]
  },
  {
   "cell_type": "code",
   "execution_count": 21,
   "metadata": {},
   "outputs": [
    {
     "data": {
      "text/plain": [
       "<matplotlib.axes._subplots.AxesSubplot at 0x23ad8c9fc50>"
      ]
     },
     "execution_count": 21,
     "metadata": {},
     "output_type": "execute_result"
    },
    {
     "data": {
      "image/png": "[encoded data removed]",
      "text/plain": [
       "<matplotlib.figure.Figure at 0x23ad8c9f630>"
      ]
     },
     "metadata": {},
     "output_type": "display_data"
    }
   ],
   "source": [
    "upraveny['race'].value_counts().plot(kind='bar')"
   ]
  },
  {
   "cell_type": "markdown",
   "metadata": {},
   "source": [
    "#### Stlpec native-country\n",
    "\n",
    "Odstranenie zaciatocnych bielych znakov"
   ]
  },
  {
   "cell_type": "code",
   "execution_count": 22,
   "metadata": {},
   "outputs": [
    {
     "data": {
      "text/plain": [
       "array([' ?', ' Laos', ' United-States', ' Guatemala', ' Puerto-Rico',\n",
       "       ' Mexico', ' Ireland', ' Cuba', ' Honduras', ' Italy',\n",
       "       ' Dominican-Republic', ' Peru', ' Canada', ' Portugal',\n",
       "       ' Philippines', ' South', ' Jamaica', ' India', ' France',\n",
       "       ' Germany', ' England', ' Outlying-US(Guam-USVI-etc)', ' Poland',\n",
       "       ' Ecuador', ' Columbia', ' China', ' El-Salvador', ' Cambodia',\n",
       "       ' Japan', ' Thailand', ' Haiti', ' Iran', ' Hungary', ' Vietnam',\n",
       "       ' Yugoslavia', ' Taiwan', ' Nicaragua', ' Hong', ' Scotland',\n",
       "       ' Greece'], dtype=object)"
      ]
     },
     "execution_count": 22,
     "metadata": {},
     "output_type": "execute_result"
    }
   ],
   "source": [
    "upraveny['native-country'].unique()"
   ]
  },
  {
   "cell_type": "code",
   "execution_count": 23,
   "metadata": {},
   "outputs": [
    {
     "data": {
      "text/plain": [
       "array(['?', 'Laos', 'United-States', 'Guatemala', 'Puerto-Rico', 'Mexico',\n",
       "       'Ireland', 'Cuba', 'Honduras', 'Italy', 'Dominican-Republic',\n",
       "       'Peru', 'Canada', 'Portugal', 'Philippines', 'South', 'Jamaica',\n",
       "       'India', 'France', 'Germany', 'England',\n",
       "       'Outlying-US(Guam-USVI-etc)', 'Poland', 'Ecuador', 'Columbia',\n",
       "       'China', 'El-Salvador', 'Cambodia', 'Japan', 'Thailand', 'Haiti',\n",
       "       'Iran', 'Hungary', 'Vietnam', 'Yugoslavia', 'Taiwan', 'Nicaragua',\n",
       "       'Hong', 'Scotland', 'Greece'], dtype=object)"
      ]
     },
     "execution_count": 23,
     "metadata": {},
     "output_type": "execute_result"
    }
   ],
   "source": [
    "for i,race in upraveny['native-country'].iteritems():\n",
    "    race = race.strip()\n",
    "    upraveny['native-country'][i] = race\n",
    "\n",
    "upraveny['native-country'].unique()"
   ]
  },
  {
   "cell_type": "code",
   "execution_count": 24,
   "metadata": {},
   "outputs": [
    {
     "data": {
      "text/plain": [
       "<matplotlib.axes._subplots.AxesSubplot at 0x23ad8d2f160>"
      ]
     },
     "execution_count": 24,
     "metadata": {},
     "output_type": "execute_result"
    },
    {
     "data": {
      "image/png": "[encoded data removed]",
      "text/plain": [
       "<matplotlib.figure.Figure at 0x23ad8d2aa20>"
      ]
     },
     "metadata": {},
     "output_type": "display_data"
    }
   ],
   "source": [
    "upraveny['native-country'].value_counts().plot(kind='bar')"
   ]
  },
  {
   "cell_type": "markdown",
   "metadata": {},
   "source": [
    "#### Stlpec date_of_birth\n",
    "\n",
    "Zjednotenie formatov datumov"
   ]
  },
  {
   "cell_type": "code",
   "execution_count": 25,
   "metadata": {},
   "outputs": [
    {
     "data": {
      "text/plain": [
       "1     1965-01-22\n",
       "2     1944-04-01\n",
       "3     2045-03-12\n",
       "4     1993-12-26\n",
       "5     1992-08-27\n",
       "6     1958-02-13\n",
       "7     1985-07-26\n",
       "8     1946-06-21\n",
       "9     1990-06-02\n",
       "10    1953-06-30\n",
       "11    1952-04-08\n",
       "12    1984-02-08\n",
       "13    1966-08-06\n",
       "14    1994-03-08\n",
       "15    1956-03-19\n",
       "Name: date_of_birth, dtype: object"
      ]
     },
     "execution_count": 25,
     "metadata": {},
     "output_type": "execute_result"
    }
   ],
   "source": [
    "for i,date in upraveny['date_of_birth'].iteritems():\n",
    "    \n",
    "    if(str(date) != 'nan'):        \n",
    "        aa = guess_date(str(date))\n",
    "        upraveny['date_of_birth'][i] = aa\n",
    "\n",
    "upraveny['date_of_birth'].head(15)"
   ]
  },
  {
   "cell_type": "markdown",
   "metadata": {},
   "source": [
    "#### Slpec on thyroxine\n",
    "\n",
    "Uprava na jednotny format (t,f)"
   ]
  },
  {
   "cell_type": "code",
   "execution_count": 26,
   "metadata": {},
   "outputs": [
    {
     "data": {
      "text/plain": [
       "array(['f', 'F', 't', 'T', 'TRUE', 'FALSE', nan], dtype=object)"
      ]
     },
     "execution_count": 26,
     "metadata": {},
     "output_type": "execute_result"
    }
   ],
   "source": [
    "upraveny['on thyroxine'].unique()"
   ]
  },
  {
   "cell_type": "code",
   "execution_count": 27,
   "metadata": {},
   "outputs": [
    {
     "data": {
      "text/plain": [
       "array(['f', 't', nan], dtype=object)"
      ]
     },
     "execution_count": 27,
     "metadata": {},
     "output_type": "execute_result"
    }
   ],
   "source": [
    "line = Pipeline([\n",
    "              ('ot1', Transform('on thyroxine', 'F', 'f')),\n",
    "              ('ot2', Transform('on thyroxine', 'T', 't')),\n",
    "              ('ot3', Transform('on thyroxine', 'FALSE', 'f')),\n",
    "              ('ot4', Transform('on thyroxine', 'TRUE', 't')),\n",
    "      ])\n",
    "\n",
    "model = line.fit(upraveny)\n",
    "upraveny = model.transform(upraveny)\n",
    "\n",
    "upraveny['on thyroxine'].unique()"
   ]
  },
  {
   "cell_type": "code",
   "execution_count": 28,
   "metadata": {},
   "outputs": [
    {
     "data": {
      "text/plain": [
       "<matplotlib.axes._subplots.AxesSubplot at 0x23ad8dac6a0>"
      ]
     },
     "execution_count": 28,
     "metadata": {},
     "output_type": "execute_result"
    },
    {
     "data": {
      "image/png": "[encoded data removed]",
      "text/plain": [
       "<matplotlib.figure.Figure at 0x23ad8e2b828>"
      ]
     },
     "metadata": {},
     "output_type": "display_data"
    }
   ],
   "source": [
    "upraveny['on thyroxine'].value_counts().plot(kind='bar')"
   ]
  },
  {
   "cell_type": "markdown",
   "metadata": {},
   "source": [
    "## Chybajuce a vychylene hodnoty v numerickych stlpcoch"
   ]
  },
  {
   "cell_type": "markdown",
   "metadata": {},
   "source": [
    "V stlpci **age** sa v testovacich datach nachadza iba 1 udaj, ktory chyba a ktory nevieme nahradit podla datumu narodenia, ktory tiez chyba. Rozhodli sme sa ho nahradit priemernym vekom"
   ]
  },
  {
   "cell_type": "code",
   "execution_count": 34,
   "metadata": {},
   "outputs": [
    {
     "data": {
      "text/plain": [
       "array([24, 25, 60, 32, 71, 27, 64, 65, 34, 51, 62, 53, 42, 47, 30, 75, 35,\n",
       "       36, 39, 72, 79, 40, 38, 48, 50, 23, 81, 43, 57, 77, 56, 59, 67, 58,\n",
       "       18, 22, 55, 63, 46, 29, 74, 66, 90, 73, 2, 70, 13, 69, 45, 68, 17,\n",
       "       31, 44, 78, 52, 89, 49, 19, 28, 21, 20, 54, 87, 26, 61, 41, 76, 15,\n",
       "       37, 12, 33, 83, 16, 84, 85, 86, 10, 93, 80, 91, 1, 4, 14, 82, 88,\n",
       "       8, 94, 7, 11, 92, 5, 6], dtype=object)"
      ]
     },
     "execution_count": 34,
     "metadata": {},
     "output_type": "execute_result"
    }
   ],
   "source": [
    "for i, age in upraveny['age'].iteritems():\n",
    "    if age == -1:\n",
    "        age = upraveny['age'].mean()\n",
    "        upraveny['age'][i] = int(age)\n",
    "\n",
    "upraveny['age'].unique()"
   ]
  },
  {
   "cell_type": "markdown",
   "metadata": {},
   "source": [
    "### TSH a TSH measured"
   ]
  },
  {
   "cell_type": "code",
   "execution_count": 38,
   "metadata": {},
   "outputs": [
    {
     "data": {
      "text/plain": [
       "array(['0.3', '2.1', '1.6', '1.3', '468.0', '1.1', nan, '2.4', '0.02',\n",
       "       '3.5', '2.5', '2.3', '1.9', '1.8', '0.85', '0.2', '7.2', '0.72',\n",
       "       '2.6', '7.3', '0.05', '2.8', '1.4', '0.03', '76.0', '0.9', '0.5',\n",
       "       '1.2', '2.0', '4.1', '11.0', '1.5', '0.4', '60.0', '0.8', '5.2',\n",
       "       '4.8', '0.1', '2.7', '4.4', '0.015', '4.7', '0.025', '28.0',\n",
       "       '0.065', '5.1', '0.68', '0.15', '0.6', '5.8', '3.0', '6.3',\n",
       "       '0.045', '0.75', '0.88', '1.7', '0.84', '0.74', '41.0', '3.9',\n",
       "       '0.97', '0.41', '8.6', '4.9', '0.92', '46.0', '9.4', '0.91', '2.2',\n",
       "       '16.0', '38.0', '6.5', '0.86', '0.01', '0.005', '0.31', '0.32',\n",
       "       '0.25', '1.0', '0.58', '478.0', '0.19', '0.035', '0.71', '0.7',\n",
       "       '0.87', '0.35', '4.2', '5.0', '5.4', '3.7', '4.5', '13.0', '8.3',\n",
       "       '2.9', '472.0', '55.0', '14.0', '3.8', '0.08', '0.29', '0.52',\n",
       "       '0.46', '0.04', '0.93', '61.0', '4.0', '35.0', '7.1', '183.0',\n",
       "       '0.76', '160.0', '0.95', '5.5', '0.09', '6.4', '9.9', '7.5',\n",
       "       '31.0', '54.0', '0.61', '0.98', '4.3', '3.1', '3.2', '3.6', '8.2',\n",
       "       '7.9', '0.17', '9.1', '0.26', '7.4', '3.3', '3.4', '18.0', '7.0',\n",
       "       '9.7', '0.33', '39.0', '44.0', '9.6', '9.0', '6.9', '47.0', '0.07',\n",
       "       '34.0', '27.0', '0.13', '5.6', '6.6', '10.0', '12.0', '0.21',\n",
       "       '22.0', '0.73', '0.36', '0.47', '6.0', '0.44', '45.0', '10.3',\n",
       "       '12.1', '8.5', '116.0', '0.16', '0.43', '6.2', '0.59', '0.83',\n",
       "       '0.57', '0.62', '0.79', '32.0', '0.48', '0.78', '188.0', '0.81',\n",
       "       '17.0', '0.54', '8.1', '0.65', '0.82', '0.12', '26.0', '24.0',\n",
       "       '0.39', '9.3', '9.2', '6.8', '0.77', '6.7', '4.6', '0.38', '0.94',\n",
       "       '43.0', '15.0', '42.0', '0.89', '0.42', '0.49', '6.1', '21.0',\n",
       "       '0.22', '0.96', '0.67', '7.7', '0.24', '0.99', '52.0', '0.27',\n",
       "       '0.37', '100.0', '143.0', '5.9', '0.63', '0.34', '0.55', '5.7',\n",
       "       '0.53', '7.6', '99.0', '151.0', '19.0', '36.0', '0.06', '78.0',\n",
       "       '0.66', '0.69', '0.64', '82.0', '103.0', '0.28', '58.0', '0.45',\n",
       "       '7.8', '0.055', '98.0', '126.0', '11.4', '25.0', '9.8', '8.8',\n",
       "       '1.01', '51.0', '0.14', '14.8', '5.3', '29.0', '8.9', '108.0',\n",
       "       '8.0', '0.23', '145.0', '70.0', '8.4', '18.4', '33.0', '11.1',\n",
       "       '86.0', '199.0', '0.51', '178.0', '89.0', '26.4'], dtype=object)"
      ]
     },
     "execution_count": 38,
     "metadata": {},
     "output_type": "execute_result"
    }
   ],
   "source": [
    "upraveny['TSH'].unique()"
   ]
  },
  {
   "cell_type": "code",
   "execution_count": 36,
   "metadata": {},
   "outputs": [
    {
     "data": {
      "text/plain": [
       "t    2515\n",
       "f     284\n",
       "Name: TSH measured, dtype: int64"
      ]
     },
     "execution_count": 36,
     "metadata": {},
     "output_type": "execute_result"
    }
   ],
   "source": [
    "upraveny['TSH measured'].value_counts()"
   ]
  },
  {
   "cell_type": "code",
   "execution_count": 37,
   "metadata": {},
   "outputs": [
    {
     "data": {
      "text/plain": [
       "<matplotlib.axes._subplots.AxesSubplot at 0x23ad588a358>"
      ]
     },
     "execution_count": 37,
     "metadata": {},
     "output_type": "execute_result"
    },
    {
     "data": {
      "image/png": "[encoded data removed]",
      "text/plain": [
       "<matplotlib.figure.Figure at 0x23ad5840668>"
      ]
     },
     "metadata": {},
     "output_type": "display_data"
    }
   ],
   "source": [
    "lst = upraveny['TSH'].copy()\n",
    "\n",
    "for i,a in upraveny['TSH'].iteritems():\n",
    "    if float(a) > 0.0:\n",
    "        lst[i] = 1\n",
    "    else:\n",
    "        lst[i] = 0\n",
    "        \n",
    "pd.crosstab(index=upraveny['TSH measured'], columns=lst).plot.bar(stacked=True)"
   ]
  },
  {
   "cell_type": "markdown",
   "metadata": {},
   "source": [
    "Z grafu vidime, ze pri TSH a TSH measured mame nekonzistentne data - tam, kde sme zaznamenali, ze TSH sa nemeralo (TSH measured bolo false), tak v stlpci TSH predsa len nejaka namerana hodnota bola a naopak. Potrebujeme to opravit"
   ]
  },
  {
   "cell_type": "code",
   "execution_count": null,
   "metadata": {},
   "outputs": [],
   "source": [
    "#tu pride kod opravy"
   ]
  },
  {
   "cell_type": "markdown",
   "metadata": {},
   "source": [
    "### T3 a T3 measured"
   ]
  },
  {
   "cell_type": "code",
   "execution_count": 39,
   "metadata": {},
   "outputs": [
    {
     "data": {
      "text/plain": [
       "array(['1.2', '1.9', '2.0', '1.7', '0.7', nan, '5.3', '1.8', '2.5', '2.2',\n",
       "       '2.1', '2.3', '5.0', '1.5', '3.8', '3.0', '1.4', '2.6', '1.6',\n",
       "       '0.9', '0.5', '2.9', '2.7', '3.1', '1.1', '2.8', '0.6', '2.4',\n",
       "       '0.2', '3.4', '1.3', '0.4', '1.0', '3.7', '4.3', '3.3', '0.05',\n",
       "       '3.6', '4.8', '4.2', '4.6', '0.8', '6.2', '3.9', '4.1', '0.3',\n",
       "       '5.4', '3.2', '5.5', '4.0', '7.1', '3.5', '0.1', '4.4', '7.0',\n",
       "       '4.5', '7.3', '5.2', '10.6', '6.7', '5.1', '4.9', '4.7', '6.1',\n",
       "       '6.0'], dtype=object)"
      ]
     },
     "execution_count": 39,
     "metadata": {},
     "output_type": "execute_result"
    }
   ],
   "source": [
    "upraveny['T3'].unique()"
   ]
  },
  {
   "cell_type": "code",
   "execution_count": 40,
   "metadata": {},
   "outputs": [
    {
     "data": {
      "text/plain": [
       "array(['t', 'f'], dtype=object)"
      ]
     },
     "execution_count": 40,
     "metadata": {},
     "output_type": "execute_result"
    }
   ],
   "source": [
    "upraveny['T3 measured'].unique()"
   ]
  },
  {
   "cell_type": "code",
   "execution_count": 41,
   "metadata": {},
   "outputs": [
    {
     "data": {
      "text/plain": [
       "<matplotlib.axes._subplots.AxesSubplot at 0x23ad8d33da0>"
      ]
     },
     "execution_count": 41,
     "metadata": {},
     "output_type": "execute_result"
    },
    {
     "data": {
      "image/png": "[encoded data removed]",
      "text/plain": [
       "<matplotlib.figure.Figure at 0x23ad5840128>"
      ]
     },
     "metadata": {},
     "output_type": "display_data"
    }
   ],
   "source": [
    "lstT3 = upraveny['T3'].copy()\n",
    "\n",
    "for i,a in upraveny['T3'].iteritems():\n",
    "    if float(a) > 0.0:\n",
    "        lstT3[i] = 1\n",
    "    else:\n",
    "        lstT3[i] = 0\n",
    "        \n",
    "pd.crosstab(index=upraveny['T3 measured'], columns=lstT3).plot.bar(stacked=True)"
   ]
  },
  {
   "cell_type": "code",
   "execution_count": null,
   "metadata": {},
   "outputs": [],
   "source": [
    "# tu to netreba opravovat"
   ]
  },
  {
   "cell_type": "markdown",
   "metadata": {},
   "source": [
    "### TT4 a TT4 measured"
   ]
  },
  {
   "cell_type": "code",
   "execution_count": 42,
   "metadata": {},
   "outputs": [
    {
     "data": {
      "text/plain": [
       "array(['105.0', '118.0', '106.0', '21.0', '90.0', '134.0', '133.0',\n",
       "       '272.0', '72.0', '137.0', '121.0', '74.0', '91.0', '92.0', '103.0',\n",
       "       '223.0', '123.0', '89.0', '85.0', '140.0', '125.0', '117.0',\n",
       "       '111.0', '109.0', '87.0', '93.0', '122.0', '131.0', '95.0',\n",
       "       '150.0', '83.0', '22.0', '136.0', '102.0', '78.0', '151.0',\n",
       "       '110.0', '152.0', '107.0', nan, '183.0', '14.0', '80.0', '187.0',\n",
       "       '169.0', '82.0', '97.0', '94.0', '71.0', '96.0', '145.0', '33.0',\n",
       "       '129.0', '101.0', '162.0', '159.0', '100.0', '130.0', '119.0',\n",
       "       '115.0', '48.0', '62.0', '116.0', '81.0', '149.0', '84.0', '59.0',\n",
       "       '86.0', '144.0', '63.0', '104.0', '56.0', '189.0', '164.0', '68.0',\n",
       "       '37.0', '88.0', '198.0', '252.0', '132.0', '99.0', '77.0', '38.0',\n",
       "       '45.0', '124.0', '142.0', '98.0', '160.0', '120.0', '76.0',\n",
       "       '154.0', '113.0', '157.0', '32.0', '54.0', '158.0', '430.0',\n",
       "       '213.0', '139.0', '210.0', '46.0', '34.0', '168.0', '255.0',\n",
       "       '79.0', '205.0', '146.0', '176.0', '289.0', '180.0', '161.0',\n",
       "       '13.0', '70.0', '67.0', '75.0', '127.0', '11.0', '172.0', '170.0',\n",
       "       '250.0', '114.0', '175.0', '141.0', '135.0', '50.0', '112.0',\n",
       "       '184.0', '69.0', '194.0', '64.0', '188.0', '126.0', '147.0',\n",
       "       '66.0', '143.0', '108.0', '73.0', '163.0', '203.0', '193.0',\n",
       "       '148.0', '233.0', '2.0', '246.0', '61.0', '232.0', '57.0', '52.0',\n",
       "       '199.0', '65.0', '128.0', '166.0', '156.0', '155.0', '153.0',\n",
       "       '165.0', '39.0', '200.0', '138.0', '182.0', '173.0', '192.0',\n",
       "       '211.0', '197.0', '35.0', '235.0', '179.0', '167.0', '207.0',\n",
       "       '3.0', '195.0', '181.0', '171.0', '42.0', '201.0', '230.0', '4.8',\n",
       "       '191.0', '177.0', '225.0', '10.0', '15.0', '44.0', '263.0',\n",
       "       '196.0', '12.0', '5.8', '31.0', '41.0', '19.0', '206.0', '226.0',\n",
       "       '29.0', '204.0', '60.0', '23.0', '174.0', '253.0', '209.0',\n",
       "       '244.0', '178.0', '301.0', '47.0', '6.0', '36.0', '237.0', '58.0',\n",
       "       '217.0', '239.0', '43.0', '40.0', '219.0', '18.0', '231.0',\n",
       "       '214.0', '27.0', '240.0', '257.0'], dtype=object)"
      ]
     },
     "execution_count": 42,
     "metadata": {},
     "output_type": "execute_result"
    }
   ],
   "source": [
    "upraveny['TT4'].unique()"
   ]
  },
  {
   "cell_type": "code",
   "execution_count": 43,
   "metadata": {},
   "outputs": [
    {
     "data": {
      "text/plain": [
       "array(['t', 'f'], dtype=object)"
      ]
     },
     "execution_count": 43,
     "metadata": {},
     "output_type": "execute_result"
    }
   ],
   "source": [
    "upraveny['TT4 measured'].unique()"
   ]
  },
  {
   "cell_type": "code",
   "execution_count": 44,
   "metadata": {},
   "outputs": [
    {
     "data": {
      "text/plain": [
       "<matplotlib.axes._subplots.AxesSubplot at 0x23ad68b12b0>"
      ]
     },
     "execution_count": 44,
     "metadata": {},
     "output_type": "execute_result"
    },
    {
     "data": {
      "image/png": "[encoded data removed]",
      "text/plain": [
       "<matplotlib.figure.Figure at 0x23ad8e46d68>"
      ]
     },
     "metadata": {},
     "output_type": "display_data"
    }
   ],
   "source": [
    "lstTT4 = upraveny['TT4'].copy()\n",
    "\n",
    "for i,a in upraveny['TT4'].iteritems():\n",
    "    if float(a) > 0.0:\n",
    "        lstTT4[i] = 1\n",
    "    else:\n",
    "        lstTT4[i] = 0\n",
    "        \n",
    "pd.crosstab(index=upraveny['TT4 measured'], columns=lstTT4).plot.bar(stacked=True)"
   ]
  },
  {
   "cell_type": "code",
   "execution_count": null,
   "metadata": {},
   "outputs": [],
   "source": [
    "# aj tt4 je pekne"
   ]
  },
  {
   "cell_type": "markdown",
   "metadata": {},
   "source": [
    "### Stlpec T4U a T4U measured"
   ]
  },
  {
   "cell_type": "code",
   "execution_count": 45,
   "metadata": {},
   "outputs": [
    {
     "data": {
      "text/plain": [
       "<matplotlib.axes._subplots.AxesSubplot at 0x23ad691f748>"
      ]
     },
     "execution_count": 45,
     "metadata": {},
     "output_type": "execute_result"
    },
    {
     "data": {
      "image/png": "[encoded data removed]",
      "text/plain": [
       "<matplotlib.figure.Figure at 0x23ad6872518>"
      ]
     },
     "metadata": {},
     "output_type": "display_data"
    }
   ],
   "source": [
    "lstT4U = upraveny['T4U'].copy()\n",
    "\n",
    "for i,a in upraveny['T4U'].iteritems():\n",
    "    if float(a) > 0.0:\n",
    "        lstT4U[i] = 1\n",
    "    else:\n",
    "        lstT4U[i] = 0\n",
    "        \n",
    "pd.crosstab(index=upraveny['T4U measured'], columns=lstT4U).plot.bar(stacked=True)"
   ]
  },
  {
   "cell_type": "code",
   "execution_count": null,
   "metadata": {},
   "outputs": [],
   "source": [
    "#t4u treba opravit"
   ]
  },
  {
   "cell_type": "markdown",
   "metadata": {},
   "source": [
    "### Stlpec FTI a FTI measured"
   ]
  },
  {
   "cell_type": "code",
   "execution_count": 48,
   "metadata": {},
   "outputs": [
    {
     "data": {
      "text/plain": [
       "array(['115', '131', '89', '106', '19', '84', '104', '123', '281', '129',\n",
       "       '94', '81', '98', '97', '111', '88', '85', '90', '121', '169',\n",
       "       '105', '122', '144', '145', '69', '99', '119', '116', '92', '114',\n",
       "       '86', '153', '127', '93', '?', '141', '13', '110', '197', '143',\n",
       "       '125', '63', '80', '107', '155', '47', '136', '117', '103', '146',\n",
       "       '112', '166', '87', '64', '91', '113', '95', '41', '109', '79',\n",
       "       '83', '108', '102', '124', '120', '66', '49', '137', '118', '151',\n",
       "       '176', '67', '50', '198', '132', '222', '152', '71', '149', '100',\n",
       "       '101', '73', '34', '96', '82', '133', '140', '170', '172', '156',\n",
       "       '154', '395', '190', '77', '51', '78', '161', '29', '171', '244',\n",
       "       '43', '74', '62', '134', '165', '139', '195', '11', '75', '157',\n",
       "       '46', '8.9', '138', '247', '159', '204', '167', '168', '160',\n",
       "       '126', '163', '148', '135', '76', '70', '72', '57', '128', '224',\n",
       "       '54', '253', '2', '232', '174', '158', '173', '130', '188', '60',\n",
       "       '187', '186', '33', '59', '177', '142', '217', '182', '53', '42',\n",
       "       '214', '185', '3', '52', '237', '194', '58', '147', '162', '206',\n",
       "       '180', '68', '5.4', '179', '213', '189', '200', '183', '10', '14',\n",
       "       '150', '164', '39', '175', '178', '209', '218', '17', '220', '349',\n",
       "       '26', '37', '235', '216', '242', '28', '191', '362', '7', '61',\n",
       "       '48', '7.6', '24', '203', '221', '65', '205', '274', '16', '251',\n",
       "       '56', '228', '207', '32', '219', '223', '210', '9', '201', '215',\n",
       "       '312'], dtype=object)"
      ]
     },
     "execution_count": 48,
     "metadata": {},
     "output_type": "execute_result"
    }
   ],
   "source": [
    "upraveny['FTI'].unique() # treba opravit ? na 0"
   ]
  },
  {
   "cell_type": "code",
   "execution_count": 51,
   "metadata": {},
   "outputs": [
    {
     "data": {
      "text/plain": [
       "array(['115', '131', '89', '106', '19', '84', '104', '123', '281', '129',\n",
       "       '94', '81', '98', '97', '111', '88', '85', '90', '121', '169',\n",
       "       '105', '122', '144', '145', '69', '99', '119', '116', '92', '114',\n",
       "       '86', '153', '127', '93', '0', '141', '13', '110', '197', '143',\n",
       "       '125', '63', '80', '107', '155', '47', '136', '117', '103', '146',\n",
       "       '112', '166', '87', '64', '91', '113', '95', '41', '109', '79',\n",
       "       '83', '108', '102', '124', '120', '66', '49', '137', '118', '151',\n",
       "       '176', '67', '50', '198', '132', '222', '152', '71', '149', '100',\n",
       "       '101', '73', '34', '96', '82', '133', '140', '170', '172', '156',\n",
       "       '154', '395', '190', '77', '51', '78', '161', '29', '171', '244',\n",
       "       '43', '74', '62', '134', '165', '139', '195', '11', '75', '157',\n",
       "       '46', '8.9', '138', '247', '159', '204', '167', '168', '160',\n",
       "       '126', '163', '148', '135', '76', '70', '72', '57', '128', '224',\n",
       "       '54', '253', '2', '232', '174', '158', '173', '130', '188', '60',\n",
       "       '187', '186', '33', '59', '177', '142', '217', '182', '53', '42',\n",
       "       '214', '185', '3', '52', '237', '194', '58', '147', '162', '206',\n",
       "       '180', '68', '5.4', '179', '213', '189', '200', '183', '10', '14',\n",
       "       '150', '164', '39', '175', '178', '209', '218', '17', '220', '349',\n",
       "       '26', '37', '235', '216', '242', '28', '191', '362', '7', '61',\n",
       "       '48', '7.6', '24', '203', '221', '65', '205', '274', '16', '251',\n",
       "       '56', '228', '207', '32', '219', '223', '210', '9', '201', '215',\n",
       "       '312'], dtype=object)"
      ]
     },
     "execution_count": 51,
     "metadata": {},
     "output_type": "execute_result"
    }
   ],
   "source": [
    "fti = Pipeline([\n",
    "              ('ot1', Transform('FTI', '?', '0')),\n",
    "      ])\n",
    "\n",
    "model = fti.fit(upraveny)\n",
    "upraveny = model.transform(upraveny)\n",
    "\n",
    "upraveny['FTI'].unique()"
   ]
  },
  {
   "cell_type": "code",
   "execution_count": 52,
   "metadata": {},
   "outputs": [
    {
     "data": {
      "text/plain": [
       "<matplotlib.axes._subplots.AxesSubplot at 0x23ad698a7f0>"
      ]
     },
     "execution_count": 52,
     "metadata": {},
     "output_type": "execute_result"
    },
    {
     "data": {
      "image/png": "[encoded data removed]",
      "text/plain": [
       "<matplotlib.figure.Figure at 0x23ad6956e80>"
      ]
     },
     "metadata": {},
     "output_type": "display_data"
    }
   ],
   "source": [
    "lstFTI = upraveny['FTI'].copy()\n",
    "\n",
    "for i,a in upraveny['FTI'].iteritems():\n",
    "    if float(a) > 0.0:\n",
    "        lstFTI[i] = 1\n",
    "    else:\n",
    "        lstFTI[i] = 0\n",
    "        \n",
    "pd.crosstab(index=upraveny['FTI measured'], columns=lstFTI).plot.bar(stacked=True)"
   ]
  },
  {
   "cell_type": "code",
   "execution_count": null,
   "metadata": {},
   "outputs": [],
   "source": [
    "#fti je ok"
   ]
  },
  {
   "cell_type": "markdown",
   "metadata": {},
   "source": [
    "### Histogramy TSH, T4U, FTI, TT4 a T3"
   ]
  },
  {
   "cell_type": "code",
   "execution_count": 74,
   "metadata": {},
   "outputs": [
    {
     "ename": "TypeError",
     "evalue": "No loop matching the specified signature and casting\nwas found for ufunc svd_n_s",
     "output_type": "error",
     "traceback": [
      "\u001b[1;31m---------------------------------------------------------------------------\u001b[0m",
      "\u001b[1;31mTypeError\u001b[0m                                 Traceback (most recent call last)",
      "\u001b[1;32m<ipython-input-74-e4e15c130a88>\u001b[0m in \u001b[0;36m<module>\u001b[1;34m()\u001b[0m\n\u001b[0;32m     14\u001b[0m     \u001b[0mupraveny\u001b[0m\u001b[1;33m[\u001b[0m\u001b[1;34m'T3'\u001b[0m\u001b[1;33m]\u001b[0m\u001b[1;33m[\u001b[0m\u001b[0mi\u001b[0m\u001b[1;33m]\u001b[0m \u001b[1;33m=\u001b[0m \u001b[0mfloat\u001b[0m\u001b[1;33m(\u001b[0m\u001b[0mdd\u001b[0m\u001b[1;33m)\u001b[0m\u001b[1;33m\u001b[0m\u001b[0m\n\u001b[0;32m     15\u001b[0m \u001b[1;33m\u001b[0m\u001b[0m\n\u001b[1;32m---> 16\u001b[1;33m \u001b[0msb\u001b[0m\u001b[1;33m.\u001b[0m\u001b[0mregplot\u001b[0m\u001b[1;33m(\u001b[0m\u001b[0mx\u001b[0m\u001b[1;33m=\u001b[0m\u001b[1;34m\"TSH\"\u001b[0m\u001b[1;33m,\u001b[0m \u001b[0my\u001b[0m\u001b[1;33m=\u001b[0m\u001b[1;34m\"T3\"\u001b[0m\u001b[1;33m,\u001b[0m \u001b[0mdata\u001b[0m\u001b[1;33m=\u001b[0m\u001b[0mupraveny\u001b[0m\u001b[1;33m)\u001b[0m\u001b[1;33m\u001b[0m\u001b[0m\n\u001b[0m\u001b[0;32m     17\u001b[0m \u001b[0mprint\u001b[0m\u001b[1;33m(\u001b[0m\u001b[1;34m\"Pearson correlation: %.3f\"\u001b[0m \u001b[1;33m%\u001b[0m \u001b[0mupraveny\u001b[0m\u001b[1;33m.\u001b[0m\u001b[0mTSH\u001b[0m\u001b[1;33m.\u001b[0m\u001b[0mcorr\u001b[0m\u001b[1;33m(\u001b[0m\u001b[0mupraveny\u001b[0m\u001b[1;33m.\u001b[0m\u001b[0mT3\u001b[0m\u001b[1;33m)\u001b[0m\u001b[1;33m)\u001b[0m\u001b[1;33m\u001b[0m\u001b[0m\n",
      "\u001b[1;32mc:\\users\\user\\appdata\\local\\programs\\python\\python36\\lib\\site-packages\\seaborn\\regression.py\u001b[0m in \u001b[0;36mregplot\u001b[1;34m(x, y, data, x_estimator, x_bins, x_ci, scatter, fit_reg, ci, n_boot, units, order, logistic, lowess, robust, logx, x_partial, y_partial, truncate, dropna, x_jitter, y_jitter, label, color, marker, scatter_kws, line_kws, ax)\u001b[0m\n\u001b[0;32m    788\u001b[0m     \u001b[0mscatter_kws\u001b[0m\u001b[1;33m[\u001b[0m\u001b[1;34m\"marker\"\u001b[0m\u001b[1;33m]\u001b[0m \u001b[1;33m=\u001b[0m \u001b[0mmarker\u001b[0m\u001b[1;33m\u001b[0m\u001b[0m\n\u001b[0;32m    789\u001b[0m     \u001b[0mline_kws\u001b[0m \u001b[1;33m=\u001b[0m \u001b[1;33m{\u001b[0m\u001b[1;33m}\u001b[0m \u001b[1;32mif\u001b[0m \u001b[0mline_kws\u001b[0m \u001b[1;32mis\u001b[0m \u001b[1;32mNone\u001b[0m \u001b[1;32melse\u001b[0m \u001b[0mcopy\u001b[0m\u001b[1;33m.\u001b[0m\u001b[0mcopy\u001b[0m\u001b[1;33m(\u001b[0m\u001b[0mline_kws\u001b[0m\u001b[1;33m)\u001b[0m\u001b[1;33m\u001b[0m\u001b[0m\n\u001b[1;32m--> 790\u001b[1;33m     \u001b[0mplotter\u001b[0m\u001b[1;33m.\u001b[0m\u001b[0mplot\u001b[0m\u001b[1;33m(\u001b[0m\u001b[0max\u001b[0m\u001b[1;33m,\u001b[0m \u001b[0mscatter_kws\u001b[0m\u001b[1;33m,\u001b[0m \u001b[0mline_kws\u001b[0m\u001b[1;33m)\u001b[0m\u001b[1;33m\u001b[0m\u001b[0m\n\u001b[0m\u001b[0;32m    791\u001b[0m     \u001b[1;32mreturn\u001b[0m \u001b[0max\u001b[0m\u001b[1;33m\u001b[0m\u001b[0m\n\u001b[0;32m    792\u001b[0m \u001b[1;33m\u001b[0m\u001b[0m\n",
      "\u001b[1;32mc:\\users\\user\\appdata\\local\\programs\\python\\python36\\lib\\site-packages\\seaborn\\regression.py\u001b[0m in \u001b[0;36mplot\u001b[1;34m(self, ax, scatter_kws, line_kws)\u001b[0m\n\u001b[0;32m    340\u001b[0m             \u001b[0mself\u001b[0m\u001b[1;33m.\u001b[0m\u001b[0mscatterplot\u001b[0m\u001b[1;33m(\u001b[0m\u001b[0max\u001b[0m\u001b[1;33m,\u001b[0m \u001b[0mscatter_kws\u001b[0m\u001b[1;33m)\u001b[0m\u001b[1;33m\u001b[0m\u001b[0m\n\u001b[0;32m    341\u001b[0m         \u001b[1;32mif\u001b[0m \u001b[0mself\u001b[0m\u001b[1;33m.\u001b[0m\u001b[0mfit_reg\u001b[0m\u001b[1;33m:\u001b[0m\u001b[1;33m\u001b[0m\u001b[0m\n\u001b[1;32m--> 342\u001b[1;33m             \u001b[0mself\u001b[0m\u001b[1;33m.\u001b[0m\u001b[0mlineplot\u001b[0m\u001b[1;33m(\u001b[0m\u001b[0max\u001b[0m\u001b[1;33m,\u001b[0m \u001b[0mline_kws\u001b[0m\u001b[1;33m)\u001b[0m\u001b[1;33m\u001b[0m\u001b[0m\n\u001b[0m\u001b[0;32m    343\u001b[0m \u001b[1;33m\u001b[0m\u001b[0m\n\u001b[0;32m    344\u001b[0m         \u001b[1;31m# Label the axes\u001b[0m\u001b[1;33m\u001b[0m\u001b[1;33m\u001b[0m\u001b[0m\n",
      "\u001b[1;32mc:\\users\\user\\appdata\\local\\programs\\python\\python36\\lib\\site-packages\\seaborn\\regression.py\u001b[0m in \u001b[0;36mlineplot\u001b[1;34m(self, ax, kws)\u001b[0m\n\u001b[0;32m    385\u001b[0m \u001b[1;33m\u001b[0m\u001b[0m\n\u001b[0;32m    386\u001b[0m         \u001b[1;31m# Fit the regression model\u001b[0m\u001b[1;33m\u001b[0m\u001b[1;33m\u001b[0m\u001b[0m\n\u001b[1;32m--> 387\u001b[1;33m         \u001b[0mgrid\u001b[0m\u001b[1;33m,\u001b[0m \u001b[0myhat\u001b[0m\u001b[1;33m,\u001b[0m \u001b[0merr_bands\u001b[0m \u001b[1;33m=\u001b[0m \u001b[0mself\u001b[0m\u001b[1;33m.\u001b[0m\u001b[0mfit_regression\u001b[0m\u001b[1;33m(\u001b[0m\u001b[0max\u001b[0m\u001b[1;33m)\u001b[0m\u001b[1;33m\u001b[0m\u001b[0m\n\u001b[0m\u001b[0;32m    388\u001b[0m \u001b[1;33m\u001b[0m\u001b[0m\n\u001b[0;32m    389\u001b[0m         \u001b[1;31m# Get set default aesthetics\u001b[0m\u001b[1;33m\u001b[0m\u001b[1;33m\u001b[0m\u001b[0m\n",
      "\u001b[1;32mc:\\users\\user\\appdata\\local\\programs\\python\\python36\\lib\\site-packages\\seaborn\\regression.py\u001b[0m in \u001b[0;36mfit_regression\u001b[1;34m(self, ax, x_range, grid)\u001b[0m\n\u001b[0;32m    208\u001b[0m             \u001b[0myhat\u001b[0m\u001b[1;33m,\u001b[0m \u001b[0myhat_boots\u001b[0m \u001b[1;33m=\u001b[0m \u001b[0mself\u001b[0m\u001b[1;33m.\u001b[0m\u001b[0mfit_logx\u001b[0m\u001b[1;33m(\u001b[0m\u001b[0mgrid\u001b[0m\u001b[1;33m)\u001b[0m\u001b[1;33m\u001b[0m\u001b[0m\n\u001b[0;32m    209\u001b[0m         \u001b[1;32melse\u001b[0m\u001b[1;33m:\u001b[0m\u001b[1;33m\u001b[0m\u001b[0m\n\u001b[1;32m--> 210\u001b[1;33m             \u001b[0myhat\u001b[0m\u001b[1;33m,\u001b[0m \u001b[0myhat_boots\u001b[0m \u001b[1;33m=\u001b[0m \u001b[0mself\u001b[0m\u001b[1;33m.\u001b[0m\u001b[0mfit_fast\u001b[0m\u001b[1;33m(\u001b[0m\u001b[0mgrid\u001b[0m\u001b[1;33m)\u001b[0m\u001b[1;33m\u001b[0m\u001b[0m\n\u001b[0m\u001b[0;32m    211\u001b[0m \u001b[1;33m\u001b[0m\u001b[0m\n\u001b[0;32m    212\u001b[0m         \u001b[1;31m# Compute the confidence interval at each grid point\u001b[0m\u001b[1;33m\u001b[0m\u001b[1;33m\u001b[0m\u001b[0m\n",
      "\u001b[1;32mc:\\users\\user\\appdata\\local\\programs\\python\\python36\\lib\\site-packages\\seaborn\\regression.py\u001b[0m in \u001b[0;36mfit_fast\u001b[1;34m(self, grid)\u001b[0m\n\u001b[0;32m    223\u001b[0m         \u001b[0mgrid\u001b[0m \u001b[1;33m=\u001b[0m \u001b[0mnp\u001b[0m\u001b[1;33m.\u001b[0m\u001b[0mc_\u001b[0m\u001b[1;33m[\u001b[0m\u001b[0mnp\u001b[0m\u001b[1;33m.\u001b[0m\u001b[0mones\u001b[0m\u001b[1;33m(\u001b[0m\u001b[0mlen\u001b[0m\u001b[1;33m(\u001b[0m\u001b[0mgrid\u001b[0m\u001b[1;33m)\u001b[0m\u001b[1;33m)\u001b[0m\u001b[1;33m,\u001b[0m \u001b[0mgrid\u001b[0m\u001b[1;33m]\u001b[0m\u001b[1;33m\u001b[0m\u001b[0m\n\u001b[0;32m    224\u001b[0m         \u001b[0mreg_func\u001b[0m \u001b[1;33m=\u001b[0m \u001b[1;32mlambda\u001b[0m \u001b[0m_x\u001b[0m\u001b[1;33m,\u001b[0m \u001b[0m_y\u001b[0m\u001b[1;33m:\u001b[0m \u001b[0mnp\u001b[0m\u001b[1;33m.\u001b[0m\u001b[0mlinalg\u001b[0m\u001b[1;33m.\u001b[0m\u001b[0mpinv\u001b[0m\u001b[1;33m(\u001b[0m\u001b[0m_x\u001b[0m\u001b[1;33m)\u001b[0m\u001b[1;33m.\u001b[0m\u001b[0mdot\u001b[0m\u001b[1;33m(\u001b[0m\u001b[0m_y\u001b[0m\u001b[1;33m)\u001b[0m\u001b[1;33m\u001b[0m\u001b[0m\n\u001b[1;32m--> 225\u001b[1;33m         \u001b[0myhat\u001b[0m \u001b[1;33m=\u001b[0m \u001b[0mgrid\u001b[0m\u001b[1;33m.\u001b[0m\u001b[0mdot\u001b[0m\u001b[1;33m(\u001b[0m\u001b[0mreg_func\u001b[0m\u001b[1;33m(\u001b[0m\u001b[0mX\u001b[0m\u001b[1;33m,\u001b[0m \u001b[0my\u001b[0m\u001b[1;33m)\u001b[0m\u001b[1;33m)\u001b[0m\u001b[1;33m\u001b[0m\u001b[0m\n\u001b[0m\u001b[0;32m    226\u001b[0m         \u001b[1;32mif\u001b[0m \u001b[0mself\u001b[0m\u001b[1;33m.\u001b[0m\u001b[0mci\u001b[0m \u001b[1;32mis\u001b[0m \u001b[1;32mNone\u001b[0m\u001b[1;33m:\u001b[0m\u001b[1;33m\u001b[0m\u001b[0m\n\u001b[0;32m    227\u001b[0m             \u001b[1;32mreturn\u001b[0m \u001b[0myhat\u001b[0m\u001b[1;33m,\u001b[0m \u001b[1;32mNone\u001b[0m\u001b[1;33m\u001b[0m\u001b[0m\n",
      "\u001b[1;32mc:\\users\\user\\appdata\\local\\programs\\python\\python36\\lib\\site-packages\\seaborn\\regression.py\u001b[0m in \u001b[0;36m<lambda>\u001b[1;34m(_x, _y)\u001b[0m\n\u001b[0;32m    222\u001b[0m         \u001b[0mX\u001b[0m\u001b[1;33m,\u001b[0m \u001b[0my\u001b[0m \u001b[1;33m=\u001b[0m \u001b[0mnp\u001b[0m\u001b[1;33m.\u001b[0m\u001b[0mc_\u001b[0m\u001b[1;33m[\u001b[0m\u001b[0mnp\u001b[0m\u001b[1;33m.\u001b[0m\u001b[0mones\u001b[0m\u001b[1;33m(\u001b[0m\u001b[0mlen\u001b[0m\u001b[1;33m(\u001b[0m\u001b[0mself\u001b[0m\u001b[1;33m.\u001b[0m\u001b[0mx\u001b[0m\u001b[1;33m)\u001b[0m\u001b[1;33m)\u001b[0m\u001b[1;33m,\u001b[0m \u001b[0mself\u001b[0m\u001b[1;33m.\u001b[0m\u001b[0mx\u001b[0m\u001b[1;33m]\u001b[0m\u001b[1;33m,\u001b[0m \u001b[0mself\u001b[0m\u001b[1;33m.\u001b[0m\u001b[0my\u001b[0m\u001b[1;33m\u001b[0m\u001b[0m\n\u001b[0;32m    223\u001b[0m         \u001b[0mgrid\u001b[0m \u001b[1;33m=\u001b[0m \u001b[0mnp\u001b[0m\u001b[1;33m.\u001b[0m\u001b[0mc_\u001b[0m\u001b[1;33m[\u001b[0m\u001b[0mnp\u001b[0m\u001b[1;33m.\u001b[0m\u001b[0mones\u001b[0m\u001b[1;33m(\u001b[0m\u001b[0mlen\u001b[0m\u001b[1;33m(\u001b[0m\u001b[0mgrid\u001b[0m\u001b[1;33m)\u001b[0m\u001b[1;33m)\u001b[0m\u001b[1;33m,\u001b[0m \u001b[0mgrid\u001b[0m\u001b[1;33m]\u001b[0m\u001b[1;33m\u001b[0m\u001b[0m\n\u001b[1;32m--> 224\u001b[1;33m         \u001b[0mreg_func\u001b[0m \u001b[1;33m=\u001b[0m \u001b[1;32mlambda\u001b[0m \u001b[0m_x\u001b[0m\u001b[1;33m,\u001b[0m \u001b[0m_y\u001b[0m\u001b[1;33m:\u001b[0m \u001b[0mnp\u001b[0m\u001b[1;33m.\u001b[0m\u001b[0mlinalg\u001b[0m\u001b[1;33m.\u001b[0m\u001b[0mpinv\u001b[0m\u001b[1;33m(\u001b[0m\u001b[0m_x\u001b[0m\u001b[1;33m)\u001b[0m\u001b[1;33m.\u001b[0m\u001b[0mdot\u001b[0m\u001b[1;33m(\u001b[0m\u001b[0m_y\u001b[0m\u001b[1;33m)\u001b[0m\u001b[1;33m\u001b[0m\u001b[0m\n\u001b[0m\u001b[0;32m    225\u001b[0m         \u001b[0myhat\u001b[0m \u001b[1;33m=\u001b[0m \u001b[0mgrid\u001b[0m\u001b[1;33m.\u001b[0m\u001b[0mdot\u001b[0m\u001b[1;33m(\u001b[0m\u001b[0mreg_func\u001b[0m\u001b[1;33m(\u001b[0m\u001b[0mX\u001b[0m\u001b[1;33m,\u001b[0m \u001b[0my\u001b[0m\u001b[1;33m)\u001b[0m\u001b[1;33m)\u001b[0m\u001b[1;33m\u001b[0m\u001b[0m\n\u001b[0;32m    226\u001b[0m         \u001b[1;32mif\u001b[0m \u001b[0mself\u001b[0m\u001b[1;33m.\u001b[0m\u001b[0mci\u001b[0m \u001b[1;32mis\u001b[0m \u001b[1;32mNone\u001b[0m\u001b[1;33m:\u001b[0m\u001b[1;33m\u001b[0m\u001b[0m\n",
      "\u001b[1;32mc:\\users\\user\\appdata\\local\\programs\\python\\python36\\lib\\site-packages\\numpy\\linalg\\linalg.py\u001b[0m in \u001b[0;36mpinv\u001b[1;34m(a, rcond)\u001b[0m\n\u001b[0;32m   1722\u001b[0m         \u001b[1;32mreturn\u001b[0m \u001b[0mwrap\u001b[0m\u001b[1;33m(\u001b[0m\u001b[0mres\u001b[0m\u001b[1;33m)\u001b[0m\u001b[1;33m\u001b[0m\u001b[0m\n\u001b[0;32m   1723\u001b[0m     \u001b[0ma\u001b[0m \u001b[1;33m=\u001b[0m \u001b[0ma\u001b[0m\u001b[1;33m.\u001b[0m\u001b[0mconjugate\u001b[0m\u001b[1;33m(\u001b[0m\u001b[1;33m)\u001b[0m\u001b[1;33m\u001b[0m\u001b[0m\n\u001b[1;32m-> 1724\u001b[1;33m     \u001b[0mu\u001b[0m\u001b[1;33m,\u001b[0m \u001b[0ms\u001b[0m\u001b[1;33m,\u001b[0m \u001b[0mvt\u001b[0m \u001b[1;33m=\u001b[0m \u001b[0msvd\u001b[0m\u001b[1;33m(\u001b[0m\u001b[0ma\u001b[0m\u001b[1;33m,\u001b[0m \u001b[0mfull_matrices\u001b[0m\u001b[1;33m=\u001b[0m\u001b[1;32mFalse\u001b[0m\u001b[1;33m)\u001b[0m\u001b[1;33m\u001b[0m\u001b[0m\n\u001b[0m\u001b[0;32m   1725\u001b[0m \u001b[1;33m\u001b[0m\u001b[0m\n\u001b[0;32m   1726\u001b[0m     \u001b[1;31m# discard small singular values\u001b[0m\u001b[1;33m\u001b[0m\u001b[1;33m\u001b[0m\u001b[0m\n",
      "\u001b[1;32mc:\\users\\user\\appdata\\local\\programs\\python\\python36\\lib\\site-packages\\numpy\\linalg\\linalg.py\u001b[0m in \u001b[0;36msvd\u001b[1;34m(a, full_matrices, compute_uv)\u001b[0m\n\u001b[0;32m   1442\u001b[0m \u001b[1;33m\u001b[0m\u001b[0m\n\u001b[0;32m   1443\u001b[0m         \u001b[0msignature\u001b[0m \u001b[1;33m=\u001b[0m \u001b[1;34m'D->DdD'\u001b[0m \u001b[1;32mif\u001b[0m \u001b[0misComplexType\u001b[0m\u001b[1;33m(\u001b[0m\u001b[0mt\u001b[0m\u001b[1;33m)\u001b[0m \u001b[1;32melse\u001b[0m \u001b[1;34m'd->ddd'\u001b[0m\u001b[1;33m\u001b[0m\u001b[0m\n\u001b[1;32m-> 1444\u001b[1;33m         \u001b[0mu\u001b[0m\u001b[1;33m,\u001b[0m \u001b[0ms\u001b[0m\u001b[1;33m,\u001b[0m \u001b[0mvh\u001b[0m \u001b[1;33m=\u001b[0m \u001b[0mgufunc\u001b[0m\u001b[1;33m(\u001b[0m\u001b[0ma\u001b[0m\u001b[1;33m,\u001b[0m \u001b[0msignature\u001b[0m\u001b[1;33m=\u001b[0m\u001b[0msignature\u001b[0m\u001b[1;33m,\u001b[0m \u001b[0mextobj\u001b[0m\u001b[1;33m=\u001b[0m\u001b[0mextobj\u001b[0m\u001b[1;33m)\u001b[0m\u001b[1;33m\u001b[0m\u001b[0m\n\u001b[0m\u001b[0;32m   1445\u001b[0m         \u001b[0mu\u001b[0m \u001b[1;33m=\u001b[0m \u001b[0mu\u001b[0m\u001b[1;33m.\u001b[0m\u001b[0mastype\u001b[0m\u001b[1;33m(\u001b[0m\u001b[0mresult_t\u001b[0m\u001b[1;33m,\u001b[0m \u001b[0mcopy\u001b[0m\u001b[1;33m=\u001b[0m\u001b[1;32mFalse\u001b[0m\u001b[1;33m)\u001b[0m\u001b[1;33m\u001b[0m\u001b[0m\n\u001b[0;32m   1446\u001b[0m         \u001b[0ms\u001b[0m \u001b[1;33m=\u001b[0m \u001b[0ms\u001b[0m\u001b[1;33m.\u001b[0m\u001b[0mastype\u001b[0m\u001b[1;33m(\u001b[0m\u001b[0m_realType\u001b[0m\u001b[1;33m(\u001b[0m\u001b[0mresult_t\u001b[0m\u001b[1;33m)\u001b[0m\u001b[1;33m,\u001b[0m \u001b[0mcopy\u001b[0m\u001b[1;33m=\u001b[0m\u001b[1;32mFalse\u001b[0m\u001b[1;33m)\u001b[0m\u001b[1;33m\u001b[0m\u001b[0m\n",
      "\u001b[1;31mTypeError\u001b[0m: No loop matching the specified signature and casting\nwas found for ufunc svd_n_s"
     ]
    },
    {
     "data": {
      "image/png": "[encoded data removed]",
      "text/plain": [
       "<matplotlib.figure.Figure at 0x23af1b8d4e0>"
      ]
     },
     "metadata": {},
     "output_type": "display_data"
    }
   ],
   "source": [
    "for i, dd in upraveny['TSH'].iteritems():\n",
    "    upraveny['TSH'][i] = float(dd) \n",
    "\n",
    "for i, dd in upraveny['T4U'].iteritems():\n",
    "    upraveny['T4U'][i] = float(dd) \n",
    "    \n",
    "for i, dd in upraveny['FTI'].iteritems():\n",
    "    upraveny['FTI'][i] = float(dd)\n",
    "\n",
    "for i, dd in upraveny['TT4'].iteritems():\n",
    "    upraveny['TT4'][i] = float(dd)\n",
    "\n",
    "for i, dd in upraveny['T3'].iteritems():\n",
    "    upraveny['T3'][i] = float(dd)\n",
    "    \n",
    "sb.regplot(x=\"TSH\", y=\"T3\", data=upraveny)\n",
    "print(\"Pearson correlation: %.3f\" % upraveny.TSH.corr(upraveny.T3))\n"
   ]
  },
  {
   "cell_type": "markdown",
   "metadata": {},
   "source": [
    "## Zistenie relevantnych stlpcov pre predikciu class\n",
    "\n",
    "Nepotrebujeme opravit hodnoty (chybajuce, vychylene) v celom datasete, ale iba pre relevantne stlpce, s ktorymi budeme dalej pracovat a ktore nam predikuju **class**"
   ]
  },
  {
   "cell_type": "code",
   "execution_count": null,
   "metadata": {},
   "outputs": [],
   "source": [
    "#vytvorenie dataframe iba s numerickymi hodnotami\n",
    "\n"
   ]
  }
 ],
 "metadata": {
  "kernelspec": {
   "display_name": "Python 3",
   "language": "python",
   "name": "python3"
  },
  "language_info": {
   "codemirror_mode": {
    "name": "ipython",
    "version": 3
   },
   "file_extension": ".py",
   "mimetype": "text/x-python",
   "name": "python",
   "nbconvert_exporter": "python",
   "pygments_lexer": "ipython3",
   "version": "3.6.4"
  }
 },
 "nbformat": 4,
 "nbformat_minor": 2
}
